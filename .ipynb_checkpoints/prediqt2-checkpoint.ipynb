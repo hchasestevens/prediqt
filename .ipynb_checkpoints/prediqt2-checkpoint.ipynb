{
 "cells": [
  {
   "cell_type": "code",
   "execution_count": 3,
   "metadata": {
    "collapsed": true
   },
   "outputs": [],
   "source": [
    "import pandas\n",
    "from matplotlib import pyplot as pl\n",
    "import numpy as np\n",
    "training_fname = 'data/PrediqtTrainData.csv'\n",
    "airports_fname = 'data/PrediqtAirports.csv'\n",
    "testing_fname = 'data/PrediqtTestDataSmall.csv'"
   ]
  },
  {
   "cell_type": "code",
   "execution_count": 4,
   "metadata": {
    "collapsed": false
   },
   "outputs": [],
   "source": [
    "training_data = pandas.read_csv(training_fname)"
   ]
  },
  {
   "cell_type": "code",
   "execution_count": 8,
   "metadata": {
    "collapsed": false,
    "scrolled": true
   },
   "outputs": [],
   "source": [
    "training_data = training_data.sort_index(by='PRICE')"
   ]
  },
  {
   "cell_type": "code",
   "execution_count": 12,
   "metadata": {
    "collapsed": true
   },
   "outputs": [],
   "source": [
    "prices = training_data.PRICE"
   ]
  },
  {
   "cell_type": "code",
   "execution_count": 13,
   "metadata": {
    "collapsed": false
   },
   "outputs": [
    {
     "name": "stdout",
     "output_type": "stream",
     "text": [
      "0.01\n",
      "6.73\n",
      "8.28\n",
      "8.33\n",
      "8.35\n",
      "8.35\n",
      "8.66\n",
      "8.72\n",
      "8.74\n",
      "8.84\n",
      "8.84\n",
      "8.9\n"
     ]
    }
   ],
   "source": [
    "for i, price in enumerate(prices):\n",
    "    print price\n",
    "    if i > 10:\n",
    "        break"
   ]
  },
  {
   "cell_type": "code",
   "execution_count": 14,
   "metadata": {
    "collapsed": false
   },
   "outputs": [],
   "source": [
    "price_counts = prices.value_counts(sort=False)"
   ]
  },
  {
   "cell_type": "code",
   "execution_count": 18,
   "metadata": {
    "collapsed": false
   },
   "outputs": [
    {
     "name": "stdout",
     "output_type": "stream",
     "text": [
      "[0.0, 42.18, 54.600000000000001, 65.359999999999999, 75.280000000000001, 84.540000000000006, 93.620000000000005, 101.38, 109.23, 117.3, 124.98, 132.22, 139.58000000000001, 145.97999999999999, 151.97999999999999, 158.28999999999999, 163.84999999999999, 169.80000000000001, 174.24000000000001, 179.97999999999999, 185.36000000000001, 190.19, 195.62, 199.97999999999999, 204.97999999999999, 209.97999999999999, 215.34, 219.97999999999999, 225.08000000000001, 229.97999999999999, 235.36000000000001, 239.97999999999999, 245.40000000000001, 250.0, 256.05000000000001, 260.98000000000002, 268.86000000000001, 273.87, 279.98000000000002, 287.75999999999999, 294.49000000000001, 300.98000000000002, 309.98000000000002, 319.26999999999998, 326.98000000000002, 335.69, 343.48000000000002, 353.5, 362.98000000000002, 374.48000000000002, 385.13999999999999, 397.82999999999998, 409.98000000000002, 423.30000000000001, 437.98000000000002, 451.60000000000002, 466.51999999999998, 480.87, 496.33999999999997, 510.24000000000001, 526.02999999999997, 539.98000000000002, 550.28999999999996, 568.98000000000002, 579.98000000000002, 599.46000000000004, 612.47000000000003, 629.98000000000002, 648.98000000000002, 664.0, 679.98000000000002, 699.09000000000003, 709.98000000000002, 727.07000000000005, 739.98000000000002, 756.72000000000003, 769.98000000000002, 786.98000000000002, 799.98000000000002, 810.92999999999995, 825.08000000000004, 833.80999999999995, 848.0, 856.07000000000005, 867.98000000000002, 874.73000000000002, 886.16999999999996, 896.10000000000002, 902.10000000000002, 909.98000000000002, 919.98000000000002, 929.98000000000002, 939.98000000000002, 949.98000000000002, 959.98000000000002, 969.98000000000002, 979.98000000000002, 989.98000000000002, 999.98000000000002, 1009.98, 1019.98, 1029.98, 1039.98, 1049.98, 1061.98, 1073.29, 1081.23, 1091.98, 1103.5, 1115.98, 1127.98, 1138.49, 1149.98, 1161.98, 1175.98, 1188.98, 1199.98, 1216.4300000000001, 1229.98, 1245.98, 1259.98, 1277.0899999999999, 1289.98, 1307.98, 1319.98, 1339.98, 1359.98, 1379.98, 1399.98, 1419.98, 1440.98, 1462.98, 1489.98, 1519.98, 1554.98, 1589.98, 1639.98, 1699.98, 1778.98, 1886.98, 2052.98, 10099.838400000001]\n"
     ]
    }
   ],
   "source": [
    "num_prices = len(prices)\n",
    "num_buckets = 150.\n",
    "buckets = [0.]\n",
    "running_total = 0\n",
    "for price, count in price_counts.sort_index().iteritems():\n",
    "    running_total += count\n",
    "    if running_total >= num_prices / num_buckets:\n",
    "        buckets.append(price)\n",
    "        running_total = 0\n",
    "buckets.append(price * 1.01)\n",
    "print buckets"
   ]
  },
  {
   "cell_type": "code",
   "execution_count": 19,
   "metadata": {
    "collapsed": false,
    "scrolled": true
   },
   "outputs": [
    {
     "data": {
      "image/png": "[encoded data removed]",
      "text/plain": [
       "<matplotlib.figure.Figure at 0x5f6ca128>"
      ]
     },
     "metadata": {},
     "output_type": "display_data"
    }
   ],
   "source": [
    "%matplotlib inline\n",
    "from matplotlib import pyplot as pl\n",
    "pl.plot(buckets)\n",
    "pl.show()"
   ]
  },
  {
   "cell_type": "code",
   "execution_count": 20,
   "metadata": {
    "collapsed": false
   },
   "outputs": [
    {
     "data": {
      "image/png": "[encoded data removed]",
      "text/plain": [
       "<matplotlib.figure.Figure at 0x57cbe7b8>"
      ]
     },
     "metadata": {},
     "output_type": "display_data"
    }
   ],
   "source": [
    "pl.hist(prices, num_buckets, color='black')\n",
    "pl.xlim([0, 2500])\n",
    "pl.show()"
   ]
  },
  {
   "cell_type": "code",
   "execution_count": 21,
   "metadata": {
    "collapsed": false,
    "scrolled": true
   },
   "outputs": [
    {
     "name": "stdout",
     "output_type": "stream",
     "text": [
      "26454134\n",
      "adjusting range (1, 42.18, 54.600000000000001)\n",
      "adjusting range (2, 54.600000000000001, 65.359999999999999)\n",
      "adjusting range (3, 65.359999999999999, 75.280000000000001)\n",
      "adjusting range (4, 75.280000000000001, 84.540000000000006)\n",
      "adjusting range (5, 84.540000000000006, 93.620000000000005)\n",
      "adjusting range (6, 93.620000000000005, 101.38)\n",
      "adjusting range (7, 101.38, 109.23)\n",
      "adjusting range (8, 109.23, 117.3)\n",
      "adjusting range (9, 117.3, 124.98)\n",
      "adjusting range (10, 124.98, 132.22)\n",
      "adjusting range (11, 132.22, 139.58000000000001)\n",
      "adjusting range (12, 139.58000000000001, 145.97999999999999)\n",
      "adjusting range (13, 145.97999999999999, 151.97999999999999)\n",
      "adjusting range (14, 151.97999999999999, 158.28999999999999)\n",
      "adjusting range (15, 158.28999999999999, 163.84999999999999)\n",
      "adjusting range (16, 163.84999999999999, 169.80000000000001)\n",
      "adjusting range (17, 169.80000000000001, 174.24000000000001)\n",
      "adjusting range (18, 174.24000000000001, 179.97999999999999)\n",
      "adjusting range (19, 179.97999999999999, 185.36000000000001)\n",
      "adjusting range (20, 185.36000000000001, 190.19)\n",
      "adjusting range (21, 190.19, 195.62)\n",
      "adjusting range (22, 195.62, 199.97999999999999)\n",
      "adjusting range (23, 199.97999999999999, 204.97999999999999)\n",
      "adjusting range (24, 204.97999999999999, 209.97999999999999)\n",
      "adjusting range (25, 209.97999999999999, 215.34)\n",
      "adjusting range (26, 215.34, 219.97999999999999)\n",
      "adjusting range (27, 219.97999999999999, 225.08000000000001)\n",
      "adjusting range (28, 225.08000000000001, 229.97999999999999)\n",
      "adjusting range (29, 229.97999999999999, 235.36000000000001)\n",
      "adjusting range (30, 235.36000000000001, 239.97999999999999)\n",
      "adjusting range (31, 239.97999999999999, 245.40000000000001)\n",
      "adjusting range (32, 245.40000000000001, 250.0)\n",
      "adjusting range (33, 250.0, 256.05000000000001)\n",
      "adjusting range (34, 256.05000000000001, 260.98000000000002)\n",
      "adjusting range (35, 260.98000000000002, 268.86000000000001)\n",
      "adjusting range (36, 268.86000000000001, 273.87)\n",
      "adjusting range (37, 273.87, 279.98000000000002)\n",
      "adjusting range (38, 279.98000000000002, 287.75999999999999)\n",
      "adjusting range (39, 287.75999999999999, 294.49000000000001)\n",
      "adjusting range (40, 294.49000000000001, 300.98000000000002)\n",
      "adjusting range (41, 300.98000000000002, 309.98000000000002)\n",
      "adjusting range (42, 309.98000000000002, 319.26999999999998)\n",
      "adjusting range (43, 319.26999999999998, 326.98000000000002)\n",
      "adjusting range (44, 326.98000000000002, 335.69)\n",
      "adjusting range (45, 335.69, 343.48000000000002)\n",
      "adjusting range (46, 343.48000000000002, 353.5)\n",
      "adjusting range (47, 353.5, 362.98000000000002)\n",
      "adjusting range (48, 362.98000000000002, 374.48000000000002)\n",
      "adjusting range (49, 374.48000000000002, 385.13999999999999)\n",
      "adjusting range (50, 385.13999999999999, 397.82999999999998)\n",
      "adjusting range (51, 397.82999999999998, 409.98000000000002)\n",
      "adjusting range (52, 409.98000000000002, 423.30000000000001)\n",
      "adjusting range (53, 423.30000000000001, 437.98000000000002)\n",
      "adjusting range (54, 437.98000000000002, 451.60000000000002)\n",
      "adjusting range (55, 451.60000000000002, 466.51999999999998)\n",
      "adjusting range (56, 466.51999999999998, 480.87)\n",
      "adjusting range (57, 480.87, 496.33999999999997)\n",
      "adjusting range (58, 496.33999999999997, 510.24000000000001)\n",
      "adjusting range (59, 510.24000000000001, 526.02999999999997)\n",
      "adjusting range (60, 526.02999999999997, 539.98000000000002)\n",
      "adjusting range (61, 539.98000000000002, 550.28999999999996)\n",
      "adjusting range (62, 550.28999999999996, 568.98000000000002)\n",
      "adjusting range (63, 568.98000000000002, 579.98000000000002)\n",
      "adjusting range (64, 579.98000000000002, 599.46000000000004)\n",
      "adjusting range (65, 599.46000000000004, 612.47000000000003)\n",
      "adjusting range (66, 612.47000000000003, 629.98000000000002)\n",
      "adjusting range (67, 629.98000000000002, 648.98000000000002)\n",
      "adjusting range (68, 648.98000000000002, 664.0)\n",
      "adjusting range (69, 664.0, 679.98000000000002)\n",
      "adjusting range (70, 679.98000000000002, 699.09000000000003)\n",
      "adjusting range (71, 699.09000000000003, 709.98000000000002)\n",
      "adjusting range (72, 709.98000000000002, 727.07000000000005)\n",
      "adjusting range (73, 727.07000000000005, 739.98000000000002)\n",
      "adjusting range (74, 739.98000000000002, 756.72000000000003)\n",
      "adjusting range (75, 756.72000000000003, 769.98000000000002)\n",
      "adjusting range (76, 769.98000000000002, 786.98000000000002)\n",
      "adjusting range (77, 786.98000000000002, 799.98000000000002)\n",
      "adjusting range (78, 799.98000000000002, 810.92999999999995)\n",
      "adjusting range (79, 810.92999999999995, 825.08000000000004)\n",
      "adjusting range (80, 825.08000000000004, 833.80999999999995)\n",
      "adjusting range (81, 833.80999999999995, 848.0)\n",
      "adjusting range (82, 848.0, 856.07000000000005)\n",
      "adjusting range (83, 856.07000000000005, 867.98000000000002)\n",
      "adjusting range (84, 867.98000000000002, 874.73000000000002)\n",
      "adjusting range (85, 874.73000000000002, 886.16999999999996)\n",
      "adjusting range (86, 886.16999999999996, 896.10000000000002)\n",
      "adjusting range (87, 896.10000000000002, 902.10000000000002)\n",
      "adjusting range (88, 902.10000000000002, 909.98000000000002)\n",
      "adjusting range (89, 909.98000000000002, 919.98000000000002)\n",
      "adjusting range (90, 919.98000000000002, 929.98000000000002)\n",
      "adjusting range (91, 929.98000000000002, 939.98000000000002)\n",
      "adjusting range (92, 939.98000000000002, 949.98000000000002)\n",
      "adjusting range (93, 949.98000000000002, 959.98000000000002)\n",
      "adjusting range (94, 959.98000000000002, 969.98000000000002)\n",
      "adjusting range (95, 969.98000000000002, 979.98000000000002)\n",
      "adjusting range (96, 979.98000000000002, 989.98000000000002)\n",
      "adjusting range (97, 989.98000000000002, 999.98000000000002)\n",
      "adjusting range (98, 999.98000000000002, 1009.98)\n",
      "adjusting range (99, 1009.98, 1019.98)\n",
      "adjusting range (100, 1019.98, 1029.98)\n",
      "adjusting range (101, 1029.98, 1039.98)\n",
      "adjusting range (102, 1039.98, 1049.98)\n",
      "adjusting range (103, 1049.98, 1061.98)\n",
      "adjusting range (104, 1061.98, 1073.29)\n",
      "adjusting range (105, 1073.29, 1081.23)\n",
      "adjusting range (106, 1081.23, 1091.98)\n",
      "adjusting range (107, 1091.98, 1103.5)\n",
      "adjusting range (108, 1103.5, 1115.98)\n",
      "adjusting range (109, 1115.98, 1127.98)\n",
      "adjusting range (110, 1127.98, 1138.49)\n",
      "adjusting range (111, 1138.49, 1149.98)\n",
      "adjusting range (112, 1149.98, 1161.98)\n",
      "adjusting range (113, 1161.98, 1175.98)\n",
      "adjusting range (114, 1175.98, 1188.98)\n",
      "adjusting range (115, 1188.98, 1199.98)\n",
      "adjusting range (116, 1199.98, 1216.4300000000001)\n",
      "adjusting range (117, 1216.4300000000001, 1229.98)\n",
      "adjusting range (118, 1229.98, 1245.98)\n",
      "adjusting range (119, 1245.98, 1259.98)\n",
      "adjusting range (120, 1259.98, 1277.0899999999999)\n",
      "adjusting range (121, 1277.0899999999999, 1289.98)\n",
      "adjusting range (122, 1289.98, 1307.98)\n",
      "adjusting range (123, 1307.98, 1319.98)\n",
      "adjusting range (124, 1319.98, 1339.98)\n",
      "adjusting range (125, 1339.98, 1359.98)\n",
      "adjusting range (126, 1359.98, 1379.98)\n",
      "adjusting range (127, 1379.98, 1399.98)\n",
      "adjusting range (128, 1399.98, 1419.98)\n",
      "adjusting range (129, 1419.98, 1440.98)\n",
      "adjusting range (130, 1440.98, 1462.98)\n",
      "adjusting range (131, 1462.98, 1489.98)\n",
      "adjusting range (132, 1489.98, 1519.98)\n",
      "adjusting range (133, 1519.98, 1554.98)\n",
      "adjusting range (134, 1554.98, 1589.98)\n",
      "adjusting range (135, 1589.98, 1639.98)\n",
      "adjusting range (136, 1639.98, 1699.98)\n",
      "adjusting range (137, 1699.98, 1778.98)\n",
      "adjusting range (138, 1778.98, 1886.98)\n",
      "adjusting range (139, 1886.98, 2052.98)\n",
      "adjusting range (140, 2052.98, 10099.838400000001)\n"
     ]
    }
   ],
   "source": [
    "bucket_counts = [0 for __ in xrange(int(num_buckets) + 1)]\n",
    "bucket_ranges = zip(xrange(int(num_buckets) + 1), buckets, buckets[1:])\n",
    "print len(prices)\n",
    "for i_, price in enumerate(prices):\n",
    "    for i, low, high in bucket_ranges:\n",
    "        if low <= price <= high:\n",
    "            bucket_counts[i] += 1\n",
    "            break\n",
    "    if bucket_ranges[0][-1] < price:\n",
    "        bucket_ranges = bucket_ranges[1:]\n",
    "        print 'adjusting range', bucket_ranges[0]"
   ]
  },
  {
   "cell_type": "code",
   "execution_count": 22,
   "metadata": {
    "collapsed": false
   },
   "outputs": [
    {
     "data": {
      "image/png": "[encoded data removed]",
      "text/plain": [
       "<matplotlib.figure.Figure at 0x57a49cf8>"
      ]
     },
     "metadata": {},
     "output_type": "display_data"
    }
   ],
   "source": [
    "%matplotlib inline\n",
    "pl.plot(bucket_counts)\n",
    "pl.show()"
   ]
  },
  {
   "cell_type": "code",
   "execution_count": 23,
   "metadata": {
    "collapsed": false,
    "scrolled": false
   },
   "outputs": [],
   "source": [
    "num_bins = 150\n",
    "out, bins = pandas.qcut(prices, num_bins, retbins=True)"
   ]
  },
  {
   "cell_type": "code",
   "execution_count": 24,
   "metadata": {
    "collapsed": false
   },
   "outputs": [
    {
     "data": {
      "image/png": "[encoded data removed]",
      "text/plain": [
       "<matplotlib.figure.Figure at 0x5f4174e0>"
      ]
     },
     "metadata": {},
     "output_type": "display_data"
    }
   ],
   "source": [
    "%matplotlib inline\n",
    "pl.plot(bins)\n",
    "pl.show()"
   ]
  },
  {
   "cell_type": "code",
   "execution_count": 25,
   "metadata": {
    "collapsed": false,
    "scrolled": true
   },
   "outputs": [
    {
     "name": "stdout",
     "output_type": "stream",
     "text": [
      "26454134\n",
      "adjusting range (1, 42.18, 54.600000000000001)\n",
      "adjusting range (2, 54.600000000000001, 65.290000000000006)\n",
      "adjusting range (3, 65.290000000000006, 75.230000000000004)\n",
      "adjusting range (4, 75.230000000000004, 84.480000000000004)\n",
      "adjusting range (5, 84.480000000000004, 93.569999999999993)\n",
      "adjusting range (6, 93.569999999999993, 101.31999999999999)\n",
      "adjusting range (7, 101.31999999999999, 109.17)\n",
      "adjusting range (8, 109.17, 117.23999999999999)\n",
      "adjusting range (9, 117.23999999999999, 124.98)\n",
      "adjusting range (10, 124.98, 132.05000000000001)\n",
      "adjusting range (11, 132.05000000000001, 139.41)\n",
      "adjusting range (12, 139.41, 145.96000000000001)\n",
      "adjusting range (13, 145.96000000000001, 151.88)\n",
      "adjusting range (14, 151.88, 157.97999999999999)\n",
      "adjusting range (15, 157.97999999999999, 163.44)\n",
      "adjusting range (16, 163.44, 169.41)\n",
      "adjusting range (17, 169.41, 173.97999999999999)\n",
      "adjusting range (18, 173.97999999999999, 179.97999999999999)\n",
      "adjusting range (19, 179.97999999999999, 183.97999999999999)\n",
      "adjusting range (20, 183.97999999999999, 189.97999999999999)\n",
      "adjusting range (21, 189.97999999999999, 194.31)\n",
      "adjusting range (22, 194.31, 199.97999999999999)\n",
      "adjusting range (23, 199.97999999999999, 203.66999999999999)\n",
      "adjusting range (24, 203.66999999999999, 209.91999999999999)\n",
      "adjusting range (25, 209.91999999999999, 212.97999999999999)\n",
      "adjusting range (26, 212.97999999999999, 219.5)\n",
      "adjusting range (27, 219.5, 222.21000000000001)\n",
      "adjusting range (28, 222.21000000000001, 228.75)\n",
      "adjusting range (29, 228.75, 231.97999999999999)\n",
      "adjusting range (30, 231.97999999999999, 237.97999999999999)\n",
      "adjusting range (31, 237.97999999999999, 241.25999999999999)\n",
      "adjusting range (32, 241.25999999999999, 247.65000000000001)\n",
      "adjusting range (33, 247.65000000000001, 251.84)\n",
      "adjusting range (34, 251.84, 258.80000000000001)\n",
      "adjusting range (35, 258.80000000000001, 262.81)\n",
      "adjusting range (36, 262.81, 269.98000000000002)\n",
      "adjusting range (37, 269.98000000000002, 275.07999999999998)\n",
      "adjusting range (38, 275.07999999999998, 280.98000000000002)\n",
      "adjusting range (39, 280.98000000000002, 288.97000000000003)\n",
      "adjusting range (40, 288.97000000000003, 295.50999999999999)\n",
      "adjusting range (41, 295.50999999999999, 301.85000000000002)\n",
      "adjusting range (42, 301.85000000000002, 309.98000000000002)\n",
      "adjusting range (43, 309.98000000000002, 318.98000000000002)\n",
      "adjusting range (44, 318.98000000000002, 326.47000000000003)\n",
      "adjusting range (45, 326.47000000000003, 334.92000000000002)\n",
      "adjusting range (46, 334.92000000000002, 342.89999999999998)\n",
      "adjusting range (47, 342.89999999999998, 352.98000000000002)\n",
      "adjusting range (48, 352.98000000000002, 361.98000000000002)\n",
      "adjusting range (49, 361.98000000000002, 373.20999999999998)\n",
      "adjusting range (50, 373.20999999999998, 383.98000000000002)\n",
      "adjusting range (51, 383.98000000000002, 396.36000000000001)\n",
      "adjusting range (52, 396.36000000000001, 408.98000000000002)\n",
      "adjusting range (53, 408.98000000000002, 421.14999999999998)\n",
      "adjusting range (54, 421.14999999999998, 435.98000000000002)\n",
      "adjusting range (55, 435.98000000000002, 449.98000000000002)\n",
      "adjusting range (56, 449.98000000000002, 464.04000000000002)\n",
      "adjusting range (57, 464.04000000000002, 478.98000000000002)\n",
      "adjusting range (58, 478.98000000000002, 493.51999999999998)\n",
      "adjusting range (59, 493.51999999999998, 508.69999999999999)\n",
      "adjusting range (60, 508.69999999999999, 523.22000000000003)\n",
      "adjusting range (61, 523.22000000000003, 539.09000000000003)\n",
      "adjusting range (62, 539.09000000000003, 549.98000000000002)\n",
      "adjusting range (63, 549.98000000000002, 563.98000000000002)\n",
      "adjusting range (64, 563.98000000000002, 579.98000000000002)\n",
      "adjusting range (65, 579.98000000000002, 593.33000000000004)\n",
      "adjusting range (66, 593.33000000000004, 609.98000000000002)\n",
      "adjusting range (67, 609.98000000000002, 624.47000000000003)\n",
      "adjusting range (68, 624.47000000000003, 639.98000000000002)\n",
      "adjusting range (69, 639.98000000000002, 658.01999999999998)\n",
      "adjusting range (70, 658.01999999999998, 671.75)\n",
      "adjusting range (71, 671.75, 689.98000000000002)\n",
      "adjusting range (72, 689.98000000000002, 701.48000000000002)\n",
      "adjusting range (73, 701.48000000000002, 719.83000000000004)\n",
      "adjusting range (74, 719.83000000000004, 729.98000000000002)\n",
      "adjusting range (75, 729.98000000000002, 742.50999999999999)\n",
      "adjusting range (76, 742.50999999999999, 759.02999999999997)\n",
      "adjusting range (77, 759.02999999999997, 769.98000000000002)\n",
      "adjusting range (78, 769.98000000000002, 779.98000000000002)\n",
      "adjusting range (79, 779.98000000000002, 789.98000000000002)\n",
      "adjusting range (80, 789.98000000000002, 804.0)\n",
      "adjusting range (81, 804.0, 815.14999999999998)\n",
      "adjusting range (82, 815.14999999999998, 829.22000000000003)\n",
      "adjusting range (83, 829.22000000000003, 838.69000000000005)\n",
      "adjusting range (84, 838.69000000000005, 849.98000000000002)\n",
      "adjusting range (85, 849.98000000000002, 859.98000000000002)\n",
      "adjusting range (86, 859.98000000000002, 869.98000000000002)\n",
      "adjusting range (87, 869.98000000000002, 879.79999999999995)\n",
      "adjusting range (88, 879.79999999999995, 889.98000000000002)\n",
      "adjusting range (89, 889.98000000000002, 899.98000000000002)\n",
      "adjusting range (90, 899.98000000000002, 906.98000000000002)\n",
      "adjusting range (91, 906.98000000000002, 912.00999999999999)\n",
      "adjusting range (92, 912.00999999999999, 920.94000000000005)\n",
      "adjusting range (93, 920.94000000000005, 929.98000000000002)\n",
      "adjusting range (94, 929.98000000000002, 939.98000000000002)\n",
      "adjusting range (95, 939.98000000000002, 949.98000000000002)\n",
      "adjusting range (96, 949.98000000000002, 959.98000000000002)\n",
      "adjusting range (97, 959.98000000000002, 969.98000000000002)\n",
      "adjusting range (98, 969.98000000000002, 979.98000000000002)\n",
      "adjusting range (99, 979.98000000000002, 989.98000000000002)\n",
      "adjusting range (100, 989.98000000000002, 999.98000000000002)\n",
      "adjusting range (101, 999.98000000000002, 1009.98)\n",
      "adjusting range (102, 1009.98, 1019.98)\n",
      "adjusting range (103, 1019.98, 1029.98)\n",
      "adjusting range (104, 1029.98, 1038.49)\n",
      "adjusting range (105, 1038.49, 1047.98)\n",
      "adjusting range (106, 1047.98, 1056.05)\n",
      "adjusting range (107, 1056.05, 1067.2)\n",
      "adjusting range (108, 1067.2, 1078.0)\n",
      "adjusting range (109, 1078.0, 1086.98)\n",
      "adjusting range (110, 1086.98, 1097.98)\n",
      "adjusting range (111, 1097.98, 1108.9400000000001)\n",
      "adjusting range (112, 1108.9400000000001, 1119.98)\n",
      "adjusting range (113, 1119.98, 1129.98)\n",
      "adjusting range (114, 1129.98, 1139.98)\n",
      "adjusting range (115, 1139.98, 1149.98)\n",
      "adjusting range (116, 1149.98, 1159.98)\n",
      "adjusting range (117, 1159.98, 1169.98)\n",
      "adjusting range (118, 1169.98, 1179.98)\n",
      "adjusting range (119, 1179.98, 1189.98)\n",
      "adjusting range (120, 1189.98, 1199.98)\n",
      "adjusting range (121, 1199.98, 1209.98)\n",
      "adjusting range (122, 1209.98, 1224.98)\n",
      "adjusting range (123, 1224.98, 1238.98)\n",
      "adjusting range (124, 1238.98, 1249.98)\n",
      "adjusting range (125, 1249.98, 1259.98)\n",
      "adjusting range (126, 1259.98, 1269.98)\n",
      "adjusting range (127, 1269.98, 1281.05)\n",
      "adjusting range (128, 1281.05, 1299.98)\n",
      "adjusting range (129, 1299.98, 1309.98)\n",
      "adjusting range (130, 1309.98, 1319.98)\n",
      "adjusting range (131, 1319.98, 1337.52)\n",
      "adjusting range (132, 1337.52, 1349.98)\n",
      "adjusting range (133, 1349.98, 1362.98)\n",
      "adjusting range (134, 1362.98, 1379.98)\n",
      "adjusting range (135, 1379.98, 1399.98)\n",
      "adjusting range (136, 1399.98, 1413.98)\n",
      "adjusting range (137, 1413.98, 1429.98)\n",
      "adjusting range (138, 1429.98, 1449.98)\n",
      "adjusting range (139, 1449.98, 1477.98)\n",
      "adjusting range (140, 1477.98, 1499.98)\n",
      "adjusting range (141, 1499.98, 1529.98)\n",
      "adjusting range (142, 1529.98, 1559.98)\n",
      "adjusting range (143, 1559.98, 1599.98)\n",
      "adjusting range (144, 1599.98, 1640.98)\n",
      "adjusting range (145, 1640.98, 1699.98)\n",
      "adjusting range (146, 1699.98, 1769.98)\n",
      "adjusting range (147, 1769.98, 1877.9000000000001)\n",
      "adjusting range (148, 1877.9000000000001, 2039.98)\n",
      "adjusting range (149, 2039.98, 9999.8400000000001)\n"
     ]
    }
   ],
   "source": [
    "bin_counts = [0 for __ in xrange(int(num_bins) + 1)]\n",
    "bin_ranges = zip(xrange(int(num_bins) + 1), bins, bins[1:])\n",
    "print len(prices)\n",
    "for i_, price in enumerate(prices):\n",
    "    for i, low, high in bin_ranges:\n",
    "        if low < price <= high:\n",
    "            bin_counts[i] += 1\n",
    "            break\n",
    "    if bin_ranges[0][-1] < price:\n",
    "        bin_ranges = bin_ranges[1:]\n",
    "        print 'adjusting range', bin_ranges[0]"
   ]
  },
  {
   "cell_type": "code",
   "execution_count": 26,
   "metadata": {
    "collapsed": false
   },
   "outputs": [
    {
     "data": {
      "image/png": "[encoded data removed]",
      "text/plain": [
       "<matplotlib.figure.Figure at 0x2b9b9a58>"
      ]
     },
     "metadata": {},
     "output_type": "display_data"
    }
   ],
   "source": [
    "%matplotlib inline\n",
    "pl.plot(bin_counts)\n",
    "pl.show()"
   ]
  },
  {
   "cell_type": "markdown",
   "metadata": {},
   "source": [
    "I think bucket_counts looks better than bin_counts."
   ]
  },
  {
   "cell_type": "code",
   "execution_count": 28,
   "metadata": {
    "collapsed": false,
    "scrolled": true
   },
   "outputs": [
    {
     "name": "stdout",
     "output_type": "stream",
     "text": [
      "[0.0, 42.18, 54.600000000000001, 65.359999999999999, 75.280000000000001, 84.540000000000006, 93.620000000000005, 101.38, 109.23, 117.3, 124.98, 132.22, 139.58000000000001, 145.97999999999999, 151.97999999999999, 158.28999999999999, 163.84999999999999, 169.80000000000001, 174.24000000000001, 179.97999999999999, 185.36000000000001, 190.19, 195.62, 199.97999999999999, 204.97999999999999, 209.97999999999999, 215.34, 219.97999999999999, 225.08000000000001, 229.97999999999999, 235.36000000000001, 239.97999999999999, 245.40000000000001, 250.0, 256.05000000000001, 260.98000000000002, 268.86000000000001, 273.87, 279.98000000000002, 287.75999999999999, 294.49000000000001, 300.98000000000002, 309.98000000000002, 319.26999999999998, 326.98000000000002, 335.69, 343.48000000000002, 353.5, 362.98000000000002, 374.48000000000002, 385.13999999999999, 397.82999999999998, 409.98000000000002, 423.30000000000001, 437.98000000000002, 451.60000000000002, 466.51999999999998, 480.87, 496.33999999999997, 510.24000000000001, 526.02999999999997, 539.98000000000002, 550.28999999999996, 568.98000000000002, 579.98000000000002, 599.46000000000004, 612.47000000000003, 629.98000000000002, 648.98000000000002, 664.0, 679.98000000000002, 699.09000000000003, 709.98000000000002, 727.07000000000005, 739.98000000000002, 756.72000000000003, 769.98000000000002, 786.98000000000002, 799.98000000000002, 810.92999999999995, 825.08000000000004, 833.80999999999995, 848.0, 856.07000000000005, 867.98000000000002, 874.73000000000002, 886.16999999999996, 896.10000000000002, 902.10000000000002, 909.98000000000002, 919.98000000000002, 929.98000000000002, 939.98000000000002, 949.98000000000002, 959.98000000000002, 969.98000000000002, 979.98000000000002, 989.98000000000002, 999.98000000000002, 1009.98, 1019.98, 1029.98, 1039.98, 1049.98, 1061.98, 1073.29, 1081.23, 1091.98, 1103.5, 1115.98, 1127.98, 1138.49, 1149.98, 1161.98, 1175.98, 1188.98, 1199.98, 1216.4300000000001, 1229.98, 1245.98, 1259.98, 1277.0899999999999, 1289.98, 1307.98, 1319.98, 1339.98, 1359.98, 1379.98, 1399.98, 1419.98, 1440.98, 1462.98, 1489.98, 1519.98, 1554.98, 1589.98, 1639.98, 1699.98, 1778.98, 1886.98, 2052.98, 10099.838400000001]\n"
     ]
    }
   ],
   "source": [
    "print buckets"
   ]
  },
  {
   "cell_type": "code",
   "execution_count": 29,
   "metadata": {
    "collapsed": false
   },
   "outputs": [
    {
     "data": {
      "text/plain": [
       "142"
      ]
     },
     "execution_count": 29,
     "metadata": {},
     "output_type": "execute_result"
    }
   ],
   "source": [
    "len(buckets)"
   ]
  },
  {
   "cell_type": "code",
   "execution_count": 30,
   "metadata": {
    "collapsed": false
   },
   "outputs": [
    {
     "name": "stdout",
     "output_type": "stream",
     "text": [
      "0.00704225352113\n"
     ]
    }
   ],
   "source": [
    "step = 1 / 142.\n",
    "print step\n",
    "bucket_ranges = zip(buckets, buckets[1:])\n",
    "def convert(num):\n",
    "    cumsum = 0\n",
    "    for low, high in bucket_ranges:\n",
    "        if cumsum <= num < cumsum + step:\n",
    "            t = (num - cumsum) / step\n",
    "            return (1 - t) * low + t * high\n",
    "        cumsum += step\n",
    "    t = (num - (cumsum - step)) / step\n",
    "    return (1 - t) * low + t * high"
   ]
  },
  {
   "cell_type": "code",
   "execution_count": 31,
   "metadata": {
    "collapsed": false
   },
   "outputs": [
    {
     "name": "stdout",
     "output_type": "stream",
     "text": [
      "9005.4656576\n",
      "9576.792604\n",
      "10148.1195504\n",
      "10719.4464968\n"
     ]
    }
   ],
   "source": [
    "print convert(.992)\n",
    "print convert(.9925)\n",
    "print convert(.993)\n",
    "print convert(.9935)"
   ]
  },
  {
   "cell_type": "code",
   "execution_count": 32,
   "metadata": {
    "collapsed": false
   },
   "outputs": [
    {
     "data": {
      "image/png": "[encoded data removed]",
      "text/plain": [
       "<matplotlib.figure.Figure at 0x2b6a8668>"
      ]
     },
     "metadata": {},
     "output_type": "display_data"
    }
   ],
   "source": [
    "%matplotlib inline\n",
    "pl.plot([convert(i / 250.) for i in xrange(250)])\n",
    "pl.xlim([0, 200])\n",
    "pl.ylim([0, 1800])\n",
    "pl.show()"
   ]
  },
  {
   "cell_type": "code",
   "execution_count": 34,
   "metadata": {
    "collapsed": false
   },
   "outputs": [],
   "source": [
    "training_data['OUTBOUND_DATE'] = training_data['OUTBOUND_DATE'].astype('datetime64')"
   ]
  },
  {
   "cell_type": "code",
   "execution_count": 35,
   "metadata": {
    "collapsed": true
   },
   "outputs": [],
   "source": [
    "training_data['INBOUND_DATE'] = training_data['INBOUND_DATE'].astype('datetime64')"
   ]
  },
  {
   "cell_type": "code",
   "execution_count": 36,
   "metadata": {
    "collapsed": true
   },
   "outputs": [],
   "source": [
    "training_data['SEARCH_DATEHOUR'] = training_data['SEARCH_DATEHOUR'].astype('datetime64[ns]')"
   ]
  },
  {
   "cell_type": "code",
   "execution_count": 41,
   "metadata": {
    "collapsed": true
   },
   "outputs": [],
   "source": [
    "training_data['SEARCH_TO_OUTBOUND'] = training_data.OUTBOUND_DATE - training_data.SEARCH_DATEHOUR"
   ]
  },
  {
   "cell_type": "code",
   "execution_count": 42,
   "metadata": {
    "collapsed": true
   },
   "outputs": [],
   "source": [
    "training_data['SEARCH_TO_INBOUND'] = training_data.INBOUND_DATE - training_data.SEARCH_DATEHOUR"
   ]
  },
  {
   "cell_type": "code",
   "execution_count": 43,
   "metadata": {
    "collapsed": true
   },
   "outputs": [],
   "source": [
    "training_data['OUTBOUND_TO_INBOUND'] = training_data.INBOUND_DATE - training_data.OUTBOUND_DATE"
   ]
  },
  {
   "cell_type": "code",
   "execution_count": 46,
   "metadata": {
    "collapsed": true
   },
   "outputs": [],
   "source": [
    "airports_data = pandas.read_csv(airports_fname)"
   ]
  },
  {
   "cell_type": "code",
   "execution_count": 49,
   "metadata": {
    "collapsed": true
   },
   "outputs": [],
   "source": [
    "training_merged = pandas.merge(training_data, airports_data, left_on='ORIGIN', right_on='AIRPORT')\n",
    "del training_data"
   ]
  },
  {
   "cell_type": "code",
   "execution_count": 50,
   "metadata": {
    "collapsed": false
   },
   "outputs": [
    {
     "data": {
      "text/html": [
       "<div>\n",
       "<table border=\"1\" class=\"dataframe\">\n",
       "  <thead>\n",
       "    <tr style=\"text-align: right;\">\n",
       "      <th></th>\n",
       "      <th>SEARCH_DATEHOUR</th>\n",
       "      <th>ORIGIN</th>\n",
       "      <th>DESTINATION</th>\n",
       "      <th>OUTBOUND_DATE</th>\n",
       "      <th>INBOUND_DATE</th>\n",
       "      <th>PRICE</th>\n",
       "      <th>MARKETS</th>\n",
       "      <th>SEARCH_TO_OUTBOUND</th>\n",
       "      <th>SEARCH_TO_INBOUND</th>\n",
       "      <th>OUTBOUND_TO_INBOUND</th>\n",
       "      <th>CITY</th>\n",
       "      <th>COUNTRY</th>\n",
       "      <th>CONTINENT</th>\n",
       "      <th>LATITUDE</th>\n",
       "      <th>LONGITUDE</th>\n",
       "      <th>TRAFFIC</th>\n",
       "    </tr>\n",
       "  </thead>\n",
       "  <tbody>\n",
       "    <tr>\n",
       "      <th>0</th>\n",
       "      <td>2016-01-04 23:00:00</td>\n",
       "      <td>CGN</td>\n",
       "      <td>BGY</td>\n",
       "      <td>2016-03-25</td>\n",
       "      <td>2016-03-27</td>\n",
       "      <td>0.01</td>\n",
       "      <td>DE</td>\n",
       "      <td>80 days 01:00:00</td>\n",
       "      <td>82 days 01:00:00</td>\n",
       "      <td>2 days</td>\n",
       "      <td>CGN</td>\n",
       "      <td>DE</td>\n",
       "      <td>EU</td>\n",
       "      <td>50.865833</td>\n",
       "      <td>7.141944</td>\n",
       "      <td>1457815</td>\n",
       "    </tr>\n",
       "    <tr>\n",
       "      <th>1</th>\n",
       "      <td>2016-01-05 17:00:00</td>\n",
       "      <td>CGN</td>\n",
       "      <td>BGY</td>\n",
       "      <td>2016-01-12</td>\n",
       "      <td>2016-01-13</td>\n",
       "      <td>15.82</td>\n",
       "      <td>IT</td>\n",
       "      <td>6 days 07:00:00</td>\n",
       "      <td>7 days 07:00:00</td>\n",
       "      <td>1 days</td>\n",
       "      <td>CGN</td>\n",
       "      <td>DE</td>\n",
       "      <td>EU</td>\n",
       "      <td>50.865833</td>\n",
       "      <td>7.141944</td>\n",
       "      <td>1457815</td>\n",
       "    </tr>\n",
       "    <tr>\n",
       "      <th>2</th>\n",
       "      <td>2016-01-05 11:00:00</td>\n",
       "      <td>CGN</td>\n",
       "      <td>BGY</td>\n",
       "      <td>2016-01-22</td>\n",
       "      <td>2016-01-25</td>\n",
       "      <td>15.82</td>\n",
       "      <td>IT</td>\n",
       "      <td>16 days 13:00:00</td>\n",
       "      <td>19 days 13:00:00</td>\n",
       "      <td>3 days</td>\n",
       "      <td>CGN</td>\n",
       "      <td>DE</td>\n",
       "      <td>EU</td>\n",
       "      <td>50.865833</td>\n",
       "      <td>7.141944</td>\n",
       "      <td>1457815</td>\n",
       "    </tr>\n",
       "    <tr>\n",
       "      <th>3</th>\n",
       "      <td>2016-01-08 08:00:00</td>\n",
       "      <td>CGN</td>\n",
       "      <td>BGY</td>\n",
       "      <td>2016-01-28</td>\n",
       "      <td>2016-02-01</td>\n",
       "      <td>15.82</td>\n",
       "      <td>IT</td>\n",
       "      <td>19 days 16:00:00</td>\n",
       "      <td>23 days 16:00:00</td>\n",
       "      <td>4 days</td>\n",
       "      <td>CGN</td>\n",
       "      <td>DE</td>\n",
       "      <td>EU</td>\n",
       "      <td>50.865833</td>\n",
       "      <td>7.141944</td>\n",
       "      <td>1457815</td>\n",
       "    </tr>\n",
       "    <tr>\n",
       "      <th>4</th>\n",
       "      <td>2016-01-05 17:00:00</td>\n",
       "      <td>CGN</td>\n",
       "      <td>SXF</td>\n",
       "      <td>2016-01-19</td>\n",
       "      <td>2016-01-22</td>\n",
       "      <td>15.96</td>\n",
       "      <td>ES</td>\n",
       "      <td>13 days 07:00:00</td>\n",
       "      <td>16 days 07:00:00</td>\n",
       "      <td>3 days</td>\n",
       "      <td>CGN</td>\n",
       "      <td>DE</td>\n",
       "      <td>EU</td>\n",
       "      <td>50.865833</td>\n",
       "      <td>7.141944</td>\n",
       "      <td>1457815</td>\n",
       "    </tr>\n",
       "  </tbody>\n",
       "</table>\n",
       "</div>"
      ],
      "text/plain": [
       "      SEARCH_DATEHOUR ORIGIN DESTINATION OUTBOUND_DATE INBOUND_DATE  PRICE  \\\n",
       "0 2016-01-04 23:00:00    CGN         BGY    2016-03-25   2016-03-27   0.01   \n",
       "1 2016-01-05 17:00:00    CGN         BGY    2016-01-12   2016-01-13  15.82   \n",
       "2 2016-01-05 11:00:00    CGN         BGY    2016-01-22   2016-01-25  15.82   \n",
       "3 2016-01-08 08:00:00    CGN         BGY    2016-01-28   2016-02-01  15.82   \n",
       "4 2016-01-05 17:00:00    CGN         SXF    2016-01-19   2016-01-22  15.96   \n",
       "\n",
       "  MARKETS  SEARCH_TO_OUTBOUND  SEARCH_TO_INBOUND  OUTBOUND_TO_INBOUND CITY  \\\n",
       "0      DE    80 days 01:00:00   82 days 01:00:00               2 days  CGN   \n",
       "1      IT     6 days 07:00:00    7 days 07:00:00               1 days  CGN   \n",
       "2      IT    16 days 13:00:00   19 days 13:00:00               3 days  CGN   \n",
       "3      IT    19 days 16:00:00   23 days 16:00:00               4 days  CGN   \n",
       "4      ES    13 days 07:00:00   16 days 07:00:00               3 days  CGN   \n",
       "\n",
       "  COUNTRY CONTINENT   LATITUDE  LONGITUDE  TRAFFIC  \n",
       "0      DE        EU  50.865833   7.141944  1457815  \n",
       "1      DE        EU  50.865833   7.141944  1457815  \n",
       "2      DE        EU  50.865833   7.141944  1457815  \n",
       "3      DE        EU  50.865833   7.141944  1457815  \n",
       "4      DE        EU  50.865833   7.141944  1457815  "
      ]
     },
     "execution_count": 50,
     "metadata": {},
     "output_type": "execute_result"
    }
   ],
   "source": [
    "del training_merged['AIRPORT']\n",
    "training_merged.head()"
   ]
  },
  {
   "cell_type": "code",
   "execution_count": 51,
   "metadata": {
    "collapsed": true
   },
   "outputs": [],
   "source": [
    "for key in ('CITY', 'COUNTRY', 'CONTINENT', 'LATITUDE', 'LONGITUDE', 'TRAFFIC'):\n",
    "    training_merged['ORIGIN_' + key] = training_merged[key]\n",
    "    del training_merged[key]"
   ]
  },
  {
   "cell_type": "code",
   "execution_count": 52,
   "metadata": {
    "collapsed": false
   },
   "outputs": [
    {
     "data": {
      "text/html": [
       "<div>\n",
       "<table border=\"1\" class=\"dataframe\">\n",
       "  <thead>\n",
       "    <tr style=\"text-align: right;\">\n",
       "      <th></th>\n",
       "      <th>SEARCH_DATEHOUR</th>\n",
       "      <th>ORIGIN</th>\n",
       "      <th>DESTINATION</th>\n",
       "      <th>OUTBOUND_DATE</th>\n",
       "      <th>INBOUND_DATE</th>\n",
       "      <th>PRICE</th>\n",
       "      <th>MARKETS</th>\n",
       "      <th>SEARCH_TO_OUTBOUND</th>\n",
       "      <th>SEARCH_TO_INBOUND</th>\n",
       "      <th>OUTBOUND_TO_INBOUND</th>\n",
       "      <th>...</th>\n",
       "      <th>ORIGIN_CONTINENT</th>\n",
       "      <th>ORIGIN_LATITUDE</th>\n",
       "      <th>ORIGIN_LONGITUDE</th>\n",
       "      <th>ORIGIN_TRAFFIC</th>\n",
       "      <th>DESTINATION_CITY</th>\n",
       "      <th>DESTINATION_COUNTRY</th>\n",
       "      <th>DESTINATION_CONTINENT</th>\n",
       "      <th>DESTINATION_LATITUDE</th>\n",
       "      <th>DESTINATION_LONGITUDE</th>\n",
       "      <th>DESTINATION_TRAFFIC</th>\n",
       "    </tr>\n",
       "  </thead>\n",
       "  <tbody>\n",
       "    <tr>\n",
       "      <th>0</th>\n",
       "      <td>2016-01-04 23:00:00</td>\n",
       "      <td>CGN</td>\n",
       "      <td>BGY</td>\n",
       "      <td>2016-03-25</td>\n",
       "      <td>2016-03-27</td>\n",
       "      <td>0.01</td>\n",
       "      <td>DE</td>\n",
       "      <td>80 days 01:00:00</td>\n",
       "      <td>82 days 01:00:00</td>\n",
       "      <td>2 days</td>\n",
       "      <td>...</td>\n",
       "      <td>EU</td>\n",
       "      <td>50.865833</td>\n",
       "      <td>7.141944</td>\n",
       "      <td>1457815</td>\n",
       "      <td>MIL</td>\n",
       "      <td>IT</td>\n",
       "      <td>EU</td>\n",
       "      <td>45.668333</td>\n",
       "      <td>9.700278</td>\n",
       "      <td>2175706</td>\n",
       "    </tr>\n",
       "    <tr>\n",
       "      <th>1</th>\n",
       "      <td>2016-01-05 17:00:00</td>\n",
       "      <td>CGN</td>\n",
       "      <td>BGY</td>\n",
       "      <td>2016-01-12</td>\n",
       "      <td>2016-01-13</td>\n",
       "      <td>15.82</td>\n",
       "      <td>IT</td>\n",
       "      <td>6 days 07:00:00</td>\n",
       "      <td>7 days 07:00:00</td>\n",
       "      <td>1 days</td>\n",
       "      <td>...</td>\n",
       "      <td>EU</td>\n",
       "      <td>50.865833</td>\n",
       "      <td>7.141944</td>\n",
       "      <td>1457815</td>\n",
       "      <td>MIL</td>\n",
       "      <td>IT</td>\n",
       "      <td>EU</td>\n",
       "      <td>45.668333</td>\n",
       "      <td>9.700278</td>\n",
       "      <td>2175706</td>\n",
       "    </tr>\n",
       "    <tr>\n",
       "      <th>2</th>\n",
       "      <td>2016-01-05 11:00:00</td>\n",
       "      <td>CGN</td>\n",
       "      <td>BGY</td>\n",
       "      <td>2016-01-22</td>\n",
       "      <td>2016-01-25</td>\n",
       "      <td>15.82</td>\n",
       "      <td>IT</td>\n",
       "      <td>16 days 13:00:00</td>\n",
       "      <td>19 days 13:00:00</td>\n",
       "      <td>3 days</td>\n",
       "      <td>...</td>\n",
       "      <td>EU</td>\n",
       "      <td>50.865833</td>\n",
       "      <td>7.141944</td>\n",
       "      <td>1457815</td>\n",
       "      <td>MIL</td>\n",
       "      <td>IT</td>\n",
       "      <td>EU</td>\n",
       "      <td>45.668333</td>\n",
       "      <td>9.700278</td>\n",
       "      <td>2175706</td>\n",
       "    </tr>\n",
       "    <tr>\n",
       "      <th>3</th>\n",
       "      <td>2016-01-08 08:00:00</td>\n",
       "      <td>CGN</td>\n",
       "      <td>BGY</td>\n",
       "      <td>2016-01-28</td>\n",
       "      <td>2016-02-01</td>\n",
       "      <td>15.82</td>\n",
       "      <td>IT</td>\n",
       "      <td>19 days 16:00:00</td>\n",
       "      <td>23 days 16:00:00</td>\n",
       "      <td>4 days</td>\n",
       "      <td>...</td>\n",
       "      <td>EU</td>\n",
       "      <td>50.865833</td>\n",
       "      <td>7.141944</td>\n",
       "      <td>1457815</td>\n",
       "      <td>MIL</td>\n",
       "      <td>IT</td>\n",
       "      <td>EU</td>\n",
       "      <td>45.668333</td>\n",
       "      <td>9.700278</td>\n",
       "      <td>2175706</td>\n",
       "    </tr>\n",
       "    <tr>\n",
       "      <th>4</th>\n",
       "      <td>2016-01-08 15:00:00</td>\n",
       "      <td>CGN</td>\n",
       "      <td>BGY</td>\n",
       "      <td>2016-01-24</td>\n",
       "      <td>2016-01-25</td>\n",
       "      <td>15.98</td>\n",
       "      <td>IT</td>\n",
       "      <td>15 days 09:00:00</td>\n",
       "      <td>16 days 09:00:00</td>\n",
       "      <td>1 days</td>\n",
       "      <td>...</td>\n",
       "      <td>EU</td>\n",
       "      <td>50.865833</td>\n",
       "      <td>7.141944</td>\n",
       "      <td>1457815</td>\n",
       "      <td>MIL</td>\n",
       "      <td>IT</td>\n",
       "      <td>EU</td>\n",
       "      <td>45.668333</td>\n",
       "      <td>9.700278</td>\n",
       "      <td>2175706</td>\n",
       "    </tr>\n",
       "  </tbody>\n",
       "</table>\n",
       "<p>5 rows × 22 columns</p>\n",
       "</div>"
      ],
      "text/plain": [
       "      SEARCH_DATEHOUR ORIGIN DESTINATION OUTBOUND_DATE INBOUND_DATE  PRICE  \\\n",
       "0 2016-01-04 23:00:00    CGN         BGY    2016-03-25   2016-03-27   0.01   \n",
       "1 2016-01-05 17:00:00    CGN         BGY    2016-01-12   2016-01-13  15.82   \n",
       "2 2016-01-05 11:00:00    CGN         BGY    2016-01-22   2016-01-25  15.82   \n",
       "3 2016-01-08 08:00:00    CGN         BGY    2016-01-28   2016-02-01  15.82   \n",
       "4 2016-01-08 15:00:00    CGN         BGY    2016-01-24   2016-01-25  15.98   \n",
       "\n",
       "  MARKETS  SEARCH_TO_OUTBOUND  SEARCH_TO_INBOUND  OUTBOUND_TO_INBOUND  \\\n",
       "0      DE    80 days 01:00:00   82 days 01:00:00               2 days   \n",
       "1      IT     6 days 07:00:00    7 days 07:00:00               1 days   \n",
       "2      IT    16 days 13:00:00   19 days 13:00:00               3 days   \n",
       "3      IT    19 days 16:00:00   23 days 16:00:00               4 days   \n",
       "4      IT    15 days 09:00:00   16 days 09:00:00               1 days   \n",
       "\n",
       "          ...          ORIGIN_CONTINENT ORIGIN_LATITUDE ORIGIN_LONGITUDE  \\\n",
       "0         ...                        EU       50.865833         7.141944   \n",
       "1         ...                        EU       50.865833         7.141944   \n",
       "2         ...                        EU       50.865833         7.141944   \n",
       "3         ...                        EU       50.865833         7.141944   \n",
       "4         ...                        EU       50.865833         7.141944   \n",
       "\n",
       "   ORIGIN_TRAFFIC  DESTINATION_CITY  DESTINATION_COUNTRY  \\\n",
       "0         1457815               MIL                   IT   \n",
       "1         1457815               MIL                   IT   \n",
       "2         1457815               MIL                   IT   \n",
       "3         1457815               MIL                   IT   \n",
       "4         1457815               MIL                   IT   \n",
       "\n",
       "  DESTINATION_CONTINENT DESTINATION_LATITUDE DESTINATION_LONGITUDE  \\\n",
       "0                    EU            45.668333              9.700278   \n",
       "1                    EU            45.668333              9.700278   \n",
       "2                    EU            45.668333              9.700278   \n",
       "3                    EU            45.668333              9.700278   \n",
       "4                    EU            45.668333              9.700278   \n",
       "\n",
       "   DESTINATION_TRAFFIC  \n",
       "0              2175706  \n",
       "1              2175706  \n",
       "2              2175706  \n",
       "3              2175706  \n",
       "4              2175706  \n",
       "\n",
       "[5 rows x 22 columns]"
      ]
     },
     "execution_count": 52,
     "metadata": {},
     "output_type": "execute_result"
    }
   ],
   "source": [
    "training_merged = pandas.merge(training_merged, airports_data, left_on='DESTINATION', right_on='AIRPORT')\n",
    "del training_merged['AIRPORT']\n",
    "for key in ('CITY', 'COUNTRY', 'CONTINENT', 'LATITUDE', 'LONGITUDE', 'TRAFFIC'):\n",
    "    training_merged['DESTINATION_' + key] = training_merged[key]\n",
    "    del training_merged[key]\n",
    "training_merged.head()"
   ]
  },
  {
   "cell_type": "code",
   "execution_count": 54,
   "metadata": {
    "collapsed": false
   },
   "outputs": [],
   "source": [
    "training_merged = training_merged.sort('PRICE')"
   ]
  },
  {
   "cell_type": "code",
   "execution_count": 55,
   "metadata": {
    "collapsed": false
   },
   "outputs": [
    {
     "name": "stderr",
     "output_type": "stream",
     "text": [
      "I:\\Users\\Chase Stevens\\Anaconda\\lib\\site-packages\\pandas\\io\\pytables.py:2577: PerformanceWarning: \n",
      "your performance may suffer as PyTables will pickle object types that it cannot\n",
      "map directly to c-types [inferred_type->mixed,key->block3_values] [items->['ORIGIN', 'DESTINATION', 'MARKETS', 'ORIGIN_CITY', 'ORIGIN_COUNTRY', 'ORIGIN_CONTINENT', 'DESTINATION_CITY', 'DESTINATION_COUNTRY', 'DESTINATION_CONTINENT']]\n",
      "\n",
      "  warnings.warn(ws, PerformanceWarning)\n"
     ]
    }
   ],
   "source": [
    "training_merged.to_hdf('my_data/TrainingMerged.h5', 'fixed')"
   ]
  },
  {
   "cell_type": "code",
   "execution_count": 56,
   "metadata": {
    "collapsed": false
   },
   "outputs": [
    {
     "data": {
      "text/html": [
       "<div>\n",
       "<table border=\"1\" class=\"dataframe\">\n",
       "  <thead>\n",
       "    <tr style=\"text-align: right;\">\n",
       "      <th></th>\n",
       "      <th>SEARCH_DATEHOUR</th>\n",
       "      <th>ORIGIN</th>\n",
       "      <th>DESTINATION</th>\n",
       "      <th>OUTBOUND_DATE</th>\n",
       "      <th>INBOUND_DATE</th>\n",
       "      <th>PRICE</th>\n",
       "      <th>MARKETS</th>\n",
       "      <th>SEARCH_TO_OUTBOUND</th>\n",
       "      <th>SEARCH_TO_INBOUND</th>\n",
       "      <th>OUTBOUND_TO_INBOUND</th>\n",
       "      <th>...</th>\n",
       "      <th>ORIGIN_CONTINENT</th>\n",
       "      <th>ORIGIN_LATITUDE</th>\n",
       "      <th>ORIGIN_LONGITUDE</th>\n",
       "      <th>ORIGIN_TRAFFIC</th>\n",
       "      <th>DESTINATION_CITY</th>\n",
       "      <th>DESTINATION_COUNTRY</th>\n",
       "      <th>DESTINATION_CONTINENT</th>\n",
       "      <th>DESTINATION_LATITUDE</th>\n",
       "      <th>DESTINATION_LONGITUDE</th>\n",
       "      <th>DESTINATION_TRAFFIC</th>\n",
       "    </tr>\n",
       "  </thead>\n",
       "  <tbody>\n",
       "    <tr>\n",
       "      <th>0</th>\n",
       "      <td>2016-01-04 23:00:00</td>\n",
       "      <td>CGN</td>\n",
       "      <td>BGY</td>\n",
       "      <td>2016-03-25</td>\n",
       "      <td>2016-03-27</td>\n",
       "      <td>0.01</td>\n",
       "      <td>DE</td>\n",
       "      <td>80 days 01:00:00</td>\n",
       "      <td>82 days 01:00:00</td>\n",
       "      <td>2 days</td>\n",
       "      <td>...</td>\n",
       "      <td>EU</td>\n",
       "      <td>50.865833</td>\n",
       "      <td>7.141944</td>\n",
       "      <td>1457815</td>\n",
       "      <td>MIL</td>\n",
       "      <td>IT</td>\n",
       "      <td>EU</td>\n",
       "      <td>45.668333</td>\n",
       "      <td>9.700278</td>\n",
       "      <td>2175706</td>\n",
       "    </tr>\n",
       "    <tr>\n",
       "      <th>322421</th>\n",
       "      <td>2016-01-05 08:00:00</td>\n",
       "      <td>SXF</td>\n",
       "      <td>BCN</td>\n",
       "      <td>2016-01-07</td>\n",
       "      <td>2016-01-11</td>\n",
       "      <td>6.73</td>\n",
       "      <td>DE</td>\n",
       "      <td>1 days 16:00:00</td>\n",
       "      <td>5 days 16:00:00</td>\n",
       "      <td>4 days</td>\n",
       "      <td>...</td>\n",
       "      <td>EU</td>\n",
       "      <td>52.366667</td>\n",
       "      <td>13.500000</td>\n",
       "      <td>2004850</td>\n",
       "      <td>BCN</td>\n",
       "      <td>ES</td>\n",
       "      <td>EU</td>\n",
       "      <td>41.302778</td>\n",
       "      <td>2.094444</td>\n",
       "      <td>11070347</td>\n",
       "    </tr>\n",
       "    <tr>\n",
       "      <th>92969</th>\n",
       "      <td>2016-01-03 12:00:00</td>\n",
       "      <td>RYG</td>\n",
       "      <td>STN</td>\n",
       "      <td>2016-01-20</td>\n",
       "      <td>2016-01-27</td>\n",
       "      <td>8.28</td>\n",
       "      <td>NO</td>\n",
       "      <td>16 days 12:00:00</td>\n",
       "      <td>23 days 12:00:00</td>\n",
       "      <td>7 days</td>\n",
       "      <td>...</td>\n",
       "      <td>EU</td>\n",
       "      <td>59.378900</td>\n",
       "      <td>10.785600</td>\n",
       "      <td>278640</td>\n",
       "      <td>LON</td>\n",
       "      <td>UK</td>\n",
       "      <td>EU</td>\n",
       "      <td>51.883333</td>\n",
       "      <td>0.233333</td>\n",
       "      <td>7335708</td>\n",
       "    </tr>\n",
       "    <tr>\n",
       "      <th>286879</th>\n",
       "      <td>2016-01-04 22:00:00</td>\n",
       "      <td>GDN</td>\n",
       "      <td>WMI</td>\n",
       "      <td>2016-02-03</td>\n",
       "      <td>2016-02-10</td>\n",
       "      <td>8.33</td>\n",
       "      <td>IT</td>\n",
       "      <td>29 days 02:00:00</td>\n",
       "      <td>36 days 02:00:00</td>\n",
       "      <td>7 days</td>\n",
       "      <td>...</td>\n",
       "      <td>EU</td>\n",
       "      <td>54.376558</td>\n",
       "      <td>18.470078</td>\n",
       "      <td>673931</td>\n",
       "      <td>WAW</td>\n",
       "      <td>PL</td>\n",
       "      <td>EU</td>\n",
       "      <td>52.460298</td>\n",
       "      <td>20.657294</td>\n",
       "      <td>932470</td>\n",
       "    </tr>\n",
       "    <tr>\n",
       "      <th>901765</th>\n",
       "      <td>2016-01-04 18:00:00</td>\n",
       "      <td>WMI</td>\n",
       "      <td>GDN</td>\n",
       "      <td>2016-02-03</td>\n",
       "      <td>2016-02-10</td>\n",
       "      <td>8.35</td>\n",
       "      <td>FR</td>\n",
       "      <td>29 days 06:00:00</td>\n",
       "      <td>36 days 06:00:00</td>\n",
       "      <td>7 days</td>\n",
       "      <td>...</td>\n",
       "      <td>EU</td>\n",
       "      <td>52.460298</td>\n",
       "      <td>20.657294</td>\n",
       "      <td>932470</td>\n",
       "      <td>GDN</td>\n",
       "      <td>PL</td>\n",
       "      <td>EU</td>\n",
       "      <td>54.376558</td>\n",
       "      <td>18.470078</td>\n",
       "      <td>673931</td>\n",
       "    </tr>\n",
       "  </tbody>\n",
       "</table>\n",
       "<p>5 rows × 22 columns</p>\n",
       "</div>"
      ],
      "text/plain": [
       "           SEARCH_DATEHOUR ORIGIN DESTINATION OUTBOUND_DATE INBOUND_DATE  \\\n",
       "0      2016-01-04 23:00:00    CGN         BGY    2016-03-25   2016-03-27   \n",
       "322421 2016-01-05 08:00:00    SXF         BCN    2016-01-07   2016-01-11   \n",
       "92969  2016-01-03 12:00:00    RYG         STN    2016-01-20   2016-01-27   \n",
       "286879 2016-01-04 22:00:00    GDN         WMI    2016-02-03   2016-02-10   \n",
       "901765 2016-01-04 18:00:00    WMI         GDN    2016-02-03   2016-02-10   \n",
       "\n",
       "        PRICE MARKETS  SEARCH_TO_OUTBOUND  SEARCH_TO_INBOUND  \\\n",
       "0        0.01      DE    80 days 01:00:00   82 days 01:00:00   \n",
       "322421   6.73      DE     1 days 16:00:00    5 days 16:00:00   \n",
       "92969    8.28      NO    16 days 12:00:00   23 days 12:00:00   \n",
       "286879   8.33      IT    29 days 02:00:00   36 days 02:00:00   \n",
       "901765   8.35      FR    29 days 06:00:00   36 days 06:00:00   \n",
       "\n",
       "        OUTBOUND_TO_INBOUND         ...          ORIGIN_CONTINENT  \\\n",
       "0                    2 days         ...                        EU   \n",
       "322421               4 days         ...                        EU   \n",
       "92969                7 days         ...                        EU   \n",
       "286879               7 days         ...                        EU   \n",
       "901765               7 days         ...                        EU   \n",
       "\n",
       "       ORIGIN_LATITUDE ORIGIN_LONGITUDE  ORIGIN_TRAFFIC  DESTINATION_CITY  \\\n",
       "0            50.865833         7.141944         1457815               MIL   \n",
       "322421       52.366667        13.500000         2004850               BCN   \n",
       "92969        59.378900        10.785600          278640               LON   \n",
       "286879       54.376558        18.470078          673931               WAW   \n",
       "901765       52.460298        20.657294          932470               GDN   \n",
       "\n",
       "        DESTINATION_COUNTRY DESTINATION_CONTINENT DESTINATION_LATITUDE  \\\n",
       "0                        IT                    EU            45.668333   \n",
       "322421                   ES                    EU            41.302778   \n",
       "92969                    UK                    EU            51.883333   \n",
       "286879                   PL                    EU            52.460298   \n",
       "901765                   PL                    EU            54.376558   \n",
       "\n",
       "       DESTINATION_LONGITUDE  DESTINATION_TRAFFIC  \n",
       "0                   9.700278              2175706  \n",
       "322421              2.094444             11070347  \n",
       "92969               0.233333              7335708  \n",
       "286879             20.657294               932470  \n",
       "901765             18.470078               673931  \n",
       "\n",
       "[5 rows x 22 columns]"
      ]
     },
     "execution_count": 56,
     "metadata": {},
     "output_type": "execute_result"
    }
   ],
   "source": [
    "for key in (\n",
    "    'ORIGIN', 'DESTINATION', 'ORIGIN_CITY', 'ORIGIN_COUNTRY', \n",
    "    'ORIGIN_CONTINENT', 'DESTINATION_CITY', 'DESTINATION_COUNTRY', \n",
    "    'DESTINATION_CONTINENT',\n",
    "):\n",
    "    training_merged[key] = training_merged[key].astype('category')\n",
    "training_merged.head()"
   ]
  },
  {
   "cell_type": "code",
   "execution_count": 58,
   "metadata": {
    "collapsed": false
   },
   "outputs": [
    {
     "name": "stdout",
     "output_type": "stream",
     "text": [
      "<class 'pandas.core.frame.DataFrame'>\n",
      "Int64Index: 26454134 entries, 0 to 24517283\n",
      "Data columns (total 22 columns):\n",
      "SEARCH_DATEHOUR          datetime64[ns]\n",
      "ORIGIN                   category\n",
      "DESTINATION              category\n",
      "OUTBOUND_DATE            datetime64[ns]\n",
      "INBOUND_DATE             datetime64[ns]\n",
      "PRICE                    float64\n",
      "MARKETS                  object\n",
      "SEARCH_TO_OUTBOUND       timedelta64[ns]\n",
      "SEARCH_TO_INBOUND        timedelta64[ns]\n",
      "OUTBOUND_TO_INBOUND      timedelta64[ns]\n",
      "ORIGIN_CITY              category\n",
      "ORIGIN_COUNTRY           category\n",
      "ORIGIN_CONTINENT         category\n",
      "ORIGIN_LATITUDE          float64\n",
      "ORIGIN_LONGITUDE         float64\n",
      "ORIGIN_TRAFFIC           int64\n",
      "DESTINATION_CITY         category\n",
      "DESTINATION_COUNTRY      category\n",
      "DESTINATION_CONTINENT    category\n",
      "DESTINATION_LATITUDE     float64\n",
      "DESTINATION_LONGITUDE    float64\n",
      "DESTINATION_TRAFFIC      int64\n",
      "dtypes: category(8), datetime64[ns](3), float64(5), int64(2), object(1), timedelta64[ns](3)\n",
      "memory usage: 3.3+ GB\n"
     ]
    }
   ],
   "source": [
    "training_merged.info()"
   ]
  },
  {
   "cell_type": "code",
   "execution_count": 59,
   "metadata": {
    "collapsed": true
   },
   "outputs": [],
   "source": [
    "training_merged.to_pickle('my_data/TrainingMerged.pickle')"
   ]
  },
  {
   "cell_type": "code",
   "execution_count": 60,
   "metadata": {
    "collapsed": false
   },
   "outputs": [],
   "source": [
    "try:\n",
    "    training_merged\n",
    "except NameError:\n",
    "    training_merged = pandas.from_pickle('my_data/TrainingMerged.pickle')\n",
    "sample = training_merged.sample(100)"
   ]
  },
  {
   "cell_type": "code",
   "execution_count": 61,
   "metadata": {
    "collapsed": true
   },
   "outputs": [],
   "source": [
    "sample.to_csv('my_data/TrainingMerged.Sample.100.csv')"
   ]
  },
  {
   "cell_type": "code",
   "execution_count": 63,
   "metadata": {
    "collapsed": false
   },
   "outputs": [
    {
     "name": "stdout",
     "output_type": "stream",
     "text": [
      "248\n"
     ]
    }
   ],
   "source": [
    "markets = training_merged.MARKETS\n",
    "markets_set = set()\n",
    "for __, marketlist in markets.iteritems():\n",
    "    markets_set.update(marketlist.split(';'))\n",
    "print len(markets_set)"
   ]
  },
  {
   "cell_type": "code",
   "execution_count": 65,
   "metadata": {
    "collapsed": false
   },
   "outputs": [
    {
     "name": "stdout",
     "output_type": "stream",
     "text": [
      "[('**', 18219716), ('UK', 2579553), ('US', 1127899), ('FR', 801495), ('IT', 799988), ('DE', 771715), ('ES', 753441), ('SK', 557629), ('TR', 537822), ('AT', 522223)]\n"
     ]
    }
   ],
   "source": [
    "from collections import Counter\n",
    "market_counts = Counter(\n",
    "    market\n",
    "    for __, marketlist in \n",
    "    markets.iteritems()\n",
    "    for market in\n",
    "    marketlist.split(';')\n",
    ")\n",
    "print market_counts.most_common(10)"
   ]
  },
  {
   "cell_type": "code",
   "execution_count": 66,
   "metadata": {
    "collapsed": false
   },
   "outputs": [
    {
     "data": {
      "text/plain": [
       "Counter({'**': 18219716, 'UK': 2579553, 'US': 1127899, 'FR': 801495, 'IT': 799988, 'DE': 771715, 'ES': 753441, 'SK': 557629, 'TR': 537822, 'AT': 522223, 'PT': 514468, 'PL': 513806, 'RU': 495912, 'IE': 492438, 'HU': 490085, 'CZ': 488094, 'GR': 432637, 'BR': 427488, 'BG': 421399, 'NL': 407109, 'RO': 407066, 'CH': 404188, 'TW': 378216, 'HK': 369447, 'MT': 361448, 'IL': 361448, 'BE': 356973, 'SA': 353951, 'CA': 348444, 'KW': 338273, 'MO': 337788, 'SI': 337085, 'QA': 336294, 'KZ': 336151, 'BH': 336025, 'OM': 335752, 'IS': 335748, 'BY': 335629, 'GE': 335629, 'ME': 335629, 'MD': 335629, 'LB': 335629, 'AZ': 335629, 'AD': 335593, 'SM': 334662, 'VA': 334662, 'HR': 334412, 'LI': 333900, 'BA': 330526, 'GL': 330526, 'FO': 330526, 'MK': 330526, 'KO': 328181, 'BV': 305069, 'MN': 305069, 'LU': 303822, 'WF': 303648, 'TF': 303648, 'BN': 303095, 'WS': 303095, 'GU': 303095, 'PW': 303095, 'PG': 303095, 'PN': 303095, 'MP': 303095, 'FJ': 303095, 'FM': 303095, 'VU': 303095, 'NU': 303095, 'CK': 303095, 'CC': 303095, 'CX': 303095, 'KH': 303095, 'SB': 303095, 'TV': 303095, 'TO': 303095, 'TL': 303095, 'TK': 303095, 'AS': 303095, 'LK': 302872, 'MV': 302755, 'BT': 302724, 'BQ': 302724, 'GS': 302724, 'HM': 302724, 'MH': 302724, 'UM': 302724, 'IO': 302724, 'MS': 302724, 'NF': 302724, 'CW': 302724, 'SX': 302724, 'KI': 302724, 'SJ': 302724, 'LA': 302724, 'AN': 302724, 'AQ': 302724, 'MC': 302401, 'RS': 295448, 'AL': 295175, 'TM': 284775, 'UZ': 284775, 'KG': 284775, 'TJ': 284775, 'AM': 284775, 'IN': 277575, 'GI': 273233, 'TH': 271693, 'KR': 271057, 'NZ': 263870, 'MY': 262063, 'LT': 261673, 'LV': 261258, 'EE': 261003, 'RE': 259927, 'SC': 259927, 'KM': 259003, 'YT': 259003, 'ST': 256978, 'ID': 255902, 'MU': 255557, 'MX': 254364, 'SH': 251356, 'SS': 251356, 'PF': 250994, 'NC': 250994, 'NR': 250994, 'NP': 250654, 'BL': 250623, 'PM': 250623, 'VN': 248788, 'GG': 246253, 'PE': 238257, 'JO': 236297, 'YE': 236297, 'IQ': 236297, 'JP': 232911, 'MM': 218791, 'VG': 217418, 'FK': 217418, 'BB': 210560, 'BM': 210560, 'BS': 210560, 'BZ': 210560, 'GY': 210560, 'GD': 210560, 'SV': 210560, 'AI': 210560, 'AW': 210560, 'KY': 210560, 'SR': 210560, 'KN': 210560, 'DM': 210560, 'LC': 210560, 'TT': 210560, 'TC': 210560, 'VC': 210560, 'AG': 210560, 'VI': 210560, 'CO': 208763, 'PS': 208495, 'AU': 207717, 'PK': 205737, 'AF': 205737, 'CL': 204956, 'BD': 203423, 'JM': 203392, 'SY': 202115, 'IR': 202115, 'CY': 197379, 'AE': 187373, 'SO': 183103, 'DK': 180873, 'BO': 179608, 'GT': 179608, 'HN': 179608, 'CR': 179608, 'PR': 179608, 'NI': 179608, 'EC': 179608, 'UY': 179608, 'PY': 179608, 'DO': 179608, 'PA': 179608, 'GQ': 177608, 'SE': 177479, 'UA': 175643, 'KP': 169473, 'PH': 163670, 'CN': 161985, 'BF': 160595, 'BI': 160595, 'BJ': 160595, 'GA': 160595, 'GN': 160595, 'TN': 160595, 'MG': 160595, 'MA': 160595, 'ML': 160595, 'MR': 160595, 'NE': 160595, 'CI': 160595, 'CM': 160595, 'CG': 160595, 'CF': 160595, 'CD': 160595, 'SN': 160595, 'DJ': 160595, 'DZ': 160595, 'TG': 160595, 'TD': 160595, 'GP': 159383, 'GF': 159383, 'MQ': 159383, 'NA': 158739, 'NO': 158495, 'HT': 158459, 'LR': 157646, 'LS': 157646, 'GW': 157646, 'GM': 157646, 'GH': 157646, 'BW': 157646, 'ZM': 157646, 'ET': 157646, 'ZW': 157646, 'ER': 157646, 'MW': 157646, 'UG': 157646, 'CV': 157646, 'SZ': 157646, 'SL': 157646, 'AO': 157646, 'MZ': 157646, 'VE': 157045, 'EG': 156517, 'RW': 156225, 'LY': 155301, 'NG': 154369, 'KE': 154369, 'TZ': 154369, 'ZA': 154126, 'EH': 152024, 'CU': 145426, 'SG': 144368, 'AR': 125069, 'SD': 123464, 'FI': 49726})"
      ]
     },
     "execution_count": 66,
     "metadata": {},
     "output_type": "execute_result"
    }
   ],
   "source": [
    "market_counts"
   ]
  },
  {
   "cell_type": "code",
   "execution_count": 67,
   "metadata": {
    "collapsed": false
   },
   "outputs": [
    {
     "data": {
      "text/plain": [
       "248"
      ]
     },
     "execution_count": 67,
     "metadata": {},
     "output_type": "execute_result"
    }
   ],
   "source": [
    "len(market_counts)"
   ]
  },
  {
   "cell_type": "code",
   "execution_count": 94,
   "metadata": {
    "collapsed": false
   },
   "outputs": [
    {
     "name": "stdout",
     "output_type": "stream",
     "text": [
      "['**', 'UK', 'US', 'FR', 'IT', 'DE', 'ES', 'SK', 'TR', 'AT', 'PT', 'PL', 'RU', 'IE', 'HU', 'CZ', 'GR', 'BR', 'BG', 'NL', 'RO', 'CH', 'TW', 'HK', 'MT', 'IL', 'BE', 'SA', 'CA', 'KW', 'MO', 'SI', 'QA', 'KZ', 'BH', 'OM', 'IS', 'BY', 'GE', 'ME', 'MD', 'LB', 'AZ', 'AD', 'SM', 'VA', 'HR', 'LI', 'BA', 'GL', 'FO', 'MK', 'KO', 'BV', 'MN', 'LU', 'WF', 'TF', 'BN', 'WS', 'GU', 'PW', 'PG', 'PN', 'MP', 'FJ', 'FM', 'VU', 'NU', 'CK', 'CC', 'CX', 'KH', 'SB', 'TV', 'TO', 'TL', 'TK', 'AS', 'LK', 'MV', 'BT', 'BQ', 'GS', 'HM', 'MH', 'UM', 'IO', 'MS', 'NF', 'CW', 'SX', 'KI', 'SJ', 'LA', 'AN', 'AQ', 'MC', 'RS', 'AL', 'TM', 'UZ', 'KG', 'TJ', 'AM', 'IN', 'GI', 'TH', 'KR', 'NZ', 'MY', 'LT', 'LV', 'EE', 'RE', 'SC', 'KM', 'YT', 'ST', 'ID', 'MU', 'MX', 'SH', 'SS', 'PF', 'NC', 'NR', 'NP', 'BL', 'PM', 'VN', 'GG', 'PE', 'JO', 'YE', 'IQ', 'JP', 'MM', 'VG', 'FK', 'BB', 'BM', 'BS', 'BZ', 'GY', 'GD', 'SV', 'AI', 'AW', 'KY', 'SR', 'KN', 'DM', 'LC', 'TT', 'TC', 'VC', 'AG', 'VI', 'CO', 'PS', 'AU', 'PK', 'AF', 'CL', 'BD', 'JM', 'SY', 'IR', 'CY', 'AE', 'SO', 'DK', 'BO', 'GT', 'HN', 'CR', 'PR', 'NI', 'EC', 'UY', 'PY', 'DO', 'PA', 'GQ', 'SE', 'UA', 'KP', 'PH', 'CN', 'BF', 'BI', 'BJ', 'GA', 'GN', 'TN', 'MG', 'MA', 'ML']\n"
     ]
    }
   ],
   "source": [
    "most_common_markets = [market for market, __ in market_counts.most_common(199)]\n",
    "print most_common_markets"
   ]
  },
  {
   "cell_type": "code",
   "execution_count": 78,
   "metadata": {
    "collapsed": false
   },
   "outputs": [
    {
     "name": "stdout",
     "output_type": "stream",
     "text": [
      "0\n",
      "1000000\n",
      "2000000\n",
      "3000000\n",
      "4000000\n",
      "5000000\n",
      "6000000\n",
      "7000000\n",
      "8000000\n",
      "9000000\n",
      "10000000\n",
      "11000000\n",
      "12000000\n",
      "13000000\n",
      "14000000\n",
      "15000000\n",
      "16000000\n",
      "17000000\n",
      "18000000\n",
      "19000000\n",
      "20000000\n",
      "21000000\n",
      "22000000\n",
      "23000000\n",
      "24000000\n",
      "25000000\n",
      "26000000\n"
     ]
    }
   ],
   "source": [
    "market_onehots = []\n",
    "for i, marketlist in enumerate(markets):\n",
    "    onehot = np.zeros(200, dtype='bool')\n",
    "    ms = marketlist.split(';')\n",
    "    for m in ms:\n",
    "        try:\n",
    "            onehot[most_common_markets.index(m)] = True\n",
    "        except ValueError:\n",
    "            onehot[-1] = True\n",
    "    market_onehots.append(onehot)\n",
    "    if not i % 1000000:\n",
    "        print i"
   ]
  },
  {
   "cell_type": "code",
   "execution_count": 89,
   "metadata": {
    "collapsed": false,
    "scrolled": false
   },
   "outputs": [
    {
     "data": {
      "text/plain": [
       "13186256                                                 DE\n",
       "24517283    BG;AT;TR;ES;RO;IE;BE;HU;PL;CH;FR;PT;IT;CZ;GR;SK\n",
       "Name: MARKETS, dtype: object"
      ]
     },
     "execution_count": 89,
     "metadata": {},
     "output_type": "execute_result"
    }
   ],
   "source": [
    "training_merged.MARKETS.tail(2)"
   ]
  },
  {
   "cell_type": "code",
   "execution_count": 86,
   "metadata": {
    "collapsed": false
   },
   "outputs": [
    {
     "data": {
      "text/plain": [
       "16"
      ]
     },
     "execution_count": 86,
     "metadata": {},
     "output_type": "execute_result"
    }
   ],
   "source": [
    "sum(market_onehots[-1])"
   ]
  },
  {
   "cell_type": "code",
   "execution_count": 90,
   "metadata": {
    "collapsed": false
   },
   "outputs": [
    {
     "data": {
      "text/plain": [
       "1"
      ]
     },
     "execution_count": 90,
     "metadata": {},
     "output_type": "execute_result"
    }
   ],
   "source": [
    "sum(market_onehots[-2])"
   ]
  },
  {
   "cell_type": "code",
   "execution_count": 91,
   "metadata": {
    "collapsed": false
   },
   "outputs": [],
   "source": [
    "training_merged['MARKETS'] = market_onehots"
   ]
  },
  {
   "cell_type": "code",
   "execution_count": 92,
   "metadata": {
    "collapsed": false
   },
   "outputs": [
    {
     "data": {
      "text/plain": [
       "0         [False, False, False, False, False, True, Fals...\n",
       "322421    [False, False, False, False, False, True, Fals...\n",
       "92969     [False, False, False, False, False, False, Fal...\n",
       "286879    [False, False, False, False, True, False, Fals...\n",
       "901765    [False, False, False, True, False, False, Fals...\n",
       "Name: MARKETS, dtype: object"
      ]
     },
     "execution_count": 92,
     "metadata": {},
     "output_type": "execute_result"
    }
   ],
   "source": [
    "training_merged.MARKETS.head()"
   ]
  },
  {
   "cell_type": "code",
   "execution_count": 93,
   "metadata": {
    "collapsed": false
   },
   "outputs": [
    {
     "data": {
      "text/plain": [
       "SEARCH_DATEHOUR           datetime64[ns]\n",
       "ORIGIN                          category\n",
       "DESTINATION                     category\n",
       "OUTBOUND_DATE             datetime64[ns]\n",
       "INBOUND_DATE              datetime64[ns]\n",
       "PRICE                            float64\n",
       "MARKETS                           object\n",
       "SEARCH_TO_OUTBOUND       timedelta64[ns]\n",
       "SEARCH_TO_INBOUND        timedelta64[ns]\n",
       "OUTBOUND_TO_INBOUND      timedelta64[ns]\n",
       "ORIGIN_CITY                     category\n",
       "ORIGIN_COUNTRY                  category\n",
       "ORIGIN_CONTINENT                category\n",
       "ORIGIN_LATITUDE                  float64\n",
       "ORIGIN_LONGITUDE                 float64\n",
       "ORIGIN_TRAFFIC                     int64\n",
       "DESTINATION_CITY                category\n",
       "DESTINATION_COUNTRY             category\n",
       "DESTINATION_CONTINENT           category\n",
       "DESTINATION_LATITUDE             float64\n",
       "DESTINATION_LONGITUDE            float64\n",
       "DESTINATION_TRAFFIC                int64\n",
       "dtype: object"
      ]
     },
     "execution_count": 93,
     "metadata": {},
     "output_type": "execute_result"
    }
   ],
   "source": [
    "training_merged.dtypes"
   ]
  },
  {
   "cell_type": "code",
   "execution_count": 102,
   "metadata": {
    "collapsed": false
   },
   "outputs": [
    {
     "name": "stdout",
     "output_type": "stream",
     "text": [
      "2483\n",
      "0.0128558734903\n"
     ]
    }
   ],
   "source": [
    "origin_counts = Counter(training_merged.ORIGIN)\n",
    "print len(origin_counts)\n",
    "most_common_origins = [origin for origin, __ in origin_counts.most_common(499)]\n",
    "mcos = frozenset(most_common_origins)\n",
    "print sum(place not in mcos for place in training_merged.ORIGIN) / float(len(training_merged.ORIGIN))"
   ]
  },
  {
   "cell_type": "code",
   "execution_count": 103,
   "metadata": {
    "collapsed": false
   },
   "outputs": [
    {
     "name": "stdout",
     "output_type": "stream",
     "text": [
      "2775\n",
      "0.0267768357112\n"
     ]
    }
   ],
   "source": [
    "destination_counts = Counter(training_merged.DESTINATION)\n",
    "print len(destination_counts)\n",
    "most_common_destinations = [dest for dest, __ in destination_counts.most_common(499)]\n",
    "mcds = frozenset(most_common_destinations)\n",
    "print sum(place not in mcds for place in training_merged.DESTINATION) / float(len(training_merged.DESTINATION))"
   ]
  },
  {
   "cell_type": "code",
   "execution_count": 104,
   "metadata": {
    "collapsed": false
   },
   "outputs": [
    {
     "name": "stdout",
     "output_type": "stream",
     "text": [
      "2407\n",
      "0.0102292140805\n"
     ]
    }
   ],
   "source": [
    "origin_city_counts = Counter(training_merged.ORIGIN_CITY)\n",
    "print len(origin_city_counts)\n",
    "most_common_origin_cities = [orig for orig, __ in origin_city_counts.most_common(499)]\n",
    "mcoss = frozenset(most_common_origin_cities)\n",
    "print sum(place not in mcoss for place in training_merged.ORIGIN_CITY) / float(len(training_merged.ORIGIN_CITY))"
   ]
  },
  {
   "cell_type": "code",
   "execution_count": 106,
   "metadata": {
    "collapsed": false
   },
   "outputs": [
    {
     "name": "stdout",
     "output_type": "stream",
     "text": [
      "215\n",
      "0.0280833233853\n"
     ]
    }
   ],
   "source": [
    "origin_country_counts = Counter(training_merged.ORIGIN_COUNTRY)\n",
    "print len(origin_country_counts)\n",
    "most_common_origin_countries = [orig for orig, __ in origin_country_counts.most_common(49)]\n",
    "mcocs = frozenset(most_common_origin_countries)\n",
    "print sum(place not in mcocs for place in training_merged.ORIGIN_COUNTRY) / float(len(training_merged.ORIGIN_COUNTRY))"
   ]
  },
  {
   "cell_type": "code",
   "execution_count": 108,
   "metadata": {
    "collapsed": false
   },
   "outputs": [
    {
     "name": "stdout",
     "output_type": "stream",
     "text": [
      "6\n",
      "0.0\n"
     ]
    }
   ],
   "source": [
    "origin_continent_counts = Counter(training_merged.ORIGIN_CONTINENT)\n",
    "print len(origin_continent_counts)\n",
    "most_common_origin_continents = [orig for orig, __ in origin_continent_counts.most_common(6)]\n",
    "mcoconts = frozenset(most_common_origin_continents)\n",
    "print sum(place not in mcoconts for place in training_merged.ORIGIN_CONTINENT) / float(len(training_merged.ORIGIN_CONTINENT))"
   ]
  },
  {
   "cell_type": "code",
   "execution_count": 115,
   "metadata": {
    "collapsed": false
   },
   "outputs": [
    {
     "name": "stdout",
     "output_type": "stream",
     "text": [
      "2697\n",
      "0.0224379675403\n"
     ]
    }
   ],
   "source": [
    "destination_city_counts = Counter(training_merged.DESTINATION_CITY)\n",
    "print len(destination_city_counts)\n",
    "most_common_destination_cities = [dest for dest, __ in destination_city_counts.most_common(499)]\n",
    "mcdss = frozenset(most_common_destination_cities)\n",
    "print sum(place not in mcdss for place in training_merged.DESTINATION_CITY) / float(len(training_merged.DESTINATION_CITY))"
   ]
  },
  {
   "cell_type": "code",
   "execution_count": 117,
   "metadata": {
    "collapsed": false
   },
   "outputs": [
    {
     "name": "stdout",
     "output_type": "stream",
     "text": [
      "221\n",
      "0.0124710565086\n"
     ]
    }
   ],
   "source": [
    "destination_country_counts = Counter(training_merged.DESTINATION_COUNTRY)\n",
    "print len(destination_country_counts)\n",
    "most_common_destination_countries = [dest for dest, __ in destination_country_counts.most_common(99)]\n",
    "mcdcs = frozenset(most_common_destination_countries)\n",
    "print sum(place not in mcdcs for place in training_merged.DESTINATION_COUNTRY) / float(len(training_merged.DESTINATION_COUNTRY))"
   ]
  },
  {
   "cell_type": "code",
   "execution_count": 118,
   "metadata": {
    "collapsed": true
   },
   "outputs": [],
   "source": [
    "most_common_continents = most_common_origin_continents"
   ]
  },
  {
   "cell_type": "markdown",
   "metadata": {},
   "source": [
    "Doesn't seem like we need to rescale traffics based on distributions"
   ]
  },
  {
   "cell_type": "code",
   "execution_count": 151,
   "metadata": {
    "collapsed": false
   },
   "outputs": [],
   "source": [
    "one_day = 1000000000 * 60 * 60 * 24\n",
    "oti_days = training_merged.OUTBOUND_TO_INBOUND.map(lambda x: x.item() / one_day)"
   ]
  },
  {
   "cell_type": "code",
   "execution_count": 152,
   "metadata": {
    "collapsed": false
   },
   "outputs": [
    {
     "data": {
      "text/plain": [
       "<matplotlib.axes._subplots.AxesSubplot at 0x1ada94198>"
      ]
     },
     "execution_count": 152,
     "metadata": {},
     "output_type": "execute_result"
    },
    {
     "data": {
      "image/png": "[encoded data removed]",
      "text/plain": [
       "<matplotlib.figure.Figure at 0x1ada9e2b0>"
      ]
     },
     "metadata": {},
     "output_type": "display_data"
    }
   ],
   "source": [
    "oti_days.hist()"
   ]
  },
  {
   "cell_type": "code",
   "execution_count": 157,
   "metadata": {
    "collapsed": false
   },
   "outputs": [
    {
     "data": {
      "text/plain": [
       "<matplotlib.axes._subplots.AxesSubplot at 0x195e3eac8>"
      ]
     },
     "execution_count": 157,
     "metadata": {},
     "output_type": "execute_result"
    },
    {
     "data": {
      "image/png": "[encoded data removed]",
      "text/plain": [
       "<matplotlib.figure.Figure at 0x19444ae10>"
      ]
     },
     "metadata": {},
     "output_type": "display_data"
    }
   ],
   "source": [
    "oti_days.sample(1000).hist()"
   ]
  },
  {
   "cell_type": "code",
   "execution_count": 166,
   "metadata": {
    "collapsed": false
   },
   "outputs": [],
   "source": [
    "oti_out, oti_bins = pandas.qcut(oti_days, 10, retbins=True)"
   ]
  },
  {
   "cell_type": "code",
   "execution_count": 167,
   "metadata": {
    "collapsed": false
   },
   "outputs": [
    {
     "data": {
      "text/plain": [
       "array([  0.00000000e+00,   3.00000000e+00,   4.00000000e+00,\n",
       "         7.00000000e+00,   9.00000000e+00,   1.20000000e+01,\n",
       "         1.50000000e+01,   1.90000000e+01,   2.40000000e+01,\n",
       "         3.30000000e+01,   1.70290000e+04])"
      ]
     },
     "execution_count": 167,
     "metadata": {},
     "output_type": "execute_result"
    }
   ],
   "source": [
    "oti_bins"
   ]
  },
  {
   "cell_type": "code",
   "execution_count": 175,
   "metadata": {
    "collapsed": false
   },
   "outputs": [
    {
     "data": {
      "text/plain": [
       "0                [0, 3]\n",
       "322421           (3, 4]\n",
       "92969            (4, 7]\n",
       "286879           (4, 7]\n",
       "901765           (4, 7]\n",
       "901766           [0, 3]\n",
       "286880           [0, 3]\n",
       "286881           [0, 3]\n",
       "286998           [0, 3]\n",
       "25481640        (9, 12]\n",
       "901767           [0, 3]\n",
       "10874511         (4, 7]\n",
       "287000           (4, 7]\n",
       "286999          (9, 12]\n",
       "10874512         (3, 4]\n",
       "221084           [0, 3]\n",
       "221082           (4, 7]\n",
       "221071           (3, 4]\n",
       "221072           [0, 3]\n",
       "221073           [0, 3]\n",
       "221083           [0, 3]\n",
       "221075           [0, 3]\n",
       "221074           [0, 3]\n",
       "221077           [0, 3]\n",
       "221078           [0, 3]\n",
       "221079         (15, 19]\n",
       "221080           [0, 3]\n",
       "221081           [0, 3]\n",
       "221076           [0, 3]\n",
       "35040            [0, 3]\n",
       "               ...     \n",
       "16013058         [0, 3]\n",
       "18919891        (9, 12]\n",
       "12504279       (15, 19]\n",
       "25098705       (24, 33]\n",
       "12504280    (33, 17029]\n",
       "11938391         (4, 7]\n",
       "20293376       (19, 24]\n",
       "15895307         [0, 3]\n",
       "11131454       (15, 19]\n",
       "25019737    (33, 17029]\n",
       "11131455         (4, 7]\n",
       "26374380         (4, 7]\n",
       "9410835          [0, 3]\n",
       "13548926         (4, 7]\n",
       "17318190       (12, 15]\n",
       "17318191       (12, 15]\n",
       "17418088       (12, 15]\n",
       "20323354       (12, 15]\n",
       "24920173        (9, 12]\n",
       "11131456         [0, 3]\n",
       "20638338       (19, 24]\n",
       "15795872       (12, 15]\n",
       "22562335       (12, 15]\n",
       "23808713         [0, 3]\n",
       "12504282       (15, 19]\n",
       "12504281    (33, 17029]\n",
       "15183499       (12, 15]\n",
       "12504283    (33, 17029]\n",
       "13186256       (24, 33]\n",
       "24517283       (19, 24]\n",
       "Name: OUTBOUND_TO_INBOUND, dtype: category\n",
       "Categories (10, object): [[0, 3], (3, 4], (4, 7], (7, 9], ..., (15, 19], (19, 24], (24, 33], (33, 17029]]"
      ]
     },
     "execution_count": 175,
     "metadata": {},
     "output_type": "execute_result"
    }
   ],
   "source": [
    "oti_out"
   ]
  },
  {
   "cell_type": "code",
   "execution_count": 182,
   "metadata": {
    "collapsed": false
   },
   "outputs": [
    {
     "data": {
      "text/plain": [
       "[0, 3]         70\n",
       "(3, 4]         30\n",
       "(4, 7]         63\n",
       "(7, 9]         25\n",
       "(9, 12]        60\n",
       "(12, 15]       42\n",
       "(15, 19]       46\n",
       "(19, 24]       52\n",
       "(24, 33]       58\n",
       "(33, 17029]    54\n",
       "dtype: int64"
      ]
     },
     "execution_count": 182,
     "metadata": {},
     "output_type": "execute_result"
    }
   ],
   "source": [
    "oti_out.sample(500).value_counts(sort=False)"
   ]
  },
  {
   "cell_type": "code",
   "execution_count": 173,
   "metadata": {
    "collapsed": false
   },
   "outputs": [
    {
     "data": {
      "text/plain": [
       "<matplotlib.axes._subplots.AxesSubplot at 0x5bdc34048>"
      ]
     },
     "execution_count": 173,
     "metadata": {},
     "output_type": "execute_result"
    },
    {
     "data": {
      "image/png": "[encoded data removed]",
      "text/plain": [
       "<matplotlib.figure.Figure at 0x588def898>"
      ]
     },
     "metadata": {},
     "output_type": "display_data"
    }
   ],
   "source": [
    "one_day = 1000000000 * 60 * 60 * 24\n",
    "sto_days = training_merged.SEARCH_TO_OUTBOUND.map(lambda x: x.item() / one_day)\n",
    "sto_days.hist()"
   ]
  },
  {
   "cell_type": "code",
   "execution_count": 174,
   "metadata": {
    "collapsed": false
   },
   "outputs": [
    {
     "data": {
      "text/plain": [
       "array([ -1.68070000e+04,   1.50000000e+01,   2.90000000e+01,\n",
       "         4.30000000e+01,   6.10000000e+01,   8.10000000e+01,\n",
       "         1.12000000e+02,   1.46000000e+02,   1.80000000e+02,\n",
       "         2.15000000e+02,   4.33000000e+02])"
      ]
     },
     "execution_count": 174,
     "metadata": {},
     "output_type": "execute_result"
    }
   ],
   "source": [
    "sto_out, sto_bins = pandas.qcut(sto_days, 10, retbins=True)\n",
    "sto_bins"
   ]
  },
  {
   "cell_type": "code",
   "execution_count": 184,
   "metadata": {
    "collapsed": false
   },
   "outputs": [
    {
     "data": {
      "text/plain": [
       "[-16807, 15]    61\n",
       "(15, 29]        56\n",
       "(29, 43]        53\n",
       "(43, 61]        50\n",
       "(61, 81]        57\n",
       "(81, 112]       49\n",
       "(112, 146]      48\n",
       "(146, 180]      40\n",
       "(180, 215]      46\n",
       "(215, 433]      40\n",
       "dtype: int64"
      ]
     },
     "execution_count": 184,
     "metadata": {},
     "output_type": "execute_result"
    }
   ],
   "source": [
    "sto_out.sample(500).value_counts(sort=False)"
   ]
  },
  {
   "cell_type": "code",
   "execution_count": null,
   "metadata": {
    "collapsed": true
   },
   "outputs": [],
   "source": []
  }
 ],
 "metadata": {
  "kernelspec": {
   "display_name": "Python 2",
   "language": "python",
   "name": "python2"
  },
  "language_info": {
   "codemirror_mode": {
    "name": "ipython",
    "version": 2
   },
   "file_extension": ".py",
   "mimetype": "text/x-python",
   "name": "python",
   "nbconvert_exporter": "python",
   "pygments_lexer": "ipython2",
   "version": "2.7.11"
  }
 },
 "nbformat": 4,
 "nbformat_minor": 0
}
