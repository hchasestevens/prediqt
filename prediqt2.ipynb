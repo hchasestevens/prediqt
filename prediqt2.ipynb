{
 "cells": [
  {
   "cell_type": "code",
   "execution_count": 1,
   "metadata": {
    "collapsed": true
   },
   "outputs": [],
   "source": [
    "import pandas\n",
    "from matplotlib import pyplot as pl\n",
    "import numpy as np\n",
    "training_fname = 'data/PrediqtTrainData.csv'\n",
    "airports_fname = 'data/PrediqtAirports.csv'\n",
    "testing_fname = 'data/PrediqtTestDataSmall.csv'"
   ]
  },
  {
   "cell_type": "code",
   "execution_count": 2,
   "metadata": {
    "collapsed": false
   },
   "outputs": [],
   "source": [
    "training_data = pandas.read_csv(training_fname)"
   ]
  },
  {
   "cell_type": "code",
   "execution_count": 3,
   "metadata": {
    "collapsed": false,
    "scrolled": true
   },
   "outputs": [],
   "source": [
    "training_data = training_data.sort_index(by='PRICE')"
   ]
  },
  {
   "cell_type": "code",
   "execution_count": 4,
   "metadata": {
    "collapsed": true
   },
   "outputs": [],
   "source": [
    "prices = training_data.PRICE"
   ]
  },
  {
   "cell_type": "code",
   "execution_count": 5,
   "metadata": {
    "collapsed": false
   },
   "outputs": [
    {
     "name": "stdout",
     "output_type": "stream",
     "text": [
      "0.01\n",
      "6.73\n",
      "8.28\n",
      "8.33\n",
      "8.35\n",
      "8.35\n",
      "8.66\n",
      "8.72\n",
      "8.74\n",
      "8.84\n",
      "8.84\n",
      "8.9\n"
     ]
    }
   ],
   "source": [
    "for i, price in enumerate(prices):\n",
    "    print price\n",
    "    if i > 10:\n",
    "        break"
   ]
  },
  {
   "cell_type": "code",
   "execution_count": 6,
   "metadata": {
    "collapsed": false
   },
   "outputs": [],
   "source": [
    "price_counts = prices.value_counts(sort=False)"
   ]
  },
  {
   "cell_type": "code",
   "execution_count": 7,
   "metadata": {
    "collapsed": false
   },
   "outputs": [
    {
     "name": "stdout",
     "output_type": "stream",
     "text": [
      "[0.0, 42.18, 54.600000000000001, 65.359999999999999, 75.280000000000001, 84.540000000000006, 93.620000000000005, 101.38, 109.23, 117.3, 124.98, 132.22, 139.58000000000001, 145.97999999999999, 151.97999999999999, 158.28999999999999, 163.84999999999999, 169.80000000000001, 174.24000000000001, 179.97999999999999, 185.36000000000001, 190.19, 195.62, 199.97999999999999, 204.97999999999999, 209.97999999999999, 215.34, 219.97999999999999, 225.08000000000001, 229.97999999999999, 235.36000000000001, 239.97999999999999, 245.40000000000001, 250.0, 256.05000000000001, 260.98000000000002, 268.86000000000001, 273.87, 279.98000000000002, 287.75999999999999, 294.49000000000001, 300.98000000000002, 309.98000000000002, 319.26999999999998, 326.98000000000002, 335.69, 343.48000000000002, 353.5, 362.98000000000002, 374.48000000000002, 385.13999999999999, 397.82999999999998, 409.98000000000002, 423.30000000000001, 437.98000000000002, 451.60000000000002, 466.51999999999998, 480.87, 496.33999999999997, 510.24000000000001, 526.02999999999997, 539.98000000000002, 550.28999999999996, 568.98000000000002, 579.98000000000002, 599.46000000000004, 612.47000000000003, 629.98000000000002, 648.98000000000002, 664.0, 679.98000000000002, 699.09000000000003, 709.98000000000002, 727.07000000000005, 739.98000000000002, 756.72000000000003, 769.98000000000002, 786.98000000000002, 799.98000000000002, 810.92999999999995, 825.08000000000004, 833.80999999999995, 848.0, 856.07000000000005, 867.98000000000002, 874.73000000000002, 886.16999999999996, 896.10000000000002, 902.10000000000002, 909.98000000000002, 919.98000000000002, 929.98000000000002, 939.98000000000002, 949.98000000000002, 959.98000000000002, 969.98000000000002, 979.98000000000002, 989.98000000000002, 999.98000000000002, 1009.98, 1019.98, 1029.98, 1039.98, 1049.98, 1061.98, 1073.29, 1081.23, 1091.98, 1103.5, 1115.98, 1127.98, 1138.49, 1149.98, 1161.98, 1175.98, 1188.98, 1199.98, 1216.4300000000001, 1229.98, 1245.98, 1259.98, 1277.0899999999999, 1289.98, 1307.98, 1319.98, 1339.98, 1359.98, 1379.98, 1399.98, 1419.98, 1440.98, 1462.98, 1489.98, 1519.98, 1554.98, 1589.98, 1639.98, 1699.98, 1778.98, 1886.98, 2052.98, 10099.838400000001]\n"
     ]
    }
   ],
   "source": [
    "num_prices = len(prices)\n",
    "num_buckets = 150.\n",
    "buckets = [0.]\n",
    "running_total = 0\n",
    "for price, count in price_counts.sort_index().iteritems():\n",
    "    running_total += count\n",
    "    if running_total >= num_prices / num_buckets:\n",
    "        buckets.append(price)\n",
    "        running_total = 0\n",
    "buckets.append(price * 1.01)\n",
    "print buckets"
   ]
  },
  {
   "cell_type": "code",
   "execution_count": 8,
   "metadata": {
    "collapsed": false,
    "scrolled": true
   },
   "outputs": [
    {
     "data": {
      "image/png": "[encoded data removed]",
      "text/plain": [
       "<matplotlib.figure.Figure at 0x5f706438>"
      ]
     },
     "metadata": {},
     "output_type": "display_data"
    }
   ],
   "source": [
    "%matplotlib inline\n",
    "from matplotlib import pyplot as pl\n",
    "pl.plot(buckets)\n",
    "pl.show()"
   ]
  },
  {
   "cell_type": "code",
   "execution_count": 9,
   "metadata": {
    "collapsed": false
   },
   "outputs": [
    {
     "data": {
      "image/png": "[encoded data removed]",
      "text/plain": [
       "<matplotlib.figure.Figure at 0x50f9a978>"
      ]
     },
     "metadata": {},
     "output_type": "display_data"
    }
   ],
   "source": [
    "pl.hist(prices, num_buckets, color='black')\n",
    "pl.xlim([0, 2500])\n",
    "pl.show()"
   ]
  },
  {
   "cell_type": "code",
   "execution_count": 10,
   "metadata": {
    "collapsed": false,
    "scrolled": true
   },
   "outputs": [
    {
     "name": "stdout",
     "output_type": "stream",
     "text": [
      "26454134\n",
      "adjusting range (1, 42.18, 54.600000000000001)\n",
      "adjusting range (2, 54.600000000000001, 65.359999999999999)\n",
      "adjusting range (3, 65.359999999999999, 75.280000000000001)\n",
      "adjusting range (4, 75.280000000000001, 84.540000000000006)\n",
      "adjusting range (5, 84.540000000000006, 93.620000000000005)\n",
      "adjusting range (6, 93.620000000000005, 101.38)\n",
      "adjusting range (7, 101.38, 109.23)\n",
      "adjusting range (8, 109.23, 117.3)\n",
      "adjusting range (9, 117.3, 124.98)\n",
      "adjusting range (10, 124.98, 132.22)\n",
      "adjusting range (11, 132.22, 139.58000000000001)\n",
      "adjusting range (12, 139.58000000000001, 145.97999999999999)\n",
      "adjusting range (13, 145.97999999999999, 151.97999999999999)\n",
      "adjusting range (14, 151.97999999999999, 158.28999999999999)\n",
      "adjusting range (15, 158.28999999999999, 163.84999999999999)\n",
      "adjusting range (16, 163.84999999999999, 169.80000000000001)\n",
      "adjusting range (17, 169.80000000000001, 174.24000000000001)\n",
      "adjusting range (18, 174.24000000000001, 179.97999999999999)\n",
      "adjusting range (19, 179.97999999999999, 185.36000000000001)\n",
      "adjusting range (20, 185.36000000000001, 190.19)\n",
      "adjusting range (21, 190.19, 195.62)\n",
      "adjusting range (22, 195.62, 199.97999999999999)\n",
      "adjusting range (23, 199.97999999999999, 204.97999999999999)\n",
      "adjusting range (24, 204.97999999999999, 209.97999999999999)\n",
      "adjusting range (25, 209.97999999999999, 215.34)\n",
      "adjusting range (26, 215.34, 219.97999999999999)\n",
      "adjusting range (27, 219.97999999999999, 225.08000000000001)\n",
      "adjusting range (28, 225.08000000000001, 229.97999999999999)\n",
      "adjusting range (29, 229.97999999999999, 235.36000000000001)\n",
      "adjusting range (30, 235.36000000000001, 239.97999999999999)\n",
      "adjusting range (31, 239.97999999999999, 245.40000000000001)\n",
      "adjusting range (32, 245.40000000000001, 250.0)\n",
      "adjusting range (33, 250.0, 256.05000000000001)\n",
      "adjusting range (34, 256.05000000000001, 260.98000000000002)\n",
      "adjusting range (35, 260.98000000000002, 268.86000000000001)\n",
      "adjusting range (36, 268.86000000000001, 273.87)\n",
      "adjusting range (37, 273.87, 279.98000000000002)\n",
      "adjusting range (38, 279.98000000000002, 287.75999999999999)\n",
      "adjusting range (39, 287.75999999999999, 294.49000000000001)\n",
      "adjusting range (40, 294.49000000000001, 300.98000000000002)\n",
      "adjusting range (41, 300.98000000000002, 309.98000000000002)\n",
      "adjusting range (42, 309.98000000000002, 319.26999999999998)\n",
      "adjusting range (43, 319.26999999999998, 326.98000000000002)\n",
      "adjusting range (44, 326.98000000000002, 335.69)\n",
      "adjusting range (45, 335.69, 343.48000000000002)\n",
      "adjusting range (46, 343.48000000000002, 353.5)\n",
      "adjusting range (47, 353.5, 362.98000000000002)\n",
      "adjusting range (48, 362.98000000000002, 374.48000000000002)\n",
      "adjusting range (49, 374.48000000000002, 385.13999999999999)\n",
      "adjusting range (50, 385.13999999999999, 397.82999999999998)\n",
      "adjusting range (51, 397.82999999999998, 409.98000000000002)\n",
      "adjusting range (52, 409.98000000000002, 423.30000000000001)\n",
      "adjusting range (53, 423.30000000000001, 437.98000000000002)\n",
      "adjusting range (54, 437.98000000000002, 451.60000000000002)\n",
      "adjusting range (55, 451.60000000000002, 466.51999999999998)\n",
      "adjusting range (56, 466.51999999999998, 480.87)\n",
      "adjusting range (57, 480.87, 496.33999999999997)\n",
      "adjusting range (58, 496.33999999999997, 510.24000000000001)\n",
      "adjusting range (59, 510.24000000000001, 526.02999999999997)\n",
      "adjusting range (60, 526.02999999999997, 539.98000000000002)\n",
      "adjusting range (61, 539.98000000000002, 550.28999999999996)\n",
      "adjusting range (62, 550.28999999999996, 568.98000000000002)\n",
      "adjusting range (63, 568.98000000000002, 579.98000000000002)\n",
      "adjusting range (64, 579.98000000000002, 599.46000000000004)\n",
      "adjusting range (65, 599.46000000000004, 612.47000000000003)\n",
      "adjusting range (66, 612.47000000000003, 629.98000000000002)\n",
      "adjusting range (67, 629.98000000000002, 648.98000000000002)\n",
      "adjusting range (68, 648.98000000000002, 664.0)\n",
      "adjusting range (69, 664.0, 679.98000000000002)\n",
      "adjusting range (70, 679.98000000000002, 699.09000000000003)\n",
      "adjusting range (71, 699.09000000000003, 709.98000000000002)\n",
      "adjusting range (72, 709.98000000000002, 727.07000000000005)\n",
      "adjusting range (73, 727.07000000000005, 739.98000000000002)\n",
      "adjusting range (74, 739.98000000000002, 756.72000000000003)\n",
      "adjusting range (75, 756.72000000000003, 769.98000000000002)\n",
      "adjusting range (76, 769.98000000000002, 786.98000000000002)\n",
      "adjusting range (77, 786.98000000000002, 799.98000000000002)\n",
      "adjusting range (78, 799.98000000000002, 810.92999999999995)\n",
      "adjusting range (79, 810.92999999999995, 825.08000000000004)\n",
      "adjusting range (80, 825.08000000000004, 833.80999999999995)\n",
      "adjusting range (81, 833.80999999999995, 848.0)\n",
      "adjusting range (82, 848.0, 856.07000000000005)\n",
      "adjusting range (83, 856.07000000000005, 867.98000000000002)\n",
      "adjusting range (84, 867.98000000000002, 874.73000000000002)\n",
      "adjusting range (85, 874.73000000000002, 886.16999999999996)\n",
      "adjusting range (86, 886.16999999999996, 896.10000000000002)\n",
      "adjusting range (87, 896.10000000000002, 902.10000000000002)\n",
      "adjusting range (88, 902.10000000000002, 909.98000000000002)\n",
      "adjusting range (89, 909.98000000000002, 919.98000000000002)\n",
      "adjusting range (90, 919.98000000000002, 929.98000000000002)\n",
      "adjusting range (91, 929.98000000000002, 939.98000000000002)\n",
      "adjusting range (92, 939.98000000000002, 949.98000000000002)\n",
      "adjusting range (93, 949.98000000000002, 959.98000000000002)\n",
      "adjusting range (94, 959.98000000000002, 969.98000000000002)\n",
      "adjusting range (95, 969.98000000000002, 979.98000000000002)\n",
      "adjusting range (96, 979.98000000000002, 989.98000000000002)\n",
      "adjusting range (97, 989.98000000000002, 999.98000000000002)\n",
      "adjusting range (98, 999.98000000000002, 1009.98)\n",
      "adjusting range (99, 1009.98, 1019.98)\n",
      "adjusting range (100, 1019.98, 1029.98)\n",
      "adjusting range (101, 1029.98, 1039.98)\n",
      "adjusting range (102, 1039.98, 1049.98)\n",
      "adjusting range (103, 1049.98, 1061.98)\n",
      "adjusting range (104, 1061.98, 1073.29)\n",
      "adjusting range (105, 1073.29, 1081.23)\n",
      "adjusting range (106, 1081.23, 1091.98)\n",
      "adjusting range (107, 1091.98, 1103.5)\n",
      "adjusting range (108, 1103.5, 1115.98)\n",
      "adjusting range (109, 1115.98, 1127.98)\n",
      "adjusting range (110, 1127.98, 1138.49)\n",
      "adjusting range (111, 1138.49, 1149.98)\n",
      "adjusting range (112, 1149.98, 1161.98)\n",
      "adjusting range (113, 1161.98, 1175.98)\n",
      "adjusting range (114, 1175.98, 1188.98)\n",
      "adjusting range (115, 1188.98, 1199.98)\n",
      "adjusting range (116, 1199.98, 1216.4300000000001)\n",
      "adjusting range (117, 1216.4300000000001, 1229.98)\n",
      "adjusting range (118, 1229.98, 1245.98)\n",
      "adjusting range (119, 1245.98, 1259.98)\n",
      "adjusting range (120, 1259.98, 1277.0899999999999)\n",
      "adjusting range (121, 1277.0899999999999, 1289.98)\n",
      "adjusting range (122, 1289.98, 1307.98)\n",
      "adjusting range (123, 1307.98, 1319.98)\n",
      "adjusting range (124, 1319.98, 1339.98)\n",
      "adjusting range (125, 1339.98, 1359.98)\n",
      "adjusting range (126, 1359.98, 1379.98)\n",
      "adjusting range (127, 1379.98, 1399.98)\n",
      "adjusting range (128, 1399.98, 1419.98)\n",
      "adjusting range (129, 1419.98, 1440.98)\n",
      "adjusting range (130, 1440.98, 1462.98)\n",
      "adjusting range (131, 1462.98, 1489.98)\n",
      "adjusting range (132, 1489.98, 1519.98)\n",
      "adjusting range (133, 1519.98, 1554.98)\n",
      "adjusting range (134, 1554.98, 1589.98)\n",
      "adjusting range (135, 1589.98, 1639.98)\n",
      "adjusting range (136, 1639.98, 1699.98)\n",
      "adjusting range (137, 1699.98, 1778.98)\n",
      "adjusting range (138, 1778.98, 1886.98)\n",
      "adjusting range (139, 1886.98, 2052.98)\n",
      "adjusting range (140, 2052.98, 10099.838400000001)\n"
     ]
    }
   ],
   "source": [
    "bucket_counts = [0 for __ in xrange(int(num_buckets) + 1)]\n",
    "bucket_ranges = zip(xrange(int(num_buckets) + 1), buckets, buckets[1:])\n",
    "print len(prices)\n",
    "for i_, price in enumerate(prices):\n",
    "    for i, low, high in bucket_ranges:\n",
    "        if low <= price <= high:\n",
    "            bucket_counts[i] += 1\n",
    "            break\n",
    "    if bucket_ranges[0][-1] < price:\n",
    "        bucket_ranges = bucket_ranges[1:]\n",
    "        print 'adjusting range', bucket_ranges[0]"
   ]
  },
  {
   "cell_type": "code",
   "execution_count": 11,
   "metadata": {
    "collapsed": false
   },
   "outputs": [
    {
     "data": {
      "image/png": "[encoded data removed]",
      "text/plain": [
       "<matplotlib.figure.Figure at 0x50f9aa90>"
      ]
     },
     "metadata": {},
     "output_type": "display_data"
    }
   ],
   "source": [
    "%matplotlib inline\n",
    "pl.plot(bucket_counts)\n",
    "pl.show()"
   ]
  },
  {
   "cell_type": "code",
   "execution_count": 12,
   "metadata": {
    "collapsed": false,
    "scrolled": false
   },
   "outputs": [],
   "source": [
    "num_bins = 150\n",
    "out, bins = pandas.qcut(prices, num_bins, retbins=True)"
   ]
  },
  {
   "cell_type": "code",
   "execution_count": null,
   "metadata": {
    "collapsed": false
   },
   "outputs": [
    {
     "data": {
      "image/png": "[encoded data removed]",
      "text/plain": [
       "<matplotlib.figure.Figure at 0x50f8e7f0>"
      ]
     },
     "metadata": {},
     "output_type": "display_data"
    }
   ],
   "source": [
    "%matplotlib inline\n",
    "pl.plot(bins)\n",
    "pl.show()"
   ]
  },
  {
   "cell_type": "code",
   "execution_count": null,
   "metadata": {
    "collapsed": false,
    "scrolled": true
   },
   "outputs": [
    {
     "name": "stdout",
     "output_type": "stream",
     "text": [
      "26454134\n",
      "adjusting range (1, 42.18, 54.600000000000001)\n",
      "adjusting range (2, 54.600000000000001, 65.290000000000006)\n",
      "adjusting range (3, 65.290000000000006, 75.230000000000004)\n",
      "adjusting range (4, 75.230000000000004, 84.480000000000004)\n",
      "adjusting range (5, 84.480000000000004, 93.569999999999993)\n",
      "adjusting range (6, 93.569999999999993, 101.31999999999999)\n",
      "adjusting range (7, 101.31999999999999, 109.17)\n",
      "adjusting range (8, 109.17, 117.23999999999999)\n",
      "adjusting range (9, 117.23999999999999, 124.98)\n",
      "adjusting range (10, 124.98, 132.05000000000001)\n",
      "adjusting range (11, 132.05000000000001, 139.41)\n",
      "adjusting range (12, 139.41, 145.96000000000001)\n",
      "adjusting range (13, 145.96000000000001, 151.88)\n",
      "adjusting range (14, 151.88, 157.97999999999999)\n",
      "adjusting range (15, 157.97999999999999, 163.44)\n",
      "adjusting range (16, 163.44, 169.41)\n",
      "adjusting range (17, 169.41, 173.97999999999999)\n",
      "adjusting range (18, 173.97999999999999, 179.97999999999999)\n",
      "adjusting range (19, 179.97999999999999, 183.97999999999999)\n",
      "adjusting range (20, 183.97999999999999, 189.97999999999999)\n",
      "adjusting range (21, 189.97999999999999, 194.31)\n",
      "adjusting range (22, 194.31, 199.97999999999999)\n",
      "adjusting range (23, 199.97999999999999, 203.66999999999999)\n",
      "adjusting range (24, 203.66999999999999, 209.91999999999999)\n",
      "adjusting range (25, 209.91999999999999, 212.97999999999999)\n",
      "adjusting range (26, 212.97999999999999, 219.5)\n",
      "adjusting range (27, 219.5, 222.21000000000001)\n",
      "adjusting range (28, 222.21000000000001, 228.75)\n",
      "adjusting range (29, 228.75, 231.97999999999999)\n",
      "adjusting range (30, 231.97999999999999, 237.97999999999999)\n",
      "adjusting range (31, 237.97999999999999, 241.25999999999999)\n",
      "adjusting range (32, 241.25999999999999, 247.65000000000001)\n",
      "adjusting range (33, 247.65000000000001, 251.84)\n",
      "adjusting range (34, 251.84, 258.80000000000001)\n",
      "adjusting range (35, 258.80000000000001, 262.81)\n",
      "adjusting range (36, 262.81, 269.98000000000002)\n",
      "adjusting range (37, 269.98000000000002, 275.07999999999998)\n",
      "adjusting range (38, 275.07999999999998, 280.98000000000002)\n",
      "adjusting range (39, 280.98000000000002, 288.97000000000003)\n",
      "adjusting range (40, 288.97000000000003, 295.50999999999999)\n",
      "adjusting range (41, 295.50999999999999, 301.85000000000002)\n",
      "adjusting range (42, 301.85000000000002, 309.98000000000002)\n",
      "adjusting range (43, 309.98000000000002, 318.98000000000002)\n",
      "adjusting range (44, 318.98000000000002, 326.47000000000003)\n",
      "adjusting range (45, 326.47000000000003, 334.92000000000002)\n",
      "adjusting range (46, 334.92000000000002, 342.89999999999998)\n",
      "adjusting range (47, 342.89999999999998, 352.98000000000002)\n",
      "adjusting range (48, 352.98000000000002, 361.98000000000002)\n",
      "adjusting range (49, 361.98000000000002, 373.20999999999998)\n",
      "adjusting range (50, 373.20999999999998, 383.98000000000002)\n",
      "adjusting range (51, 383.98000000000002, 396.36000000000001)\n",
      "adjusting range (52, 396.36000000000001, 408.98000000000002)\n",
      "adjusting range (53, 408.98000000000002, 421.14999999999998)\n",
      "adjusting range (54, 421.14999999999998, 435.98000000000002)\n",
      "adjusting range (55, 435.98000000000002, 449.98000000000002)\n",
      "adjusting range (56, 449.98000000000002, 464.04000000000002)\n",
      "adjusting range (57, 464.04000000000002, 478.98000000000002)\n",
      "adjusting range (58, 478.98000000000002, 493.51999999999998)\n",
      "adjusting range (59, 493.51999999999998, 508.69999999999999)\n",
      "adjusting range (60, 508.69999999999999, 523.22000000000003)\n",
      "adjusting range (61, 523.22000000000003, 539.09000000000003)\n",
      "adjusting range (62, 539.09000000000003, 549.98000000000002)\n",
      "adjusting range (63, 549.98000000000002, 563.98000000000002)\n",
      "adjusting range (64, 563.98000000000002, 579.98000000000002)\n",
      "adjusting range (65, 579.98000000000002, 593.33000000000004)\n",
      "adjusting range (66, 593.33000000000004, 609.98000000000002)\n",
      "adjusting range (67, 609.98000000000002, 624.47000000000003)\n",
      "adjusting range (68, 624.47000000000003, 639.98000000000002)\n",
      "adjusting range (69, 639.98000000000002, 658.01999999999998)\n",
      "adjusting range (70, 658.01999999999998, 671.75)\n",
      "adjusting range (71, 671.75, 689.98000000000002)\n",
      "adjusting range (72, 689.98000000000002, 701.48000000000002)\n",
      "adjusting range (73, 701.48000000000002, 719.83000000000004)\n",
      "adjusting range (74, 719.83000000000004, 729.98000000000002)\n",
      "adjusting range (75, 729.98000000000002, 742.50999999999999)\n",
      "adjusting range (76, 742.50999999999999, 759.02999999999997)\n",
      "adjusting range (77, 759.02999999999997, 769.98000000000002)\n",
      "adjusting range (78, 769.98000000000002, 779.98000000000002)\n",
      "adjusting range (79, 779.98000000000002, 789.98000000000002)\n",
      "adjusting range (80, 789.98000000000002, 804.0)\n",
      "adjusting range (81, 804.0, 815.14999999999998)\n",
      "adjusting range (82, 815.14999999999998, 829.22000000000003)\n",
      "adjusting range (83, 829.22000000000003, 838.69000000000005)\n",
      "adjusting range (84, 838.69000000000005, 849.98000000000002)\n",
      "adjusting range (85, 849.98000000000002, 859.98000000000002)\n",
      "adjusting range (86, 859.98000000000002, 869.98000000000002)\n",
      "adjusting range (87, 869.98000000000002, 879.79999999999995)\n",
      "adjusting range (88, 879.79999999999995, 889.98000000000002)\n",
      "adjusting range (89, 889.98000000000002, 899.98000000000002)\n",
      "adjusting range (90, 899.98000000000002, 906.98000000000002)\n",
      "adjusting range (91, 906.98000000000002, 912.00999999999999)\n",
      "adjusting range (92, 912.00999999999999, 920.94000000000005)\n",
      "adjusting range (93, 920.94000000000005, 929.98000000000002)\n",
      "adjusting range (94, 929.98000000000002, 939.98000000000002)\n",
      "adjusting range (95, 939.98000000000002, 949.98000000000002)\n",
      "adjusting range (96, 949.98000000000002, 959.98000000000002)\n",
      "adjusting range (97, 959.98000000000002, 969.98000000000002)\n",
      "adjusting range (98, 969.98000000000002, 979.98000000000002)\n",
      "adjusting range (99, 979.98000000000002, 989.98000000000002)\n",
      "adjusting range (100, 989.98000000000002, 999.98000000000002)\n",
      "adjusting range (101, 999.98000000000002, 1009.98)\n",
      "adjusting range (102, 1009.98, 1019.98)\n",
      "adjusting range (103, 1019.98, 1029.98)\n",
      "adjusting range (104, 1029.98, 1038.49)\n",
      "adjusting range (105, 1038.49, 1047.98)\n",
      "adjusting range (106, 1047.98, 1056.05)\n",
      "adjusting range (107, 1056.05, 1067.2)\n",
      "adjusting range (108, 1067.2, 1078.0)\n",
      "adjusting range (109, 1078.0, 1086.98)\n",
      "adjusting range (110, 1086.98, 1097.98)\n",
      "adjusting range (111, 1097.98, 1108.9400000000001)\n",
      "adjusting range (112, 1108.9400000000001, 1119.98)\n",
      "adjusting range (113, 1119.98, 1129.98)\n",
      "adjusting range (114, 1129.98, 1139.98)\n",
      "adjusting range (115, 1139.98, 1149.98)\n",
      "adjusting range (116, 1149.98, 1159.98)\n",
      "adjusting range (117, 1159.98, 1169.98)\n",
      "adjusting range (118, 1169.98, 1179.98)\n",
      "adjusting range (119, 1179.98, 1189.98)\n",
      "adjusting range (120, 1189.98, 1199.98)\n",
      "adjusting range (121, 1199.98, 1209.98)\n",
      "adjusting range (122, 1209.98, 1224.98)\n",
      "adjusting range (123, 1224.98, 1238.98)\n",
      "adjusting range (124, 1238.98, 1249.98)\n",
      "adjusting range (125, 1249.98, 1259.98)\n",
      "adjusting range (126, 1259.98, 1269.98)\n",
      "adjusting range"
     ]
    }
   ],
   "source": [
    "bin_counts = [0 for __ in xrange(int(num_bins) + 1)]\n",
    "bin_ranges = zip(xrange(int(num_bins) + 1), bins, bins[1:])\n",
    "print len(prices)\n",
    "for i_, price in enumerate(prices):\n",
    "    for i, low, high in bin_ranges:\n",
    "        if low < price <= high:\n",
    "            bin_counts[i] += 1\n",
    "            break\n",
    "    if bin_ranges[0][-1] < price:\n",
    "        bin_ranges = bin_ranges[1:]\n",
    "        print 'adjusting range', bin_ranges[0]"
   ]
  },
  {
   "cell_type": "code",
   "execution_count": null,
   "metadata": {
    "collapsed": false
   },
   "outputs": [],
   "source": [
    "%matplotlib inline\n",
    "pl.plot(bin_counts)\n",
    "pl.show()"
   ]
  },
  {
   "cell_type": "markdown",
   "metadata": {},
   "source": [
    "I think bucket_counts looks better than bin_counts."
   ]
  },
  {
   "cell_type": "code",
   "execution_count": null,
   "metadata": {
    "collapsed": false,
    "scrolled": true
   },
   "outputs": [],
   "source": [
    "print buckets"
   ]
  },
  {
   "cell_type": "code",
   "execution_count": null,
   "metadata": {
    "collapsed": false
   },
   "outputs": [],
   "source": [
    "len(buckets)"
   ]
  },
  {
   "cell_type": "code",
   "execution_count": null,
   "metadata": {
    "collapsed": false
   },
   "outputs": [],
   "source": [
    "step = 1 / 142.\n",
    "print step\n",
    "bucket_ranges = zip(buckets, buckets[1:])\n",
    "def convert(num):\n",
    "    cumsum = 0\n",
    "    for low, high in bucket_ranges:\n",
    "        if cumsum <= num < cumsum + step:\n",
    "            t = (num - cumsum) / step\n",
    "            return (1 - t) * low + t * high\n",
    "        cumsum += step\n",
    "    t = (num - (cumsum - step)) / step\n",
    "    return (1 - t) * low + t * high"
   ]
  },
  {
   "cell_type": "code",
   "execution_count": null,
   "metadata": {
    "collapsed": false
   },
   "outputs": [],
   "source": [
    "print convert(.992)\n",
    "print convert(.9925)\n",
    "print convert(.993)\n",
    "print convert(.9935)"
   ]
  },
  {
   "cell_type": "code",
   "execution_count": null,
   "metadata": {
    "collapsed": false
   },
   "outputs": [],
   "source": [
    "%matplotlib inline\n",
    "pl.plot([convert(i / 250.) for i in xrange(250)])\n",
    "pl.xlim([0, 200])\n",
    "pl.ylim([0, 1800])\n",
    "pl.show()"
   ]
  },
  {
   "cell_type": "code",
   "execution_count": null,
   "metadata": {
    "collapsed": false
   },
   "outputs": [],
   "source": [
    "training_data['OUTBOUND_DATE'] = training_data['OUTBOUND_DATE'].astype('datetime64')"
   ]
  },
  {
   "cell_type": "code",
   "execution_count": null,
   "metadata": {
    "collapsed": true
   },
   "outputs": [],
   "source": [
    "training_data['INBOUND_DATE'] = training_data['INBOUND_DATE'].astype('datetime64')"
   ]
  },
  {
   "cell_type": "code",
   "execution_count": null,
   "metadata": {
    "collapsed": true
   },
   "outputs": [],
   "source": [
    "training_data['SEARCH_DATEHOUR'] = training_data['SEARCH_DATEHOUR'].astype('datetime64[ns]')"
   ]
  },
  {
   "cell_type": "code",
   "execution_count": null,
   "metadata": {
    "collapsed": true
   },
   "outputs": [],
   "source": [
    "training_data['SEARCH_TO_OUTBOUND'] = training_data.OUTBOUND_DATE - training_data.SEARCH_DATEHOUR"
   ]
  },
  {
   "cell_type": "code",
   "execution_count": null,
   "metadata": {
    "collapsed": true
   },
   "outputs": [],
   "source": [
    "training_data['SEARCH_TO_INBOUND'] = training_data.INBOUND_DATE - training_data.SEARCH_DATEHOUR"
   ]
  },
  {
   "cell_type": "code",
   "execution_count": null,
   "metadata": {
    "collapsed": true
   },
   "outputs": [],
   "source": [
    "training_data['OUTBOUND_TO_INBOUND'] = training_data.INBOUND_DATE - training_data.OUTBOUND_DATE"
   ]
  },
  {
   "cell_type": "code",
   "execution_count": null,
   "metadata": {
    "collapsed": true
   },
   "outputs": [],
   "source": [
    "airports_data = pandas.read_csv(airports_fname)"
   ]
  },
  {
   "cell_type": "code",
   "execution_count": null,
   "metadata": {
    "collapsed": true
   },
   "outputs": [],
   "source": [
    "training_merged = pandas.merge(training_data, airports_data, left_on='ORIGIN', right_on='AIRPORT')\n",
    "del training_data"
   ]
  },
  {
   "cell_type": "code",
   "execution_count": null,
   "metadata": {
    "collapsed": false
   },
   "outputs": [],
   "source": [
    "del training_merged['AIRPORT']\n",
    "training_merged.head()"
   ]
  },
  {
   "cell_type": "code",
   "execution_count": null,
   "metadata": {
    "collapsed": true
   },
   "outputs": [],
   "source": [
    "for key in ('CITY', 'COUNTRY', 'CONTINENT', 'LATITUDE', 'LONGITUDE', 'TRAFFIC'):\n",
    "    training_merged['ORIGIN_' + key] = training_merged[key]\n",
    "    del training_merged[key]"
   ]
  },
  {
   "cell_type": "code",
   "execution_count": null,
   "metadata": {
    "collapsed": false
   },
   "outputs": [],
   "source": [
    "training_merged = pandas.merge(training_merged, airports_data, left_on='DESTINATION', right_on='AIRPORT')\n",
    "del training_merged['AIRPORT']\n",
    "for key in ('CITY', 'COUNTRY', 'CONTINENT', 'LATITUDE', 'LONGITUDE', 'TRAFFIC'):\n",
    "    training_merged['DESTINATION_' + key] = training_merged[key]\n",
    "    del training_merged[key]\n",
    "training_merged.head()"
   ]
  },
  {
   "cell_type": "code",
   "execution_count": null,
   "metadata": {
    "collapsed": false
   },
   "outputs": [],
   "source": [
    "training_merged = training_merged.sort('PRICE')"
   ]
  },
  {
   "cell_type": "code",
   "execution_count": null,
   "metadata": {
    "collapsed": false
   },
   "outputs": [],
   "source": [
    "training_merged.to_hdf('my_data/TrainingMerged.h5', 'fixed')"
   ]
  },
  {
   "cell_type": "code",
   "execution_count": null,
   "metadata": {
    "collapsed": false
   },
   "outputs": [],
   "source": [
    "for key in (\n",
    "    'ORIGIN', 'DESTINATION', 'ORIGIN_CITY', 'ORIGIN_COUNTRY', \n",
    "    'ORIGIN_CONTINENT', 'DESTINATION_CITY', 'DESTINATION_COUNTRY', \n",
    "    'DESTINATION_CONTINENT',\n",
    "):\n",
    "    training_merged[key] = training_merged[key].astype('category')\n",
    "training_merged.head()"
   ]
  },
  {
   "cell_type": "code",
   "execution_count": null,
   "metadata": {
    "collapsed": false
   },
   "outputs": [],
   "source": [
    "training_merged.info()"
   ]
  },
  {
   "cell_type": "code",
   "execution_count": null,
   "metadata": {
    "collapsed": true
   },
   "outputs": [],
   "source": [
    "training_merged.to_pickle('my_data/TrainingMerged.pickle')"
   ]
  },
  {
   "cell_type": "code",
   "execution_count": null,
   "metadata": {
    "collapsed": false
   },
   "outputs": [],
   "source": [
    "try:\n",
    "    training_merged\n",
    "except NameError:\n",
    "    training_merged = pandas.from_pickle('my_data/TrainingMerged.pickle')\n",
    "sample = training_merged.sample(100)"
   ]
  },
  {
   "cell_type": "code",
   "execution_count": null,
   "metadata": {
    "collapsed": true
   },
   "outputs": [],
   "source": [
    "sample.to_csv('my_data/TrainingMerged.Sample.100.csv')"
   ]
  },
  {
   "cell_type": "code",
   "execution_count": null,
   "metadata": {
    "collapsed": false
   },
   "outputs": [],
   "source": [
    "markets = training_merged.MARKETS\n",
    "markets_set = set()\n",
    "for __, marketlist in markets.iteritems():\n",
    "    markets_set.update(marketlist.split(';'))\n",
    "print len(markets_set)"
   ]
  },
  {
   "cell_type": "code",
   "execution_count": null,
   "metadata": {
    "collapsed": false
   },
   "outputs": [],
   "source": [
    "from collections import Counter\n",
    "market_counts = Counter(\n",
    "    market\n",
    "    for __, marketlist in \n",
    "    markets.iteritems()\n",
    "    for market in\n",
    "    marketlist.split(';')\n",
    ")\n",
    "print market_counts.most_common(10)"
   ]
  },
  {
   "cell_type": "code",
   "execution_count": null,
   "metadata": {
    "collapsed": false
   },
   "outputs": [],
   "source": [
    "market_counts"
   ]
  },
  {
   "cell_type": "code",
   "execution_count": null,
   "metadata": {
    "collapsed": false
   },
   "outputs": [],
   "source": [
    "len(market_counts)"
   ]
  },
  {
   "cell_type": "code",
   "execution_count": null,
   "metadata": {
    "collapsed": false
   },
   "outputs": [],
   "source": [
    "most_common_markets = [market for market, __ in market_counts.most_common(199)]\n",
    "print most_common_markets"
   ]
  },
  {
   "cell_type": "code",
   "execution_count": null,
   "metadata": {
    "collapsed": false
   },
   "outputs": [],
   "source": [
    "market_onehots = []\n",
    "for i, marketlist in enumerate(markets):\n",
    "    onehot = np.zeros(200, dtype='bool')\n",
    "    ms = marketlist.split(';')\n",
    "    for m in ms:\n",
    "        try:\n",
    "            onehot[most_common_markets.index(m)] = True\n",
    "        except ValueError:\n",
    "            onehot[-1] = True\n",
    "    market_onehots.append(onehot)\n",
    "    if not i % 1000000:\n",
    "        print i"
   ]
  },
  {
   "cell_type": "code",
   "execution_count": null,
   "metadata": {
    "collapsed": false,
    "scrolled": false
   },
   "outputs": [],
   "source": [
    "training_merged.MARKETS.tail(2)"
   ]
  },
  {
   "cell_type": "code",
   "execution_count": null,
   "metadata": {
    "collapsed": false
   },
   "outputs": [],
   "source": [
    "sum(market_onehots[-1])"
   ]
  },
  {
   "cell_type": "code",
   "execution_count": null,
   "metadata": {
    "collapsed": false
   },
   "outputs": [],
   "source": [
    "sum(market_onehots[-2])"
   ]
  },
  {
   "cell_type": "code",
   "execution_count": null,
   "metadata": {
    "collapsed": false
   },
   "outputs": [],
   "source": [
    "training_merged['MARKETS'] = market_onehots"
   ]
  },
  {
   "cell_type": "code",
   "execution_count": null,
   "metadata": {
    "collapsed": false
   },
   "outputs": [],
   "source": [
    "training_merged.MARKETS.head()"
   ]
  },
  {
   "cell_type": "code",
   "execution_count": null,
   "metadata": {
    "collapsed": false
   },
   "outputs": [],
   "source": [
    "training_merged.dtypes"
   ]
  },
  {
   "cell_type": "code",
   "execution_count": null,
   "metadata": {
    "collapsed": false
   },
   "outputs": [],
   "source": [
    "origin_counts = Counter(training_merged.ORIGIN)\n",
    "print len(origin_counts)\n",
    "most_common_origins = [origin for origin, __ in origin_counts.most_common(499)]\n",
    "mcos = frozenset(most_common_origins)\n",
    "print sum(place not in mcos for place in training_merged.ORIGIN) / float(len(training_merged.ORIGIN))"
   ]
  },
  {
   "cell_type": "code",
   "execution_count": null,
   "metadata": {
    "collapsed": false
   },
   "outputs": [],
   "source": [
    "destination_counts = Counter(training_merged.DESTINATION)\n",
    "print len(destination_counts)\n",
    "most_common_destinations = [dest for dest, __ in destination_counts.most_common(499)]\n",
    "mcds = frozenset(most_common_destinations)\n",
    "print sum(place not in mcds for place in training_merged.DESTINATION) / float(len(training_merged.DESTINATION))"
   ]
  },
  {
   "cell_type": "code",
   "execution_count": null,
   "metadata": {
    "collapsed": false
   },
   "outputs": [],
   "source": [
    "origin_city_counts = Counter(training_merged.ORIGIN_CITY)\n",
    "print len(origin_city_counts)\n",
    "most_common_origin_cities = [orig for orig, __ in origin_city_counts.most_common(499)]\n",
    "mcoss = frozenset(most_common_origin_cities)\n",
    "print sum(place not in mcoss for place in training_merged.ORIGIN_CITY) / float(len(training_merged.ORIGIN_CITY))"
   ]
  },
  {
   "cell_type": "code",
   "execution_count": null,
   "metadata": {
    "collapsed": false
   },
   "outputs": [],
   "source": [
    "origin_country_counts = Counter(training_merged.ORIGIN_COUNTRY)\n",
    "print len(origin_country_counts)\n",
    "most_common_origin_countries = [orig for orig, __ in origin_country_counts.most_common(49)]\n",
    "mcocs = frozenset(most_common_origin_countries)\n",
    "print sum(place not in mcocs for place in training_merged.ORIGIN_COUNTRY) / float(len(training_merged.ORIGIN_COUNTRY))"
   ]
  },
  {
   "cell_type": "code",
   "execution_count": null,
   "metadata": {
    "collapsed": false
   },
   "outputs": [],
   "source": [
    "origin_continent_counts = Counter(training_merged.ORIGIN_CONTINENT)\n",
    "print len(origin_continent_counts)\n",
    "most_common_origin_continents = [orig for orig, __ in origin_continent_counts.most_common(6)]\n",
    "mcoconts = frozenset(most_common_origin_continents)\n",
    "print sum(place not in mcoconts for place in training_merged.ORIGIN_CONTINENT) / float(len(training_merged.ORIGIN_CONTINENT))"
   ]
  },
  {
   "cell_type": "code",
   "execution_count": null,
   "metadata": {
    "collapsed": false
   },
   "outputs": [],
   "source": [
    "destination_city_counts = Counter(training_merged.DESTINATION_CITY)\n",
    "print len(destination_city_counts)\n",
    "most_common_destination_cities = [dest for dest, __ in destination_city_counts.most_common(499)]\n",
    "mcdss = frozenset(most_common_destination_cities)\n",
    "print sum(place not in mcdss for place in training_merged.DESTINATION_CITY) / float(len(training_merged.DESTINATION_CITY))"
   ]
  },
  {
   "cell_type": "code",
   "execution_count": null,
   "metadata": {
    "collapsed": false
   },
   "outputs": [],
   "source": [
    "destination_country_counts = Counter(training_merged.DESTINATION_COUNTRY)\n",
    "print len(destination_country_counts)\n",
    "most_common_destination_countries = [dest for dest, __ in destination_country_counts.most_common(99)]\n",
    "mcdcs = frozenset(most_common_destination_countries)\n",
    "print sum(place not in mcdcs for place in training_merged.DESTINATION_COUNTRY) / float(len(training_merged.DESTINATION_COUNTRY))"
   ]
  },
  {
   "cell_type": "code",
   "execution_count": null,
   "metadata": {
    "collapsed": true
   },
   "outputs": [],
   "source": [
    "most_common_continents = most_common_origin_continents"
   ]
  },
  {
   "cell_type": "markdown",
   "metadata": {},
   "source": [
    "Doesn't seem like we need to rescale traffics based on distributions"
   ]
  },
  {
   "cell_type": "code",
   "execution_count": null,
   "metadata": {
    "collapsed": false
   },
   "outputs": [],
   "source": [
    "one_day = 1000000000 * 60 * 60 * 24\n",
    "oti_days = training_merged.OUTBOUND_TO_INBOUND.map(lambda x: x.item() / one_day)"
   ]
  },
  {
   "cell_type": "code",
   "execution_count": null,
   "metadata": {
    "collapsed": false
   },
   "outputs": [],
   "source": [
    "oti_days.hist()"
   ]
  },
  {
   "cell_type": "code",
   "execution_count": null,
   "metadata": {
    "collapsed": false
   },
   "outputs": [],
   "source": [
    "oti_days.sample(1000).hist()"
   ]
  },
  {
   "cell_type": "code",
   "execution_count": null,
   "metadata": {
    "collapsed": false
   },
   "outputs": [],
   "source": [
    "oti_out, oti_bins = pandas.qcut(oti_days, 10, retbins=True)"
   ]
  },
  {
   "cell_type": "code",
   "execution_count": null,
   "metadata": {
    "collapsed": false
   },
   "outputs": [],
   "source": [
    "oti_bins"
   ]
  },
  {
   "cell_type": "code",
   "execution_count": null,
   "metadata": {
    "collapsed": false
   },
   "outputs": [],
   "source": [
    "oti_out"
   ]
  },
  {
   "cell_type": "code",
   "execution_count": null,
   "metadata": {
    "collapsed": false
   },
   "outputs": [],
   "source": [
    "oti_out.sample(500).value_counts(sort=False)"
   ]
  },
  {
   "cell_type": "code",
   "execution_count": null,
   "metadata": {
    "collapsed": false
   },
   "outputs": [],
   "source": [
    "one_day = 1000000000 * 60 * 60 * 24\n",
    "sto_days = training_merged.SEARCH_TO_OUTBOUND.map(lambda x: x.item() / one_day)\n",
    "sto_days.hist()"
   ]
  },
  {
   "cell_type": "code",
   "execution_count": null,
   "metadata": {
    "collapsed": false
   },
   "outputs": [],
   "source": [
    "sto_out, sto_bins = pandas.qcut(sto_days, 10, retbins=True)\n",
    "sto_bins"
   ]
  },
  {
   "cell_type": "code",
   "execution_count": null,
   "metadata": {
    "collapsed": false
   },
   "outputs": [],
   "source": [
    "sto_out.sample(500).value_counts(sort=False)"
   ]
  },
  {
   "cell_type": "code",
   "execution_count": null,
   "metadata": {
    "collapsed": true
   },
   "outputs": [],
   "source": []
  }
 ],
 "metadata": {
  "kernelspec": {
   "display_name": "Python 2",
   "language": "python",
   "name": "python2"
  },
  "language_info": {
   "codemirror_mode": {
    "name": "ipython",
    "version": 2
   },
   "file_extension": ".py",
   "mimetype": "text/x-python",
   "name": "python",
   "nbconvert_exporter": "python",
   "pygments_lexer": "ipython2",
   "version": "2.7.11"
  }
 },
 "nbformat": 4,
 "nbformat_minor": 0
}
