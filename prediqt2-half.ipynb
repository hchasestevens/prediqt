{
 "cells": [
  {
   "cell_type": "code",
   "execution_count": 73,
   "metadata": {
    "collapsed": false
   },
   "outputs": [],
   "source": [
    "import itertools\n",
    "import functools\n",
    "from collections import Counter, defaultdict\n",
    "import pandas\n",
    "from matplotlib import pyplot as pl\n",
    "import numpy as np\n",
    "import gc\n",
    "import math\n",
    "training_fname = 'data/PrediqtTrainData.Sample.5000000.csv'\n",
    "airports_fname = 'data/PrediqtAirports.csv'\n",
    "testing_fname = 'data/PrediqtTestDataSmall.csv'"
   ]
  },
  {
   "cell_type": "code",
   "execution_count": 74,
   "metadata": {
    "collapsed": false
   },
   "outputs": [],
   "source": [
    "training_data = pandas.read_csv(training_fname, dtype={\n",
    "    'PRICE': float, \n",
    "})"
   ]
  },
  {
   "cell_type": "code",
   "execution_count": 75,
   "metadata": {
    "collapsed": false
   },
   "outputs": [
    {
     "name": "stdout",
     "output_type": "stream",
     "text": [
      "OUTBOUND_DATE\n",
      "SEARCH_DATEHOUR\n",
      "INBOUND_DATE\n"
     ]
    },
    {
     "data": {
      "text/plain": [
       "0"
      ]
     },
     "execution_count": 75,
     "metadata": {},
     "output_type": "execute_result"
    }
   ],
   "source": [
    "for item, itemtype in {\n",
    "    'OUTBOUND_DATE': 'datetime64',  # can't believe you can't do this when parsing\n",
    "    'INBOUND_DATE': 'datetime64',\n",
    "    'SEARCH_DATEHOUR': 'datetime64[ns]',}.iteritems():\n",
    "    print item\n",
    "    training_data[item] = training_data[item].astype(itemtype)\n",
    "gc.collect()"
   ]
  },
  {
   "cell_type": "markdown",
   "metadata": {},
   "source": [
    "#Prices"
   ]
  },
  {
   "cell_type": "code",
   "execution_count": 76,
   "metadata": {
    "collapsed": false,
    "scrolled": true
   },
   "outputs": [],
   "source": [
    "training_data = training_data.sort_index(by='PRICE')"
   ]
  },
  {
   "cell_type": "code",
   "execution_count": 77,
   "metadata": {
    "collapsed": false
   },
   "outputs": [],
   "source": [
    "price_counts = training_data.PRICE.value_counts(sort=False)"
   ]
  },
  {
   "cell_type": "code",
   "execution_count": 78,
   "metadata": {
    "collapsed": false
   },
   "outputs": [
    {
     "name": "stdout",
     "output_type": "stream",
     "text": [
      "[0.0, 42.090000000000003, 54.539999999999999, 65.200000000000003, 75.180000000000007, 84.540000000000006, 93.579999999999998, 101.37, 109.22, 117.23, 124.98, 132.09999999999999, 139.38999999999999, 145.88, 151.69999999999999, 157.97, 163.19999999999999, 169.18000000000001, 173.97999999999999, 179.97999999999999, 185.28, 190.13999999999999, 195.49000000000001, 199.97999999999999, 204.97999999999999, 209.97999999999999, 215.28999999999999, 219.97999999999999, 225.03999999999999, 229.97999999999999, 235.31, 239.97999999999999, 245.40000000000001, 250.03999999999999, 256.12, 260.98000000000002, 268.79000000000002, 273.80000000000001, 279.98000000000002, 287.73000000000002, 294.49000000000001, 300.98000000000002, 309.98000000000002, 319.22000000000003, 326.98000000000002, 335.56, 343.29000000000002, 353.22000000000003, 362.81, 373.98000000000002, 384.76999999999998, 396.98000000000002, 409.23000000000002, 421.81, 435.98000000000002, 449.98000000000002, 464.98000000000002, 479.98000000000002, 495.54000000000002, 509.98000000000002, 525.97000000000003, 539.98000000000002, 549.98000000000002, 568.52999999999997, 579.98000000000002, 599.54999999999995, 612.55999999999995, 629.98000000000002, 648.80999999999995, 663.78999999999996, 679.98000000000002, 698.98000000000002, 709.98000000000002, 727.04999999999995, 739.98000000000002, 756.75999999999999, 769.98000000000002, 786.98000000000002, 799.98000000000002, 811.04999999999995, 825.73000000000002, 834.08000000000004, 848.49000000000001, 856.40999999999997, 868.47000000000003, 874.98000000000002, 886.92999999999995, 896.66999999999996, 903.41999999999996, 909.98000000000002, 919.98000000000002, 929.98000000000002, 939.98000000000002, 949.98000000000002, 959.98000000000002, 969.98000000000002, 979.98000000000002, 989.98000000000002, 999.98000000000002, 1009.98, 1019.98, 1029.98, 1039.98, 1049.98, 1061.98, 1073.9200000000001, 1081.98, 1093.4200000000001, 1104.98, 1117.8, 1128.98, 1139.98, 1152.98, 1164.98, 1179.98, 1194.98, 1207.8499999999999, 1219.98, 1234.98, 1249.98, 1266.04, 1279.98, 1298.98, 1309.98, 1329.98, 1349.98, 1369.98, 1389.98, 1409.98, 1429.98, 1452.3599999999999, 1479.98, 1509.98, 1540.98, 1579.98, 1626.98, 1678.98, 1739.98, 1833.98, 1969.98, 2491.3699999999999, 10097.959800000001]\n"
     ]
    }
   ],
   "source": [
    "num_prices = len(training_data.PRICE)\n",
    "num_buckets = 150.\n",
    "buckets = [0.]\n",
    "running_total = 0\n",
    "for price, count in price_counts.sort_index().iteritems():\n",
    "    running_total += count\n",
    "    if running_total >= num_prices / num_buckets:\n",
    "        buckets.append(price)\n",
    "        running_total = 0\n",
    "buckets.append(price * 1.01)\n",
    "print buckets\n",
    "del price_counts"
   ]
  },
  {
   "cell_type": "code",
   "execution_count": 79,
   "metadata": {
    "collapsed": false,
    "scrolled": true
   },
   "outputs": [
    {
     "data": {
      "image/png": "[encoded data removed]",
      "text/plain": [
       "<matplotlib.figure.Figure at 0x51faec780>"
      ]
     },
     "metadata": {},
     "output_type": "display_data"
    }
   ],
   "source": [
    "%matplotlib inline\n",
    "from matplotlib import pyplot as pl\n",
    "pl.plot(buckets)\n",
    "pl.show()"
   ]
  },
  {
   "cell_type": "code",
   "execution_count": 80,
   "metadata": {
    "collapsed": false
   },
   "outputs": [
    {
     "data": {
      "image/png": "[encoded data removed]",
      "text/plain": [
       "<matplotlib.figure.Figure at 0x51f3f4940>"
      ]
     },
     "metadata": {},
     "output_type": "display_data"
    }
   ],
   "source": [
    "pl.hist(training_data.PRICE, num_buckets, color='black')\n",
    "pl.xlim([0, 2500])\n",
    "pl.show()"
   ]
  },
  {
   "cell_type": "code",
   "execution_count": 81,
   "metadata": {
    "collapsed": false,
    "scrolled": true
   },
   "outputs": [
    {
     "name": "stdout",
     "output_type": "stream",
     "text": [
      "5000000\n",
      "adjusting range (1, 42.090000000000003, 54.539999999999999)\n",
      "adjusting range (2, 54.539999999999999, 65.200000000000003)\n",
      "adjusting range (3, 65.200000000000003, 75.180000000000007)\n",
      "adjusting range (4, 75.180000000000007, 84.540000000000006)\n",
      "adjusting range (5, 84.540000000000006, 93.579999999999998)\n",
      "adjusting range (6, 93.579999999999998, 101.37)\n",
      "adjusting range (7, 101.37, 109.22)\n",
      "adjusting range (8, 109.22, 117.23)\n",
      "adjusting range (9, 117.23, 124.98)\n",
      "adjusting range (10, 124.98, 132.09999999999999)\n",
      "adjusting range (11, 132.09999999999999, 139.38999999999999)\n",
      "adjusting range (12, 139.38999999999999, 145.88)\n",
      "adjusting range (13, 145.88, 151.69999999999999)\n",
      "adjusting range (14, 151.69999999999999, 157.97)\n",
      "adjusting range (15, 157.97, 163.19999999999999)\n",
      "adjusting range (16, 163.19999999999999, 169.18000000000001)\n",
      "adjusting range (17, 169.18000000000001, 173.97999999999999)\n",
      "adjusting range (18, 173.97999999999999, 179.97999999999999)\n",
      "adjusting range (19, 179.97999999999999, 185.28)\n",
      "adjusting range (20, 185.28, 190.13999999999999)\n",
      "adjusting range (21, 190.13999999999999, 195.49000000000001)\n",
      "adjusting range (22, 195.49000000000001, 199.97999999999999)\n",
      "adjusting range (23, 199.97999999999999, 204.97999999999999)\n",
      "adjusting range (24, 204.97999999999999, 209.97999999999999)\n",
      "adjusting range (25, 209.97999999999999, 215.28999999999999)\n",
      "adjusting range (26, 215.28999999999999, 219.97999999999999)\n",
      "adjusting range (27, 219.97999999999999, 225.03999999999999)\n",
      "adjusting range (28, 225.03999999999999, 229.97999999999999)\n",
      "adjusting range (29, 229.97999999999999, 235.31)\n",
      "adjusting range (30, 235.31, 239.97999999999999)\n",
      "adjusting range (31, 239.97999999999999, 245.40000000000001)\n",
      "adjusting range (32, 245.40000000000001, 250.03999999999999)\n",
      "adjusting range (33, 250.03999999999999, 256.12)\n",
      "adjusting range (34, 256.12, 260.98000000000002)\n",
      "adjusting range (35, 260.98000000000002, 268.79000000000002)\n",
      "adjusting range (36, 268.79000000000002, 273.80000000000001)\n",
      "adjusting range (37, 273.80000000000001, 279.98000000000002)\n",
      "adjusting range (38, 279.98000000000002, 287.73000000000002)\n",
      "adjusting range (39, 287.73000000000002, 294.49000000000001)\n",
      "adjusting range (40, 294.49000000000001, 300.98000000000002)\n",
      "adjusting range (41, 300.98000000000002, 309.98000000000002)\n",
      "adjusting range (42, 309.98000000000002, 319.22000000000003)\n",
      "adjusting range (43, 319.22000000000003, 326.98000000000002)\n",
      "adjusting range (44, 326.98000000000002, 335.56)\n",
      "adjusting range (45, 335.56, 343.29000000000002)\n",
      "adjusting range (46, 343.29000000000002, 353.22000000000003)\n",
      "adjusting range (47, 353.22000000000003, 362.81)\n",
      "adjusting range (48, 362.81, 373.98000000000002)\n",
      "adjusting range (49, 373.98000000000002, 384.76999999999998)\n",
      "adjusting range (50, 384.76999999999998, 396.98000000000002)\n",
      "adjusting range (51, 396.98000000000002, 409.23000000000002)\n",
      "adjusting range (52, 409.23000000000002, 421.81)\n",
      "adjusting range (53, 421.81, 435.98000000000002)\n",
      "adjusting range (54, 435.98000000000002, 449.98000000000002)\n",
      "adjusting range (55, 449.98000000000002, 464.98000000000002)\n",
      "adjusting range (56, 464.98000000000002, 479.98000000000002)\n",
      "adjusting range (57, 479.98000000000002, 495.54000000000002)\n",
      "adjusting range (58, 495.54000000000002, 509.98000000000002)\n",
      "adjusting range (59, 509.98000000000002, 525.97000000000003)\n",
      "adjusting range (60, 525.97000000000003, 539.98000000000002)\n",
      "adjusting range (61, 539.98000000000002, 549.98000000000002)\n",
      "adjusting range (62, 549.98000000000002, 568.52999999999997)\n",
      "adjusting range (63, 568.52999999999997, 579.98000000000002)\n",
      "adjusting range (64, 579.98000000000002, 599.54999999999995)\n",
      "adjusting range (65, 599.54999999999995, 612.55999999999995)\n",
      "adjusting range (66, 612.55999999999995, 629.98000000000002)\n",
      "adjusting range (67, 629.98000000000002, 648.80999999999995)\n",
      "adjusting range (68, 648.80999999999995, 663.78999999999996)\n",
      "adjusting range (69, 663.78999999999996, 679.98000000000002)\n",
      "adjusting range (70, 679.98000000000002, 698.98000000000002)\n",
      "adjusting range (71, 698.98000000000002, 709.98000000000002)\n",
      "adjusting range (72, 709.98000000000002, 727.04999999999995)\n",
      "adjusting range (73, 727.04999999999995, 739.98000000000002)\n",
      "adjusting range (74, 739.98000000000002, 756.75999999999999)\n",
      "adjusting range (75, 756.75999999999999, 769.98000000000002)\n",
      "adjusting range (76, 769.98000000000002, 786.98000000000002)\n",
      "adjusting range (77, 786.98000000000002, 799.98000000000002)\n",
      "adjusting range (78, 799.98000000000002, 811.04999999999995)\n",
      "adjusting range (79, 811.04999999999995, 825.73000000000002)\n",
      "adjusting range (80, 825.73000000000002, 834.08000000000004)\n",
      "adjusting range (81, 834.08000000000004, 848.49000000000001)\n",
      "adjusting range (82, 848.49000000000001, 856.40999999999997)\n",
      "adjusting range (83, 856.40999999999997, 868.47000000000003)\n",
      "adjusting range (84, 868.47000000000003, 874.98000000000002)\n",
      "adjusting range (85, 874.98000000000002, 886.92999999999995)\n",
      "adjusting range (86, 886.92999999999995, 896.66999999999996)\n",
      "adjusting range (87, 896.66999999999996, 903.41999999999996)\n",
      "adjusting range (88, 903.41999999999996, 909.98000000000002)\n",
      "adjusting range (89, 909.98000000000002, 919.98000000000002)\n",
      "adjusting range (90, 919.98000000000002, 929.98000000000002)\n",
      "adjusting range (91, 929.98000000000002, 939.98000000000002)\n",
      "adjusting range (92, 939.98000000000002, 949.98000000000002)\n",
      "adjusting range (93, 949.98000000000002, 959.98000000000002)\n",
      "adjusting range (94, 959.98000000000002, 969.98000000000002)\n",
      "adjusting range (95, 969.98000000000002, 979.98000000000002)\n",
      "adjusting range (96, 979.98000000000002, 989.98000000000002)\n",
      "adjusting range (97, 989.98000000000002, 999.98000000000002)\n",
      "adjusting range (98, 999.98000000000002, 1009.98)\n",
      "adjusting range (99, 1009.98, 1019.98)\n",
      "adjusting range (100, 1019.98, 1029.98)\n",
      "adjusting range (101, 1029.98, 1039.98)\n",
      "adjusting range (102, 1039.98, 1049.98)\n",
      "adjusting range (103, 1049.98, 1061.98)\n",
      "adjusting range (104, 1061.98, 1073.9200000000001)\n",
      "adjusting range (105, 1073.9200000000001, 1081.98)\n",
      "adjusting range (106, 1081.98, 1093.4200000000001)\n",
      "adjusting range (107, 1093.4200000000001, 1104.98)\n",
      "adjusting range (108, 1104.98, 1117.8)\n",
      "adjusting range (109, 1117.8, 1128.98)\n",
      "adjusting range (110, 1128.98, 1139.98)\n",
      "adjusting range (111, 1139.98, 1152.98)\n",
      "adjusting range (112, 1152.98, 1164.98)\n",
      "adjusting range (113, 1164.98, 1179.98)\n",
      "adjusting range (114, 1179.98, 1194.98)\n",
      "adjusting range (115, 1194.98, 1207.8499999999999)\n",
      "adjusting range (116, 1207.8499999999999, 1219.98)\n",
      "adjusting range (117, 1219.98, 1234.98)\n",
      "adjusting range (118, 1234.98, 1249.98)\n",
      "adjusting range (119, 1249.98, 1266.04)\n",
      "adjusting range (120, 1266.04, 1279.98)\n",
      "adjusting range (121, 1279.98, 1298.98)\n",
      "adjusting range (122, 1298.98, 1309.98)\n",
      "adjusting range (123, 1309.98, 1329.98)\n",
      "adjusting range (124, 1329.98, 1349.98)\n",
      "adjusting range (125, 1349.98, 1369.98)\n",
      "adjusting range (126, 1369.98, 1389.98)\n",
      "adjusting range (127, 1389.98, 1409.98)\n",
      "adjusting range (128, 1409.98, 1429.98)\n",
      "adjusting range (129, 1429.98, 1452.3599999999999)\n",
      "adjusting range (130, 1452.3599999999999, 1479.98)\n",
      "adjusting range (131, 1479.98, 1509.98)\n",
      "adjusting range (132, 1509.98, 1540.98)\n",
      "adjusting range (133, 1540.98, 1579.98)\n",
      "adjusting range (134, 1579.98, 1626.98)\n",
      "adjusting range (135, 1626.98, 1678.98)\n",
      "adjusting range (136, 1678.98, 1739.98)\n",
      "adjusting range (137, 1739.98, 1833.98)\n",
      "adjusting range (138, 1833.98, 1969.98)\n",
      "adjusting range (139, 1969.98, 2491.3699999999999)\n",
      "adjusting range (140, 2491.3699999999999, 10097.959800000001)\n"
     ]
    }
   ],
   "source": [
    "bucket_counts = [0 for __ in xrange(int(num_buckets) + 1)]\n",
    "bucket_ranges = zip(xrange(int(num_buckets) + 1), buckets, buckets[1:])\n",
    "print len(training_data.PRICE)\n",
    "for i_, price in enumerate(training_data.PRICE):\n",
    "    for i, low, high in bucket_ranges:\n",
    "        if low <= price <= high:\n",
    "            bucket_counts[i] += 1\n",
    "            break\n",
    "    if bucket_ranges[0][-1] < price:\n",
    "        bucket_ranges = bucket_ranges[1:]\n",
    "        print 'adjusting range', bucket_ranges[0]"
   ]
  },
  {
   "cell_type": "code",
   "execution_count": 82,
   "metadata": {
    "collapsed": false
   },
   "outputs": [
    {
     "data": {
      "image/png": "[encoded data removed]",
      "text/plain": [
       "<matplotlib.figure.Figure at 0x47dd10b8>"
      ]
     },
     "metadata": {},
     "output_type": "display_data"
    }
   ],
   "source": [
    "%matplotlib inline\n",
    "pl.plot(bucket_counts)\n",
    "pl.show()"
   ]
  },
  {
   "cell_type": "markdown",
   "metadata": {},
   "source": [
    "I think bucket_counts looks better than bin_counts."
   ]
  },
  {
   "cell_type": "code",
   "execution_count": 83,
   "metadata": {
    "collapsed": false,
    "scrolled": true
   },
   "outputs": [
    {
     "name": "stdout",
     "output_type": "stream",
     "text": [
      "[0.0, 42.090000000000003, 54.539999999999999, 65.200000000000003, 75.180000000000007, 84.540000000000006, 93.579999999999998, 101.37, 109.22, 117.23, 124.98, 132.09999999999999, 139.38999999999999, 145.88, 151.69999999999999, 157.97, 163.19999999999999, 169.18000000000001, 173.97999999999999, 179.97999999999999, 185.28, 190.13999999999999, 195.49000000000001, 199.97999999999999, 204.97999999999999, 209.97999999999999, 215.28999999999999, 219.97999999999999, 225.03999999999999, 229.97999999999999, 235.31, 239.97999999999999, 245.40000000000001, 250.03999999999999, 256.12, 260.98000000000002, 268.79000000000002, 273.80000000000001, 279.98000000000002, 287.73000000000002, 294.49000000000001, 300.98000000000002, 309.98000000000002, 319.22000000000003, 326.98000000000002, 335.56, 343.29000000000002, 353.22000000000003, 362.81, 373.98000000000002, 384.76999999999998, 396.98000000000002, 409.23000000000002, 421.81, 435.98000000000002, 449.98000000000002, 464.98000000000002, 479.98000000000002, 495.54000000000002, 509.98000000000002, 525.97000000000003, 539.98000000000002, 549.98000000000002, 568.52999999999997, 579.98000000000002, 599.54999999999995, 612.55999999999995, 629.98000000000002, 648.80999999999995, 663.78999999999996, 679.98000000000002, 698.98000000000002, 709.98000000000002, 727.04999999999995, 739.98000000000002, 756.75999999999999, 769.98000000000002, 786.98000000000002, 799.98000000000002, 811.04999999999995, 825.73000000000002, 834.08000000000004, 848.49000000000001, 856.40999999999997, 868.47000000000003, 874.98000000000002, 886.92999999999995, 896.66999999999996, 903.41999999999996, 909.98000000000002, 919.98000000000002, 929.98000000000002, 939.98000000000002, 949.98000000000002, 959.98000000000002, 969.98000000000002, 979.98000000000002, 989.98000000000002, 999.98000000000002, 1009.98, 1019.98, 1029.98, 1039.98, 1049.98, 1061.98, 1073.9200000000001, 1081.98, 1093.4200000000001, 1104.98, 1117.8, 1128.98, 1139.98, 1152.98, 1164.98, 1179.98, 1194.98, 1207.8499999999999, 1219.98, 1234.98, 1249.98, 1266.04, 1279.98, 1298.98, 1309.98, 1329.98, 1349.98, 1369.98, 1389.98, 1409.98, 1429.98, 1452.3599999999999, 1479.98, 1509.98, 1540.98, 1579.98, 1626.98, 1678.98, 1739.98, 1833.98, 1969.98, 2491.3699999999999, 10097.959800000001]\n"
     ]
    }
   ],
   "source": [
    "print buckets"
   ]
  },
  {
   "cell_type": "code",
   "execution_count": 84,
   "metadata": {
    "collapsed": false
   },
   "outputs": [
    {
     "data": {
      "text/plain": [
       "142"
      ]
     },
     "execution_count": 84,
     "metadata": {},
     "output_type": "execute_result"
    }
   ],
   "source": [
    "len(buckets)"
   ]
  },
  {
   "cell_type": "code",
   "execution_count": 85,
   "metadata": {
    "collapsed": false
   },
   "outputs": [],
   "source": [
    "def convert(num, buckets=buckets, bucket_ranges=None):\n",
    "    \"\"\"go from 0..1 to larger\"\"\"\n",
    "    buckets = tuple(buckets)\n",
    "    if bucket_ranges is None:\n",
    "        bucket_ranges = itertools.izip(buckets, buckets[1:])\n",
    "    step = 1 / float(len(buckets))\n",
    "    cumsum = 0\n",
    "    for low, high in bucket_ranges:\n",
    "        if cumsum <= num < cumsum + step:\n",
    "            t = (num - cumsum) / step\n",
    "            return (1 - t) * low + t * high\n",
    "        cumsum += step\n",
    "    t = (num - (cumsum - step)) / step\n",
    "    return (1 - t) * low + t * high\n",
    "\n",
    "def reverse_convert(num, buckets, _range=range(12), cache={}):\n",
    "    \"\"\"go from larger to 0..1\"\"\"\n",
    "    buckets = tuple(buckets)\n",
    "    key = (num, buckets)\n",
    "    try:\n",
    "        return cache[key]\n",
    "    except KeyError:\n",
    "        pass\n",
    "    \n",
    "    # Binary search, because I couldn't spend time to figure it out properly... oh well\n",
    "    bucket_ranges = zip(buckets, buckets[1:])\n",
    "    high, low = 0., 1.\n",
    "    for __ in _range:\n",
    "        mid = (high + low) / 2.\n",
    "        result = convert(mid, buckets=buckets, bucket_ranges=bucket_ranges)\n",
    "        if abs(result - num) < 0.001:\n",
    "            break\n",
    "        if result > num:\n",
    "            low = mid\n",
    "        else:\n",
    "            high = mid\n",
    "            \n",
    "    cache[key] = mid\n",
    "    return mid"
   ]
  },
  {
   "cell_type": "code",
   "execution_count": 86,
   "metadata": {
    "collapsed": false
   },
   "outputs": [
    {
     "name": "stdout",
     "output_type": "stream",
     "text": [
      "9063.4635872\n",
      "9603.531463\n",
      "10143.5993388\n",
      "10683.6672146\n"
     ]
    }
   ],
   "source": [
    "print convert(.992)\n",
    "print convert(.9925)\n",
    "print convert(.993)\n",
    "print convert(.9935)"
   ]
  },
  {
   "cell_type": "code",
   "execution_count": 87,
   "metadata": {
    "collapsed": false
   },
   "outputs": [
    {
     "data": {
      "image/png": "[encoded data removed]",
      "text/plain": [
       "<matplotlib.figure.Figure at 0x4a7369940>"
      ]
     },
     "metadata": {},
     "output_type": "display_data"
    }
   ],
   "source": [
    "%matplotlib inline\n",
    "pl.plot([convert(i / 250.) for i in xrange(250)])\n",
    "pl.xlim([0, 200])\n",
    "pl.ylim([0, 1800])\n",
    "pl.show()"
   ]
  },
  {
   "cell_type": "code",
   "execution_count": 88,
   "metadata": {
    "collapsed": false
   },
   "outputs": [
    {
     "data": {
      "text/plain": [
       "0"
      ]
     },
     "execution_count": 88,
     "metadata": {},
     "output_type": "execute_result"
    }
   ],
   "source": [
    "reverse_convert_price = functools.partial(reverse_convert, buckets=buckets)\n",
    "training_data['PRICE'] = training_data['PRICE'].apply(reverse_convert_price)\n",
    "gc.collect()"
   ]
  },
  {
   "cell_type": "code",
   "execution_count": 89,
   "metadata": {
    "collapsed": false
   },
   "outputs": [
    {
     "data": {
      "text/html": [
       "<div>\n",
       "<table border=\"1\" class=\"dataframe\">\n",
       "  <thead>\n",
       "    <tr style=\"text-align: right;\">\n",
       "      <th></th>\n",
       "      <th>PRICE</th>\n",
       "    </tr>\n",
       "  </thead>\n",
       "  <tbody>\n",
       "    <tr>\n",
       "      <th>count</th>\n",
       "      <td>5000000.000000</td>\n",
       "    </tr>\n",
       "    <tr>\n",
       "      <th>mean</th>\n",
       "      <td>0.506741</td>\n",
       "    </tr>\n",
       "    <tr>\n",
       "      <th>std</th>\n",
       "      <td>0.285974</td>\n",
       "    </tr>\n",
       "    <tr>\n",
       "      <th>min</th>\n",
       "      <td>0.001709</td>\n",
       "    </tr>\n",
       "    <tr>\n",
       "      <th>25%</th>\n",
       "      <td>0.256592</td>\n",
       "    </tr>\n",
       "    <tr>\n",
       "      <th>50%</th>\n",
       "      <td>0.514893</td>\n",
       "    </tr>\n",
       "    <tr>\n",
       "      <th>75%</th>\n",
       "      <td>0.763428</td>\n",
       "    </tr>\n",
       "    <tr>\n",
       "      <th>max</th>\n",
       "      <td>0.992920</td>\n",
       "    </tr>\n",
       "  </tbody>\n",
       "</table>\n",
       "</div>"
      ],
      "text/plain": [
       "                PRICE\n",
       "count  5000000.000000\n",
       "mean         0.506741\n",
       "std          0.285974\n",
       "min          0.001709\n",
       "25%          0.256592\n",
       "50%          0.514893\n",
       "75%          0.763428\n",
       "max          0.992920"
      ]
     },
     "execution_count": 89,
     "metadata": {},
     "output_type": "execute_result"
    }
   ],
   "source": [
    "training_data.describe()"
   ]
  },
  {
   "cell_type": "markdown",
   "metadata": {},
   "source": [
    "#Timedeltas"
   ]
  },
  {
   "cell_type": "code",
   "execution_count": 90,
   "metadata": {
    "collapsed": true
   },
   "outputs": [],
   "source": [
    "training_data['SEARCH_TO_OUTBOUND'] = training_data.OUTBOUND_DATE - training_data.SEARCH_DATEHOUR"
   ]
  },
  {
   "cell_type": "code",
   "execution_count": 91,
   "metadata": {
    "collapsed": true
   },
   "outputs": [],
   "source": [
    "training_data['SEARCH_TO_INBOUND'] = training_data.INBOUND_DATE - training_data.SEARCH_DATEHOUR"
   ]
  },
  {
   "cell_type": "code",
   "execution_count": 92,
   "metadata": {
    "collapsed": true
   },
   "outputs": [],
   "source": [
    "del training_data['SEARCH_DATEHOUR']"
   ]
  },
  {
   "cell_type": "code",
   "execution_count": 93,
   "metadata": {
    "collapsed": true
   },
   "outputs": [],
   "source": [
    "training_data['OUTBOUND_TO_INBOUND'] = training_data.INBOUND_DATE - training_data.OUTBOUND_DATE"
   ]
  },
  {
   "cell_type": "code",
   "execution_count": 94,
   "metadata": {
    "collapsed": false
   },
   "outputs": [],
   "source": [
    "one_day = 1000000000 * 60 * 60 * 24\n",
    "oti_days = training_data.OUTBOUND_TO_INBOUND.map(lambda x: x.item() / one_day)"
   ]
  },
  {
   "cell_type": "code",
   "execution_count": 95,
   "metadata": {
    "collapsed": false
   },
   "outputs": [
    {
     "data": {
      "text/plain": [
       "<matplotlib.axes._subplots.AxesSubplot at 0x4b411c978>"
      ]
     },
     "execution_count": 95,
     "metadata": {},
     "output_type": "execute_result"
    },
    {
     "data": {
      "image/png": "[encoded data removed]",
      "text/plain": [
       "<matplotlib.figure.Figure at 0x4b411cc88>"
      ]
     },
     "metadata": {},
     "output_type": "display_data"
    }
   ],
   "source": [
    "oti_days.hist()"
   ]
  },
  {
   "cell_type": "code",
   "execution_count": 96,
   "metadata": {
    "collapsed": false,
    "scrolled": true
   },
   "outputs": [
    {
     "data": {
      "text/plain": [
       "<matplotlib.axes._subplots.AxesSubplot at 0x51f3fde10>"
      ]
     },
     "execution_count": 96,
     "metadata": {},
     "output_type": "execute_result"
    },
    {
     "data": {
      "image/png": "[encoded data removed]",
      "text/plain": [
       "<matplotlib.figure.Figure at 0x51ff4b668>"
      ]
     },
     "metadata": {},
     "output_type": "display_data"
    }
   ],
   "source": [
    "oti_days.sample(1000).hist()"
   ]
  },
  {
   "cell_type": "code",
   "execution_count": 97,
   "metadata": {
    "collapsed": false
   },
   "outputs": [],
   "source": [
    "oti_out, oti_bins = pandas.qcut(oti_days, 10, retbins=True)\n",
    "oti_bins[-1] = int(oti_bins[-1] * 1.01)"
   ]
  },
  {
   "cell_type": "code",
   "execution_count": 98,
   "metadata": {
    "collapsed": false
   },
   "outputs": [
    {
     "data": {
      "text/plain": [
       "array([   0.,    3.,    4.,    7.,    9.,   12.,   15.,   19.,   24.,\n",
       "         33.,  371.])"
      ]
     },
     "execution_count": 98,
     "metadata": {},
     "output_type": "execute_result"
    }
   ],
   "source": [
    "oti_bins"
   ]
  },
  {
   "cell_type": "code",
   "execution_count": 99,
   "metadata": {
    "collapsed": false
   },
   "outputs": [
    {
     "data": {
      "text/plain": [
       "[0, 3]       101\n",
       "(3, 4]        25\n",
       "(4, 7]        82\n",
       "(7, 9]        30\n",
       "(9, 12]       46\n",
       "(12, 15]      45\n",
       "(15, 19]      45\n",
       "(19, 24]      47\n",
       "(24, 33]      42\n",
       "(33, 368]     37\n",
       "dtype: int64"
      ]
     },
     "execution_count": 99,
     "metadata": {},
     "output_type": "execute_result"
    }
   ],
   "source": [
    "oti_out.sample(500).value_counts(sort=False)"
   ]
  },
  {
   "cell_type": "code",
   "execution_count": 100,
   "metadata": {
    "collapsed": false
   },
   "outputs": [
    {
     "data": {
      "text/plain": [
       "13.499999999999998"
      ]
     },
     "execution_count": 100,
     "metadata": {},
     "output_type": "execute_result"
    }
   ],
   "source": [
    "convert(0.5, oti_bins)"
   ]
  },
  {
   "cell_type": "code",
   "execution_count": 101,
   "metadata": {
    "collapsed": false
   },
   "outputs": [],
   "source": [
    "reverse_convert_oti = functools.partial(reverse_convert, buckets=oti_bins)\n",
    "scaled_oti_days = oti_days.apply(reverse_convert_oti)"
   ]
  },
  {
   "cell_type": "code",
   "execution_count": 102,
   "metadata": {
    "collapsed": false
   },
   "outputs": [
    {
     "data": {
      "text/plain": [
       "<matplotlib.axes._subplots.AxesSubplot at 0x51f442a90>"
      ]
     },
     "execution_count": 102,
     "metadata": {},
     "output_type": "execute_result"
    },
    {
     "data": {
      "image/png": "[encoded data removed]",
      "text/plain": [
       "<matplotlib.figure.Figure at 0x11c09b518>"
      ]
     },
     "metadata": {},
     "output_type": "display_data"
    }
   ],
   "source": [
    "scaled_oti_days.hist()"
   ]
  },
  {
   "cell_type": "code",
   "execution_count": 103,
   "metadata": {
    "collapsed": false
   },
   "outputs": [
    {
     "data": {
      "text/plain": [
       "count    5000000.000000\n",
       "mean           0.445235\n",
       "std            0.256802\n",
       "min            0.000244\n",
       "25%            0.242432\n",
       "50%            0.454346\n",
       "75%            0.672607\n",
       "max            0.908447\n",
       "Name: OUTBOUND_TO_INBOUND, dtype: float64"
      ]
     },
     "execution_count": 103,
     "metadata": {},
     "output_type": "execute_result"
    }
   ],
   "source": [
    "scaled_oti_days.describe()"
   ]
  },
  {
   "cell_type": "code",
   "execution_count": 104,
   "metadata": {
    "collapsed": false
   },
   "outputs": [
    {
     "data": {
      "text/plain": [
       "16"
      ]
     },
     "execution_count": 104,
     "metadata": {},
     "output_type": "execute_result"
    }
   ],
   "source": [
    "training_data['OUTBOUND_TO_INBOUND'] = scaled_oti_days\n",
    "gc.collect()"
   ]
  },
  {
   "cell_type": "code",
   "execution_count": 105,
   "metadata": {
    "collapsed": false
   },
   "outputs": [
    {
     "data": {
      "text/plain": [
       "<matplotlib.axes._subplots.AxesSubplot at 0x13249c390>"
      ]
     },
     "execution_count": 105,
     "metadata": {},
     "output_type": "execute_result"
    },
    {
     "data": {
      "image/png": "[encoded data removed]",
      "text/plain": [
       "<matplotlib.figure.Figure at 0x4a738ae80>"
      ]
     },
     "metadata": {},
     "output_type": "display_data"
    }
   ],
   "source": [
    "one_day = 1000000000 * 60 * 60 * 24\n",
    "sto_days = training_data.SEARCH_TO_OUTBOUND.map(lambda x: x.item() / one_day)\n",
    "sto_days.hist()"
   ]
  },
  {
   "cell_type": "code",
   "execution_count": 106,
   "metadata": {
    "collapsed": false
   },
   "outputs": [
    {
     "data": {
      "text/plain": [
       "array([ -25.,   15.,   29.,   43.,   61.,   81.,  112.,  146.,  180.,\n",
       "        215.,  400.])"
      ]
     },
     "execution_count": 106,
     "metadata": {},
     "output_type": "execute_result"
    }
   ],
   "source": [
    "sto_out, sto_bins = pandas.qcut(sto_days, 10, retbins=True)\n",
    "sto_bins[-1] = int(sto_bins[-1] * 1.01)\n",
    "sto_bins"
   ]
  },
  {
   "cell_type": "code",
   "execution_count": 107,
   "metadata": {
    "collapsed": false
   },
   "outputs": [
    {
     "data": {
      "text/plain": [
       "[-25, 15]     46\n",
       "(15, 29]      51\n",
       "(29, 43]      51\n",
       "(43, 61]      51\n",
       "(61, 81]      65\n",
       "(81, 112]     48\n",
       "(112, 146]    41\n",
       "(146, 180]    56\n",
       "(180, 215]    47\n",
       "(215, 397]    44\n",
       "dtype: int64"
      ]
     },
     "execution_count": 107,
     "metadata": {},
     "output_type": "execute_result"
    }
   ],
   "source": [
    "sto_out.sample(500).value_counts(sort=False)"
   ]
  },
  {
   "cell_type": "code",
   "execution_count": 108,
   "metadata": {
    "collapsed": false
   },
   "outputs": [
    {
     "data": {
      "text/plain": [
       "0"
      ]
     },
     "execution_count": 108,
     "metadata": {},
     "output_type": "execute_result"
    }
   ],
   "source": [
    "reverse_convert_sto = functools.partial(reverse_convert, buckets=sto_bins)\n",
    "training_data['SEARCH_TO_OUTBOUND'] = sto_days.apply(reverse_convert_sto)\n",
    "gc.collect()"
   ]
  },
  {
   "cell_type": "code",
   "execution_count": 109,
   "metadata": {
    "collapsed": false
   },
   "outputs": [
    {
     "name": "stdout",
     "output_type": "stream",
     "text": [
      "[  -1.   27.   43.   60.   79.   99.  131.  166.  202.  235.  408.]\n"
     ]
    },
    {
     "data": {
      "text/plain": [
       "14"
      ]
     },
     "execution_count": 109,
     "metadata": {},
     "output_type": "execute_result"
    }
   ],
   "source": [
    "sti_days = training_data.SEARCH_TO_INBOUND.map(lambda x: x.item() / one_day)\n",
    "sti_out, sti_bins = pandas.qcut(sti_days, 10, retbins=True)\n",
    "sti_bins[-1] = int(sti_bins[-1] * 1.01)\n",
    "print sti_bins\n",
    "reverse_convert_sti = functools.partial(reverse_convert, buckets=sti_bins)\n",
    "training_data['SEARCH_TO_INBOUND'] = sti_days.apply(reverse_convert_sti)\n",
    "gc.collect()"
   ]
  },
  {
   "cell_type": "code",
   "execution_count": 110,
   "metadata": {
    "collapsed": false
   },
   "outputs": [
    {
     "data": {
      "text/html": [
       "<div>\n",
       "<table border=\"1\" class=\"dataframe\">\n",
       "  <thead>\n",
       "    <tr style=\"text-align: right;\">\n",
       "      <th></th>\n",
       "      <th>PRICE</th>\n",
       "      <th>SEARCH_TO_OUTBOUND</th>\n",
       "      <th>SEARCH_TO_INBOUND</th>\n",
       "      <th>OUTBOUND_TO_INBOUND</th>\n",
       "    </tr>\n",
       "  </thead>\n",
       "  <tbody>\n",
       "    <tr>\n",
       "      <th>count</th>\n",
       "      <td>5000000.000000</td>\n",
       "      <td>5000000.000000</td>\n",
       "      <td>5000000.000000</td>\n",
       "      <td>5000000.000000</td>\n",
       "    </tr>\n",
       "    <tr>\n",
       "      <th>mean</th>\n",
       "      <td>0.506741</td>\n",
       "      <td>0.453634</td>\n",
       "      <td>0.452273</td>\n",
       "      <td>0.445235</td>\n",
       "    </tr>\n",
       "    <tr>\n",
       "      <th>std</th>\n",
       "      <td>0.285974</td>\n",
       "      <td>0.253537</td>\n",
       "      <td>0.256176</td>\n",
       "      <td>0.256802</td>\n",
       "    </tr>\n",
       "    <tr>\n",
       "      <th>min</th>\n",
       "      <td>0.001709</td>\n",
       "      <td>0.000244</td>\n",
       "      <td>0.000244</td>\n",
       "      <td>0.000244</td>\n",
       "    </tr>\n",
       "    <tr>\n",
       "      <th>25%</th>\n",
       "      <td>0.256592</td>\n",
       "      <td>0.220947</td>\n",
       "      <td>0.224365</td>\n",
       "      <td>0.242432</td>\n",
       "    </tr>\n",
       "    <tr>\n",
       "      <th>50%</th>\n",
       "      <td>0.514893</td>\n",
       "      <td>0.454346</td>\n",
       "      <td>0.454346</td>\n",
       "      <td>0.454346</td>\n",
       "    </tr>\n",
       "    <tr>\n",
       "      <th>75%</th>\n",
       "      <td>0.763428</td>\n",
       "      <td>0.681885</td>\n",
       "      <td>0.681885</td>\n",
       "      <td>0.672607</td>\n",
       "    </tr>\n",
       "    <tr>\n",
       "      <th>max</th>\n",
       "      <td>0.992920</td>\n",
       "      <td>0.907471</td>\n",
       "      <td>0.906982</td>\n",
       "      <td>0.908447</td>\n",
       "    </tr>\n",
       "  </tbody>\n",
       "</table>\n",
       "</div>"
      ],
      "text/plain": [
       "                PRICE  SEARCH_TO_OUTBOUND  SEARCH_TO_INBOUND  \\\n",
       "count  5000000.000000      5000000.000000     5000000.000000   \n",
       "mean         0.506741            0.453634           0.452273   \n",
       "std          0.285974            0.253537           0.256176   \n",
       "min          0.001709            0.000244           0.000244   \n",
       "25%          0.256592            0.220947           0.224365   \n",
       "50%          0.514893            0.454346           0.454346   \n",
       "75%          0.763428            0.681885           0.681885   \n",
       "max          0.992920            0.907471           0.906982   \n",
       "\n",
       "       OUTBOUND_TO_INBOUND  \n",
       "count       5000000.000000  \n",
       "mean              0.445235  \n",
       "std               0.256802  \n",
       "min               0.000244  \n",
       "25%               0.242432  \n",
       "50%               0.454346  \n",
       "75%               0.672607  \n",
       "max               0.908447  "
      ]
     },
     "execution_count": 110,
     "metadata": {},
     "output_type": "execute_result"
    }
   ],
   "source": [
    "training_data.describe()"
   ]
  },
  {
   "cell_type": "markdown",
   "metadata": {},
   "source": [
    "#Airports data"
   ]
  },
  {
   "cell_type": "code",
   "execution_count": 111,
   "metadata": {
    "collapsed": true
   },
   "outputs": [],
   "source": [
    "airports_data = pandas.read_csv(airports_fname)"
   ]
  },
  {
   "cell_type": "code",
   "execution_count": 112,
   "metadata": {
    "collapsed": true
   },
   "outputs": [],
   "source": [
    "training_merged = pandas.merge(training_data, airports_data, left_on='ORIGIN', right_on='AIRPORT')\n",
    "del training_data"
   ]
  },
  {
   "cell_type": "code",
   "execution_count": 113,
   "metadata": {
    "collapsed": false
   },
   "outputs": [
    {
     "data": {
      "text/html": [
       "<div>\n",
       "<table border=\"1\" class=\"dataframe\">\n",
       "  <thead>\n",
       "    <tr style=\"text-align: right;\">\n",
       "      <th></th>\n",
       "      <th>ORIGIN</th>\n",
       "      <th>DESTINATION</th>\n",
       "      <th>OUTBOUND_DATE</th>\n",
       "      <th>INBOUND_DATE</th>\n",
       "      <th>PRICE</th>\n",
       "      <th>MARKETS</th>\n",
       "      <th>SEARCH_TO_OUTBOUND</th>\n",
       "      <th>SEARCH_TO_INBOUND</th>\n",
       "      <th>OUTBOUND_TO_INBOUND</th>\n",
       "      <th>COUNTRY</th>\n",
       "      <th>LATITUDE</th>\n",
       "      <th>LONGITUDE</th>\n",
       "      <th>TRAFFIC</th>\n",
       "    </tr>\n",
       "  </thead>\n",
       "  <tbody>\n",
       "    <tr>\n",
       "      <th>0</th>\n",
       "      <td>SZZ</td>\n",
       "      <td>RYG</td>\n",
       "      <td>2016-01-15</td>\n",
       "      <td>2016-01-25</td>\n",
       "      <td>0.001709</td>\n",
       "      <td>ES</td>\n",
       "      <td>0.079346</td>\n",
       "      <td>0.068115</td>\n",
       "      <td>0.393799</td>\n",
       "      <td>PL</td>\n",
       "      <td>53.583333</td>\n",
       "      <td>14.9</td>\n",
       "      <td>76133</td>\n",
       "    </tr>\n",
       "    <tr>\n",
       "      <th>1</th>\n",
       "      <td>SZZ</td>\n",
       "      <td>STN</td>\n",
       "      <td>2016-01-20</td>\n",
       "      <td>2016-01-27</td>\n",
       "      <td>0.002686</td>\n",
       "      <td>PL</td>\n",
       "      <td>0.097412</td>\n",
       "      <td>0.077881</td>\n",
       "      <td>0.272705</td>\n",
       "      <td>PL</td>\n",
       "      <td>53.583333</td>\n",
       "      <td>14.9</td>\n",
       "      <td>76133</td>\n",
       "    </tr>\n",
       "    <tr>\n",
       "      <th>2</th>\n",
       "      <td>SZZ</td>\n",
       "      <td>RYG</td>\n",
       "      <td>2016-01-29</td>\n",
       "      <td>2016-02-01</td>\n",
       "      <td>0.002686</td>\n",
       "      <td>PL</td>\n",
       "      <td>0.129639</td>\n",
       "      <td>0.081299</td>\n",
       "      <td>0.091064</td>\n",
       "      <td>PL</td>\n",
       "      <td>53.583333</td>\n",
       "      <td>14.9</td>\n",
       "      <td>76133</td>\n",
       "    </tr>\n",
       "    <tr>\n",
       "      <th>3</th>\n",
       "      <td>SZZ</td>\n",
       "      <td>STN</td>\n",
       "      <td>2016-03-05</td>\n",
       "      <td>2016-03-06</td>\n",
       "      <td>0.003662</td>\n",
       "      <td>PL</td>\n",
       "      <td>0.343506</td>\n",
       "      <td>0.261963</td>\n",
       "      <td>0.030273</td>\n",
       "      <td>PL</td>\n",
       "      <td>53.583333</td>\n",
       "      <td>14.9</td>\n",
       "      <td>76133</td>\n",
       "    </tr>\n",
       "    <tr>\n",
       "      <th>4</th>\n",
       "      <td>SZZ</td>\n",
       "      <td>SVG</td>\n",
       "      <td>2016-01-16</td>\n",
       "      <td>2016-01-19</td>\n",
       "      <td>0.004150</td>\n",
       "      <td>PL</td>\n",
       "      <td>0.074951</td>\n",
       "      <td>0.038818</td>\n",
       "      <td>0.091064</td>\n",
       "      <td>PL</td>\n",
       "      <td>53.583333</td>\n",
       "      <td>14.9</td>\n",
       "      <td>76133</td>\n",
       "    </tr>\n",
       "  </tbody>\n",
       "</table>\n",
       "</div>"
      ],
      "text/plain": [
       "  ORIGIN DESTINATION OUTBOUND_DATE INBOUND_DATE     PRICE MARKETS  \\\n",
       "0    SZZ         RYG    2016-01-15   2016-01-25  0.001709      ES   \n",
       "1    SZZ         STN    2016-01-20   2016-01-27  0.002686      PL   \n",
       "2    SZZ         RYG    2016-01-29   2016-02-01  0.002686      PL   \n",
       "3    SZZ         STN    2016-03-05   2016-03-06  0.003662      PL   \n",
       "4    SZZ         SVG    2016-01-16   2016-01-19  0.004150      PL   \n",
       "\n",
       "   SEARCH_TO_OUTBOUND  SEARCH_TO_INBOUND  OUTBOUND_TO_INBOUND COUNTRY  \\\n",
       "0            0.079346           0.068115             0.393799      PL   \n",
       "1            0.097412           0.077881             0.272705      PL   \n",
       "2            0.129639           0.081299             0.091064      PL   \n",
       "3            0.343506           0.261963             0.030273      PL   \n",
       "4            0.074951           0.038818             0.091064      PL   \n",
       "\n",
       "    LATITUDE  LONGITUDE  TRAFFIC  \n",
       "0  53.583333       14.9    76133  \n",
       "1  53.583333       14.9    76133  \n",
       "2  53.583333       14.9    76133  \n",
       "3  53.583333       14.9    76133  \n",
       "4  53.583333       14.9    76133  "
      ]
     },
     "execution_count": 113,
     "metadata": {},
     "output_type": "execute_result"
    }
   ],
   "source": [
    "for key in ('AIRPORT', 'CITY', 'CONTINENT'):\n",
    "    del training_merged[key]\n",
    "training_merged.head()"
   ]
  },
  {
   "cell_type": "code",
   "execution_count": 114,
   "metadata": {
    "collapsed": true
   },
   "outputs": [],
   "source": [
    "for key in ('COUNTRY', 'LATITUDE', 'LONGITUDE', 'TRAFFIC'):\n",
    "    training_merged['ORIGIN_' + key] = training_merged[key]\n",
    "    del training_merged[key]"
   ]
  },
  {
   "cell_type": "code",
   "execution_count": 115,
   "metadata": {
    "collapsed": false,
    "scrolled": true
   },
   "outputs": [
    {
     "data": {
      "text/html": [
       "<div>\n",
       "<table border=\"1\" class=\"dataframe\">\n",
       "  <thead>\n",
       "    <tr style=\"text-align: right;\">\n",
       "      <th></th>\n",
       "      <th>ORIGIN</th>\n",
       "      <th>DESTINATION</th>\n",
       "      <th>OUTBOUND_DATE</th>\n",
       "      <th>INBOUND_DATE</th>\n",
       "      <th>PRICE</th>\n",
       "      <th>MARKETS</th>\n",
       "      <th>SEARCH_TO_OUTBOUND</th>\n",
       "      <th>SEARCH_TO_INBOUND</th>\n",
       "      <th>OUTBOUND_TO_INBOUND</th>\n",
       "      <th>ORIGIN_COUNTRY</th>\n",
       "      <th>ORIGIN_LATITUDE</th>\n",
       "      <th>ORIGIN_LONGITUDE</th>\n",
       "      <th>ORIGIN_TRAFFIC</th>\n",
       "      <th>DESTINATION_COUNTRY</th>\n",
       "      <th>DESTINATION_LATITUDE</th>\n",
       "      <th>DESTINATION_LONGITUDE</th>\n",
       "      <th>DESTINATION_TRAFFIC</th>\n",
       "    </tr>\n",
       "  </thead>\n",
       "  <tbody>\n",
       "    <tr>\n",
       "      <th>0</th>\n",
       "      <td>SZZ</td>\n",
       "      <td>RYG</td>\n",
       "      <td>2016-01-15</td>\n",
       "      <td>2016-01-25</td>\n",
       "      <td>0.001709</td>\n",
       "      <td>ES</td>\n",
       "      <td>0.079346</td>\n",
       "      <td>0.068115</td>\n",
       "      <td>0.393799</td>\n",
       "      <td>PL</td>\n",
       "      <td>53.583333</td>\n",
       "      <td>14.900000</td>\n",
       "      <td>76133</td>\n",
       "      <td>NO</td>\n",
       "      <td>59.3789</td>\n",
       "      <td>10.7856</td>\n",
       "      <td>278640</td>\n",
       "    </tr>\n",
       "    <tr>\n",
       "      <th>1</th>\n",
       "      <td>SZZ</td>\n",
       "      <td>RYG</td>\n",
       "      <td>2016-01-29</td>\n",
       "      <td>2016-02-01</td>\n",
       "      <td>0.002686</td>\n",
       "      <td>PL</td>\n",
       "      <td>0.129639</td>\n",
       "      <td>0.081299</td>\n",
       "      <td>0.091064</td>\n",
       "      <td>PL</td>\n",
       "      <td>53.583333</td>\n",
       "      <td>14.900000</td>\n",
       "      <td>76133</td>\n",
       "      <td>NO</td>\n",
       "      <td>59.3789</td>\n",
       "      <td>10.7856</td>\n",
       "      <td>278640</td>\n",
       "    </tr>\n",
       "    <tr>\n",
       "      <th>2</th>\n",
       "      <td>SZZ</td>\n",
       "      <td>RYG</td>\n",
       "      <td>2016-01-08</td>\n",
       "      <td>2016-01-11</td>\n",
       "      <td>0.010010</td>\n",
       "      <td>PL</td>\n",
       "      <td>0.063721</td>\n",
       "      <td>0.022705</td>\n",
       "      <td>0.091064</td>\n",
       "      <td>PL</td>\n",
       "      <td>53.583333</td>\n",
       "      <td>14.900000</td>\n",
       "      <td>76133</td>\n",
       "      <td>NO</td>\n",
       "      <td>59.3789</td>\n",
       "      <td>10.7856</td>\n",
       "      <td>278640</td>\n",
       "    </tr>\n",
       "    <tr>\n",
       "      <th>3</th>\n",
       "      <td>WMI</td>\n",
       "      <td>RYG</td>\n",
       "      <td>2016-02-04</td>\n",
       "      <td>2016-02-16</td>\n",
       "      <td>0.002686</td>\n",
       "      <td>PL</td>\n",
       "      <td>0.156006</td>\n",
       "      <td>0.147705</td>\n",
       "      <td>0.454346</td>\n",
       "      <td>PL</td>\n",
       "      <td>52.460298</td>\n",
       "      <td>20.657294</td>\n",
       "      <td>932470</td>\n",
       "      <td>NO</td>\n",
       "      <td>59.3789</td>\n",
       "      <td>10.7856</td>\n",
       "      <td>278640</td>\n",
       "    </tr>\n",
       "    <tr>\n",
       "      <th>4</th>\n",
       "      <td>WMI</td>\n",
       "      <td>RYG</td>\n",
       "      <td>2016-02-26</td>\n",
       "      <td>2016-02-28</td>\n",
       "      <td>0.002686</td>\n",
       "      <td>PL</td>\n",
       "      <td>0.298096</td>\n",
       "      <td>0.219482</td>\n",
       "      <td>0.060791</td>\n",
       "      <td>PL</td>\n",
       "      <td>52.460298</td>\n",
       "      <td>20.657294</td>\n",
       "      <td>932470</td>\n",
       "      <td>NO</td>\n",
       "      <td>59.3789</td>\n",
       "      <td>10.7856</td>\n",
       "      <td>278640</td>\n",
       "    </tr>\n",
       "  </tbody>\n",
       "</table>\n",
       "</div>"
      ],
      "text/plain": [
       "  ORIGIN DESTINATION OUTBOUND_DATE INBOUND_DATE     PRICE MARKETS  \\\n",
       "0    SZZ         RYG    2016-01-15   2016-01-25  0.001709      ES   \n",
       "1    SZZ         RYG    2016-01-29   2016-02-01  0.002686      PL   \n",
       "2    SZZ         RYG    2016-01-08   2016-01-11  0.010010      PL   \n",
       "3    WMI         RYG    2016-02-04   2016-02-16  0.002686      PL   \n",
       "4    WMI         RYG    2016-02-26   2016-02-28  0.002686      PL   \n",
       "\n",
       "   SEARCH_TO_OUTBOUND  SEARCH_TO_INBOUND  OUTBOUND_TO_INBOUND ORIGIN_COUNTRY  \\\n",
       "0            0.079346           0.068115             0.393799             PL   \n",
       "1            0.129639           0.081299             0.091064             PL   \n",
       "2            0.063721           0.022705             0.091064             PL   \n",
       "3            0.156006           0.147705             0.454346             PL   \n",
       "4            0.298096           0.219482             0.060791             PL   \n",
       "\n",
       "   ORIGIN_LATITUDE  ORIGIN_LONGITUDE  ORIGIN_TRAFFIC DESTINATION_COUNTRY  \\\n",
       "0        53.583333         14.900000           76133                  NO   \n",
       "1        53.583333         14.900000           76133                  NO   \n",
       "2        53.583333         14.900000           76133                  NO   \n",
       "3        52.460298         20.657294          932470                  NO   \n",
       "4        52.460298         20.657294          932470                  NO   \n",
       "\n",
       "   DESTINATION_LATITUDE  DESTINATION_LONGITUDE  DESTINATION_TRAFFIC  \n",
       "0               59.3789                10.7856               278640  \n",
       "1               59.3789                10.7856               278640  \n",
       "2               59.3789                10.7856               278640  \n",
       "3               59.3789                10.7856               278640  \n",
       "4               59.3789                10.7856               278640  "
      ]
     },
     "execution_count": 115,
     "metadata": {},
     "output_type": "execute_result"
    }
   ],
   "source": [
    "training_merged = pandas.merge(training_merged, airports_data, left_on='DESTINATION', right_on='AIRPORT')\n",
    "for key in ('AIRPORT', 'CITY', 'CONTINENT'):\n",
    "    del training_merged[key]\n",
    "for key in ('COUNTRY', 'LATITUDE', 'LONGITUDE', 'TRAFFIC'):\n",
    "    training_merged['DESTINATION_' + key] = training_merged[key]\n",
    "    del training_merged[key]\n",
    "training_merged.head()"
   ]
  },
  {
   "cell_type": "code",
   "execution_count": 116,
   "metadata": {
    "collapsed": false,
    "scrolled": true
   },
   "outputs": [
    {
     "data": {
      "text/plain": [
       "91"
      ]
     },
     "execution_count": 116,
     "metadata": {},
     "output_type": "execute_result"
    }
   ],
   "source": [
    "#training_merged = training_merged.sort('PRICE')\n",
    "del airports_data\n",
    "gc.collect()"
   ]
  },
  {
   "cell_type": "code",
   "execution_count": 117,
   "metadata": {
    "collapsed": false
   },
   "outputs": [],
   "source": [
    "#for key in (\n",
    "#    'ORIGIN', 'DESTINATION', 'ORIGIN_CITY', 'ORIGIN_COUNTRY', \n",
    "#    'ORIGIN_CONTINENT', 'DESTINATION_CITY', 'DESTINATION_COUNTRY', \n",
    "#    'DESTINATION_CONTINENT',\n",
    "#):\n",
    "#    training_merged[key] = training_merged[key].astype('category')\n",
    "#training_merged.head()"
   ]
  },
  {
   "cell_type": "markdown",
   "metadata": {},
   "source": [
    "#Categorical data (one-hot encodings)"
   ]
  },
  {
   "cell_type": "markdown",
   "metadata": {},
   "source": [
    "##Markets"
   ]
  },
  {
   "cell_type": "code",
   "execution_count": 118,
   "metadata": {
    "collapsed": false
   },
   "outputs": [
    {
     "name": "stdout",
     "output_type": "stream",
     "text": [
      "[('**', 3442333), ('UK', 487969), ('US', 213188), ('IT', 152141), ('FR', 150781), ('DE', 146748), ('ES', 142819), ('SK', 105670), ('TR', 101978), ('AT', 99244)]\n"
     ]
    }
   ],
   "source": [
    "market_counts = Counter(\n",
    "    market\n",
    "    for __, marketlist in \n",
    "    training_merged.MARKETS.iteritems()\n",
    "    for market in\n",
    "    marketlist.split(';')\n",
    ")\n",
    "print market_counts.most_common(10)"
   ]
  },
  {
   "cell_type": "code",
   "execution_count": 119,
   "metadata": {
    "collapsed": false
   },
   "outputs": [
    {
     "data": {
      "text/plain": [
       "248"
      ]
     },
     "execution_count": 119,
     "metadata": {},
     "output_type": "execute_result"
    }
   ],
   "source": [
    "len(market_counts)"
   ]
  },
  {
   "cell_type": "code",
   "execution_count": 120,
   "metadata": {
    "collapsed": false
   },
   "outputs": [
    {
     "name": "stdout",
     "output_type": "stream",
     "text": [
      "['**', 'UK', 'US', 'IT', 'FR', 'DE', 'ES', 'SK', 'TR', 'AT', 'PL', 'PT', 'RU', 'IE', 'HU', 'CZ', 'GR', 'BR', 'BG', 'RO', 'NL', 'CH', 'TW', 'HK', 'MT', 'IL', 'BE', 'SA', 'CA', 'KW', 'MO', 'SI', 'QA', 'KZ', 'BH', 'IS', 'OM', 'BY', 'GE', 'ME', 'MD', 'LB', 'AZ', 'AD', 'SM', 'VA', 'HR', 'LI', 'BA', 'GL', 'FO', 'MK', 'KO', 'BV', 'MN', 'LU', 'WF', 'TF', 'BN', 'WS', 'TL', 'GU', 'PW', 'PG', 'PN', 'MP', 'FJ', 'FM', 'VU', 'NU', 'CK', 'CC', 'CX', 'KH', 'SB', 'TV', 'TO', 'TK', 'AS', 'LK', 'MV', 'BT', 'BQ', 'GS', 'HM', 'MH', 'UM', 'MS', 'NF', 'CW', 'SX', 'KI', 'SJ', 'LA', 'AN', 'AQ', 'IO', 'MC', 'RS']\n"
     ]
    }
   ],
   "source": [
    "most_common_markets = [market for market, __ in market_counts.most_common(99)]\n",
    "print most_common_markets"
   ]
  },
  {
   "cell_type": "code",
   "execution_count": 121,
   "metadata": {
    "collapsed": false
   },
   "outputs": [
    {
     "name": "stdout",
     "output_type": "stream",
     "text": [
      "0\n",
      "1000000\n",
      "2000000\n",
      "3000000\n",
      "4000000\n"
     ]
    }
   ],
   "source": [
    "market_onehots = np.zeros((len(training_merged.MARKETS), 100), dtype='bool')\n",
    "for i, (marketlist, onehot) in enumerate(itertools.izip(training_merged.MARKETS, market_onehots)):\n",
    "    ms = marketlist.split(';')\n",
    "    for m in ms:\n",
    "        try:\n",
    "            onehot[most_common_markets.index(m)] = True\n",
    "        except ValueError:\n",
    "            onehot[-1] = True\n",
    "    if not i % 1000000:\n",
    "        print i"
   ]
  },
  {
   "cell_type": "code",
   "execution_count": 122,
   "metadata": {
    "collapsed": false,
    "scrolled": false
   },
   "outputs": [
    {
     "data": {
      "text/plain": [
       "4999998                                                   **\n",
       "4999999    VN;IN;KW;ID;HM;TH;TR;UM;MY;MH;IL;GI;NF;MO;TW;W...\n",
       "Name: MARKETS, dtype: object"
      ]
     },
     "execution_count": 122,
     "metadata": {},
     "output_type": "execute_result"
    }
   ],
   "source": [
    "training_merged.MARKETS.tail(2)"
   ]
  },
  {
   "cell_type": "code",
   "execution_count": 123,
   "metadata": {
    "collapsed": false
   },
   "outputs": [
    {
     "data": {
      "text/plain": [
       "83"
      ]
     },
     "execution_count": 123,
     "metadata": {},
     "output_type": "execute_result"
    }
   ],
   "source": [
    "sum(market_onehots[-1])"
   ]
  },
  {
   "cell_type": "code",
   "execution_count": 124,
   "metadata": {
    "collapsed": false
   },
   "outputs": [
    {
     "data": {
      "text/plain": [
       "1"
      ]
     },
     "execution_count": 124,
     "metadata": {},
     "output_type": "execute_result"
    }
   ],
   "source": [
    "sum(market_onehots[-2])"
   ]
  },
  {
   "cell_type": "code",
   "execution_count": 125,
   "metadata": {
    "collapsed": false
   },
   "outputs": [
    {
     "data": {
      "text/plain": [
       "9"
      ]
     },
     "execution_count": 125,
     "metadata": {},
     "output_type": "execute_result"
    }
   ],
   "source": [
    "import gc\n",
    "gc.collect()"
   ]
  },
  {
   "cell_type": "code",
   "execution_count": 126,
   "metadata": {
    "collapsed": false
   },
   "outputs": [
    {
     "data": {
      "text/plain": [
       "array([False, False, False, False, False, False,  True, False, False,\n",
       "       False, False, False, False, False, False, False, False, False,\n",
       "       False, False, False, False, False, False, False, False, False,\n",
       "       False, False, False, False, False, False, False, False, False,\n",
       "       False, False, False, False, False, False, False, False, False,\n",
       "       False, False, False, False, False, False, False, False, False,\n",
       "       False, False, False, False, False, False, False, False, False,\n",
       "       False, False, False, False, False, False, False, False, False,\n",
       "       False, False, False, False, False, False, False, False, False,\n",
       "       False, False, False, False, False, False, False, False, False,\n",
       "       False, False, False, False, False, False, False, False, False, False], dtype=bool)"
      ]
     },
     "execution_count": 126,
     "metadata": {},
     "output_type": "execute_result"
    }
   ],
   "source": [
    "training_merged['MARKETS'] = list(market_onehots)\n",
    "training_merged.MARKETS.loc[0]"
   ]
  },
  {
   "cell_type": "code",
   "execution_count": 127,
   "metadata": {
    "collapsed": false
   },
   "outputs": [
    {
     "data": {
      "text/plain": [
       "10"
      ]
     },
     "execution_count": 127,
     "metadata": {},
     "output_type": "execute_result"
    }
   ],
   "source": [
    "del market_onehots\n",
    "gc.collect()"
   ]
  },
  {
   "cell_type": "code",
   "execution_count": 128,
   "metadata": {
    "collapsed": false
   },
   "outputs": [
    {
     "data": {
      "text/plain": [
       "0    [False, False, False, False, False, False, Tru...\n",
       "1    [False, False, False, False, False, False, Fal...\n",
       "2    [False, False, False, False, False, False, Fal...\n",
       "3    [False, False, False, False, False, False, Fal...\n",
       "4    [False, False, False, False, False, False, Fal...\n",
       "Name: MARKETS, dtype: object"
      ]
     },
     "execution_count": 128,
     "metadata": {},
     "output_type": "execute_result"
    }
   ],
   "source": [
    "training_merged.MARKETS.head()"
   ]
  },
  {
   "cell_type": "code",
   "execution_count": 129,
   "metadata": {
    "collapsed": false
   },
   "outputs": [
    {
     "data": {
      "text/plain": [
       "ORIGIN                           object\n",
       "DESTINATION                      object\n",
       "OUTBOUND_DATE            datetime64[ns]\n",
       "INBOUND_DATE             datetime64[ns]\n",
       "PRICE                           float64\n",
       "MARKETS                          object\n",
       "SEARCH_TO_OUTBOUND              float64\n",
       "SEARCH_TO_INBOUND               float64\n",
       "OUTBOUND_TO_INBOUND             float64\n",
       "ORIGIN_COUNTRY                   object\n",
       "ORIGIN_LATITUDE                 float64\n",
       "ORIGIN_LONGITUDE                float64\n",
       "ORIGIN_TRAFFIC                    int64\n",
       "DESTINATION_COUNTRY              object\n",
       "DESTINATION_LATITUDE            float64\n",
       "DESTINATION_LONGITUDE           float64\n",
       "DESTINATION_TRAFFIC               int64\n",
       "dtype: object"
      ]
     },
     "execution_count": 129,
     "metadata": {},
     "output_type": "execute_result"
    }
   ],
   "source": [
    "training_merged.dtypes"
   ]
  },
  {
   "cell_type": "markdown",
   "metadata": {},
   "source": [
    "##Other"
   ]
  },
  {
   "cell_type": "code",
   "execution_count": 130,
   "metadata": {
    "collapsed": true
   },
   "outputs": [],
   "source": [
    "def make_onehot(df, field, size):\n",
    "    series = df[field]\n",
    "    counts = Counter(series)\n",
    "    print len(counts)\n",
    "    most_common = [item for item, __ in counts.most_common(size)]\n",
    "    print most_common\n",
    "    most_common_set = frozenset(most_common)\n",
    "    excluded = sum(place not in most_common_set for place in series) / float(len(series))\n",
    "    print excluded\n",
    "    zeros_size = len(most_common) + (1 if excluded > 0 else 0)\n",
    "    onehots = np.zeros((len(series), zeros_size), dtype='bool')\n",
    "    most_common_index = most_common.index\n",
    "    for i, (item, onehot) in enumerate(itertools.izip(series, onehots)):\n",
    "        try:\n",
    "            onehot[most_common_index(item)] = True\n",
    "        except ValueError:\n",
    "            onehot[zeros_size - 1] = True\n",
    "        if not i % 1000000:\n",
    "            print i\n",
    "    df[field] = list(onehots)\n",
    "    return df"
   ]
  },
  {
   "cell_type": "code",
   "execution_count": 131,
   "metadata": {
    "collapsed": false
   },
   "outputs": [
    {
     "name": "stdout",
     "output_type": "stream",
     "text": [
      "ORIGIN\n",
      "2150\n",
      "['MAN', 'LHR', 'FRA', 'LGW', 'CDG', 'AMS', 'MAD', 'BHX', 'DUS', 'MUC', 'STN', 'MXP', 'BRU', 'GLA', 'SVO', 'FCO', 'HAM', 'BCN', 'GRU', 'IST', 'GIG', 'ZRH', 'MEX', 'STR', 'CGN', 'EMA', 'YYZ', 'DUB', 'CUN', 'TXL', 'DME', 'CPH', 'NCL', 'ATH', 'VCE', 'VIE', 'LIS', 'LAX', 'WAW', 'BUD', 'GVA', 'BLQ', 'LED', 'HAJ', 'LIN', 'BRS', 'EDI', 'JFK', 'HEL', 'PRG', 'ORY', 'ARN', 'LBA', 'SFO', 'EZE', 'LPL', 'OSL', 'SXF', 'BIO', 'MSP', 'OPO', 'LYS', 'TFS', 'IAH', 'DFW', 'BOG', 'BWI', 'BLL', 'MRS', 'RIX', 'BSL', 'PDX', 'TLL', 'BSB', 'LTN', 'SJO', 'SEA', 'BKK', 'TLV', 'VCP', 'OAK', 'POA', 'PMI', 'VNO', 'SOF', 'SIN', 'SCL', 'BGY', 'AYT', 'LEJ', 'REC', 'AAL', 'TLS', 'YUL', 'NCE', 'LJU', 'CNF', 'MCO', 'FOR', 'YVR', 'LAS', 'KBP', 'FLR', 'BEG', 'LCA', 'BRE', 'OTP', 'ZAG', 'BFS', 'CWL', 'CPT', 'SJC', 'KRK', 'DEN', 'BUR', 'TRN', 'BOS', 'JED', 'ORD', 'VRN', 'JNB', 'SKG', 'AGP', 'GOT', 'SSA', 'LIM', 'GDL', 'CCS', 'HAV', 'NAP', 'ONT', 'CAI', 'SYD', 'PHX', 'LCY', 'NUE', 'AUS', 'CWB', 'ISP', 'FLL', 'MEL', 'EIN', 'EWR', 'SNA', 'HER', 'ALC', 'DLM', 'SAN', 'SDQ']\n",
      "0.1080272\n",
      "0\n",
      "1000000\n",
      "2000000\n",
      "3000000\n",
      "4000000\n",
      "21\n",
      "DESTINATION_COUNTRY\n",
      "220\n",
      "['ES', 'US', 'CU', 'TH', 'UK', 'BR', 'TR', 'DE', 'MX', 'IT', 'GR', 'CA', 'DO', 'ZA', 'FR', 'PT', 'CR', 'NL', 'MU', 'MV', 'AR', 'RU', 'CY', 'IN', 'KE', 'PE', 'CH', 'CO', 'AU', 'EG', 'IE', 'SG', 'PL', nan, 'AE', 'TZ', 'JP', 'AT', 'CL', 'JM', 'EC', 'BE', 'BB', 'CZ', 'PA', 'PH', 'ID', 'HU', 'CN']\n",
      "0.080737\n",
      "0\n",
      "1000000\n",
      "2000000\n",
      "3000000\n",
      "4000000\n",
      "0\n",
      "ORIGIN_COUNTRY\n",
      "209\n",
      "['UK', 'DE', 'US', 'IT', 'ES', 'FR', 'BR', 'RU', 'NL', 'MX', 'BE', 'CH', 'CA', 'TR', 'DK', 'PL', 'GR', 'PT', 'IE', 'AT', 'SE', 'HU', 'FI', 'AR']\n",
      "0.0898584\n",
      "0\n",
      "1000000\n",
      "2000000\n",
      "3000000\n",
      "4000000\n",
      "0\n",
      "DESTINATION\n",
      "2493\n",
      "['HAV', 'PMI', 'TFS', 'BKK', 'CUN', 'GIG', 'MCO', 'LAS', 'JFK', 'MAD', 'HKT', 'DLM', 'FRA', 'LHR', 'CPT', 'SJO', 'PUJ', 'MRU', 'LAX', 'BCN', 'YYZ', 'ACE', 'MLE', 'AYT', 'CDG', 'LPA', 'AMS', 'VRA', 'EZE', 'FUE', 'LIS', 'SFO', 'FCO', 'MAN', 'LGW', 'IBZ', 'LIM', 'HER', 'MEX', 'GRU', 'SDQ', 'LCA', 'SIN', 'IST', 'JNB', 'STN', 'WDH', 'DUB', 'ATH', 'ALC', 'MUC', 'MXP', 'BOG', 'AGP', 'NBO', 'SCL', 'MBJ', 'BGI', 'HNL', 'ZNZ', 'YUL', 'FAO', 'PTY', 'YVR', 'PRG', 'MAH', 'SEA', 'BUD', 'CFU', 'DXB', 'MBA', 'TXL', 'BRU', 'MIA', 'OPO', 'GVA', 'PFO', 'HRG', 'ZRH', 'ZTH', 'UIO', 'VIE', 'CPH', 'MNL', 'POP', 'BWI', 'MSP', 'HOG', 'FOR', 'DUS', 'DPS', 'DFW', 'GUA', 'IAH', 'MGA', 'EDI', 'SXF', 'NRT', 'SEZ', 'TLV', 'DEN', 'SYD', 'RHO', 'SVO', 'MEL', 'HKG', 'VCE', 'CAI', 'SAN', 'GLA', 'PNH', 'ARN', 'CGN', 'PDX', 'FLL', 'DEL', 'DME', 'BHX', 'PRN', 'FLR', 'EWR', 'KRK', 'SSA', 'GOI', 'BUR', 'OSL', 'SJU', 'BJL', 'PBI', 'SKG', 'LED', 'HAM', 'OAK', 'KUL', 'SOF', 'LIN', 'RTM', 'CMB', 'PHX', 'RAK', 'REC', 'BLQ', 'ICN', 'NCE', 'EIN', 'BOS', 'BGY', 'SJC', 'SNA', 'MJV', 'MLA', 'XRY', 'ORY', 'HEL', 'TFN', 'CTG', 'KEF', 'GYE', 'SGN', 'ORD', 'NAP', 'CCS', 'ONT', 'WAW', 'YYC', 'BSL', 'VCP', 'LYS', 'SLC', 'CIA', 'OTP', 'AKL', 'STR', 'BEG', 'SAL', 'BOM', 'BSB', 'BIO', 'RGN', 'SAW', 'MVD', 'KBP', 'VLC', 'DBV', 'SVQ', 'NAT', 'GRX', 'DUR', 'RUN', 'TRN', 'MRS', 'AUS', 'SSH', 'PSA', 'CNF', 'JTR', 'YQB', 'ZAG', 'KBV', 'PEK', 'RIX', 'JED', 'FNC', 'PVG', 'POA', 'TPE', 'KGS', 'LGA', 'ADB', 'BVA', 'REU', 'TLS', 'AER', 'ISB', 'GDL', 'ATL', 'AGA', 'CTA', 'CNX', 'BJV', 'LTN', 'BOJ', 'PER', 'VNO']\n",
      "0.1035418\n",
      "0\n",
      "1000000\n",
      "2000000\n",
      "3000000\n",
      "4000000\n",
      "0\n"
     ]
    }
   ],
   "source": [
    "pairs = {\n",
    "    'ORIGIN': 149,\n",
    "    'ORIGIN_COUNTRY': 24,\n",
    "    'DESTINATION': 224,\n",
    "    'DESTINATION_COUNTRY': 49,\n",
    "}\n",
    "for field, size in pairs.iteritems():\n",
    "    print field\n",
    "    gc_collect_1 = gc.collect()\n",
    "    training_merged = make_onehot(training_merged, field, size)\n",
    "    print gc.collect() + gc_collect_1"
   ]
  },
  {
   "cell_type": "code",
   "execution_count": 132,
   "metadata": {
    "collapsed": false
   },
   "outputs": [
    {
     "data": {
      "text/plain": [
       "0"
      ]
     },
     "execution_count": 132,
     "metadata": {},
     "output_type": "execute_result"
    }
   ],
   "source": [
    "gc.collect()"
   ]
  },
  {
   "cell_type": "markdown",
   "metadata": {},
   "source": [
    "Doesn't seem like we need to rescale traffics based on distributions"
   ]
  },
  {
   "cell_type": "code",
   "execution_count": 133,
   "metadata": {
    "collapsed": false
   },
   "outputs": [
    {
     "data": {
      "text/html": [
       "<div>\n",
       "<table border=\"1\" class=\"dataframe\">\n",
       "  <thead>\n",
       "    <tr style=\"text-align: right;\">\n",
       "      <th></th>\n",
       "      <th>ORIGIN</th>\n",
       "      <th>DESTINATION</th>\n",
       "      <th>OUTBOUND_DATE</th>\n",
       "      <th>INBOUND_DATE</th>\n",
       "      <th>PRICE</th>\n",
       "      <th>MARKETS</th>\n",
       "      <th>SEARCH_TO_OUTBOUND</th>\n",
       "      <th>SEARCH_TO_INBOUND</th>\n",
       "      <th>OUTBOUND_TO_INBOUND</th>\n",
       "      <th>ORIGIN_COUNTRY</th>\n",
       "      <th>ORIGIN_LATITUDE</th>\n",
       "      <th>ORIGIN_LONGITUDE</th>\n",
       "      <th>ORIGIN_TRAFFIC</th>\n",
       "      <th>DESTINATION_COUNTRY</th>\n",
       "      <th>DESTINATION_LATITUDE</th>\n",
       "      <th>DESTINATION_LONGITUDE</th>\n",
       "      <th>DESTINATION_TRAFFIC</th>\n",
       "    </tr>\n",
       "  </thead>\n",
       "  <tbody>\n",
       "    <tr>\n",
       "      <th>0</th>\n",
       "      <td>[False, False, False, False, False, False, Fal...</td>\n",
       "      <td>[False, False, False, False, False, False, Fal...</td>\n",
       "      <td>2016-01-15</td>\n",
       "      <td>2016-01-25</td>\n",
       "      <td>0.001709</td>\n",
       "      <td>[False, False, False, False, False, False, Tru...</td>\n",
       "      <td>0.079346</td>\n",
       "      <td>0.068115</td>\n",
       "      <td>0.393799</td>\n",
       "      <td>[False, False, False, False, False, False, Fal...</td>\n",
       "      <td>53.583333</td>\n",
       "      <td>14.900000</td>\n",
       "      <td>76133</td>\n",
       "      <td>[False, False, False, False, False, False, Fal...</td>\n",
       "      <td>59.3789</td>\n",
       "      <td>10.7856</td>\n",
       "      <td>278640</td>\n",
       "    </tr>\n",
       "    <tr>\n",
       "      <th>1</th>\n",
       "      <td>[False, False, False, False, False, False, Fal...</td>\n",
       "      <td>[False, False, False, False, False, False, Fal...</td>\n",
       "      <td>2016-01-29</td>\n",
       "      <td>2016-02-01</td>\n",
       "      <td>0.002686</td>\n",
       "      <td>[False, False, False, False, False, False, Fal...</td>\n",
       "      <td>0.129639</td>\n",
       "      <td>0.081299</td>\n",
       "      <td>0.091064</td>\n",
       "      <td>[False, False, False, False, False, False, Fal...</td>\n",
       "      <td>53.583333</td>\n",
       "      <td>14.900000</td>\n",
       "      <td>76133</td>\n",
       "      <td>[False, False, False, False, False, False, Fal...</td>\n",
       "      <td>59.3789</td>\n",
       "      <td>10.7856</td>\n",
       "      <td>278640</td>\n",
       "    </tr>\n",
       "    <tr>\n",
       "      <th>2</th>\n",
       "      <td>[False, False, False, False, False, False, Fal...</td>\n",
       "      <td>[False, False, False, False, False, False, Fal...</td>\n",
       "      <td>2016-01-08</td>\n",
       "      <td>2016-01-11</td>\n",
       "      <td>0.010010</td>\n",
       "      <td>[False, False, False, False, False, False, Fal...</td>\n",
       "      <td>0.063721</td>\n",
       "      <td>0.022705</td>\n",
       "      <td>0.091064</td>\n",
       "      <td>[False, False, False, False, False, False, Fal...</td>\n",
       "      <td>53.583333</td>\n",
       "      <td>14.900000</td>\n",
       "      <td>76133</td>\n",
       "      <td>[False, False, False, False, False, False, Fal...</td>\n",
       "      <td>59.3789</td>\n",
       "      <td>10.7856</td>\n",
       "      <td>278640</td>\n",
       "    </tr>\n",
       "    <tr>\n",
       "      <th>3</th>\n",
       "      <td>[False, False, False, False, False, False, Fal...</td>\n",
       "      <td>[False, False, False, False, False, False, Fal...</td>\n",
       "      <td>2016-02-04</td>\n",
       "      <td>2016-02-16</td>\n",
       "      <td>0.002686</td>\n",
       "      <td>[False, False, False, False, False, False, Fal...</td>\n",
       "      <td>0.156006</td>\n",
       "      <td>0.147705</td>\n",
       "      <td>0.454346</td>\n",
       "      <td>[False, False, False, False, False, False, Fal...</td>\n",
       "      <td>52.460298</td>\n",
       "      <td>20.657294</td>\n",
       "      <td>932470</td>\n",
       "      <td>[False, False, False, False, False, False, Fal...</td>\n",
       "      <td>59.3789</td>\n",
       "      <td>10.7856</td>\n",
       "      <td>278640</td>\n",
       "    </tr>\n",
       "    <tr>\n",
       "      <th>4</th>\n",
       "      <td>[False, False, False, False, False, False, Fal...</td>\n",
       "      <td>[False, False, False, False, False, False, Fal...</td>\n",
       "      <td>2016-02-26</td>\n",
       "      <td>2016-02-28</td>\n",
       "      <td>0.002686</td>\n",
       "      <td>[False, False, False, False, False, False, Fal...</td>\n",
       "      <td>0.298096</td>\n",
       "      <td>0.219482</td>\n",
       "      <td>0.060791</td>\n",
       "      <td>[False, False, False, False, False, False, Fal...</td>\n",
       "      <td>52.460298</td>\n",
       "      <td>20.657294</td>\n",
       "      <td>932470</td>\n",
       "      <td>[False, False, False, False, False, False, Fal...</td>\n",
       "      <td>59.3789</td>\n",
       "      <td>10.7856</td>\n",
       "      <td>278640</td>\n",
       "    </tr>\n",
       "  </tbody>\n",
       "</table>\n",
       "</div>"
      ],
      "text/plain": [
       "                                              ORIGIN  \\\n",
       "0  [False, False, False, False, False, False, Fal...   \n",
       "1  [False, False, False, False, False, False, Fal...   \n",
       "2  [False, False, False, False, False, False, Fal...   \n",
       "3  [False, False, False, False, False, False, Fal...   \n",
       "4  [False, False, False, False, False, False, Fal...   \n",
       "\n",
       "                                         DESTINATION OUTBOUND_DATE  \\\n",
       "0  [False, False, False, False, False, False, Fal...    2016-01-15   \n",
       "1  [False, False, False, False, False, False, Fal...    2016-01-29   \n",
       "2  [False, False, False, False, False, False, Fal...    2016-01-08   \n",
       "3  [False, False, False, False, False, False, Fal...    2016-02-04   \n",
       "4  [False, False, False, False, False, False, Fal...    2016-02-26   \n",
       "\n",
       "  INBOUND_DATE     PRICE                                            MARKETS  \\\n",
       "0   2016-01-25  0.001709  [False, False, False, False, False, False, Tru...   \n",
       "1   2016-02-01  0.002686  [False, False, False, False, False, False, Fal...   \n",
       "2   2016-01-11  0.010010  [False, False, False, False, False, False, Fal...   \n",
       "3   2016-02-16  0.002686  [False, False, False, False, False, False, Fal...   \n",
       "4   2016-02-28  0.002686  [False, False, False, False, False, False, Fal...   \n",
       "\n",
       "   SEARCH_TO_OUTBOUND  SEARCH_TO_INBOUND  OUTBOUND_TO_INBOUND  \\\n",
       "0            0.079346           0.068115             0.393799   \n",
       "1            0.129639           0.081299             0.091064   \n",
       "2            0.063721           0.022705             0.091064   \n",
       "3            0.156006           0.147705             0.454346   \n",
       "4            0.298096           0.219482             0.060791   \n",
       "\n",
       "                                      ORIGIN_COUNTRY  ORIGIN_LATITUDE  \\\n",
       "0  [False, False, False, False, False, False, Fal...        53.583333   \n",
       "1  [False, False, False, False, False, False, Fal...        53.583333   \n",
       "2  [False, False, False, False, False, False, Fal...        53.583333   \n",
       "3  [False, False, False, False, False, False, Fal...        52.460298   \n",
       "4  [False, False, False, False, False, False, Fal...        52.460298   \n",
       "\n",
       "   ORIGIN_LONGITUDE  ORIGIN_TRAFFIC  \\\n",
       "0         14.900000           76133   \n",
       "1         14.900000           76133   \n",
       "2         14.900000           76133   \n",
       "3         20.657294          932470   \n",
       "4         20.657294          932470   \n",
       "\n",
       "                                 DESTINATION_COUNTRY  DESTINATION_LATITUDE  \\\n",
       "0  [False, False, False, False, False, False, Fal...               59.3789   \n",
       "1  [False, False, False, False, False, False, Fal...               59.3789   \n",
       "2  [False, False, False, False, False, False, Fal...               59.3789   \n",
       "3  [False, False, False, False, False, False, Fal...               59.3789   \n",
       "4  [False, False, False, False, False, False, Fal...               59.3789   \n",
       "\n",
       "   DESTINATION_LONGITUDE  DESTINATION_TRAFFIC  \n",
       "0                10.7856               278640  \n",
       "1                10.7856               278640  \n",
       "2                10.7856               278640  \n",
       "3                10.7856               278640  \n",
       "4                10.7856               278640  "
      ]
     },
     "execution_count": 133,
     "metadata": {},
     "output_type": "execute_result"
    }
   ],
   "source": [
    "training_merged.head()"
   ]
  },
  {
   "cell_type": "markdown",
   "metadata": {},
   "source": [
    "#Traffic"
   ]
  },
  {
   "cell_type": "code",
   "execution_count": 134,
   "metadata": {
    "collapsed": false
   },
   "outputs": [
    {
     "data": {
      "text/plain": [
       "(3, 17262579)"
      ]
     },
     "execution_count": 134,
     "metadata": {},
     "output_type": "execute_result"
    }
   ],
   "source": [
    "o_traffic = sorted(training_merged.ORIGIN_TRAFFIC)\n",
    "o_traffic[0], o_traffic[-1]"
   ]
  },
  {
   "cell_type": "code",
   "execution_count": 135,
   "metadata": {
    "collapsed": false
   },
   "outputs": [
    {
     "data": {
      "text/plain": [
       "(2, 17262579)"
      ]
     },
     "execution_count": 135,
     "metadata": {},
     "output_type": "execute_result"
    }
   ],
   "source": [
    "d_traffic = sorted(training_merged.DESTINATION_TRAFFIC)\n",
    "d_traffic[0], d_traffic[-1]"
   ]
  },
  {
   "cell_type": "code",
   "execution_count": 136,
   "metadata": {
    "collapsed": false
   },
   "outputs": [
    {
     "data": {
      "text/plain": [
       "17435204"
      ]
     },
     "execution_count": 136,
     "metadata": {},
     "output_type": "execute_result"
    }
   ],
   "source": [
    "traffic_max = int(max(o_traffic[-1], d_traffic[-1]) * 1.01)\n",
    "traffic_max"
   ]
  },
  {
   "cell_type": "code",
   "execution_count": 137,
   "metadata": {
    "collapsed": true
   },
   "outputs": [],
   "source": [
    "training_merged['ORIGIN_TRAFFIC'] = training_merged.ORIGIN_TRAFFIC / traffic_max\n",
    "training_merged['DESTINATION_TRAFFIC'] = training_merged.DESTINATION_TRAFFIC / traffic_max"
   ]
  },
  {
   "cell_type": "code",
   "execution_count": 138,
   "metadata": {
    "collapsed": false
   },
   "outputs": [
    {
     "data": {
      "text/plain": [
       "count    5.000000e+06\n",
       "mean     3.195292e-01\n",
       "std      2.996625e-01\n",
       "min      1.720657e-07\n",
       "25%      8.425792e-02\n",
       "50%      2.262477e-01\n",
       "75%      5.086684e-01\n",
       "max      9.900991e-01\n",
       "Name: ORIGIN_TRAFFIC, dtype: float64"
      ]
     },
     "execution_count": 138,
     "metadata": {},
     "output_type": "execute_result"
    }
   ],
   "source": [
    "training_merged.ORIGIN_TRAFFIC.describe()"
   ]
  },
  {
   "cell_type": "code",
   "execution_count": 139,
   "metadata": {
    "collapsed": false
   },
   "outputs": [
    {
     "data": {
      "text/plain": [
       "<matplotlib.axes._subplots.AxesSubplot at 0x4a738a978>"
      ]
     },
     "execution_count": 139,
     "metadata": {},
     "output_type": "execute_result"
    },
    {
     "data": {
      "image/png": "[encoded data removed]",
      "text/plain": [
       "<matplotlib.figure.Figure at 0x11c0b0940>"
      ]
     },
     "metadata": {},
     "output_type": "display_data"
    }
   ],
   "source": [
    "training_merged.ORIGIN_TRAFFIC.hist()"
   ]
  },
  {
   "cell_type": "markdown",
   "metadata": {},
   "source": [
    "#Coordinates and distance"
   ]
  },
  {
   "cell_type": "code",
   "execution_count": 140,
   "metadata": {
    "collapsed": false
   },
   "outputs": [
    {
     "name": "stdout",
     "output_type": "stream",
     "text": [
      "ORIGIN_LATITUDE\n",
      "ORIGIN_LONGITUDE\n",
      "DESTINATION_LATITUDE\n",
      "DESTINATION_LONGITUDE\n"
     ]
    },
    {
     "data": {
      "text/html": [
       "<div>\n",
       "<table border=\"1\" class=\"dataframe\">\n",
       "  <thead>\n",
       "    <tr style=\"text-align: right;\">\n",
       "      <th></th>\n",
       "      <th>PRICE</th>\n",
       "      <th>SEARCH_TO_OUTBOUND</th>\n",
       "      <th>SEARCH_TO_INBOUND</th>\n",
       "      <th>OUTBOUND_TO_INBOUND</th>\n",
       "      <th>ORIGIN_LATITUDE</th>\n",
       "      <th>ORIGIN_LONGITUDE</th>\n",
       "      <th>ORIGIN_TRAFFIC</th>\n",
       "      <th>DESTINATION_LATITUDE</th>\n",
       "      <th>DESTINATION_LONGITUDE</th>\n",
       "      <th>DESTINATION_TRAFFIC</th>\n",
       "    </tr>\n",
       "  </thead>\n",
       "  <tbody>\n",
       "    <tr>\n",
       "      <th>count</th>\n",
       "      <td>5000000.000000</td>\n",
       "      <td>5000000.000000</td>\n",
       "      <td>5000000.000000</td>\n",
       "      <td>5000000.000000</td>\n",
       "      <td>5000000.000000</td>\n",
       "      <td>5000000.000000</td>\n",
       "      <td>5.000000e+06</td>\n",
       "      <td>5000000.000000</td>\n",
       "      <td>5000000.000000</td>\n",
       "      <td>5.000000e+06</td>\n",
       "    </tr>\n",
       "    <tr>\n",
       "      <th>mean</th>\n",
       "      <td>0.506741</td>\n",
       "      <td>0.453634</td>\n",
       "      <td>0.452273</td>\n",
       "      <td>0.445235</td>\n",
       "      <td>0.748370</td>\n",
       "      <td>-0.092526</td>\n",
       "      <td>3.195292e-01</td>\n",
       "      <td>0.463728</td>\n",
       "      <td>-0.247605</td>\n",
       "      <td>1.649103e-01</td>\n",
       "    </tr>\n",
       "    <tr>\n",
       "      <th>std</th>\n",
       "      <td>0.285974</td>\n",
       "      <td>0.253537</td>\n",
       "      <td>0.256176</td>\n",
       "      <td>0.256802</td>\n",
       "      <td>0.330153</td>\n",
       "      <td>0.699533</td>\n",
       "      <td>2.996625e-01</td>\n",
       "      <td>0.396724</td>\n",
       "      <td>1.094432</td>\n",
       "      <td>1.949162e-01</td>\n",
       "    </tr>\n",
       "    <tr>\n",
       "      <th>min</th>\n",
       "      <td>0.001709</td>\n",
       "      <td>0.000244</td>\n",
       "      <td>0.000244</td>\n",
       "      <td>0.000244</td>\n",
       "      <td>-0.957196</td>\n",
       "      <td>-3.074688</td>\n",
       "      <td>1.720657e-07</td>\n",
       "      <td>-0.957196</td>\n",
       "      <td>-3.139443</td>\n",
       "      <td>1.147104e-07</td>\n",
       "    </tr>\n",
       "    <tr>\n",
       "      <th>25%</th>\n",
       "      <td>0.256592</td>\n",
       "      <td>0.220947</td>\n",
       "      <td>0.224365</td>\n",
       "      <td>0.242432</td>\n",
       "      <td>0.720869</td>\n",
       "      <td>-0.039735</td>\n",
       "      <td>8.425792e-02</td>\n",
       "      <td>0.321650</td>\n",
       "      <td>-1.294540</td>\n",
       "      <td>3.501674e-02</td>\n",
       "    </tr>\n",
       "    <tr>\n",
       "      <th>50%</th>\n",
       "      <td>0.514893</td>\n",
       "      <td>0.454346</td>\n",
       "      <td>0.454346</td>\n",
       "      <td>0.454346</td>\n",
       "      <td>0.873343</td>\n",
       "      <td>0.004072</td>\n",
       "      <td>2.262477e-01</td>\n",
       "      <td>0.592248</td>\n",
       "      <td>-0.038363</td>\n",
       "      <td>8.762324e-02</td>\n",
       "    </tr>\n",
       "    <tr>\n",
       "      <th>75%</th>\n",
       "      <td>0.763428</td>\n",
       "      <td>0.681885</td>\n",
       "      <td>0.681885</td>\n",
       "      <td>0.672607</td>\n",
       "      <td>0.915479</td>\n",
       "      <td>0.161928</td>\n",
       "      <td>5.086684e-01</td>\n",
       "      <td>0.719948</td>\n",
       "      <td>0.335685</td>\n",
       "      <td>2.262477e-01</td>\n",
       "    </tr>\n",
       "    <tr>\n",
       "      <th>max</th>\n",
       "      <td>0.992920</td>\n",
       "      <td>0.907471</td>\n",
       "      <td>0.906982</td>\n",
       "      <td>0.908447</td>\n",
       "      <td>1.498074</td>\n",
       "      <td>3.116285</td>\n",
       "      <td>9.900991e-01</td>\n",
       "      <td>1.498074</td>\n",
       "      <td>3.130151</td>\n",
       "      <td>9.900991e-01</td>\n",
       "    </tr>\n",
       "  </tbody>\n",
       "</table>\n",
       "</div>"
      ],
      "text/plain": [
       "                PRICE  SEARCH_TO_OUTBOUND  SEARCH_TO_INBOUND  \\\n",
       "count  5000000.000000      5000000.000000     5000000.000000   \n",
       "mean         0.506741            0.453634           0.452273   \n",
       "std          0.285974            0.253537           0.256176   \n",
       "min          0.001709            0.000244           0.000244   \n",
       "25%          0.256592            0.220947           0.224365   \n",
       "50%          0.514893            0.454346           0.454346   \n",
       "75%          0.763428            0.681885           0.681885   \n",
       "max          0.992920            0.907471           0.906982   \n",
       "\n",
       "       OUTBOUND_TO_INBOUND  ORIGIN_LATITUDE  ORIGIN_LONGITUDE  ORIGIN_TRAFFIC  \\\n",
       "count       5000000.000000   5000000.000000    5000000.000000    5.000000e+06   \n",
       "mean              0.445235         0.748370         -0.092526    3.195292e-01   \n",
       "std               0.256802         0.330153          0.699533    2.996625e-01   \n",
       "min               0.000244        -0.957196         -3.074688    1.720657e-07   \n",
       "25%               0.242432         0.720869         -0.039735    8.425792e-02   \n",
       "50%               0.454346         0.873343          0.004072    2.262477e-01   \n",
       "75%               0.672607         0.915479          0.161928    5.086684e-01   \n",
       "max               0.908447         1.498074          3.116285    9.900991e-01   \n",
       "\n",
       "       DESTINATION_LATITUDE  DESTINATION_LONGITUDE  DESTINATION_TRAFFIC  \n",
       "count        5000000.000000         5000000.000000         5.000000e+06  \n",
       "mean               0.463728              -0.247605         1.649103e-01  \n",
       "std                0.396724               1.094432         1.949162e-01  \n",
       "min               -0.957196              -3.139443         1.147104e-07  \n",
       "25%                0.321650              -1.294540         3.501674e-02  \n",
       "50%                0.592248              -0.038363         8.762324e-02  \n",
       "75%                0.719948               0.335685         2.262477e-01  \n",
       "max                1.498074               3.130151         9.900991e-01  "
      ]
     },
     "execution_count": 140,
     "metadata": {},
     "output_type": "execute_result"
    }
   ],
   "source": [
    "for key in ('ORIGIN_LATITUDE', 'ORIGIN_LONGITUDE', 'DESTINATION_LATITUDE', 'DESTINATION_LONGITUDE'):\n",
    "    print key\n",
    "    training_merged[key] = training_merged[key].apply(math.radians)\n",
    "training_merged.describe()"
   ]
  },
  {
   "cell_type": "code",
   "execution_count": 141,
   "metadata": {
    "collapsed": false
   },
   "outputs": [],
   "source": [
    "sin, cos, acos = math.sin, math.cos, math.acos\n",
    "def distance(row):\n",
    "    lat1 = row['ORIGIN_LATITUDE']\n",
    "    lon1 = row['ORIGIN_LONGITUDE']\n",
    "    lat2 = row['DESTINATION_LATITUDE']\n",
    "    lon2 = row['DESTINATION_LONGITUDE']\n",
    "    \n",
    "    delta_lambda = lon2 - lon1\n",
    "    \n",
    "    return acos(\n",
    "        sin(lat1) * sin(lat2) + cos(lat1) * cos(lat2) * cos(delta_lambda)\n",
    "    ) * 6371"
   ]
  },
  {
   "cell_type": "code",
   "execution_count": 142,
   "metadata": {
    "collapsed": false
   },
   "outputs": [
    {
     "data": {
      "text/plain": [
       "0"
      ]
     },
     "execution_count": 142,
     "metadata": {},
     "output_type": "execute_result"
    }
   ],
   "source": [
    "gc.collect()"
   ]
  },
  {
   "cell_type": "code",
   "execution_count": 143,
   "metadata": {
    "collapsed": false
   },
   "outputs": [
    {
     "data": {
      "text/plain": [
       "count    5000000.000000\n",
       "mean        5878.728469\n",
       "std         3565.865104\n",
       "min            0.000000\n",
       "25%         2333.570940\n",
       "50%         6840.748628\n",
       "75%         8845.476013\n",
       "max        19942.040333\n",
       "Name: DISTANCE, dtype: float64"
      ]
     },
     "execution_count": 143,
     "metadata": {},
     "output_type": "execute_result"
    }
   ],
   "source": [
    "training_merged['DISTANCE'] = training_merged.apply(distance, axis=1)\n",
    "training_merged.DISTANCE.describe()"
   ]
  },
  {
   "cell_type": "code",
   "execution_count": 144,
   "metadata": {
    "collapsed": false
   },
   "outputs": [
    {
     "data": {
      "text/plain": [
       "<matplotlib.axes._subplots.AxesSubplot at 0x11c0b0898>"
      ]
     },
     "execution_count": 144,
     "metadata": {},
     "output_type": "execute_result"
    },
    {
     "data": {
      "image/png": "[encoded data removed]",
      "text/plain": [
       "<matplotlib.figure.Figure at 0x3a9386b00>"
      ]
     },
     "metadata": {},
     "output_type": "display_data"
    }
   ],
   "source": [
    "training_merged.DISTANCE.hist()"
   ]
  },
  {
   "cell_type": "code",
   "execution_count": 145,
   "metadata": {
    "collapsed": false
   },
   "outputs": [
    {
     "data": {
      "text/plain": [
       "0"
      ]
     },
     "execution_count": 145,
     "metadata": {},
     "output_type": "execute_result"
    }
   ],
   "source": [
    "gc.collect()"
   ]
  },
  {
   "cell_type": "code",
   "execution_count": 148,
   "metadata": {
    "collapsed": false
   },
   "outputs": [
    {
     "name": "stdout",
     "output_type": "stream",
     "text": [
      "ORIGIN_LATITUDE\n",
      "-0.966767766679 1.51305442978\n",
      "48\n",
      "ORIGIN_LONGITUDE\n",
      "-3.10543525513 3.14744823323\n",
      "0\n",
      "DESTINATION_LATITUDE\n",
      "-0.966767766679 1.51305442978\n",
      "0\n",
      "DESTINATION_LONGITUDE\n",
      "-3.17083736087 3.16145255339\n",
      "0\n"
     ]
    }
   ],
   "source": [
    "for key in 'ORIGIN_LATITUDE ORIGIN_LONGITUDE DESTINATION_LATITUDE DESTINATION_LONGITUDE DISTANCE'.split():\n",
    "    print key\n",
    "    sorted_values = sorted(training_merged[key])\n",
    "    minimum, maximum = sorted_values[0] * 1.01, sorted_values[-1] * 1.01\n",
    "    print minimum, maximum\n",
    "    training_merged[key] = (training_merged[key] - minimum) / (maximum - minimum)\n",
    "    print gc.collect()"
   ]
  },
  {
   "cell_type": "code",
   "execution_count": 153,
   "metadata": {
    "collapsed": false
   },
   "outputs": [
    {
     "data": {
      "text/html": [
       "<div>\n",
       "<table border=\"1\" class=\"dataframe\">\n",
       "  <thead>\n",
       "    <tr style=\"text-align: right;\">\n",
       "      <th></th>\n",
       "      <th>PRICE</th>\n",
       "      <th>SEARCH_TO_OUTBOUND</th>\n",
       "      <th>SEARCH_TO_INBOUND</th>\n",
       "      <th>OUTBOUND_TO_INBOUND</th>\n",
       "      <th>ORIGIN_LATITUDE</th>\n",
       "      <th>ORIGIN_LONGITUDE</th>\n",
       "      <th>ORIGIN_TRAFFIC</th>\n",
       "      <th>DESTINATION_LATITUDE</th>\n",
       "      <th>DESTINATION_LONGITUDE</th>\n",
       "      <th>DESTINATION_TRAFFIC</th>\n",
       "      <th>DISTANCE</th>\n",
       "    </tr>\n",
       "  </thead>\n",
       "  <tbody>\n",
       "    <tr>\n",
       "      <th>count</th>\n",
       "      <td>5000000.000000</td>\n",
       "      <td>5000000.000000</td>\n",
       "      <td>5000000.000000</td>\n",
       "      <td>5000000.000000</td>\n",
       "      <td>5000000.000000</td>\n",
       "      <td>5000000.000000</td>\n",
       "      <td>5.000000e+06</td>\n",
       "      <td>5000000.000000</td>\n",
       "      <td>5000000.000000</td>\n",
       "      <td>5.000000e+06</td>\n",
       "      <td>5000000.000000</td>\n",
       "    </tr>\n",
       "    <tr>\n",
       "      <th>mean</th>\n",
       "      <td>0.506741</td>\n",
       "      <td>0.453634</td>\n",
       "      <td>0.452273</td>\n",
       "      <td>0.445235</td>\n",
       "      <td>0.691637</td>\n",
       "      <td>0.481843</td>\n",
       "      <td>3.195292e-01</td>\n",
       "      <td>0.576854</td>\n",
       "      <td>0.461639</td>\n",
       "      <td>1.649103e-01</td>\n",
       "      <td>0.291872</td>\n",
       "    </tr>\n",
       "    <tr>\n",
       "      <th>std</th>\n",
       "      <td>0.285974</td>\n",
       "      <td>0.253537</td>\n",
       "      <td>0.256176</td>\n",
       "      <td>0.256802</td>\n",
       "      <td>0.133136</td>\n",
       "      <td>0.111874</td>\n",
       "      <td>2.996625e-01</td>\n",
       "      <td>0.159981</td>\n",
       "      <td>0.172834</td>\n",
       "      <td>1.949162e-01</td>\n",
       "      <td>0.177041</td>\n",
       "    </tr>\n",
       "    <tr>\n",
       "      <th>min</th>\n",
       "      <td>0.001709</td>\n",
       "      <td>0.000244</td>\n",
       "      <td>0.000244</td>\n",
       "      <td>0.000244</td>\n",
       "      <td>0.003860</td>\n",
       "      <td>0.004917</td>\n",
       "      <td>1.720657e-07</td>\n",
       "      <td>0.003860</td>\n",
       "      <td>0.004958</td>\n",
       "      <td>1.147104e-07</td>\n",
       "      <td>0.000000</td>\n",
       "    </tr>\n",
       "    <tr>\n",
       "      <th>25%</th>\n",
       "      <td>0.256592</td>\n",
       "      <td>0.220947</td>\n",
       "      <td>0.224365</td>\n",
       "      <td>0.242432</td>\n",
       "      <td>0.680548</td>\n",
       "      <td>0.490286</td>\n",
       "      <td>8.425792e-02</td>\n",
       "      <td>0.519560</td>\n",
       "      <td>0.296306</td>\n",
       "      <td>3.501674e-02</td>\n",
       "      <td>0.115859</td>\n",
       "    </tr>\n",
       "    <tr>\n",
       "      <th>50%</th>\n",
       "      <td>0.514893</td>\n",
       "      <td>0.454346</td>\n",
       "      <td>0.454346</td>\n",
       "      <td>0.454346</td>\n",
       "      <td>0.742033</td>\n",
       "      <td>0.497292</td>\n",
       "      <td>2.262477e-01</td>\n",
       "      <td>0.628681</td>\n",
       "      <td>0.494683</td>\n",
       "      <td>8.762324e-02</td>\n",
       "      <td>0.339635</td>\n",
       "    </tr>\n",
       "    <tr>\n",
       "      <th>75%</th>\n",
       "      <td>0.763428</td>\n",
       "      <td>0.681885</td>\n",
       "      <td>0.681885</td>\n",
       "      <td>0.672607</td>\n",
       "      <td>0.759025</td>\n",
       "      <td>0.522537</td>\n",
       "      <td>5.086684e-01</td>\n",
       "      <td>0.680176</td>\n",
       "      <td>0.553753</td>\n",
       "      <td>2.262477e-01</td>\n",
       "      <td>0.439168</td>\n",
       "    </tr>\n",
       "    <tr>\n",
       "      <th>max</th>\n",
       "      <td>0.992920</td>\n",
       "      <td>0.907471</td>\n",
       "      <td>0.906982</td>\n",
       "      <td>0.908447</td>\n",
       "      <td>0.993959</td>\n",
       "      <td>0.995016</td>\n",
       "      <td>9.900991e-01</td>\n",
       "      <td>0.993959</td>\n",
       "      <td>0.995057</td>\n",
       "      <td>9.900991e-01</td>\n",
       "      <td>0.990099</td>\n",
       "    </tr>\n",
       "  </tbody>\n",
       "</table>\n",
       "</div>"
      ],
      "text/plain": [
       "                PRICE  SEARCH_TO_OUTBOUND  SEARCH_TO_INBOUND  \\\n",
       "count  5000000.000000      5000000.000000     5000000.000000   \n",
       "mean         0.506741            0.453634           0.452273   \n",
       "std          0.285974            0.253537           0.256176   \n",
       "min          0.001709            0.000244           0.000244   \n",
       "25%          0.256592            0.220947           0.224365   \n",
       "50%          0.514893            0.454346           0.454346   \n",
       "75%          0.763428            0.681885           0.681885   \n",
       "max          0.992920            0.907471           0.906982   \n",
       "\n",
       "       OUTBOUND_TO_INBOUND  ORIGIN_LATITUDE  ORIGIN_LONGITUDE  ORIGIN_TRAFFIC  \\\n",
       "count       5000000.000000   5000000.000000    5000000.000000    5.000000e+06   \n",
       "mean              0.445235         0.691637          0.481843    3.195292e-01   \n",
       "std               0.256802         0.133136          0.111874    2.996625e-01   \n",
       "min               0.000244         0.003860          0.004917    1.720657e-07   \n",
       "25%               0.242432         0.680548          0.490286    8.425792e-02   \n",
       "50%               0.454346         0.742033          0.497292    2.262477e-01   \n",
       "75%               0.672607         0.759025          0.522537    5.086684e-01   \n",
       "max               0.908447         0.993959          0.995016    9.900991e-01   \n",
       "\n",
       "       DESTINATION_LATITUDE  DESTINATION_LONGITUDE  DESTINATION_TRAFFIC  \\\n",
       "count        5000000.000000         5000000.000000         5.000000e+06   \n",
       "mean               0.576854               0.461639         1.649103e-01   \n",
       "std                0.159981               0.172834         1.949162e-01   \n",
       "min                0.003860               0.004958         1.147104e-07   \n",
       "25%                0.519560               0.296306         3.501674e-02   \n",
       "50%                0.628681               0.494683         8.762324e-02   \n",
       "75%                0.680176               0.553753         2.262477e-01   \n",
       "max                0.993959               0.995057         9.900991e-01   \n",
       "\n",
       "             DISTANCE  \n",
       "count  5000000.000000  \n",
       "mean         0.291872  \n",
       "std          0.177041  \n",
       "min          0.000000  \n",
       "25%          0.115859  \n",
       "50%          0.339635  \n",
       "75%          0.439168  \n",
       "max          0.990099  "
      ]
     },
     "execution_count": 153,
     "metadata": {},
     "output_type": "execute_result"
    }
   ],
   "source": [
    "training_merged.describe()"
   ]
  },
  {
   "cell_type": "code",
   "execution_count": 154,
   "metadata": {
    "collapsed": false
   },
   "outputs": [
    {
     "data": {
      "text/html": [
       "<div>\n",
       "<table border=\"1\" class=\"dataframe\">\n",
       "  <thead>\n",
       "    <tr style=\"text-align: right;\">\n",
       "      <th></th>\n",
       "      <th>ORIGIN</th>\n",
       "      <th>DESTINATION</th>\n",
       "      <th>OUTBOUND_DATE</th>\n",
       "      <th>INBOUND_DATE</th>\n",
       "      <th>PRICE</th>\n",
       "      <th>MARKETS</th>\n",
       "      <th>SEARCH_TO_OUTBOUND</th>\n",
       "      <th>SEARCH_TO_INBOUND</th>\n",
       "      <th>OUTBOUND_TO_INBOUND</th>\n",
       "      <th>ORIGIN_COUNTRY</th>\n",
       "      <th>ORIGIN_LATITUDE</th>\n",
       "      <th>ORIGIN_LONGITUDE</th>\n",
       "      <th>ORIGIN_TRAFFIC</th>\n",
       "      <th>DESTINATION_COUNTRY</th>\n",
       "      <th>DESTINATION_LATITUDE</th>\n",
       "      <th>DESTINATION_LONGITUDE</th>\n",
       "      <th>DESTINATION_TRAFFIC</th>\n",
       "      <th>DISTANCE</th>\n",
       "    </tr>\n",
       "  </thead>\n",
       "  <tbody>\n",
       "    <tr>\n",
       "      <th>0</th>\n",
       "      <td>[False, False, False, False, False, False, Fal...</td>\n",
       "      <td>[False, False, False, False, False, False, Fal...</td>\n",
       "      <td>2016-01-15</td>\n",
       "      <td>2016-01-25</td>\n",
       "      <td>0.001709</td>\n",
       "      <td>[False, False, False, False, False, False, Tru...</td>\n",
       "      <td>0.079346</td>\n",
       "      <td>0.068115</td>\n",
       "      <td>0.393799</td>\n",
       "      <td>[False, False, False, False, False, False, Fal...</td>\n",
       "      <td>0.766980</td>\n",
       "      <td>0.53823</td>\n",
       "      <td>0.004367</td>\n",
       "      <td>[False, False, False, False, False, False, Fal...</td>\n",
       "      <td>0.80777</td>\n",
       "      <td>0.530469</td>\n",
       "      <td>0.015981</td>\n",
       "      <td>0.034350</td>\n",
       "    </tr>\n",
       "    <tr>\n",
       "      <th>1</th>\n",
       "      <td>[False, False, False, False, False, False, Fal...</td>\n",
       "      <td>[False, False, False, False, False, False, Fal...</td>\n",
       "      <td>2016-01-29</td>\n",
       "      <td>2016-02-01</td>\n",
       "      <td>0.002686</td>\n",
       "      <td>[False, False, False, False, False, False, Fal...</td>\n",
       "      <td>0.129639</td>\n",
       "      <td>0.081299</td>\n",
       "      <td>0.091064</td>\n",
       "      <td>[False, False, False, False, False, False, Fal...</td>\n",
       "      <td>0.766980</td>\n",
       "      <td>0.53823</td>\n",
       "      <td>0.004367</td>\n",
       "      <td>[False, False, False, False, False, False, Fal...</td>\n",
       "      <td>0.80777</td>\n",
       "      <td>0.530469</td>\n",
       "      <td>0.015981</td>\n",
       "      <td>0.034350</td>\n",
       "    </tr>\n",
       "    <tr>\n",
       "      <th>2</th>\n",
       "      <td>[False, False, False, False, False, False, Fal...</td>\n",
       "      <td>[False, False, False, False, False, False, Fal...</td>\n",
       "      <td>2016-01-08</td>\n",
       "      <td>2016-01-11</td>\n",
       "      <td>0.010010</td>\n",
       "      <td>[False, False, False, False, False, False, Fal...</td>\n",
       "      <td>0.063721</td>\n",
       "      <td>0.022705</td>\n",
       "      <td>0.091064</td>\n",
       "      <td>[False, False, False, False, False, False, Fal...</td>\n",
       "      <td>0.766980</td>\n",
       "      <td>0.53823</td>\n",
       "      <td>0.004367</td>\n",
       "      <td>[False, False, False, False, False, False, Fal...</td>\n",
       "      <td>0.80777</td>\n",
       "      <td>0.530469</td>\n",
       "      <td>0.015981</td>\n",
       "      <td>0.034350</td>\n",
       "    </tr>\n",
       "    <tr>\n",
       "      <th>3</th>\n",
       "      <td>[False, False, False, False, False, False, Fal...</td>\n",
       "      <td>[False, False, False, False, False, False, Fal...</td>\n",
       "      <td>2016-02-04</td>\n",
       "      <td>2016-02-16</td>\n",
       "      <td>0.002686</td>\n",
       "      <td>[False, False, False, False, False, False, Fal...</td>\n",
       "      <td>0.156006</td>\n",
       "      <td>0.147705</td>\n",
       "      <td>0.454346</td>\n",
       "      <td>[False, False, False, False, False, False, Fal...</td>\n",
       "      <td>0.759076</td>\n",
       "      <td>0.55430</td>\n",
       "      <td>0.053482</td>\n",
       "      <td>[False, False, False, False, False, False, Fal...</td>\n",
       "      <td>0.80777</td>\n",
       "      <td>0.530469</td>\n",
       "      <td>0.015981</td>\n",
       "      <td>0.048799</td>\n",
       "    </tr>\n",
       "    <tr>\n",
       "      <th>4</th>\n",
       "      <td>[False, False, False, False, False, False, Fal...</td>\n",
       "      <td>[False, False, False, False, False, False, Fal...</td>\n",
       "      <td>2016-02-26</td>\n",
       "      <td>2016-02-28</td>\n",
       "      <td>0.002686</td>\n",
       "      <td>[False, False, False, False, False, False, Fal...</td>\n",
       "      <td>0.298096</td>\n",
       "      <td>0.219482</td>\n",
       "      <td>0.060791</td>\n",
       "      <td>[False, False, False, False, False, False, Fal...</td>\n",
       "      <td>0.759076</td>\n",
       "      <td>0.55430</td>\n",
       "      <td>0.053482</td>\n",
       "      <td>[False, False, False, False, False, False, Fal...</td>\n",
       "      <td>0.80777</td>\n",
       "      <td>0.530469</td>\n",
       "      <td>0.015981</td>\n",
       "      <td>0.048799</td>\n",
       "    </tr>\n",
       "  </tbody>\n",
       "</table>\n",
       "</div>"
      ],
      "text/plain": [
       "                                              ORIGIN  \\\n",
       "0  [False, False, False, False, False, False, Fal...   \n",
       "1  [False, False, False, False, False, False, Fal...   \n",
       "2  [False, False, False, False, False, False, Fal...   \n",
       "3  [False, False, False, False, False, False, Fal...   \n",
       "4  [False, False, False, False, False, False, Fal...   \n",
       "\n",
       "                                         DESTINATION OUTBOUND_DATE  \\\n",
       "0  [False, False, False, False, False, False, Fal...    2016-01-15   \n",
       "1  [False, False, False, False, False, False, Fal...    2016-01-29   \n",
       "2  [False, False, False, False, False, False, Fal...    2016-01-08   \n",
       "3  [False, False, False, False, False, False, Fal...    2016-02-04   \n",
       "4  [False, False, False, False, False, False, Fal...    2016-02-26   \n",
       "\n",
       "  INBOUND_DATE     PRICE                                            MARKETS  \\\n",
       "0   2016-01-25  0.001709  [False, False, False, False, False, False, Tru...   \n",
       "1   2016-02-01  0.002686  [False, False, False, False, False, False, Fal...   \n",
       "2   2016-01-11  0.010010  [False, False, False, False, False, False, Fal...   \n",
       "3   2016-02-16  0.002686  [False, False, False, False, False, False, Fal...   \n",
       "4   2016-02-28  0.002686  [False, False, False, False, False, False, Fal...   \n",
       "\n",
       "   SEARCH_TO_OUTBOUND  SEARCH_TO_INBOUND  OUTBOUND_TO_INBOUND  \\\n",
       "0            0.079346           0.068115             0.393799   \n",
       "1            0.129639           0.081299             0.091064   \n",
       "2            0.063721           0.022705             0.091064   \n",
       "3            0.156006           0.147705             0.454346   \n",
       "4            0.298096           0.219482             0.060791   \n",
       "\n",
       "                                      ORIGIN_COUNTRY  ORIGIN_LATITUDE  \\\n",
       "0  [False, False, False, False, False, False, Fal...         0.766980   \n",
       "1  [False, False, False, False, False, False, Fal...         0.766980   \n",
       "2  [False, False, False, False, False, False, Fal...         0.766980   \n",
       "3  [False, False, False, False, False, False, Fal...         0.759076   \n",
       "4  [False, False, False, False, False, False, Fal...         0.759076   \n",
       "\n",
       "   ORIGIN_LONGITUDE  ORIGIN_TRAFFIC  \\\n",
       "0           0.53823        0.004367   \n",
       "1           0.53823        0.004367   \n",
       "2           0.53823        0.004367   \n",
       "3           0.55430        0.053482   \n",
       "4           0.55430        0.053482   \n",
       "\n",
       "                                 DESTINATION_COUNTRY  DESTINATION_LATITUDE  \\\n",
       "0  [False, False, False, False, False, False, Fal...               0.80777   \n",
       "1  [False, False, False, False, False, False, Fal...               0.80777   \n",
       "2  [False, False, False, False, False, False, Fal...               0.80777   \n",
       "3  [False, False, False, False, False, False, Fal...               0.80777   \n",
       "4  [False, False, False, False, False, False, Fal...               0.80777   \n",
       "\n",
       "   DESTINATION_LONGITUDE  DESTINATION_TRAFFIC  DISTANCE  \n",
       "0               0.530469             0.015981  0.034350  \n",
       "1               0.530469             0.015981  0.034350  \n",
       "2               0.530469             0.015981  0.034350  \n",
       "3               0.530469             0.015981  0.048799  \n",
       "4               0.530469             0.015981  0.048799  "
      ]
     },
     "execution_count": 154,
     "metadata": {},
     "output_type": "execute_result"
    }
   ],
   "source": [
    "training_merged.head()"
   ]
  },
  {
   "cell_type": "code",
   "execution_count": 152,
   "metadata": {
    "collapsed": false
   },
   "outputs": [
    {
     "name": "stdout",
     "output_type": "stream",
     "text": [
      "DISTANCE\n",
      "0.0 20141.4607366\n",
      "8\n"
     ]
    }
   ],
   "source": [
    "#for key in ('DISTANCE',):\n",
    "#    print key\n",
    "#    sorted_values = sorted(training_merged[key])\n",
    "#    minimum, maximum = sorted_values[0] * 1.01, sorted_values[-1] * 1.01\n",
    "#    print minimum, maximum\n",
    "#    training_merged[key] = (training_merged[key] - minimum) / (maximum - minimum)\n",
    "#    print gc.collect()"
   ]
  },
  {
   "cell_type": "code",
   "execution_count": 155,
   "metadata": {
    "collapsed": false
   },
   "outputs": [
    {
     "data": {
      "text/plain": [
       "Timestamp('2016-01-15 00:00:00')"
      ]
     },
     "execution_count": 155,
     "metadata": {},
     "output_type": "execute_result"
    }
   ],
   "source": [
    "training_merged.loc[0].OUTBOUND_DATE"
   ]
  },
  {
   "cell_type": "code",
   "execution_count": 156,
   "metadata": {
    "collapsed": false
   },
   "outputs": [
    {
     "data": {
      "text/plain": [
       "['__add__',\n",
       " '__class__',\n",
       " '__delattr__',\n",
       " '__dict__',\n",
       " '__doc__',\n",
       " '__eq__',\n",
       " '__format__',\n",
       " '__ge__',\n",
       " '__getattribute__',\n",
       " '__gt__',\n",
       " '__hash__',\n",
       " '__init__',\n",
       " '__le__',\n",
       " '__lt__',\n",
       " '__module__',\n",
       " '__ne__',\n",
       " '__new__',\n",
       " '__pyx_vtable__',\n",
       " '__qualname__',\n",
       " '__radd__',\n",
       " '__reduce__',\n",
       " '__reduce_ex__',\n",
       " '__repr__',\n",
       " '__rsub__',\n",
       " '__setattr__',\n",
       " '__setstate__',\n",
       " '__sizeof__',\n",
       " '__str__',\n",
       " '__sub__',\n",
       " '__subclasshook__',\n",
       " '__weakref__',\n",
       " '_date_repr',\n",
       " '_get_field',\n",
       " '_get_start_end_field',\n",
       " '_has_time_component',\n",
       " '_repr_base',\n",
       " '_time_repr',\n",
       " 'asm8',\n",
       " 'astimezone',\n",
       " 'combine',\n",
       " 'ctime',\n",
       " 'date',\n",
       " 'day',\n",
       " 'dayofweek',\n",
       " 'dayofyear',\n",
       " 'days_in_month',\n",
       " 'daysinmonth',\n",
       " 'dst',\n",
       " 'freq',\n",
       " 'freqstr',\n",
       " 'fromordinal',\n",
       " 'fromtimestamp',\n",
       " 'hour',\n",
       " 'is_month_end',\n",
       " 'is_month_start',\n",
       " 'is_quarter_end',\n",
       " 'is_quarter_start',\n",
       " 'is_year_end',\n",
       " 'is_year_start',\n",
       " 'isocalendar',\n",
       " 'isoformat',\n",
       " 'isoweekday',\n",
       " 'max',\n",
       " 'microsecond',\n",
       " 'min',\n",
       " 'minute',\n",
       " 'month',\n",
       " 'nanosecond',\n",
       " 'normalize',\n",
       " 'now',\n",
       " 'offset',\n",
       " 'quarter',\n",
       " 'replace',\n",
       " 'resolution',\n",
       " 'second',\n",
       " 'strftime',\n",
       " 'strptime',\n",
       " 'time',\n",
       " 'timetuple',\n",
       " 'timetz',\n",
       " 'to_datetime',\n",
       " 'to_datetime64',\n",
       " 'to_julian_date',\n",
       " 'to_period',\n",
       " 'to_pydatetime',\n",
       " 'today',\n",
       " 'toordinal',\n",
       " 'tz',\n",
       " 'tz_convert',\n",
       " 'tz_localize',\n",
       " 'tzinfo',\n",
       " 'tzname',\n",
       " 'utcfromtimestamp',\n",
       " 'utcnow',\n",
       " 'utcoffset',\n",
       " 'utctimetuple',\n",
       " 'value',\n",
       " 'week',\n",
       " 'weekday',\n",
       " 'weekofyear',\n",
       " 'year']"
      ]
     },
     "execution_count": 156,
     "metadata": {},
     "output_type": "execute_result"
    }
   ],
   "source": [
    "dir(training_merged.loc[0].OUTBOUND_DATE)"
   ]
  },
  {
   "cell_type": "code",
   "execution_count": 158,
   "metadata": {
    "collapsed": false
   },
   "outputs": [
    {
     "data": {
      "text/plain": [
       "4"
      ]
     },
     "execution_count": 158,
     "metadata": {},
     "output_type": "execute_result"
    }
   ],
   "source": [
    "training_merged.loc[0].OUTBOUND_DATE.weekday()"
   ]
  },
  {
   "cell_type": "code",
   "execution_count": 160,
   "metadata": {
    "collapsed": false
   },
   "outputs": [
    {
     "data": {
      "text/plain": [
       "1"
      ]
     },
     "execution_count": 160,
     "metadata": {},
     "output_type": "execute_result"
    }
   ],
   "source": [
    "training_merged.loc[0].OUTBOUND_DATE.month"
   ]
  },
  {
   "cell_type": "code",
   "execution_count": 162,
   "metadata": {
    "collapsed": false
   },
   "outputs": [
    {
     "data": {
      "text/plain": [
       "15"
      ]
     },
     "execution_count": 162,
     "metadata": {},
     "output_type": "execute_result"
    }
   ],
   "source": [
    "training_merged.loc[0].OUTBOUND_DATE.day"
   ]
  },
  {
   "cell_type": "code",
   "execution_count": 166,
   "metadata": {
    "collapsed": true
   },
   "outputs": [],
   "source": [
    "def onehot_encode_date(date):\n",
    "    array = np.zeros((7 + 12 + 31,), dtype='bool')\n",
    "    array[date.weekday() - 1] = True\n",
    "    array[date.month + 7 - 1] = True\n",
    "    array[date.day + 7 + 12 - 1] = True\n",
    "    return array"
   ]
  },
  {
   "cell_type": "code",
   "execution_count": 164,
   "metadata": {
    "collapsed": false
   },
   "outputs": [
    {
     "data": {
      "text/plain": [
       "559435     [False, False, False, False, False, False, Tru...\n",
       "2670405    [False, False, False, False, True, False, Fals...\n",
       "2866107    [False, False, False, True, False, False, Fals...\n",
       "981403     [False, False, False, False, False, False, Tru...\n",
       "4117305    [False, False, False, False, True, False, Fals...\n",
       "Name: OUTBOUND_DATE, dtype: object"
      ]
     },
     "execution_count": 164,
     "metadata": {},
     "output_type": "execute_result"
    }
   ],
   "source": [
    "training_merged.sample(5).OUTBOUND_DATE.apply(onehot_encode_date)"
   ]
  },
  {
   "cell_type": "code",
   "execution_count": 167,
   "metadata": {
    "collapsed": false
   },
   "outputs": [
    {
     "data": {
      "text/plain": [
       "0"
      ]
     },
     "execution_count": 167,
     "metadata": {},
     "output_type": "execute_result"
    }
   ],
   "source": [
    "training_merged['OUTBOUND_DATE'] = training_merged.OUTBOUND_DATE.apply(onehot_encode_date)\n",
    "gc.collect()\n",
    "training_merged['INBOUND_DATE'] = training_merged.INBOUND_DATE.apply(onehot_encode_date)\n",
    "gc.collect()"
   ]
  },
  {
   "cell_type": "code",
   "execution_count": 168,
   "metadata": {
    "collapsed": false
   },
   "outputs": [
    {
     "data": {
      "text/html": [
       "<div>\n",
       "<table border=\"1\" class=\"dataframe\">\n",
       "  <thead>\n",
       "    <tr style=\"text-align: right;\">\n",
       "      <th></th>\n",
       "      <th>ORIGIN</th>\n",
       "      <th>DESTINATION</th>\n",
       "      <th>OUTBOUND_DATE</th>\n",
       "      <th>INBOUND_DATE</th>\n",
       "      <th>PRICE</th>\n",
       "      <th>MARKETS</th>\n",
       "      <th>SEARCH_TO_OUTBOUND</th>\n",
       "      <th>SEARCH_TO_INBOUND</th>\n",
       "      <th>OUTBOUND_TO_INBOUND</th>\n",
       "      <th>ORIGIN_COUNTRY</th>\n",
       "      <th>ORIGIN_LATITUDE</th>\n",
       "      <th>ORIGIN_LONGITUDE</th>\n",
       "      <th>ORIGIN_TRAFFIC</th>\n",
       "      <th>DESTINATION_COUNTRY</th>\n",
       "      <th>DESTINATION_LATITUDE</th>\n",
       "      <th>DESTINATION_LONGITUDE</th>\n",
       "      <th>DESTINATION_TRAFFIC</th>\n",
       "      <th>DISTANCE</th>\n",
       "    </tr>\n",
       "  </thead>\n",
       "  <tbody>\n",
       "    <tr>\n",
       "      <th>0</th>\n",
       "      <td>[False, False, False, False, False, False, Fal...</td>\n",
       "      <td>[False, False, False, False, False, False, Fal...</td>\n",
       "      <td>[False, False, False, True, False, False, Fals...</td>\n",
       "      <td>[False, False, False, False, False, False, Fal...</td>\n",
       "      <td>0.001709</td>\n",
       "      <td>[False, False, False, False, False, False, Tru...</td>\n",
       "      <td>0.079346</td>\n",
       "      <td>0.068115</td>\n",
       "      <td>0.393799</td>\n",
       "      <td>[False, False, False, False, False, False, Fal...</td>\n",
       "      <td>0.766980</td>\n",
       "      <td>0.53823</td>\n",
       "      <td>0.004367</td>\n",
       "      <td>[False, False, False, False, False, False, Fal...</td>\n",
       "      <td>0.80777</td>\n",
       "      <td>0.530469</td>\n",
       "      <td>0.015981</td>\n",
       "      <td>0.034350</td>\n",
       "    </tr>\n",
       "    <tr>\n",
       "      <th>1</th>\n",
       "      <td>[False, False, False, False, False, False, Fal...</td>\n",
       "      <td>[False, False, False, False, False, False, Fal...</td>\n",
       "      <td>[False, False, False, True, False, False, Fals...</td>\n",
       "      <td>[False, False, False, False, False, False, Fal...</td>\n",
       "      <td>0.002686</td>\n",
       "      <td>[False, False, False, False, False, False, Fal...</td>\n",
       "      <td>0.129639</td>\n",
       "      <td>0.081299</td>\n",
       "      <td>0.091064</td>\n",
       "      <td>[False, False, False, False, False, False, Fal...</td>\n",
       "      <td>0.766980</td>\n",
       "      <td>0.53823</td>\n",
       "      <td>0.004367</td>\n",
       "      <td>[False, False, False, False, False, False, Fal...</td>\n",
       "      <td>0.80777</td>\n",
       "      <td>0.530469</td>\n",
       "      <td>0.015981</td>\n",
       "      <td>0.034350</td>\n",
       "    </tr>\n",
       "    <tr>\n",
       "      <th>2</th>\n",
       "      <td>[False, False, False, False, False, False, Fal...</td>\n",
       "      <td>[False, False, False, False, False, False, Fal...</td>\n",
       "      <td>[False, False, False, True, False, False, Fals...</td>\n",
       "      <td>[False, False, False, False, False, False, Fal...</td>\n",
       "      <td>0.010010</td>\n",
       "      <td>[False, False, False, False, False, False, Fal...</td>\n",
       "      <td>0.063721</td>\n",
       "      <td>0.022705</td>\n",
       "      <td>0.091064</td>\n",
       "      <td>[False, False, False, False, False, False, Fal...</td>\n",
       "      <td>0.766980</td>\n",
       "      <td>0.53823</td>\n",
       "      <td>0.004367</td>\n",
       "      <td>[False, False, False, False, False, False, Fal...</td>\n",
       "      <td>0.80777</td>\n",
       "      <td>0.530469</td>\n",
       "      <td>0.015981</td>\n",
       "      <td>0.034350</td>\n",
       "    </tr>\n",
       "    <tr>\n",
       "      <th>3</th>\n",
       "      <td>[False, False, False, False, False, False, Fal...</td>\n",
       "      <td>[False, False, False, False, False, False, Fal...</td>\n",
       "      <td>[False, False, True, False, False, False, Fals...</td>\n",
       "      <td>[True, False, False, False, False, False, Fals...</td>\n",
       "      <td>0.002686</td>\n",
       "      <td>[False, False, False, False, False, False, Fal...</td>\n",
       "      <td>0.156006</td>\n",
       "      <td>0.147705</td>\n",
       "      <td>0.454346</td>\n",
       "      <td>[False, False, False, False, False, False, Fal...</td>\n",
       "      <td>0.759076</td>\n",
       "      <td>0.55430</td>\n",
       "      <td>0.053482</td>\n",
       "      <td>[False, False, False, False, False, False, Fal...</td>\n",
       "      <td>0.80777</td>\n",
       "      <td>0.530469</td>\n",
       "      <td>0.015981</td>\n",
       "      <td>0.048799</td>\n",
       "    </tr>\n",
       "    <tr>\n",
       "      <th>4</th>\n",
       "      <td>[False, False, False, False, False, False, Fal...</td>\n",
       "      <td>[False, False, False, False, False, False, Fal...</td>\n",
       "      <td>[False, False, False, True, False, False, Fals...</td>\n",
       "      <td>[False, False, False, False, False, True, Fals...</td>\n",
       "      <td>0.002686</td>\n",
       "      <td>[False, False, False, False, False, False, Fal...</td>\n",
       "      <td>0.298096</td>\n",
       "      <td>0.219482</td>\n",
       "      <td>0.060791</td>\n",
       "      <td>[False, False, False, False, False, False, Fal...</td>\n",
       "      <td>0.759076</td>\n",
       "      <td>0.55430</td>\n",
       "      <td>0.053482</td>\n",
       "      <td>[False, False, False, False, False, False, Fal...</td>\n",
       "      <td>0.80777</td>\n",
       "      <td>0.530469</td>\n",
       "      <td>0.015981</td>\n",
       "      <td>0.048799</td>\n",
       "    </tr>\n",
       "  </tbody>\n",
       "</table>\n",
       "</div>"
      ],
      "text/plain": [
       "                                              ORIGIN  \\\n",
       "0  [False, False, False, False, False, False, Fal...   \n",
       "1  [False, False, False, False, False, False, Fal...   \n",
       "2  [False, False, False, False, False, False, Fal...   \n",
       "3  [False, False, False, False, False, False, Fal...   \n",
       "4  [False, False, False, False, False, False, Fal...   \n",
       "\n",
       "                                         DESTINATION  \\\n",
       "0  [False, False, False, False, False, False, Fal...   \n",
       "1  [False, False, False, False, False, False, Fal...   \n",
       "2  [False, False, False, False, False, False, Fal...   \n",
       "3  [False, False, False, False, False, False, Fal...   \n",
       "4  [False, False, False, False, False, False, Fal...   \n",
       "\n",
       "                                       OUTBOUND_DATE  \\\n",
       "0  [False, False, False, True, False, False, Fals...   \n",
       "1  [False, False, False, True, False, False, Fals...   \n",
       "2  [False, False, False, True, False, False, Fals...   \n",
       "3  [False, False, True, False, False, False, Fals...   \n",
       "4  [False, False, False, True, False, False, Fals...   \n",
       "\n",
       "                                        INBOUND_DATE     PRICE  \\\n",
       "0  [False, False, False, False, False, False, Fal...  0.001709   \n",
       "1  [False, False, False, False, False, False, Fal...  0.002686   \n",
       "2  [False, False, False, False, False, False, Fal...  0.010010   \n",
       "3  [True, False, False, False, False, False, Fals...  0.002686   \n",
       "4  [False, False, False, False, False, True, Fals...  0.002686   \n",
       "\n",
       "                                             MARKETS  SEARCH_TO_OUTBOUND  \\\n",
       "0  [False, False, False, False, False, False, Tru...            0.079346   \n",
       "1  [False, False, False, False, False, False, Fal...            0.129639   \n",
       "2  [False, False, False, False, False, False, Fal...            0.063721   \n",
       "3  [False, False, False, False, False, False, Fal...            0.156006   \n",
       "4  [False, False, False, False, False, False, Fal...            0.298096   \n",
       "\n",
       "   SEARCH_TO_INBOUND  OUTBOUND_TO_INBOUND  \\\n",
       "0           0.068115             0.393799   \n",
       "1           0.081299             0.091064   \n",
       "2           0.022705             0.091064   \n",
       "3           0.147705             0.454346   \n",
       "4           0.219482             0.060791   \n",
       "\n",
       "                                      ORIGIN_COUNTRY  ORIGIN_LATITUDE  \\\n",
       "0  [False, False, False, False, False, False, Fal...         0.766980   \n",
       "1  [False, False, False, False, False, False, Fal...         0.766980   \n",
       "2  [False, False, False, False, False, False, Fal...         0.766980   \n",
       "3  [False, False, False, False, False, False, Fal...         0.759076   \n",
       "4  [False, False, False, False, False, False, Fal...         0.759076   \n",
       "\n",
       "   ORIGIN_LONGITUDE  ORIGIN_TRAFFIC  \\\n",
       "0           0.53823        0.004367   \n",
       "1           0.53823        0.004367   \n",
       "2           0.53823        0.004367   \n",
       "3           0.55430        0.053482   \n",
       "4           0.55430        0.053482   \n",
       "\n",
       "                                 DESTINATION_COUNTRY  DESTINATION_LATITUDE  \\\n",
       "0  [False, False, False, False, False, False, Fal...               0.80777   \n",
       "1  [False, False, False, False, False, False, Fal...               0.80777   \n",
       "2  [False, False, False, False, False, False, Fal...               0.80777   \n",
       "3  [False, False, False, False, False, False, Fal...               0.80777   \n",
       "4  [False, False, False, False, False, False, Fal...               0.80777   \n",
       "\n",
       "   DESTINATION_LONGITUDE  DESTINATION_TRAFFIC  DISTANCE  \n",
       "0               0.530469             0.015981  0.034350  \n",
       "1               0.530469             0.015981  0.034350  \n",
       "2               0.530469             0.015981  0.034350  \n",
       "3               0.530469             0.015981  0.048799  \n",
       "4               0.530469             0.015981  0.048799  "
      ]
     },
     "execution_count": 168,
     "metadata": {},
     "output_type": "execute_result"
    }
   ],
   "source": [
    "training_merged.head()"
   ]
  },
  {
   "cell_type": "code",
   "execution_count": null,
   "metadata": {
    "collapsed": true
   },
   "outputs": [],
   "source": []
  }
 ],
 "metadata": {
  "kernelspec": {
   "display_name": "Python 2",
   "language": "python",
   "name": "python2"
  },
  "language_info": {
   "codemirror_mode": {
    "name": "ipython",
    "version": 2
   },
   "file_extension": ".py",
   "mimetype": "text/x-python",
   "name": "python",
   "nbconvert_exporter": "python",
   "pygments_lexer": "ipython2",
   "version": "2.7.11"
  }
 },
 "nbformat": 4,
 "nbformat_minor": 0
}
