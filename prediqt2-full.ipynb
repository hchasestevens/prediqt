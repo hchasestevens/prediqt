{
 "cells": [
  {
   "cell_type": "code",
   "execution_count": 2,
   "metadata": {
    "collapsed": false
   },
   "outputs": [],
   "source": [
    "import itertools\n",
    "import functools\n",
    "from collections import Counter, defaultdict\n",
    "import pandas\n",
    "from matplotlib import pyplot as pl\n",
    "import numpy as np\n",
    "import gc\n",
    "import math\n",
    "training_fname = 'data/PrediqtTrainData.csv'\n",
    "airports_fname = 'data/PrediqtAirports.csv'\n",
    "testing_fname = 'data/PrediqtTestDataSmall.csv'"
   ]
  },
  {
   "cell_type": "code",
   "execution_count": 3,
   "metadata": {
    "collapsed": false
   },
   "outputs": [],
   "source": [
    "training_data = pandas.read_csv(training_fname, dtype={\n",
    "    'PRICE': float, \n",
    "})"
   ]
  },
  {
   "cell_type": "code",
   "execution_count": 4,
   "metadata": {
    "collapsed": false
   },
   "outputs": [
    {
     "name": "stdout",
     "output_type": "stream",
     "text": [
      "OUTBOUND_DATE\n",
      "SEARCH_DATEHOUR\n",
      "INBOUND_DATE\n"
     ]
    },
    {
     "data": {
      "text/plain": [
       "0"
      ]
     },
     "execution_count": 4,
     "metadata": {},
     "output_type": "execute_result"
    }
   ],
   "source": [
    "for item, itemtype in {\n",
    "    'OUTBOUND_DATE': 'datetime64',  # can't believe you can't do this when parsing\n",
    "    'INBOUND_DATE': 'datetime64',\n",
    "    'SEARCH_DATEHOUR': 'datetime64[ns]',}.iteritems():\n",
    "    print item\n",
    "    training_data[item] = training_data[item].astype(itemtype)\n",
    "gc.collect()"
   ]
  },
  {
   "cell_type": "markdown",
   "metadata": {},
   "source": [
    "#Prices"
   ]
  },
  {
   "cell_type": "code",
   "execution_count": 5,
   "metadata": {
    "collapsed": false,
    "scrolled": true
   },
   "outputs": [],
   "source": [
    "training_data = training_data.sort_index(by='PRICE')"
   ]
  },
  {
   "cell_type": "code",
   "execution_count": 6,
   "metadata": {
    "collapsed": false
   },
   "outputs": [],
   "source": [
    "price_counts = training_data.PRICE.value_counts(sort=False)"
   ]
  },
  {
   "cell_type": "code",
   "execution_count": 7,
   "metadata": {
    "collapsed": false
   },
   "outputs": [
    {
     "name": "stdout",
     "output_type": "stream",
     "text": [
      "[0.0, 42.18, 54.600000000000001, 65.359999999999999, 75.280000000000001, 84.540000000000006, 93.620000000000005, 101.38, 109.23, 117.3, 124.98, 132.22, 139.58000000000001, 145.97999999999999, 151.97999999999999, 158.28999999999999, 163.84999999999999, 169.80000000000001, 174.24000000000001, 179.97999999999999, 185.36000000000001, 190.19, 195.62, 199.97999999999999, 204.97999999999999, 209.97999999999999, 215.34, 219.97999999999999, 225.08000000000001, 229.97999999999999, 235.36000000000001, 239.97999999999999, 245.40000000000001, 250.0, 256.05000000000001, 260.98000000000002, 268.86000000000001, 273.87, 279.98000000000002, 287.75999999999999, 294.49000000000001, 300.98000000000002, 309.98000000000002, 319.26999999999998, 326.98000000000002, 335.69, 343.48000000000002, 353.5, 362.98000000000002, 374.48000000000002, 385.13999999999999, 397.82999999999998, 409.98000000000002, 423.30000000000001, 437.98000000000002, 451.60000000000002, 466.51999999999998, 480.87, 496.33999999999997, 510.24000000000001, 526.02999999999997, 539.98000000000002, 550.28999999999996, 568.98000000000002, 579.98000000000002, 599.46000000000004, 612.47000000000003, 629.98000000000002, 648.98000000000002, 664.0, 679.98000000000002, 699.09000000000003, 709.98000000000002, 727.07000000000005, 739.98000000000002, 756.72000000000003, 769.98000000000002, 786.98000000000002, 799.98000000000002, 810.92999999999995, 825.08000000000004, 833.80999999999995, 848.0, 856.07000000000005, 867.98000000000002, 874.73000000000002, 886.16999999999996, 896.10000000000002, 902.10000000000002, 909.98000000000002, 919.98000000000002, 929.98000000000002, 939.98000000000002, 949.98000000000002, 959.98000000000002, 969.98000000000002, 979.98000000000002, 989.98000000000002, 999.98000000000002, 1009.98, 1019.98, 1029.98, 1039.98, 1049.98, 1061.98, 1073.29, 1081.23, 1091.98, 1103.5, 1115.98, 1127.98, 1138.49, 1149.98, 1161.98, 1175.98, 1188.98, 1199.98, 1216.4300000000001, 1229.98, 1245.98, 1259.98, 1277.0899999999999, 1289.98, 1307.98, 1319.98, 1339.98, 1359.98, 1379.98, 1399.98, 1419.98, 1440.98, 1462.98, 1489.98, 1519.98, 1554.98, 1589.98, 1639.98, 1699.98, 1778.98, 1886.98, 2052.98, 10099.838400000001]\n"
     ]
    }
   ],
   "source": [
    "num_prices = len(training_data.PRICE)\n",
    "num_buckets = 150.\n",
    "buckets = [0.]\n",
    "running_total = 0\n",
    "for price, count in price_counts.sort_index().iteritems():\n",
    "    running_total += count\n",
    "    if running_total >= num_prices / num_buckets:\n",
    "        buckets.append(price)\n",
    "        running_total = 0\n",
    "buckets.append(price * 1.01)\n",
    "print buckets\n",
    "del price_counts"
   ]
  },
  {
   "cell_type": "code",
   "execution_count": 8,
   "metadata": {
    "collapsed": false,
    "scrolled": false
   },
   "outputs": [
    {
     "data": {
      "image/png": "[encoded data removed]",
      "text/plain": [
       "<matplotlib.figure.Figure at 0x203cf860>"
      ]
     },
     "metadata": {},
     "output_type": "display_data"
    }
   ],
   "source": [
    "%matplotlib inline\n",
    "from matplotlib import pyplot as pl\n",
    "pl.plot(buckets)\n",
    "pl.show()"
   ]
  },
  {
   "cell_type": "code",
   "execution_count": 9,
   "metadata": {
    "collapsed": false
   },
   "outputs": [
    {
     "data": {
      "image/png": "[encoded data removed]",
      "text/plain": [
       "<matplotlib.figure.Figure at 0x1fc7e588>"
      ]
     },
     "metadata": {},
     "output_type": "display_data"
    }
   ],
   "source": [
    "pl.hist(training_data.PRICE, num_buckets, color='black')\n",
    "pl.xlim([0, 2500])\n",
    "pl.show()"
   ]
  },
  {
   "cell_type": "markdown",
   "metadata": {},
   "source": [
    "I think bucket_counts looks better than bin_counts."
   ]
  },
  {
   "cell_type": "code",
   "execution_count": 10,
   "metadata": {
    "collapsed": false,
    "scrolled": true
   },
   "outputs": [
    {
     "name": "stdout",
     "output_type": "stream",
     "text": [
      "[0.0, 42.18, 54.600000000000001, 65.359999999999999, 75.280000000000001, 84.540000000000006, 93.620000000000005, 101.38, 109.23, 117.3, 124.98, 132.22, 139.58000000000001, 145.97999999999999, 151.97999999999999, 158.28999999999999, 163.84999999999999, 169.80000000000001, 174.24000000000001, 179.97999999999999, 185.36000000000001, 190.19, 195.62, 199.97999999999999, 204.97999999999999, 209.97999999999999, 215.34, 219.97999999999999, 225.08000000000001, 229.97999999999999, 235.36000000000001, 239.97999999999999, 245.40000000000001, 250.0, 256.05000000000001, 260.98000000000002, 268.86000000000001, 273.87, 279.98000000000002, 287.75999999999999, 294.49000000000001, 300.98000000000002, 309.98000000000002, 319.26999999999998, 326.98000000000002, 335.69, 343.48000000000002, 353.5, 362.98000000000002, 374.48000000000002, 385.13999999999999, 397.82999999999998, 409.98000000000002, 423.30000000000001, 437.98000000000002, 451.60000000000002, 466.51999999999998, 480.87, 496.33999999999997, 510.24000000000001, 526.02999999999997, 539.98000000000002, 550.28999999999996, 568.98000000000002, 579.98000000000002, 599.46000000000004, 612.47000000000003, 629.98000000000002, 648.98000000000002, 664.0, 679.98000000000002, 699.09000000000003, 709.98000000000002, 727.07000000000005, 739.98000000000002, 756.72000000000003, 769.98000000000002, 786.98000000000002, 799.98000000000002, 810.92999999999995, 825.08000000000004, 833.80999999999995, 848.0, 856.07000000000005, 867.98000000000002, 874.73000000000002, 886.16999999999996, 896.10000000000002, 902.10000000000002, 909.98000000000002, 919.98000000000002, 929.98000000000002, 939.98000000000002, 949.98000000000002, 959.98000000000002, 969.98000000000002, 979.98000000000002, 989.98000000000002, 999.98000000000002, 1009.98, 1019.98, 1029.98, 1039.98, 1049.98, 1061.98, 1073.29, 1081.23, 1091.98, 1103.5, 1115.98, 1127.98, 1138.49, 1149.98, 1161.98, 1175.98, 1188.98, 1199.98, 1216.4300000000001, 1229.98, 1245.98, 1259.98, 1277.0899999999999, 1289.98, 1307.98, 1319.98, 1339.98, 1359.98, 1379.98, 1399.98, 1419.98, 1440.98, 1462.98, 1489.98, 1519.98, 1554.98, 1589.98, 1639.98, 1699.98, 1778.98, 1886.98, 2052.98, 10099.838400000001]\n"
     ]
    }
   ],
   "source": [
    "print buckets"
   ]
  },
  {
   "cell_type": "code",
   "execution_count": 11,
   "metadata": {
    "collapsed": false
   },
   "outputs": [
    {
     "data": {
      "text/plain": [
       "142"
      ]
     },
     "execution_count": 11,
     "metadata": {},
     "output_type": "execute_result"
    }
   ],
   "source": [
    "len(buckets)"
   ]
  },
  {
   "cell_type": "code",
   "execution_count": 12,
   "metadata": {
    "collapsed": false
   },
   "outputs": [],
   "source": [
    "def convert(num, buckets=buckets, bucket_ranges=None):\n",
    "    \"\"\"go from 0..1 to larger\"\"\"\n",
    "    buckets = tuple(buckets)\n",
    "    if bucket_ranges is None:\n",
    "        bucket_ranges = itertools.izip(buckets, buckets[1:])\n",
    "    step = 1 / float(len(buckets))\n",
    "    cumsum = 0\n",
    "    for low, high in bucket_ranges:\n",
    "        if cumsum <= num < cumsum + step:\n",
    "            t = (num - cumsum) / step\n",
    "            return (1 - t) * low + t * high\n",
    "        cumsum += step\n",
    "    t = (num - (cumsum - step)) / step\n",
    "    return (1 - t) * low + t * high\n",
    "\n",
    "def reverse_convert(num, buckets, _range=range(12), cache={}):\n",
    "    \"\"\"go from larger to 0..1\"\"\"\n",
    "    buckets = tuple(buckets)\n",
    "    key = (num, buckets)\n",
    "    try:\n",
    "        return cache[key]\n",
    "    except KeyError:\n",
    "        pass\n",
    "    \n",
    "    # Binary search, because I couldn't spend time to figure it out properly... oh well\n",
    "    bucket_ranges = zip(buckets, buckets[1:])\n",
    "    high, low = 0., 1.\n",
    "    for __ in _range:\n",
    "        mid = (high + low) / 2.\n",
    "        result = convert(mid, buckets=buckets, bucket_ranges=bucket_ranges)\n",
    "        if abs(result - num) < 0.001:\n",
    "            break\n",
    "        if result > num:\n",
    "            low = mid\n",
    "        else:\n",
    "            high = mid\n",
    "            \n",
    "    cache[key] = mid\n",
    "    return mid"
   ]
  },
  {
   "cell_type": "code",
   "execution_count": 13,
   "metadata": {
    "collapsed": false
   },
   "outputs": [
    {
     "name": "stdout",
     "output_type": "stream",
     "text": [
      "9005.4656576\n",
      "9576.792604\n",
      "10148.1195504\n",
      "10719.4464968\n"
     ]
    }
   ],
   "source": [
    "print convert(.992)\n",
    "print convert(.9925)\n",
    "print convert(.993)\n",
    "print convert(.9935)"
   ]
  },
  {
   "cell_type": "code",
   "execution_count": 14,
   "metadata": {
    "collapsed": false
   },
   "outputs": [
    {
     "data": {
      "image/png": "[encoded data removed]",
      "text/plain": [
       "<matplotlib.figure.Figure at 0x1fbccd68>"
      ]
     },
     "metadata": {},
     "output_type": "display_data"
    }
   ],
   "source": [
    "%matplotlib inline\n",
    "pl.plot([convert(i / 250.) for i in xrange(250)])\n",
    "pl.xlim([0, 200])\n",
    "pl.ylim([0, 1800])\n",
    "pl.show()"
   ]
  },
  {
   "cell_type": "code",
   "execution_count": 15,
   "metadata": {
    "collapsed": false
   },
   "outputs": [
    {
     "data": {
      "text/html": [
       "<div>\n",
       "<table border=\"1\" class=\"dataframe\">\n",
       "  <thead>\n",
       "    <tr style=\"text-align: right;\">\n",
       "      <th></th>\n",
       "      <th>PRICE</th>\n",
       "    </tr>\n",
       "  </thead>\n",
       "  <tbody>\n",
       "    <tr>\n",
       "      <th>count</th>\n",
       "      <td>26454134.000000</td>\n",
       "    </tr>\n",
       "    <tr>\n",
       "      <th>mean</th>\n",
       "      <td>742.861342</td>\n",
       "    </tr>\n",
       "    <tr>\n",
       "      <th>std</th>\n",
       "      <td>508.558478</td>\n",
       "    </tr>\n",
       "    <tr>\n",
       "      <th>min</th>\n",
       "      <td>0.010000</td>\n",
       "    </tr>\n",
       "    <tr>\n",
       "      <th>25%</th>\n",
       "      <td>271.790000</td>\n",
       "    </tr>\n",
       "    <tr>\n",
       "      <th>50%</th>\n",
       "      <td>729.980000</td>\n",
       "    </tr>\n",
       "    <tr>\n",
       "      <th>75%</th>\n",
       "      <td>1109.980000</td>\n",
       "    </tr>\n",
       "    <tr>\n",
       "      <th>max</th>\n",
       "      <td>9999.840000</td>\n",
       "    </tr>\n",
       "  </tbody>\n",
       "</table>\n",
       "</div>"
      ],
      "text/plain": [
       "                 PRICE\n",
       "count  26454134.000000\n",
       "mean        742.861342\n",
       "std         508.558478\n",
       "min           0.010000\n",
       "25%         271.790000\n",
       "50%         729.980000\n",
       "75%        1109.980000\n",
       "max        9999.840000"
      ]
     },
     "execution_count": 15,
     "metadata": {},
     "output_type": "execute_result"
    }
   ],
   "source": [
    "training_data.describe()"
   ]
  },
  {
   "cell_type": "markdown",
   "metadata": {},
   "source": [
    "#Timedeltas"
   ]
  },
  {
   "cell_type": "code",
   "execution_count": 16,
   "metadata": {
    "collapsed": true
   },
   "outputs": [],
   "source": [
    "training_data['SEARCH_TO_OUTBOUND'] = training_data.OUTBOUND_DATE - training_data.SEARCH_DATEHOUR"
   ]
  },
  {
   "cell_type": "code",
   "execution_count": 17,
   "metadata": {
    "collapsed": true
   },
   "outputs": [],
   "source": [
    "training_data['SEARCH_TO_INBOUND'] = training_data.INBOUND_DATE - training_data.SEARCH_DATEHOUR"
   ]
  },
  {
   "cell_type": "code",
   "execution_count": 18,
   "metadata": {
    "collapsed": true
   },
   "outputs": [],
   "source": [
    "del training_data['SEARCH_DATEHOUR']"
   ]
  },
  {
   "cell_type": "code",
   "execution_count": 19,
   "metadata": {
    "collapsed": true
   },
   "outputs": [],
   "source": [
    "training_data['OUTBOUND_TO_INBOUND'] = training_data.INBOUND_DATE - training_data.OUTBOUND_DATE"
   ]
  },
  {
   "cell_type": "code",
   "execution_count": 20,
   "metadata": {
    "collapsed": false
   },
   "outputs": [],
   "source": [
    "one_day = 1000000000 * 60 * 60 * 24\n",
    "oti_days = training_data.OUTBOUND_TO_INBOUND.map(lambda x: x.item() / one_day)"
   ]
  },
  {
   "cell_type": "code",
   "execution_count": 21,
   "metadata": {
    "collapsed": false
   },
   "outputs": [
    {
     "data": {
      "text/plain": [
       "<matplotlib.axes._subplots.AxesSubplot at 0xc5bf320>"
      ]
     },
     "execution_count": 21,
     "metadata": {},
     "output_type": "execute_result"
    },
    {
     "data": {
      "image/png": "[encoded data removed]",
      "text/plain": [
       "<matplotlib.figure.Figure at 0xae9bda0>"
      ]
     },
     "metadata": {},
     "output_type": "display_data"
    }
   ],
   "source": [
    "oti_days.hist()"
   ]
  },
  {
   "cell_type": "code",
   "execution_count": 22,
   "metadata": {
    "collapsed": false,
    "scrolled": true
   },
   "outputs": [
    {
     "data": {
      "text/plain": [
       "<matplotlib.axes._subplots.AxesSubplot at 0xbebebf60>"
      ]
     },
     "execution_count": 22,
     "metadata": {},
     "output_type": "execute_result"
    },
    {
     "data": {
      "image/png": "[encoded data removed]",
      "text/plain": [
       "<matplotlib.figure.Figure at 0xbebf6da0>"
      ]
     },
     "metadata": {},
     "output_type": "display_data"
    }
   ],
   "source": [
    "oti_days.sample(1000).hist()"
   ]
  },
  {
   "cell_type": "code",
   "execution_count": 23,
   "metadata": {
    "collapsed": false
   },
   "outputs": [],
   "source": [
    "oti_out, oti_bins = pandas.qcut(oti_days, 10, retbins=True)\n",
    "oti_bins[-1] = int(oti_bins[-1] * 1.01)"
   ]
  },
  {
   "cell_type": "code",
   "execution_count": 24,
   "metadata": {
    "collapsed": false
   },
   "outputs": [
    {
     "data": {
      "text/plain": [
       "array([  0.00000000e+00,   3.00000000e+00,   4.00000000e+00,\n",
       "         7.00000000e+00,   9.00000000e+00,   1.20000000e+01,\n",
       "         1.50000000e+01,   1.90000000e+01,   2.40000000e+01,\n",
       "         3.30000000e+01,   1.71990000e+04])"
      ]
     },
     "execution_count": 24,
     "metadata": {},
     "output_type": "execute_result"
    }
   ],
   "source": [
    "oti_bins"
   ]
  },
  {
   "cell_type": "code",
   "execution_count": 25,
   "metadata": {
    "collapsed": false
   },
   "outputs": [
    {
     "data": {
      "text/plain": [
       "[0, 3]         77\n",
       "(3, 4]         24\n",
       "(4, 7]         82\n",
       "(7, 9]         24\n",
       "(9, 12]        40\n",
       "(12, 15]       62\n",
       "(15, 19]       48\n",
       "(19, 24]       53\n",
       "(24, 33]       44\n",
       "(33, 17029]    46\n",
       "dtype: int64"
      ]
     },
     "execution_count": 25,
     "metadata": {},
     "output_type": "execute_result"
    }
   ],
   "source": [
    "oti_out.sample(500).value_counts(sort=False)"
   ]
  },
  {
   "cell_type": "code",
   "execution_count": 26,
   "metadata": {
    "collapsed": false
   },
   "outputs": [
    {
     "data": {
      "text/plain": [
       "13.499999999999998"
      ]
     },
     "execution_count": 26,
     "metadata": {},
     "output_type": "execute_result"
    }
   ],
   "source": [
    "convert(0.5, oti_bins)"
   ]
  },
  {
   "cell_type": "code",
   "execution_count": 27,
   "metadata": {
    "collapsed": false
   },
   "outputs": [
    {
     "data": {
      "text/plain": [
       "<matplotlib.axes._subplots.AxesSubplot at 0xbcd6f6d8>"
      ]
     },
     "execution_count": 27,
     "metadata": {},
     "output_type": "execute_result"
    },
    {
     "data": {
      "image/png": "[encoded data removed]",
      "text/plain": [
       "<matplotlib.figure.Figure at 0x82efa518>"
      ]
     },
     "metadata": {},
     "output_type": "display_data"
    }
   ],
   "source": [
    "one_day = 1000000000 * 60 * 60 * 24\n",
    "sto_days = training_data.SEARCH_TO_OUTBOUND.map(lambda x: x.item() / one_day)\n",
    "sto_days.hist()"
   ]
  },
  {
   "cell_type": "code",
   "execution_count": 28,
   "metadata": {
    "collapsed": false
   },
   "outputs": [
    {
     "data": {
      "text/plain": [
       "array([ -1.68070000e+04,   1.50000000e+01,   2.90000000e+01,\n",
       "         4.30000000e+01,   6.10000000e+01,   8.10000000e+01,\n",
       "         1.12000000e+02,   1.46000000e+02,   1.80000000e+02,\n",
       "         2.15000000e+02,   4.37000000e+02])"
      ]
     },
     "execution_count": 28,
     "metadata": {},
     "output_type": "execute_result"
    }
   ],
   "source": [
    "sto_out, sto_bins = pandas.qcut(sto_days, 10, retbins=True)\n",
    "sto_bins[-1] = int(sto_bins[-1] * 1.01)\n",
    "sto_bins"
   ]
  },
  {
   "cell_type": "code",
   "execution_count": 30,
   "metadata": {
    "collapsed": false
   },
   "outputs": [
    {
     "name": "stdout",
     "output_type": "stream",
     "text": [
      "[  -2.   27.   43.   60.   79.   99.  131.  166.  202.  235.  451.]\n"
     ]
    },
    {
     "data": {
      "text/plain": [
       "31457"
      ]
     },
     "execution_count": 30,
     "metadata": {},
     "output_type": "execute_result"
    }
   ],
   "source": [
    "sti_days = training_data.SEARCH_TO_INBOUND.map(lambda x: x.item() / one_day)\n",
    "sti_out, sti_bins = pandas.qcut(sti_days, 10, retbins=True)\n",
    "sti_bins[-1] = int(sti_bins[-1] * 1.01)\n",
    "print sti_bins\n",
    "reverse_convert_sti = functools.partial(reverse_convert, buckets=sti_bins)\n",
    "#training_data['SEARCH_TO_INBOUND'] = sti_days.apply(reverse_convert_sti)\n",
    "gc.collect()"
   ]
  },
  {
   "cell_type": "code",
   "execution_count": 31,
   "metadata": {
    "collapsed": false
   },
   "outputs": [
    {
     "data": {
      "text/html": [
       "<div>\n",
       "<table border=\"1\" class=\"dataframe\">\n",
       "  <thead>\n",
       "    <tr style=\"text-align: right;\">\n",
       "      <th></th>\n",
       "      <th>PRICE</th>\n",
       "      <th>SEARCH_TO_OUTBOUND</th>\n",
       "      <th>SEARCH_TO_INBOUND</th>\n",
       "      <th>OUTBOUND_TO_INBOUND</th>\n",
       "    </tr>\n",
       "  </thead>\n",
       "  <tbody>\n",
       "    <tr>\n",
       "      <th>count</th>\n",
       "      <td>26454134.000000</td>\n",
       "      <td>26454134</td>\n",
       "      <td>26454134</td>\n",
       "      <td>26454134</td>\n",
       "    </tr>\n",
       "    <tr>\n",
       "      <th>mean</th>\n",
       "      <td>742.861342</td>\n",
       "      <td>-1 days +23:58:04.083478</td>\n",
       "      <td>-1 days +23:55:37.707836</td>\n",
       "      <td>-1 days +23:57:33.624358</td>\n",
       "    </tr>\n",
       "    <tr>\n",
       "      <th>std</th>\n",
       "      <td>508.558478</td>\n",
       "      <td>77 days 02:04:07.188880</td>\n",
       "      <td>79 days 12:17:05.539436</td>\n",
       "      <td>21 days 20:34:48.661853</td>\n",
       "    </tr>\n",
       "    <tr>\n",
       "      <th>min</th>\n",
       "      <td>0.010000</td>\n",
       "      <td>-16807 days +20:00:00</td>\n",
       "      <td>-2 days +21:00:00</td>\n",
       "      <td>0 days 00:00:00</td>\n",
       "    </tr>\n",
       "    <tr>\n",
       "      <th>25%</th>\n",
       "      <td>271.790000</td>\n",
       "      <td>35 days 10:00:00</td>\n",
       "      <td>51 days 20:00:00</td>\n",
       "      <td>6 days 00:00:00</td>\n",
       "    </tr>\n",
       "    <tr>\n",
       "      <th>50%</th>\n",
       "      <td>729.980000</td>\n",
       "      <td>81 days 03:00:00</td>\n",
       "      <td>99 days 12:00:00</td>\n",
       "      <td>12 days 00:00:00</td>\n",
       "    </tr>\n",
       "    <tr>\n",
       "      <th>75%</th>\n",
       "      <td>1109.980000</td>\n",
       "      <td>163 days 23:00:00</td>\n",
       "      <td>184 days 14:00:00</td>\n",
       "      <td>21 days 00:00:00</td>\n",
       "    </tr>\n",
       "    <tr>\n",
       "      <th>max</th>\n",
       "      <td>9999.840000</td>\n",
       "      <td>433 days 02:00:00</td>\n",
       "      <td>447 days 02:00:00</td>\n",
       "      <td>17029 days 00:00:00</td>\n",
       "    </tr>\n",
       "  </tbody>\n",
       "</table>\n",
       "</div>"
      ],
      "text/plain": [
       "                 PRICE        SEARCH_TO_OUTBOUND         SEARCH_TO_INBOUND  \\\n",
       "count  26454134.000000                  26454134                  26454134   \n",
       "mean        742.861342  -1 days +23:58:04.083478  -1 days +23:55:37.707836   \n",
       "std         508.558478   77 days 02:04:07.188880   79 days 12:17:05.539436   \n",
       "min           0.010000     -16807 days +20:00:00         -2 days +21:00:00   \n",
       "25%         271.790000          35 days 10:00:00          51 days 20:00:00   \n",
       "50%         729.980000          81 days 03:00:00          99 days 12:00:00   \n",
       "75%        1109.980000         163 days 23:00:00         184 days 14:00:00   \n",
       "max        9999.840000         433 days 02:00:00         447 days 02:00:00   \n",
       "\n",
       "            OUTBOUND_TO_INBOUND  \n",
       "count                  26454134  \n",
       "mean   -1 days +23:57:33.624358  \n",
       "std     21 days 20:34:48.661853  \n",
       "min             0 days 00:00:00  \n",
       "25%             6 days 00:00:00  \n",
       "50%            12 days 00:00:00  \n",
       "75%            21 days 00:00:00  \n",
       "max         17029 days 00:00:00  "
      ]
     },
     "execution_count": 31,
     "metadata": {},
     "output_type": "execute_result"
    }
   ],
   "source": [
    "training_data.describe()"
   ]
  },
  {
   "cell_type": "markdown",
   "metadata": {},
   "source": [
    "#Airports data"
   ]
  },
  {
   "cell_type": "code",
   "execution_count": 32,
   "metadata": {
    "collapsed": true
   },
   "outputs": [],
   "source": [
    "airports_data = pandas.read_csv(airports_fname)"
   ]
  },
  {
   "cell_type": "code",
   "execution_count": 33,
   "metadata": {
    "collapsed": true
   },
   "outputs": [],
   "source": [
    "training_merged = pandas.merge(training_data, airports_data, left_on='ORIGIN', right_on='AIRPORT')\n",
    "del training_data"
   ]
  },
  {
   "cell_type": "code",
   "execution_count": 34,
   "metadata": {
    "collapsed": false
   },
   "outputs": [
    {
     "data": {
      "text/html": [
       "<div>\n",
       "<table border=\"1\" class=\"dataframe\">\n",
       "  <thead>\n",
       "    <tr style=\"text-align: right;\">\n",
       "      <th></th>\n",
       "      <th>ORIGIN</th>\n",
       "      <th>DESTINATION</th>\n",
       "      <th>OUTBOUND_DATE</th>\n",
       "      <th>INBOUND_DATE</th>\n",
       "      <th>PRICE</th>\n",
       "      <th>MARKETS</th>\n",
       "      <th>SEARCH_TO_OUTBOUND</th>\n",
       "      <th>SEARCH_TO_INBOUND</th>\n",
       "      <th>OUTBOUND_TO_INBOUND</th>\n",
       "      <th>COUNTRY</th>\n",
       "      <th>LATITUDE</th>\n",
       "      <th>LONGITUDE</th>\n",
       "      <th>TRAFFIC</th>\n",
       "    </tr>\n",
       "  </thead>\n",
       "  <tbody>\n",
       "    <tr>\n",
       "      <th>0</th>\n",
       "      <td>CGN</td>\n",
       "      <td>BGY</td>\n",
       "      <td>2016-03-25</td>\n",
       "      <td>2016-03-27</td>\n",
       "      <td>0.01</td>\n",
       "      <td>DE</td>\n",
       "      <td>80 days 01:00:00</td>\n",
       "      <td>82 days 01:00:00</td>\n",
       "      <td>2 days</td>\n",
       "      <td>DE</td>\n",
       "      <td>50.865833</td>\n",
       "      <td>7.141944</td>\n",
       "      <td>1457815</td>\n",
       "    </tr>\n",
       "    <tr>\n",
       "      <th>1</th>\n",
       "      <td>CGN</td>\n",
       "      <td>BGY</td>\n",
       "      <td>2016-01-12</td>\n",
       "      <td>2016-01-13</td>\n",
       "      <td>15.82</td>\n",
       "      <td>IT</td>\n",
       "      <td>6 days 07:00:00</td>\n",
       "      <td>7 days 07:00:00</td>\n",
       "      <td>1 days</td>\n",
       "      <td>DE</td>\n",
       "      <td>50.865833</td>\n",
       "      <td>7.141944</td>\n",
       "      <td>1457815</td>\n",
       "    </tr>\n",
       "    <tr>\n",
       "      <th>2</th>\n",
       "      <td>CGN</td>\n",
       "      <td>BGY</td>\n",
       "      <td>2016-01-22</td>\n",
       "      <td>2016-01-25</td>\n",
       "      <td>15.82</td>\n",
       "      <td>IT</td>\n",
       "      <td>16 days 13:00:00</td>\n",
       "      <td>19 days 13:00:00</td>\n",
       "      <td>3 days</td>\n",
       "      <td>DE</td>\n",
       "      <td>50.865833</td>\n",
       "      <td>7.141944</td>\n",
       "      <td>1457815</td>\n",
       "    </tr>\n",
       "    <tr>\n",
       "      <th>3</th>\n",
       "      <td>CGN</td>\n",
       "      <td>BGY</td>\n",
       "      <td>2016-01-28</td>\n",
       "      <td>2016-02-01</td>\n",
       "      <td>15.82</td>\n",
       "      <td>IT</td>\n",
       "      <td>19 days 16:00:00</td>\n",
       "      <td>23 days 16:00:00</td>\n",
       "      <td>4 days</td>\n",
       "      <td>DE</td>\n",
       "      <td>50.865833</td>\n",
       "      <td>7.141944</td>\n",
       "      <td>1457815</td>\n",
       "    </tr>\n",
       "    <tr>\n",
       "      <th>4</th>\n",
       "      <td>CGN</td>\n",
       "      <td>SXF</td>\n",
       "      <td>2016-01-19</td>\n",
       "      <td>2016-01-22</td>\n",
       "      <td>15.96</td>\n",
       "      <td>ES</td>\n",
       "      <td>13 days 07:00:00</td>\n",
       "      <td>16 days 07:00:00</td>\n",
       "      <td>3 days</td>\n",
       "      <td>DE</td>\n",
       "      <td>50.865833</td>\n",
       "      <td>7.141944</td>\n",
       "      <td>1457815</td>\n",
       "    </tr>\n",
       "  </tbody>\n",
       "</table>\n",
       "</div>"
      ],
      "text/plain": [
       "  ORIGIN DESTINATION OUTBOUND_DATE INBOUND_DATE  PRICE MARKETS  \\\n",
       "0    CGN         BGY    2016-03-25   2016-03-27   0.01      DE   \n",
       "1    CGN         BGY    2016-01-12   2016-01-13  15.82      IT   \n",
       "2    CGN         BGY    2016-01-22   2016-01-25  15.82      IT   \n",
       "3    CGN         BGY    2016-01-28   2016-02-01  15.82      IT   \n",
       "4    CGN         SXF    2016-01-19   2016-01-22  15.96      ES   \n",
       "\n",
       "   SEARCH_TO_OUTBOUND  SEARCH_TO_INBOUND  OUTBOUND_TO_INBOUND COUNTRY  \\\n",
       "0    80 days 01:00:00   82 days 01:00:00               2 days      DE   \n",
       "1     6 days 07:00:00    7 days 07:00:00               1 days      DE   \n",
       "2    16 days 13:00:00   19 days 13:00:00               3 days      DE   \n",
       "3    19 days 16:00:00   23 days 16:00:00               4 days      DE   \n",
       "4    13 days 07:00:00   16 days 07:00:00               3 days      DE   \n",
       "\n",
       "    LATITUDE  LONGITUDE  TRAFFIC  \n",
       "0  50.865833   7.141944  1457815  \n",
       "1  50.865833   7.141944  1457815  \n",
       "2  50.865833   7.141944  1457815  \n",
       "3  50.865833   7.141944  1457815  \n",
       "4  50.865833   7.141944  1457815  "
      ]
     },
     "execution_count": 34,
     "metadata": {},
     "output_type": "execute_result"
    }
   ],
   "source": [
    "for key in ('AIRPORT', 'CITY', 'CONTINENT'):\n",
    "    del training_merged[key]\n",
    "training_merged.head()"
   ]
  },
  {
   "cell_type": "code",
   "execution_count": 35,
   "metadata": {
    "collapsed": true
   },
   "outputs": [],
   "source": [
    "for key in ('COUNTRY', 'LATITUDE', 'LONGITUDE', 'TRAFFIC'):\n",
    "    training_merged['ORIGIN_' + key] = training_merged[key]\n",
    "    del training_merged[key]"
   ]
  },
  {
   "cell_type": "code",
   "execution_count": 36,
   "metadata": {
    "collapsed": false,
    "scrolled": true
   },
   "outputs": [
    {
     "data": {
      "text/html": [
       "<div>\n",
       "<table border=\"1\" class=\"dataframe\">\n",
       "  <thead>\n",
       "    <tr style=\"text-align: right;\">\n",
       "      <th></th>\n",
       "      <th>ORIGIN</th>\n",
       "      <th>DESTINATION</th>\n",
       "      <th>OUTBOUND_DATE</th>\n",
       "      <th>INBOUND_DATE</th>\n",
       "      <th>PRICE</th>\n",
       "      <th>MARKETS</th>\n",
       "      <th>SEARCH_TO_OUTBOUND</th>\n",
       "      <th>SEARCH_TO_INBOUND</th>\n",
       "      <th>OUTBOUND_TO_INBOUND</th>\n",
       "      <th>ORIGIN_COUNTRY</th>\n",
       "      <th>ORIGIN_LATITUDE</th>\n",
       "      <th>ORIGIN_LONGITUDE</th>\n",
       "      <th>ORIGIN_TRAFFIC</th>\n",
       "      <th>DESTINATION_COUNTRY</th>\n",
       "      <th>DESTINATION_LATITUDE</th>\n",
       "      <th>DESTINATION_LONGITUDE</th>\n",
       "      <th>DESTINATION_TRAFFIC</th>\n",
       "    </tr>\n",
       "  </thead>\n",
       "  <tbody>\n",
       "    <tr>\n",
       "      <th>0</th>\n",
       "      <td>CGN</td>\n",
       "      <td>BGY</td>\n",
       "      <td>2016-03-25</td>\n",
       "      <td>2016-03-27</td>\n",
       "      <td>0.01</td>\n",
       "      <td>DE</td>\n",
       "      <td>80 days 01:00:00</td>\n",
       "      <td>82 days 01:00:00</td>\n",
       "      <td>2 days</td>\n",
       "      <td>DE</td>\n",
       "      <td>50.865833</td>\n",
       "      <td>7.141944</td>\n",
       "      <td>1457815</td>\n",
       "      <td>IT</td>\n",
       "      <td>45.668333</td>\n",
       "      <td>9.700278</td>\n",
       "      <td>2175706</td>\n",
       "    </tr>\n",
       "    <tr>\n",
       "      <th>1</th>\n",
       "      <td>CGN</td>\n",
       "      <td>BGY</td>\n",
       "      <td>2016-01-12</td>\n",
       "      <td>2016-01-13</td>\n",
       "      <td>15.82</td>\n",
       "      <td>IT</td>\n",
       "      <td>6 days 07:00:00</td>\n",
       "      <td>7 days 07:00:00</td>\n",
       "      <td>1 days</td>\n",
       "      <td>DE</td>\n",
       "      <td>50.865833</td>\n",
       "      <td>7.141944</td>\n",
       "      <td>1457815</td>\n",
       "      <td>IT</td>\n",
       "      <td>45.668333</td>\n",
       "      <td>9.700278</td>\n",
       "      <td>2175706</td>\n",
       "    </tr>\n",
       "    <tr>\n",
       "      <th>2</th>\n",
       "      <td>CGN</td>\n",
       "      <td>BGY</td>\n",
       "      <td>2016-01-22</td>\n",
       "      <td>2016-01-25</td>\n",
       "      <td>15.82</td>\n",
       "      <td>IT</td>\n",
       "      <td>16 days 13:00:00</td>\n",
       "      <td>19 days 13:00:00</td>\n",
       "      <td>3 days</td>\n",
       "      <td>DE</td>\n",
       "      <td>50.865833</td>\n",
       "      <td>7.141944</td>\n",
       "      <td>1457815</td>\n",
       "      <td>IT</td>\n",
       "      <td>45.668333</td>\n",
       "      <td>9.700278</td>\n",
       "      <td>2175706</td>\n",
       "    </tr>\n",
       "    <tr>\n",
       "      <th>3</th>\n",
       "      <td>CGN</td>\n",
       "      <td>BGY</td>\n",
       "      <td>2016-01-28</td>\n",
       "      <td>2016-02-01</td>\n",
       "      <td>15.82</td>\n",
       "      <td>IT</td>\n",
       "      <td>19 days 16:00:00</td>\n",
       "      <td>23 days 16:00:00</td>\n",
       "      <td>4 days</td>\n",
       "      <td>DE</td>\n",
       "      <td>50.865833</td>\n",
       "      <td>7.141944</td>\n",
       "      <td>1457815</td>\n",
       "      <td>IT</td>\n",
       "      <td>45.668333</td>\n",
       "      <td>9.700278</td>\n",
       "      <td>2175706</td>\n",
       "    </tr>\n",
       "    <tr>\n",
       "      <th>4</th>\n",
       "      <td>CGN</td>\n",
       "      <td>BGY</td>\n",
       "      <td>2016-01-24</td>\n",
       "      <td>2016-01-25</td>\n",
       "      <td>15.98</td>\n",
       "      <td>IT</td>\n",
       "      <td>15 days 09:00:00</td>\n",
       "      <td>16 days 09:00:00</td>\n",
       "      <td>1 days</td>\n",
       "      <td>DE</td>\n",
       "      <td>50.865833</td>\n",
       "      <td>7.141944</td>\n",
       "      <td>1457815</td>\n",
       "      <td>IT</td>\n",
       "      <td>45.668333</td>\n",
       "      <td>9.700278</td>\n",
       "      <td>2175706</td>\n",
       "    </tr>\n",
       "  </tbody>\n",
       "</table>\n",
       "</div>"
      ],
      "text/plain": [
       "  ORIGIN DESTINATION OUTBOUND_DATE INBOUND_DATE  PRICE MARKETS  \\\n",
       "0    CGN         BGY    2016-03-25   2016-03-27   0.01      DE   \n",
       "1    CGN         BGY    2016-01-12   2016-01-13  15.82      IT   \n",
       "2    CGN         BGY    2016-01-22   2016-01-25  15.82      IT   \n",
       "3    CGN         BGY    2016-01-28   2016-02-01  15.82      IT   \n",
       "4    CGN         BGY    2016-01-24   2016-01-25  15.98      IT   \n",
       "\n",
       "   SEARCH_TO_OUTBOUND  SEARCH_TO_INBOUND  OUTBOUND_TO_INBOUND ORIGIN_COUNTRY  \\\n",
       "0    80 days 01:00:00   82 days 01:00:00               2 days             DE   \n",
       "1     6 days 07:00:00    7 days 07:00:00               1 days             DE   \n",
       "2    16 days 13:00:00   19 days 13:00:00               3 days             DE   \n",
       "3    19 days 16:00:00   23 days 16:00:00               4 days             DE   \n",
       "4    15 days 09:00:00   16 days 09:00:00               1 days             DE   \n",
       "\n",
       "   ORIGIN_LATITUDE  ORIGIN_LONGITUDE  ORIGIN_TRAFFIC DESTINATION_COUNTRY  \\\n",
       "0        50.865833          7.141944         1457815                  IT   \n",
       "1        50.865833          7.141944         1457815                  IT   \n",
       "2        50.865833          7.141944         1457815                  IT   \n",
       "3        50.865833          7.141944         1457815                  IT   \n",
       "4        50.865833          7.141944         1457815                  IT   \n",
       "\n",
       "   DESTINATION_LATITUDE  DESTINATION_LONGITUDE  DESTINATION_TRAFFIC  \n",
       "0             45.668333               9.700278              2175706  \n",
       "1             45.668333               9.700278              2175706  \n",
       "2             45.668333               9.700278              2175706  \n",
       "3             45.668333               9.700278              2175706  \n",
       "4             45.668333               9.700278              2175706  "
      ]
     },
     "execution_count": 36,
     "metadata": {},
     "output_type": "execute_result"
    }
   ],
   "source": [
    "training_merged = pandas.merge(training_merged, airports_data, left_on='DESTINATION', right_on='AIRPORT')\n",
    "for key in ('AIRPORT', 'CITY', 'CONTINENT'):\n",
    "    del training_merged[key]\n",
    "for key in ('COUNTRY', 'LATITUDE', 'LONGITUDE', 'TRAFFIC'):\n",
    "    training_merged['DESTINATION_' + key] = training_merged[key]\n",
    "    del training_merged[key]\n",
    "training_merged.head()"
   ]
  },
  {
   "cell_type": "code",
   "execution_count": 37,
   "metadata": {
    "collapsed": false,
    "scrolled": true
   },
   "outputs": [
    {
     "data": {
      "text/plain": [
       "244"
      ]
     },
     "execution_count": 37,
     "metadata": {},
     "output_type": "execute_result"
    }
   ],
   "source": [
    "#training_merged = training_merged.sort('PRICE')\n",
    "del airports_data\n",
    "gc.collect()"
   ]
  },
  {
   "cell_type": "code",
   "execution_count": 38,
   "metadata": {
    "collapsed": false
   },
   "outputs": [],
   "source": [
    "#for key in (\n",
    "#    'ORIGIN', 'DESTINATION', 'ORIGIN_CITY', 'ORIGIN_COUNTRY', \n",
    "#    'ORIGIN_CONTINENT', 'DESTINATION_CITY', 'DESTINATION_COUNTRY', \n",
    "#    'DESTINATION_CONTINENT',\n",
    "#):\n",
    "#    training_merged[key] = training_merged[key].astype('category')\n",
    "#training_merged.head()"
   ]
  },
  {
   "cell_type": "markdown",
   "metadata": {},
   "source": [
    "#Categorical data (one-hot encodings)"
   ]
  },
  {
   "cell_type": "markdown",
   "metadata": {},
   "source": [
    "##Markets"
   ]
  },
  {
   "cell_type": "code",
   "execution_count": 39,
   "metadata": {
    "collapsed": false
   },
   "outputs": [
    {
     "name": "stdout",
     "output_type": "stream",
     "text": [
      "[('**', 18219716), ('UK', 2579553), ('US', 1127899), ('FR', 801495), ('IT', 799988), ('DE', 771715), ('ES', 753441), ('SK', 557629), ('TR', 537822), ('AT', 522223)]\n"
     ]
    }
   ],
   "source": [
    "market_counts = Counter(\n",
    "    market\n",
    "    for __, marketlist in \n",
    "    training_merged.MARKETS.iteritems()\n",
    "    for market in\n",
    "    marketlist.split(';')\n",
    ")\n",
    "print market_counts.most_common(10)"
   ]
  },
  {
   "cell_type": "code",
   "execution_count": 40,
   "metadata": {
    "collapsed": false
   },
   "outputs": [
    {
     "data": {
      "text/plain": [
       "248"
      ]
     },
     "execution_count": 40,
     "metadata": {},
     "output_type": "execute_result"
    }
   ],
   "source": [
    "len(market_counts)"
   ]
  },
  {
   "cell_type": "code",
   "execution_count": 41,
   "metadata": {
    "collapsed": false
   },
   "outputs": [
    {
     "name": "stdout",
     "output_type": "stream",
     "text": [
      "['**', 'UK', 'US', 'FR', 'IT', 'DE', 'ES', 'SK', 'TR', 'AT', 'PT', 'PL', 'RU', 'IE', 'HU', 'CZ', 'GR', 'BR', 'BG', 'NL', 'RO', 'CH', 'TW', 'HK', 'MT', 'IL', 'BE', 'SA', 'CA', 'KW', 'MO', 'SI', 'QA', 'KZ', 'BH', 'OM', 'IS', 'BY', 'GE', 'ME', 'MD', 'LB', 'AZ', 'AD', 'SM', 'VA', 'HR', 'LI', 'BA', 'GL', 'FO', 'MK', 'KO', 'BV', 'MN', 'LU', 'WF', 'TF', 'BN', 'WS', 'GU', 'PW', 'PG', 'PN', 'SB', 'MP', 'FJ', 'FM', 'VU', 'NU', 'CK', 'CC', 'CX', 'KH', 'TV', 'TO', 'TL', 'TK', 'AS', 'LK', 'MV', 'BT', 'BQ', 'GS', 'HM', 'MH', 'UM', 'MS', 'NF', 'CW', 'SX', 'KI', 'SJ', 'LA', 'AN', 'AQ', 'IO', 'MC', 'RS']\n"
     ]
    }
   ],
   "source": [
    "most_common_markets = [market for market, __ in market_counts.most_common(99)]\n",
    "print most_common_markets"
   ]
  },
  {
   "cell_type": "code",
   "execution_count": 42,
   "metadata": {
    "collapsed": false,
    "scrolled": false
   },
   "outputs": [
    {
     "data": {
      "text/plain": [
       "26454132    **\n",
       "26454133    **\n",
       "Name: MARKETS, dtype: object"
      ]
     },
     "execution_count": 42,
     "metadata": {},
     "output_type": "execute_result"
    }
   ],
   "source": [
    "training_merged.MARKETS.tail(2)"
   ]
  },
  {
   "cell_type": "code",
   "execution_count": 43,
   "metadata": {
    "collapsed": false
   },
   "outputs": [
    {
     "data": {
      "text/plain": [
       "9"
      ]
     },
     "execution_count": 43,
     "metadata": {},
     "output_type": "execute_result"
    }
   ],
   "source": [
    "import gc\n",
    "gc.collect()"
   ]
  },
  {
   "cell_type": "code",
   "execution_count": 44,
   "metadata": {
    "collapsed": false
   },
   "outputs": [
    {
     "data": {
      "text/plain": [
       "0    DE\n",
       "1    IT\n",
       "2    IT\n",
       "3    IT\n",
       "4    IT\n",
       "Name: MARKETS, dtype: object"
      ]
     },
     "execution_count": 44,
     "metadata": {},
     "output_type": "execute_result"
    }
   ],
   "source": [
    "training_merged.MARKETS.head()"
   ]
  },
  {
   "cell_type": "code",
   "execution_count": 45,
   "metadata": {
    "collapsed": false
   },
   "outputs": [
    {
     "data": {
      "text/plain": [
       "ORIGIN                            object\n",
       "DESTINATION                       object\n",
       "OUTBOUND_DATE             datetime64[ns]\n",
       "INBOUND_DATE              datetime64[ns]\n",
       "PRICE                            float64\n",
       "MARKETS                           object\n",
       "SEARCH_TO_OUTBOUND       timedelta64[ns]\n",
       "SEARCH_TO_INBOUND        timedelta64[ns]\n",
       "OUTBOUND_TO_INBOUND      timedelta64[ns]\n",
       "ORIGIN_COUNTRY                    object\n",
       "ORIGIN_LATITUDE                  float64\n",
       "ORIGIN_LONGITUDE                 float64\n",
       "ORIGIN_TRAFFIC                     int64\n",
       "DESTINATION_COUNTRY               object\n",
       "DESTINATION_LATITUDE             float64\n",
       "DESTINATION_LONGITUDE            float64\n",
       "DESTINATION_TRAFFIC                int64\n",
       "dtype: object"
      ]
     },
     "execution_count": 45,
     "metadata": {},
     "output_type": "execute_result"
    }
   ],
   "source": [
    "training_merged.dtypes"
   ]
  },
  {
   "cell_type": "markdown",
   "metadata": {},
   "source": [
    "##Other"
   ]
  },
  {
   "cell_type": "code",
   "execution_count": 46,
   "metadata": {
    "collapsed": true
   },
   "outputs": [],
   "source": [
    "def make_onehot(df, field, size):\n",
    "    series = df[field]\n",
    "    counts = Counter(series)\n",
    "    print len(counts)\n",
    "    most_common = [item for item, __ in counts.most_common(size)]\n",
    "    print most_common\n",
    "    most_common_set = frozenset(most_common)\n",
    "    excluded = sum(place not in most_common_set for place in series) / float(len(series))\n",
    "    print excluded\n",
    "    zeros_size = len(most_common) + (1 if excluded > 0 else 0)\n",
    "    onehots = np.zeros((len(series), zeros_size), dtype='bool')\n",
    "    most_common_index = most_common.index\n",
    "    for i, (item, onehot) in enumerate(itertools.izip(series, onehots)):\n",
    "        try:\n",
    "            onehot[most_common_index(item)] = True\n",
    "        except ValueError:\n",
    "            onehot[zeros_size - 1] = True\n",
    "        if not i % 1000000:\n",
    "            print i\n",
    "    df[field] = list(onehots)\n",
    "    return df"
   ]
  },
  {
   "cell_type": "code",
   "execution_count": 47,
   "metadata": {
    "collapsed": false
   },
   "outputs": [
    {
     "name": "stdout",
     "output_type": "stream",
     "text": [
      "ORIGIN\n",
      "9\n",
      "DESTINATION_COUNTRY\n",
      "0\n",
      "ORIGIN_COUNTRY\n",
      "0\n",
      "DESTINATION\n",
      "0\n"
     ]
    }
   ],
   "source": [
    "pairs = {\n",
    "    'ORIGIN': 149,\n",
    "    'ORIGIN_COUNTRY': 24,\n",
    "    'DESTINATION': 224,\n",
    "    'DESTINATION_COUNTRY': 49,\n",
    "}\n",
    "for field, size in pairs.iteritems():\n",
    "    print field\n",
    "    gc_collect_1 = gc.collect()\n",
    "    #training_merged = make_onehot(training_merged, field, size)\n",
    "    print gc.collect() + gc_collect_1"
   ]
  },
  {
   "cell_type": "code",
   "execution_count": 48,
   "metadata": {
    "collapsed": false
   },
   "outputs": [
    {
     "data": {
      "text/plain": [
       "0"
      ]
     },
     "execution_count": 48,
     "metadata": {},
     "output_type": "execute_result"
    }
   ],
   "source": [
    "gc.collect()"
   ]
  },
  {
   "cell_type": "markdown",
   "metadata": {},
   "source": [
    "Doesn't seem like we need to rescale traffics based on distributions"
   ]
  },
  {
   "cell_type": "code",
   "execution_count": 49,
   "metadata": {
    "collapsed": false
   },
   "outputs": [
    {
     "data": {
      "text/html": [
       "<div>\n",
       "<table border=\"1\" class=\"dataframe\">\n",
       "  <thead>\n",
       "    <tr style=\"text-align: right;\">\n",
       "      <th></th>\n",
       "      <th>ORIGIN</th>\n",
       "      <th>DESTINATION</th>\n",
       "      <th>OUTBOUND_DATE</th>\n",
       "      <th>INBOUND_DATE</th>\n",
       "      <th>PRICE</th>\n",
       "      <th>MARKETS</th>\n",
       "      <th>SEARCH_TO_OUTBOUND</th>\n",
       "      <th>SEARCH_TO_INBOUND</th>\n",
       "      <th>OUTBOUND_TO_INBOUND</th>\n",
       "      <th>ORIGIN_COUNTRY</th>\n",
       "      <th>ORIGIN_LATITUDE</th>\n",
       "      <th>ORIGIN_LONGITUDE</th>\n",
       "      <th>ORIGIN_TRAFFIC</th>\n",
       "      <th>DESTINATION_COUNTRY</th>\n",
       "      <th>DESTINATION_LATITUDE</th>\n",
       "      <th>DESTINATION_LONGITUDE</th>\n",
       "      <th>DESTINATION_TRAFFIC</th>\n",
       "    </tr>\n",
       "  </thead>\n",
       "  <tbody>\n",
       "    <tr>\n",
       "      <th>0</th>\n",
       "      <td>CGN</td>\n",
       "      <td>BGY</td>\n",
       "      <td>2016-03-25</td>\n",
       "      <td>2016-03-27</td>\n",
       "      <td>0.01</td>\n",
       "      <td>DE</td>\n",
       "      <td>80 days 01:00:00</td>\n",
       "      <td>82 days 01:00:00</td>\n",
       "      <td>2 days</td>\n",
       "      <td>DE</td>\n",
       "      <td>50.865833</td>\n",
       "      <td>7.141944</td>\n",
       "      <td>1457815</td>\n",
       "      <td>IT</td>\n",
       "      <td>45.668333</td>\n",
       "      <td>9.700278</td>\n",
       "      <td>2175706</td>\n",
       "    </tr>\n",
       "    <tr>\n",
       "      <th>1</th>\n",
       "      <td>CGN</td>\n",
       "      <td>BGY</td>\n",
       "      <td>2016-01-12</td>\n",
       "      <td>2016-01-13</td>\n",
       "      <td>15.82</td>\n",
       "      <td>IT</td>\n",
       "      <td>6 days 07:00:00</td>\n",
       "      <td>7 days 07:00:00</td>\n",
       "      <td>1 days</td>\n",
       "      <td>DE</td>\n",
       "      <td>50.865833</td>\n",
       "      <td>7.141944</td>\n",
       "      <td>1457815</td>\n",
       "      <td>IT</td>\n",
       "      <td>45.668333</td>\n",
       "      <td>9.700278</td>\n",
       "      <td>2175706</td>\n",
       "    </tr>\n",
       "    <tr>\n",
       "      <th>2</th>\n",
       "      <td>CGN</td>\n",
       "      <td>BGY</td>\n",
       "      <td>2016-01-22</td>\n",
       "      <td>2016-01-25</td>\n",
       "      <td>15.82</td>\n",
       "      <td>IT</td>\n",
       "      <td>16 days 13:00:00</td>\n",
       "      <td>19 days 13:00:00</td>\n",
       "      <td>3 days</td>\n",
       "      <td>DE</td>\n",
       "      <td>50.865833</td>\n",
       "      <td>7.141944</td>\n",
       "      <td>1457815</td>\n",
       "      <td>IT</td>\n",
       "      <td>45.668333</td>\n",
       "      <td>9.700278</td>\n",
       "      <td>2175706</td>\n",
       "    </tr>\n",
       "    <tr>\n",
       "      <th>3</th>\n",
       "      <td>CGN</td>\n",
       "      <td>BGY</td>\n",
       "      <td>2016-01-28</td>\n",
       "      <td>2016-02-01</td>\n",
       "      <td>15.82</td>\n",
       "      <td>IT</td>\n",
       "      <td>19 days 16:00:00</td>\n",
       "      <td>23 days 16:00:00</td>\n",
       "      <td>4 days</td>\n",
       "      <td>DE</td>\n",
       "      <td>50.865833</td>\n",
       "      <td>7.141944</td>\n",
       "      <td>1457815</td>\n",
       "      <td>IT</td>\n",
       "      <td>45.668333</td>\n",
       "      <td>9.700278</td>\n",
       "      <td>2175706</td>\n",
       "    </tr>\n",
       "    <tr>\n",
       "      <th>4</th>\n",
       "      <td>CGN</td>\n",
       "      <td>BGY</td>\n",
       "      <td>2016-01-24</td>\n",
       "      <td>2016-01-25</td>\n",
       "      <td>15.98</td>\n",
       "      <td>IT</td>\n",
       "      <td>15 days 09:00:00</td>\n",
       "      <td>16 days 09:00:00</td>\n",
       "      <td>1 days</td>\n",
       "      <td>DE</td>\n",
       "      <td>50.865833</td>\n",
       "      <td>7.141944</td>\n",
       "      <td>1457815</td>\n",
       "      <td>IT</td>\n",
       "      <td>45.668333</td>\n",
       "      <td>9.700278</td>\n",
       "      <td>2175706</td>\n",
       "    </tr>\n",
       "  </tbody>\n",
       "</table>\n",
       "</div>"
      ],
      "text/plain": [
       "  ORIGIN DESTINATION OUTBOUND_DATE INBOUND_DATE  PRICE MARKETS  \\\n",
       "0    CGN         BGY    2016-03-25   2016-03-27   0.01      DE   \n",
       "1    CGN         BGY    2016-01-12   2016-01-13  15.82      IT   \n",
       "2    CGN         BGY    2016-01-22   2016-01-25  15.82      IT   \n",
       "3    CGN         BGY    2016-01-28   2016-02-01  15.82      IT   \n",
       "4    CGN         BGY    2016-01-24   2016-01-25  15.98      IT   \n",
       "\n",
       "   SEARCH_TO_OUTBOUND  SEARCH_TO_INBOUND  OUTBOUND_TO_INBOUND ORIGIN_COUNTRY  \\\n",
       "0    80 days 01:00:00   82 days 01:00:00               2 days             DE   \n",
       "1     6 days 07:00:00    7 days 07:00:00               1 days             DE   \n",
       "2    16 days 13:00:00   19 days 13:00:00               3 days             DE   \n",
       "3    19 days 16:00:00   23 days 16:00:00               4 days             DE   \n",
       "4    15 days 09:00:00   16 days 09:00:00               1 days             DE   \n",
       "\n",
       "   ORIGIN_LATITUDE  ORIGIN_LONGITUDE  ORIGIN_TRAFFIC DESTINATION_COUNTRY  \\\n",
       "0        50.865833          7.141944         1457815                  IT   \n",
       "1        50.865833          7.141944         1457815                  IT   \n",
       "2        50.865833          7.141944         1457815                  IT   \n",
       "3        50.865833          7.141944         1457815                  IT   \n",
       "4        50.865833          7.141944         1457815                  IT   \n",
       "\n",
       "   DESTINATION_LATITUDE  DESTINATION_LONGITUDE  DESTINATION_TRAFFIC  \n",
       "0             45.668333               9.700278              2175706  \n",
       "1             45.668333               9.700278              2175706  \n",
       "2             45.668333               9.700278              2175706  \n",
       "3             45.668333               9.700278              2175706  \n",
       "4             45.668333               9.700278              2175706  "
      ]
     },
     "execution_count": 49,
     "metadata": {},
     "output_type": "execute_result"
    }
   ],
   "source": [
    "training_merged.head()"
   ]
  },
  {
   "cell_type": "markdown",
   "metadata": {},
   "source": [
    "#Traffic"
   ]
  },
  {
   "cell_type": "code",
   "execution_count": 50,
   "metadata": {
    "collapsed": false
   },
   "outputs": [
    {
     "data": {
      "text/plain": [
       "(1, 17262579)"
      ]
     },
     "execution_count": 50,
     "metadata": {},
     "output_type": "execute_result"
    }
   ],
   "source": [
    "o_traffic = sorted(training_merged.ORIGIN_TRAFFIC)\n",
    "o_traffic[0], o_traffic[-1]"
   ]
  },
  {
   "cell_type": "code",
   "execution_count": 51,
   "metadata": {
    "collapsed": false
   },
   "outputs": [
    {
     "data": {
      "text/plain": [
       "(1, 17262579)"
      ]
     },
     "execution_count": 51,
     "metadata": {},
     "output_type": "execute_result"
    }
   ],
   "source": [
    "d_traffic = sorted(training_merged.DESTINATION_TRAFFIC)\n",
    "d_traffic[0], d_traffic[-1]"
   ]
  },
  {
   "cell_type": "code",
   "execution_count": 52,
   "metadata": {
    "collapsed": false
   },
   "outputs": [
    {
     "data": {
      "text/plain": [
       "17435204"
      ]
     },
     "execution_count": 52,
     "metadata": {},
     "output_type": "execute_result"
    }
   ],
   "source": [
    "traffic_max = int(max(o_traffic[-1], d_traffic[-1]) * 1.01)\n",
    "traffic_max"
   ]
  },
  {
   "cell_type": "code",
   "execution_count": 53,
   "metadata": {
    "collapsed": true
   },
   "outputs": [],
   "source": [
    "training_merged['ORIGIN_TRAFFIC'] = training_merged.ORIGIN_TRAFFIC / traffic_max\n",
    "training_merged['DESTINATION_TRAFFIC'] = training_merged.DESTINATION_TRAFFIC / traffic_max"
   ]
  },
  {
   "cell_type": "code",
   "execution_count": 54,
   "metadata": {
    "collapsed": false
   },
   "outputs": [
    {
     "data": {
      "text/plain": [
       "count    2.645413e+07\n",
       "mean     3.193302e-01\n",
       "std      2.996487e-01\n",
       "min      5.735522e-08\n",
       "25%      8.425792e-02\n",
       "50%      2.262477e-01\n",
       "75%      5.086684e-01\n",
       "max      9.900991e-01\n",
       "Name: ORIGIN_TRAFFIC, dtype: float64"
      ]
     },
     "execution_count": 54,
     "metadata": {},
     "output_type": "execute_result"
    }
   ],
   "source": [
    "training_merged.ORIGIN_TRAFFIC.describe()"
   ]
  },
  {
   "cell_type": "code",
   "execution_count": 55,
   "metadata": {
    "collapsed": false
   },
   "outputs": [
    {
     "data": {
      "text/plain": [
       "<matplotlib.axes._subplots.AxesSubplot at 0xc5bfac8>"
      ]
     },
     "execution_count": 55,
     "metadata": {},
     "output_type": "execute_result"
    },
    {
     "name": "stderr",
     "output_type": "stream",
     "text": [
      "Exception KeyboardInterrupt in <function remove at 0x000000001FB86198> ignored\n"
     ]
    },
    {
     "data": {
      "image/png": "[encoded data removed]",
      "text/plain": [
       "<matplotlib.figure.Figure at 0x29634438>"
      ]
     },
     "metadata": {},
     "output_type": "display_data"
    }
   ],
   "source": [
    "training_merged.ORIGIN_TRAFFIC.hist()"
   ]
  },
  {
   "cell_type": "markdown",
   "metadata": {},
   "source": [
    "#Coordinates and distance"
   ]
  },
  {
   "cell_type": "code",
   "execution_count": 56,
   "metadata": {
    "collapsed": false
   },
   "outputs": [
    {
     "name": "stdout",
     "output_type": "stream",
     "text": [
      "ORIGIN_LATITUDE\n",
      "ORIGIN_LONGITUDE\n",
      "DESTINATION_LATITUDE\n",
      "DESTINATION_LONGITUDE\n"
     ]
    },
    {
     "data": {
      "text/html": [
       "<div>\n",
       "<table border=\"1\" class=\"dataframe\">\n",
       "  <thead>\n",
       "    <tr style=\"text-align: right;\">\n",
       "      <th></th>\n",
       "      <th>PRICE</th>\n",
       "      <th>SEARCH_TO_OUTBOUND</th>\n",
       "      <th>SEARCH_TO_INBOUND</th>\n",
       "      <th>OUTBOUND_TO_INBOUND</th>\n",
       "      <th>ORIGIN_LATITUDE</th>\n",
       "      <th>ORIGIN_LONGITUDE</th>\n",
       "      <th>ORIGIN_TRAFFIC</th>\n",
       "      <th>DESTINATION_LATITUDE</th>\n",
       "      <th>DESTINATION_LONGITUDE</th>\n",
       "      <th>DESTINATION_TRAFFIC</th>\n",
       "    </tr>\n",
       "  </thead>\n",
       "  <tbody>\n",
       "    <tr>\n",
       "      <th>count</th>\n",
       "      <td>26454134.000000</td>\n",
       "      <td>26454134</td>\n",
       "      <td>26454134</td>\n",
       "      <td>26454134</td>\n",
       "      <td>26454134.000000</td>\n",
       "      <td>26454134.000000</td>\n",
       "      <td>2.645413e+07</td>\n",
       "      <td>26454134.000000</td>\n",
       "      <td>26454134.000000</td>\n",
       "      <td>2.645413e+07</td>\n",
       "    </tr>\n",
       "    <tr>\n",
       "      <th>mean</th>\n",
       "      <td>742.861342</td>\n",
       "      <td>-1 days +23:58:04.083478</td>\n",
       "      <td>-1 days +23:55:37.707836</td>\n",
       "      <td>-1 days +23:57:33.624358</td>\n",
       "      <td>0.749060</td>\n",
       "      <td>-0.092963</td>\n",
       "      <td>3.193302e-01</td>\n",
       "      <td>0.463252</td>\n",
       "      <td>-0.248672</td>\n",
       "      <td>1.648270e-01</td>\n",
       "    </tr>\n",
       "    <tr>\n",
       "      <th>std</th>\n",
       "      <td>508.558478</td>\n",
       "      <td>77 days 02:04:07.188880</td>\n",
       "      <td>79 days 12:17:05.539436</td>\n",
       "      <td>21 days 20:34:48.661853</td>\n",
       "      <td>0.329074</td>\n",
       "      <td>0.699667</td>\n",
       "      <td>2.996487e-01</td>\n",
       "      <td>0.397045</td>\n",
       "      <td>1.095785</td>\n",
       "      <td>1.948394e-01</td>\n",
       "    </tr>\n",
       "    <tr>\n",
       "      <th>min</th>\n",
       "      <td>0.010000</td>\n",
       "      <td>-16807 days +20:00:00</td>\n",
       "      <td>-2 days +21:00:00</td>\n",
       "      <td>0 days 00:00:00</td>\n",
       "      <td>-0.957196</td>\n",
       "      <td>-3.074688</td>\n",
       "      <td>5.735522e-08</td>\n",
       "      <td>-0.957196</td>\n",
       "      <td>-3.139443</td>\n",
       "      <td>5.735522e-08</td>\n",
       "    </tr>\n",
       "    <tr>\n",
       "      <th>25%</th>\n",
       "      <td>271.790000</td>\n",
       "      <td>35 days 10:00:00</td>\n",
       "      <td>51 days 20:00:00</td>\n",
       "      <td>6 days 00:00:00</td>\n",
       "      <td>0.720869</td>\n",
       "      <td>-0.039735</td>\n",
       "      <td>8.425792e-02</td>\n",
       "      <td>0.321650</td>\n",
       "      <td>-1.294540</td>\n",
       "      <td>3.501674e-02</td>\n",
       "    </tr>\n",
       "    <tr>\n",
       "      <th>50%</th>\n",
       "      <td>729.980000</td>\n",
       "      <td>81 days 03:00:00</td>\n",
       "      <td>99 days 12:00:00</td>\n",
       "      <td>12 days 00:00:00</td>\n",
       "      <td>0.873343</td>\n",
       "      <td>0.004072</td>\n",
       "      <td>2.262477e-01</td>\n",
       "      <td>0.590227</td>\n",
       "      <td>-0.039735</td>\n",
       "      <td>8.762324e-02</td>\n",
       "    </tr>\n",
       "    <tr>\n",
       "      <th>75%</th>\n",
       "      <td>1109.980000</td>\n",
       "      <td>163 days 23:00:00</td>\n",
       "      <td>184 days 14:00:00</td>\n",
       "      <td>21 days 00:00:00</td>\n",
       "      <td>0.915479</td>\n",
       "      <td>0.161928</td>\n",
       "      <td>5.086684e-01</td>\n",
       "      <td>0.720869</td>\n",
       "      <td>0.335685</td>\n",
       "      <td>2.262477e-01</td>\n",
       "    </tr>\n",
       "    <tr>\n",
       "      <th>max</th>\n",
       "      <td>9999.840000</td>\n",
       "      <td>433 days 02:00:00</td>\n",
       "      <td>447 days 02:00:00</td>\n",
       "      <td>17029 days 00:00:00</td>\n",
       "      <td>1.498074</td>\n",
       "      <td>3.116285</td>\n",
       "      <td>9.900991e-01</td>\n",
       "      <td>1.498074</td>\n",
       "      <td>3.130151</td>\n",
       "      <td>9.900991e-01</td>\n",
       "    </tr>\n",
       "  </tbody>\n",
       "</table>\n",
       "</div>"
      ],
      "text/plain": [
       "                 PRICE        SEARCH_TO_OUTBOUND         SEARCH_TO_INBOUND  \\\n",
       "count  26454134.000000                  26454134                  26454134   \n",
       "mean        742.861342  -1 days +23:58:04.083478  -1 days +23:55:37.707836   \n",
       "std         508.558478   77 days 02:04:07.188880   79 days 12:17:05.539436   \n",
       "min           0.010000     -16807 days +20:00:00         -2 days +21:00:00   \n",
       "25%         271.790000          35 days 10:00:00          51 days 20:00:00   \n",
       "50%         729.980000          81 days 03:00:00          99 days 12:00:00   \n",
       "75%        1109.980000         163 days 23:00:00         184 days 14:00:00   \n",
       "max        9999.840000         433 days 02:00:00         447 days 02:00:00   \n",
       "\n",
       "            OUTBOUND_TO_INBOUND  ORIGIN_LATITUDE  ORIGIN_LONGITUDE  \\\n",
       "count                  26454134  26454134.000000   26454134.000000   \n",
       "mean   -1 days +23:57:33.624358         0.749060         -0.092963   \n",
       "std     21 days 20:34:48.661853         0.329074          0.699667   \n",
       "min             0 days 00:00:00        -0.957196         -3.074688   \n",
       "25%             6 days 00:00:00         0.720869         -0.039735   \n",
       "50%            12 days 00:00:00         0.873343          0.004072   \n",
       "75%            21 days 00:00:00         0.915479          0.161928   \n",
       "max         17029 days 00:00:00         1.498074          3.116285   \n",
       "\n",
       "       ORIGIN_TRAFFIC  DESTINATION_LATITUDE  DESTINATION_LONGITUDE  \\\n",
       "count    2.645413e+07       26454134.000000        26454134.000000   \n",
       "mean     3.193302e-01              0.463252              -0.248672   \n",
       "std      2.996487e-01              0.397045               1.095785   \n",
       "min      5.735522e-08             -0.957196              -3.139443   \n",
       "25%      8.425792e-02              0.321650              -1.294540   \n",
       "50%      2.262477e-01              0.590227              -0.039735   \n",
       "75%      5.086684e-01              0.720869               0.335685   \n",
       "max      9.900991e-01              1.498074               3.130151   \n",
       "\n",
       "       DESTINATION_TRAFFIC  \n",
       "count         2.645413e+07  \n",
       "mean          1.648270e-01  \n",
       "std           1.948394e-01  \n",
       "min           5.735522e-08  \n",
       "25%           3.501674e-02  \n",
       "50%           8.762324e-02  \n",
       "75%           2.262477e-01  \n",
       "max           9.900991e-01  "
      ]
     },
     "execution_count": 56,
     "metadata": {},
     "output_type": "execute_result"
    }
   ],
   "source": [
    "for key in ('ORIGIN_LATITUDE', 'ORIGIN_LONGITUDE', 'DESTINATION_LATITUDE', 'DESTINATION_LONGITUDE'):\n",
    "    print key\n",
    "    training_merged[key] = training_merged[key].apply(math.radians)\n",
    "training_merged.describe()"
   ]
  },
  {
   "cell_type": "code",
   "execution_count": 59,
   "metadata": {
    "collapsed": false
   },
   "outputs": [
    {
     "data": {
      "text/plain": [
       "0"
      ]
     },
     "execution_count": 59,
     "metadata": {},
     "output_type": "execute_result"
    }
   ],
   "source": [
    "gc.collect()"
   ]
  },
  {
   "cell_type": "code",
   "execution_count": 60,
   "metadata": {
    "collapsed": false
   },
   "outputs": [
    {
     "name": "stdout",
     "output_type": "stream",
     "text": [
      "ORIGIN_LATITUDE\n",
      "-0.966767766679 1.51305442978\n",
      "0\n",
      "ORIGIN_LONGITUDE\n",
      "-3.10543525513 3.14744823323\n",
      "0\n",
      "DESTINATION_LATITUDE\n",
      "-0.966767766679 1.51305442978\n",
      "0\n",
      "DESTINATION_LONGITUDE\n",
      "-3.17083736087 3.16145255339\n",
      "0\n"
     ]
    }
   ],
   "source": [
    "#for key in 'ORIGIN_LATITUDE ORIGIN_LONGITUDE DESTINATION_LATITUDE DESTINATION_LONGITUDE DISTANCE'.split():\n",
    "for key in 'ORIGIN_LATITUDE ORIGIN_LONGITUDE DESTINATION_LATITUDE DESTINATION_LONGITUDE'.split():\n",
    "    print key\n",
    "    sorted_values = sorted(training_merged[key])\n",
    "    minimum, maximum = sorted_values[0] * 1.01, sorted_values[-1] * 1.01\n",
    "    print minimum, maximum\n",
    "    #training_merged[key] = (training_merged[key] - minimum) / (maximum - minimum)\n",
    "    print gc.collect()"
   ]
  },
  {
   "cell_type": "code",
   "execution_count": 61,
   "metadata": {
    "collapsed": false
   },
   "outputs": [],
   "source": [
    "#for key in ('DISTANCE',):\n",
    "#    print key\n",
    "#    sorted_values = sorted(training_merged[key])\n",
    "#    minimum, maximum = sorted_values[0] * 1.01, sorted_values[-1] * 1.01\n",
    "#    print minimum, maximum\n",
    "#    training_merged[key] = (training_merged[key] - minimum) / (maximum - minimum)\n",
    "#    print gc.collect()"
   ]
  },
  {
   "cell_type": "code",
   "execution_count": 62,
   "metadata": {
    "collapsed": true
   },
   "outputs": [],
   "source": [
    "def onehot_encode_date(date):\n",
    "    array = np.zeros((7 + 12 + 31,), dtype='bool')\n",
    "    array[date.weekday() - 1] = True\n",
    "    array[date.month + 7 - 1] = True\n",
    "    array[date.day + 7 + 12 - 1] = True\n",
    "    return array"
   ]
  },
  {
   "cell_type": "code",
   "execution_count": 63,
   "metadata": {
    "collapsed": false
   },
   "outputs": [],
   "source": [
    "#training_merged.sample(5).OUTBOUND_DATE.apply(onehot_encode_date)"
   ]
  },
  {
   "cell_type": "code",
   "execution_count": 64,
   "metadata": {
    "collapsed": false
   },
   "outputs": [
    {
     "data": {
      "text/html": [
       "<div>\n",
       "<table border=\"1\" class=\"dataframe\">\n",
       "  <thead>\n",
       "    <tr style=\"text-align: right;\">\n",
       "      <th></th>\n",
       "      <th>ORIGIN</th>\n",
       "      <th>DESTINATION</th>\n",
       "      <th>OUTBOUND_DATE</th>\n",
       "      <th>INBOUND_DATE</th>\n",
       "      <th>PRICE</th>\n",
       "      <th>MARKETS</th>\n",
       "      <th>SEARCH_TO_OUTBOUND</th>\n",
       "      <th>SEARCH_TO_INBOUND</th>\n",
       "      <th>OUTBOUND_TO_INBOUND</th>\n",
       "      <th>ORIGIN_COUNTRY</th>\n",
       "      <th>ORIGIN_LATITUDE</th>\n",
       "      <th>ORIGIN_LONGITUDE</th>\n",
       "      <th>ORIGIN_TRAFFIC</th>\n",
       "      <th>DESTINATION_COUNTRY</th>\n",
       "      <th>DESTINATION_LATITUDE</th>\n",
       "      <th>DESTINATION_LONGITUDE</th>\n",
       "      <th>DESTINATION_TRAFFIC</th>\n",
       "    </tr>\n",
       "  </thead>\n",
       "  <tbody>\n",
       "    <tr>\n",
       "      <th>0</th>\n",
       "      <td>CGN</td>\n",
       "      <td>BGY</td>\n",
       "      <td>2016-03-25</td>\n",
       "      <td>2016-03-27</td>\n",
       "      <td>0.01</td>\n",
       "      <td>DE</td>\n",
       "      <td>80 days 01:00:00</td>\n",
       "      <td>82 days 01:00:00</td>\n",
       "      <td>2 days</td>\n",
       "      <td>DE</td>\n",
       "      <td>0.887776</td>\n",
       "      <td>0.12465</td>\n",
       "      <td>0.083613</td>\n",
       "      <td>IT</td>\n",
       "      <td>0.797063</td>\n",
       "      <td>0.169302</td>\n",
       "      <td>0.124788</td>\n",
       "    </tr>\n",
       "    <tr>\n",
       "      <th>1</th>\n",
       "      <td>CGN</td>\n",
       "      <td>BGY</td>\n",
       "      <td>2016-01-12</td>\n",
       "      <td>2016-01-13</td>\n",
       "      <td>15.82</td>\n",
       "      <td>IT</td>\n",
       "      <td>6 days 07:00:00</td>\n",
       "      <td>7 days 07:00:00</td>\n",
       "      <td>1 days</td>\n",
       "      <td>DE</td>\n",
       "      <td>0.887776</td>\n",
       "      <td>0.12465</td>\n",
       "      <td>0.083613</td>\n",
       "      <td>IT</td>\n",
       "      <td>0.797063</td>\n",
       "      <td>0.169302</td>\n",
       "      <td>0.124788</td>\n",
       "    </tr>\n",
       "    <tr>\n",
       "      <th>2</th>\n",
       "      <td>CGN</td>\n",
       "      <td>BGY</td>\n",
       "      <td>2016-01-22</td>\n",
       "      <td>2016-01-25</td>\n",
       "      <td>15.82</td>\n",
       "      <td>IT</td>\n",
       "      <td>16 days 13:00:00</td>\n",
       "      <td>19 days 13:00:00</td>\n",
       "      <td>3 days</td>\n",
       "      <td>DE</td>\n",
       "      <td>0.887776</td>\n",
       "      <td>0.12465</td>\n",
       "      <td>0.083613</td>\n",
       "      <td>IT</td>\n",
       "      <td>0.797063</td>\n",
       "      <td>0.169302</td>\n",
       "      <td>0.124788</td>\n",
       "    </tr>\n",
       "    <tr>\n",
       "      <th>3</th>\n",
       "      <td>CGN</td>\n",
       "      <td>BGY</td>\n",
       "      <td>2016-01-28</td>\n",
       "      <td>2016-02-01</td>\n",
       "      <td>15.82</td>\n",
       "      <td>IT</td>\n",
       "      <td>19 days 16:00:00</td>\n",
       "      <td>23 days 16:00:00</td>\n",
       "      <td>4 days</td>\n",
       "      <td>DE</td>\n",
       "      <td>0.887776</td>\n",
       "      <td>0.12465</td>\n",
       "      <td>0.083613</td>\n",
       "      <td>IT</td>\n",
       "      <td>0.797063</td>\n",
       "      <td>0.169302</td>\n",
       "      <td>0.124788</td>\n",
       "    </tr>\n",
       "    <tr>\n",
       "      <th>4</th>\n",
       "      <td>CGN</td>\n",
       "      <td>BGY</td>\n",
       "      <td>2016-01-24</td>\n",
       "      <td>2016-01-25</td>\n",
       "      <td>15.98</td>\n",
       "      <td>IT</td>\n",
       "      <td>15 days 09:00:00</td>\n",
       "      <td>16 days 09:00:00</td>\n",
       "      <td>1 days</td>\n",
       "      <td>DE</td>\n",
       "      <td>0.887776</td>\n",
       "      <td>0.12465</td>\n",
       "      <td>0.083613</td>\n",
       "      <td>IT</td>\n",
       "      <td>0.797063</td>\n",
       "      <td>0.169302</td>\n",
       "      <td>0.124788</td>\n",
       "    </tr>\n",
       "  </tbody>\n",
       "</table>\n",
       "</div>"
      ],
      "text/plain": [
       "  ORIGIN DESTINATION OUTBOUND_DATE INBOUND_DATE  PRICE MARKETS  \\\n",
       "0    CGN         BGY    2016-03-25   2016-03-27   0.01      DE   \n",
       "1    CGN         BGY    2016-01-12   2016-01-13  15.82      IT   \n",
       "2    CGN         BGY    2016-01-22   2016-01-25  15.82      IT   \n",
       "3    CGN         BGY    2016-01-28   2016-02-01  15.82      IT   \n",
       "4    CGN         BGY    2016-01-24   2016-01-25  15.98      IT   \n",
       "\n",
       "   SEARCH_TO_OUTBOUND  SEARCH_TO_INBOUND  OUTBOUND_TO_INBOUND ORIGIN_COUNTRY  \\\n",
       "0    80 days 01:00:00   82 days 01:00:00               2 days             DE   \n",
       "1     6 days 07:00:00    7 days 07:00:00               1 days             DE   \n",
       "2    16 days 13:00:00   19 days 13:00:00               3 days             DE   \n",
       "3    19 days 16:00:00   23 days 16:00:00               4 days             DE   \n",
       "4    15 days 09:00:00   16 days 09:00:00               1 days             DE   \n",
       "\n",
       "   ORIGIN_LATITUDE  ORIGIN_LONGITUDE  ORIGIN_TRAFFIC DESTINATION_COUNTRY  \\\n",
       "0         0.887776           0.12465        0.083613                  IT   \n",
       "1         0.887776           0.12465        0.083613                  IT   \n",
       "2         0.887776           0.12465        0.083613                  IT   \n",
       "3         0.887776           0.12465        0.083613                  IT   \n",
       "4         0.887776           0.12465        0.083613                  IT   \n",
       "\n",
       "   DESTINATION_LATITUDE  DESTINATION_LONGITUDE  DESTINATION_TRAFFIC  \n",
       "0              0.797063               0.169302             0.124788  \n",
       "1              0.797063               0.169302             0.124788  \n",
       "2              0.797063               0.169302             0.124788  \n",
       "3              0.797063               0.169302             0.124788  \n",
       "4              0.797063               0.169302             0.124788  "
      ]
     },
     "execution_count": 64,
     "metadata": {},
     "output_type": "execute_result"
    }
   ],
   "source": [
    "training_merged.head()"
   ]
  },
  {
   "cell_type": "code",
   "execution_count": 65,
   "metadata": {
    "collapsed": false
   },
   "outputs": [
    {
     "name": "stdout",
     "output_type": "stream",
     "text": [
      "ORIGIN_TRAFFIC\n",
      "DESTINATION_TRAFFIC\n",
      "PRICE\n",
      "ORIGIN\n",
      "DESTINATION\n",
      "ORIGIN_COUNTRY\n",
      "DESTINATION_COUNTRY\n",
      "MARKETS\n",
      "SEARCH_TO_OUTBOUND\n",
      "SEARCH_TO_INBOUND\n",
      "OUTBOUND_TO_INBOUND\n"
     ]
    },
    {
     "data": {
      "text/plain": [
       "274"
      ]
     },
     "execution_count": 65,
     "metadata": {},
     "output_type": "execute_result"
    }
   ],
   "source": [
    "# TODO: delete all other rows and then calculate distances\n",
    "for col in 'ORIGIN_TRAFFIC DESTINATION_TRAFFIC PRICE ORIGIN DESTINATION ORIGIN_COUNTRY DESTINATION_COUNTRY MARKETS SEARCH_TO_OUTBOUND SEARCH_TO_INBOUND OUTBOUND_TO_INBOUND'.split():\n",
    "    try:\n",
    "        print col\n",
    "        del training_merged[col]\n",
    "    except Exception as e:\n",
    "        print repr(e)\n",
    "        pass\n",
    "gc.collect()"
   ]
  },
  {
   "cell_type": "code",
   "execution_count": 66,
   "metadata": {
    "collapsed": false
   },
   "outputs": [
    {
     "name": "stderr",
     "output_type": "stream",
     "text": [
      "Exception KeyboardInterrupt in 'zmq.backend.cython.message.Frame.__dealloc__' ignored\n"
     ]
    },
    {
     "ename": "KeyboardInterrupt",
     "evalue": "",
     "output_type": "error",
     "traceback": [
      "\u001b[1;31m---------------------------------------------------------------------------\u001b[0m",
      "\u001b[1;31mKeyboardInterrupt\u001b[0m                         Traceback (most recent call last)",
      "\u001b[1;32m<ipython-input-66-46f11dacadff>\u001b[0m in \u001b[0;36m<module>\u001b[1;34m()\u001b[0m\n\u001b[1;32m----> 1\u001b[1;33m \u001b[0mtraining_merged\u001b[0m\u001b[1;33m[\u001b[0m\u001b[1;34m'DISTANCE'\u001b[0m\u001b[1;33m]\u001b[0m \u001b[1;33m=\u001b[0m \u001b[0mtraining_merged\u001b[0m\u001b[1;33m.\u001b[0m\u001b[0mapply\u001b[0m\u001b[1;33m(\u001b[0m\u001b[0mdistance\u001b[0m\u001b[1;33m,\u001b[0m \u001b[0maxis\u001b[0m\u001b[1;33m=\u001b[0m\u001b[1;36m1\u001b[0m\u001b[1;33m)\u001b[0m\u001b[1;33m\u001b[0m\u001b[0m\n\u001b[0m\u001b[0;32m      2\u001b[0m \u001b[0mtraining_merged\u001b[0m\u001b[1;33m.\u001b[0m\u001b[0mDISTANCE\u001b[0m\u001b[1;33m.\u001b[0m\u001b[0mdescribe\u001b[0m\u001b[1;33m(\u001b[0m\u001b[1;33m)\u001b[0m\u001b[1;33m\u001b[0m\u001b[0m\n",
      "\u001b[1;32mI:\\Users\\Chase Stevens\\Anaconda\\lib\\site-packages\\pandas\\core\\frame.pyc\u001b[0m in \u001b[0;36mapply\u001b[1;34m(self, func, axis, broadcast, raw, reduce, args, **kwds)\u001b[0m\n\u001b[0;32m   3716\u001b[0m                     \u001b[1;32mif\u001b[0m \u001b[0mreduce\u001b[0m \u001b[1;32mis\u001b[0m \u001b[0mNone\u001b[0m\u001b[1;33m:\u001b[0m\u001b[1;33m\u001b[0m\u001b[0m\n\u001b[0;32m   3717\u001b[0m                         \u001b[0mreduce\u001b[0m \u001b[1;33m=\u001b[0m \u001b[0mTrue\u001b[0m\u001b[1;33m\u001b[0m\u001b[0m\n\u001b[1;32m-> 3718\u001b[1;33m                     \u001b[1;32mreturn\u001b[0m \u001b[0mself\u001b[0m\u001b[1;33m.\u001b[0m\u001b[0m_apply_standard\u001b[0m\u001b[1;33m(\u001b[0m\u001b[0mf\u001b[0m\u001b[1;33m,\u001b[0m \u001b[0maxis\u001b[0m\u001b[1;33m,\u001b[0m \u001b[0mreduce\u001b[0m\u001b[1;33m=\u001b[0m\u001b[0mreduce\u001b[0m\u001b[1;33m)\u001b[0m\u001b[1;33m\u001b[0m\u001b[0m\n\u001b[0m\u001b[0;32m   3719\u001b[0m             \u001b[1;32melse\u001b[0m\u001b[1;33m:\u001b[0m\u001b[1;33m\u001b[0m\u001b[0m\n\u001b[0;32m   3720\u001b[0m                 \u001b[1;32mreturn\u001b[0m \u001b[0mself\u001b[0m\u001b[1;33m.\u001b[0m\u001b[0m_apply_broadcast\u001b[0m\u001b[1;33m(\u001b[0m\u001b[0mf\u001b[0m\u001b[1;33m,\u001b[0m \u001b[0maxis\u001b[0m\u001b[1;33m)\u001b[0m\u001b[1;33m\u001b[0m\u001b[0m\n",
      "\u001b[1;32mI:\\Users\\Chase Stevens\\Anaconda\\lib\\site-packages\\pandas\\core\\frame.pyc\u001b[0m in \u001b[0;36m_apply_standard\u001b[1;34m(self, func, axis, ignore_failures, reduce)\u001b[0m\n\u001b[0;32m   3805\u001b[0m         \u001b[1;32melse\u001b[0m\u001b[1;33m:\u001b[0m\u001b[1;33m\u001b[0m\u001b[0m\n\u001b[0;32m   3806\u001b[0m             \u001b[1;32mtry\u001b[0m\u001b[1;33m:\u001b[0m\u001b[1;33m\u001b[0m\u001b[0m\n\u001b[1;32m-> 3807\u001b[1;33m                 \u001b[1;32mfor\u001b[0m \u001b[0mi\u001b[0m\u001b[1;33m,\u001b[0m \u001b[0mv\u001b[0m \u001b[1;32min\u001b[0m \u001b[0menumerate\u001b[0m\u001b[1;33m(\u001b[0m\u001b[0mseries_gen\u001b[0m\u001b[1;33m)\u001b[0m\u001b[1;33m:\u001b[0m\u001b[1;33m\u001b[0m\u001b[0m\n\u001b[0m\u001b[0;32m   3808\u001b[0m                     \u001b[0mresults\u001b[0m\u001b[1;33m[\u001b[0m\u001b[0mi\u001b[0m\u001b[1;33m]\u001b[0m \u001b[1;33m=\u001b[0m \u001b[0mfunc\u001b[0m\u001b[1;33m(\u001b[0m\u001b[0mv\u001b[0m\u001b[1;33m)\u001b[0m\u001b[1;33m\u001b[0m\u001b[0m\n\u001b[0;32m   3809\u001b[0m                     \u001b[0mkeys\u001b[0m\u001b[1;33m.\u001b[0m\u001b[0mappend\u001b[0m\u001b[1;33m(\u001b[0m\u001b[0mv\u001b[0m\u001b[1;33m.\u001b[0m\u001b[0mname\u001b[0m\u001b[1;33m)\u001b[0m\u001b[1;33m\u001b[0m\u001b[0m\n",
      "\u001b[1;32mI:\\Users\\Chase Stevens\\Anaconda\\lib\\site-packages\\pandas\\core\\frame.pyc\u001b[0m in \u001b[0;36m<genexpr>\u001b[1;34m((i, (arr, name)))\u001b[0m\n\u001b[0;32m   3783\u001b[0m             \u001b[0mvalues\u001b[0m \u001b[1;33m=\u001b[0m \u001b[0mself\u001b[0m\u001b[1;33m.\u001b[0m\u001b[0mvalues\u001b[0m\u001b[1;33m\u001b[0m\u001b[0m\n\u001b[0;32m   3784\u001b[0m             series_gen = (Series.from_array(arr, index=res_columns, name=name, dtype=dtype)\n\u001b[1;32m-> 3785\u001b[1;33m                           \u001b[1;32mfor\u001b[0m \u001b[0mi\u001b[0m\u001b[1;33m,\u001b[0m \u001b[1;33m(\u001b[0m\u001b[0marr\u001b[0m\u001b[1;33m,\u001b[0m \u001b[0mname\u001b[0m\u001b[1;33m)\u001b[0m \u001b[1;32min\u001b[0m\u001b[1;33m\u001b[0m\u001b[0m\n\u001b[0m\u001b[0;32m   3786\u001b[0m                           enumerate(zip(values, res_index)))\n\u001b[0;32m   3787\u001b[0m         \u001b[1;32melse\u001b[0m\u001b[1;33m:\u001b[0m  \u001b[1;31m# pragma : no cover\u001b[0m\u001b[1;33m\u001b[0m\u001b[0m\n",
      "\u001b[1;32mI:\\Users\\Chase Stevens\\Anaconda\\lib\\site-packages\\pandas\\core\\series.pyc\u001b[0m in \u001b[0;36mfrom_array\u001b[1;34m(cls, arr, index, name, dtype, copy, fastpath)\u001b[0m\n\u001b[0;32m    229\u001b[0m                    fastpath=False):\n\u001b[0;32m    230\u001b[0m         \u001b[1;31m# return a sparse series here\u001b[0m\u001b[1;33m\u001b[0m\u001b[1;33m\u001b[0m\u001b[0m\n\u001b[1;32m--> 231\u001b[1;33m         \u001b[1;32mif\u001b[0m \u001b[0misinstance\u001b[0m\u001b[1;33m(\u001b[0m\u001b[0marr\u001b[0m\u001b[1;33m,\u001b[0m \u001b[0mABCSparseArray\u001b[0m\u001b[1;33m)\u001b[0m\u001b[1;33m:\u001b[0m\u001b[1;33m\u001b[0m\u001b[0m\n\u001b[0m\u001b[0;32m    232\u001b[0m             \u001b[1;32mfrom\u001b[0m \u001b[0mpandas\u001b[0m\u001b[1;33m.\u001b[0m\u001b[0msparse\u001b[0m\u001b[1;33m.\u001b[0m\u001b[0mseries\u001b[0m \u001b[1;32mimport\u001b[0m \u001b[0mSparseSeries\u001b[0m\u001b[1;33m\u001b[0m\u001b[0m\n\u001b[0;32m    233\u001b[0m             \u001b[0mcls\u001b[0m \u001b[1;33m=\u001b[0m \u001b[0mSparseSeries\u001b[0m\u001b[1;33m\u001b[0m\u001b[0m\n",
      "\u001b[1;32mI:\\Users\\Chase Stevens\\Anaconda\\lib\\site-packages\\pandas\\core\\common.pyc\u001b[0m in \u001b[0;36m_check\u001b[1;34m(cls, inst)\u001b[0m\n\u001b[0;32m     70\u001b[0m     \u001b[1;33m@\u001b[0m\u001b[0mclassmethod\u001b[0m\u001b[1;33m\u001b[0m\u001b[0m\n\u001b[0;32m     71\u001b[0m     \u001b[1;32mdef\u001b[0m \u001b[0m_check\u001b[0m\u001b[1;33m(\u001b[0m\u001b[0mcls\u001b[0m\u001b[1;33m,\u001b[0m \u001b[0minst\u001b[0m\u001b[1;33m)\u001b[0m\u001b[1;33m:\u001b[0m\u001b[1;33m\u001b[0m\u001b[0m\n\u001b[1;32m---> 72\u001b[1;33m         \u001b[1;32mreturn\u001b[0m \u001b[0mgetattr\u001b[0m\u001b[1;33m(\u001b[0m\u001b[0minst\u001b[0m\u001b[1;33m,\u001b[0m \u001b[0mattr\u001b[0m\u001b[1;33m,\u001b[0m \u001b[1;34m'_typ'\u001b[0m\u001b[1;33m)\u001b[0m \u001b[1;32min\u001b[0m \u001b[0mcomp\u001b[0m\u001b[1;33m\u001b[0m\u001b[0m\n\u001b[0m\u001b[0;32m     73\u001b[0m     dct = dict(__instancecheck__=_check,\n\u001b[0;32m     74\u001b[0m                __subclasscheck__=_check)\n",
      "\u001b[1;31mKeyboardInterrupt\u001b[0m: "
     ]
    }
   ],
   "source": [
    "training_merged['DISTANCE'] = training_merged.apply(distance, axis=1)\n",
    "training_merged.DISTANCE.describe()"
   ]
  },
  {
   "cell_type": "code",
   "execution_count": 69,
   "metadata": {
    "collapsed": false
   },
   "outputs": [
    {
     "data": {
      "text/html": [
       "<div>\n",
       "<table border=\"1\" class=\"dataframe\">\n",
       "  <thead>\n",
       "    <tr style=\"text-align: right;\">\n",
       "      <th></th>\n",
       "      <th>OUTBOUND_DATE</th>\n",
       "      <th>INBOUND_DATE</th>\n",
       "      <th>ORIGIN_LATITUDE</th>\n",
       "      <th>ORIGIN_LONGITUDE</th>\n",
       "      <th>DESTINATION_LATITUDE</th>\n",
       "      <th>DESTINATION_LONGITUDE</th>\n",
       "    </tr>\n",
       "  </thead>\n",
       "  <tbody>\n",
       "    <tr>\n",
       "      <th>0</th>\n",
       "      <td>2016-03-25</td>\n",
       "      <td>2016-03-27</td>\n",
       "      <td>0.887776</td>\n",
       "      <td>0.12465</td>\n",
       "      <td>0.797063</td>\n",
       "      <td>0.169302</td>\n",
       "    </tr>\n",
       "    <tr>\n",
       "      <th>1</th>\n",
       "      <td>2016-01-12</td>\n",
       "      <td>2016-01-13</td>\n",
       "      <td>0.887776</td>\n",
       "      <td>0.12465</td>\n",
       "      <td>0.797063</td>\n",
       "      <td>0.169302</td>\n",
       "    </tr>\n",
       "    <tr>\n",
       "      <th>2</th>\n",
       "      <td>2016-01-22</td>\n",
       "      <td>2016-01-25</td>\n",
       "      <td>0.887776</td>\n",
       "      <td>0.12465</td>\n",
       "      <td>0.797063</td>\n",
       "      <td>0.169302</td>\n",
       "    </tr>\n",
       "    <tr>\n",
       "      <th>3</th>\n",
       "      <td>2016-01-28</td>\n",
       "      <td>2016-02-01</td>\n",
       "      <td>0.887776</td>\n",
       "      <td>0.12465</td>\n",
       "      <td>0.797063</td>\n",
       "      <td>0.169302</td>\n",
       "    </tr>\n",
       "    <tr>\n",
       "      <th>4</th>\n",
       "      <td>2016-01-24</td>\n",
       "      <td>2016-01-25</td>\n",
       "      <td>0.887776</td>\n",
       "      <td>0.12465</td>\n",
       "      <td>0.797063</td>\n",
       "      <td>0.169302</td>\n",
       "    </tr>\n",
       "  </tbody>\n",
       "</table>\n",
       "</div>"
      ],
      "text/plain": [
       "  OUTBOUND_DATE INBOUND_DATE  ORIGIN_LATITUDE  ORIGIN_LONGITUDE  \\\n",
       "0    2016-03-25   2016-03-27         0.887776           0.12465   \n",
       "1    2016-01-12   2016-01-13         0.887776           0.12465   \n",
       "2    2016-01-22   2016-01-25         0.887776           0.12465   \n",
       "3    2016-01-28   2016-02-01         0.887776           0.12465   \n",
       "4    2016-01-24   2016-01-25         0.887776           0.12465   \n",
       "\n",
       "   DESTINATION_LATITUDE  DESTINATION_LONGITUDE  \n",
       "0              0.797063               0.169302  \n",
       "1              0.797063               0.169302  \n",
       "2              0.797063               0.169302  \n",
       "3              0.797063               0.169302  \n",
       "4              0.797063               0.169302  "
      ]
     },
     "execution_count": 69,
     "metadata": {},
     "output_type": "execute_result"
    }
   ],
   "source": [
    "training_merged.head()"
   ]
  },
  {
   "cell_type": "code",
   "execution_count": 70,
   "metadata": {
    "collapsed": false
   },
   "outputs": [
    {
     "data": {
      "text/plain": [
       "585"
      ]
     },
     "execution_count": 70,
     "metadata": {},
     "output_type": "execute_result"
    }
   ],
   "source": [
    "del training_merged['OUTBOUND_DATE']\n",
    "del training_merged['INBOUND_DATE']\n",
    "gc.collect()"
   ]
  },
  {
   "cell_type": "code",
   "execution_count": 74,
   "metadata": {
    "collapsed": false
   },
   "outputs": [],
   "source": [
    "training_merged.to_csv('my_data/latlong.csv')"
   ]
  },
  {
   "cell_type": "code",
   "execution_count": 75,
   "metadata": {
    "collapsed": false
   },
   "outputs": [
    {
     "name": "stdout",
     "output_type": "stream",
     "text": [
      "DONE!\n"
     ]
    }
   ],
   "source": [
    "print \"DONE!\""
   ]
  },
  {
   "cell_type": "code",
   "execution_count": 76,
   "metadata": {
    "collapsed": true
   },
   "outputs": [],
   "source": [
    "del training_merged"
   ]
  },
  {
   "cell_type": "code",
   "execution_count": 78,
   "metadata": {
    "collapsed": false
   },
   "outputs": [],
   "source": [
    "import pandas\n",
    "import math\n",
    "import gc\n",
    "training_latlong = pandas.read_csv('my_data/latlong.csv')"
   ]
  },
  {
   "cell_type": "code",
   "execution_count": 79,
   "metadata": {
    "collapsed": false
   },
   "outputs": [],
   "source": [
    "gc.collect()\n",
    "sin, cos, acos = math.sin, math.cos, math.acos\n",
    "def distance(row):\n",
    "    lat1 = row['ORIGIN_LATITUDE']\n",
    "    lon1 = row['ORIGIN_LONGITUDE']\n",
    "    lat2 = row['DESTINATION_LATITUDE']\n",
    "    lon2 = row['DESTINATION_LONGITUDE']\n",
    "    \n",
    "    delta_lambda = lon2 - lon1\n",
    "    \n",
    "    return acos(\n",
    "        sin(lat1) * sin(lat2) + cos(lat1) * cos(lat2) * cos(delta_lambda)\n",
    "    ) * 6371"
   ]
  },
  {
   "cell_type": "code",
   "execution_count": 80,
   "metadata": {
    "collapsed": false
   },
   "outputs": [
    {
     "name": "stdout",
     "output_type": "stream",
     "text": [
      "DISTANCE\n",
      "0.0 20141.4607366\n",
      "0\n"
     ]
    }
   ],
   "source": [
    "for key in ('DISTANCE',):\n",
    "    print key\n",
    "    sorted_values = sorted(training_latlong.apply(distance, axis=1))\n",
    "    minimum, maximum = sorted_values[0] * 1.01, sorted_values[-1] * 1.01\n",
    "    print minimum, maximum\n",
    "    #training_merged[key] = (training_merged[key] - minimum) / (maximum - minimum)\n",
    "    print gc.collect()"
   ]
  }
 ],
 "metadata": {
  "kernelspec": {
   "display_name": "Python 2",
   "language": "python",
   "name": "python2"
  },
  "language_info": {
   "codemirror_mode": {
    "name": "ipython",
    "version": 2
   },
   "file_extension": ".py",
   "mimetype": "text/x-python",
   "name": "python",
   "nbconvert_exporter": "python",
   "pygments_lexer": "ipython2",
   "version": "2.7.11"
  }
 },
 "nbformat": 4,
 "nbformat_minor": 0
}
