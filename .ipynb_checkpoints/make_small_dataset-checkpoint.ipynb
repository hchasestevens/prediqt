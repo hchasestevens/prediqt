{
 "cells": [
  {
   "cell_type": "code",
   "execution_count": 1,
   "metadata": {
    "collapsed": true
   },
   "outputs": [],
   "source": [
    "import random"
   ]
  },
  {
   "cell_type": "code",
   "execution_count": 2,
   "metadata": {
    "collapsed": true
   },
   "outputs": [],
   "source": [
    "training_fname = 'data/PrediqtTrainData.csv'"
   ]
  },
  {
   "cell_type": "code",
   "execution_count": 3,
   "metadata": {
    "collapsed": false,
    "scrolled": false
   },
   "outputs": [
    {
     "name": "stdout",
     "output_type": "stream",
     "text": [
      "1000000\n",
      "2000000\n",
      "3000000\n",
      "4000000\n",
      "5000000\n"
     ]
    }
   ],
   "source": [
    "written = 0\n",
    "with open(training_fname, 'r') as f1, open('data/PrediqtTrainData.Sample.10000000.csv', 'w') as f2:\n",
    "    f2.write('SEARCH_DATEHOUR,ORIGIN,DESTINATION,OUTBOUND_DATE,INBOUND_DATE,PRICE,MARKETS\\n')\n",
    "    for line in f1:\n",
    "        if random.random() < (10 / 26.):\n",
    "            f2.write(line)\n",
    "            written += 1\n",
    "            if written == 10000000:\n",
    "                break\n",
    "            elif not written % 1000000:\n",
    "                print written"
   ]
  },
  {
   "cell_type": "code",
   "execution_count": null,
   "metadata": {
    "collapsed": true
   },
   "outputs": [],
   "source": []
  }
 ],
 "metadata": {
  "kernelspec": {
   "display_name": "Python 2",
   "language": "python",
   "name": "python2"
  },
  "language_info": {
   "codemirror_mode": {
    "name": "ipython",
    "version": 2
   },
   "file_extension": ".py",
   "mimetype": "text/x-python",
   "name": "python",
   "nbconvert_exporter": "python",
   "pygments_lexer": "ipython2",
   "version": "2.7.11"
  }
 },
 "nbformat": 4,
 "nbformat_minor": 0
}
