{
 "cells": [
  {
   "cell_type": "code",
   "execution_count": 1,
   "metadata": {
    "collapsed": true
   },
   "outputs": [],
   "source": [
    "import itertools\n",
    "import functools\n",
    "from collections import Counter\n",
    "import pandas\n",
    "from matplotlib import pyplot as pl\n",
    "import numpy as np\n",
    "import gc\n",
    "from scipy.sparse import lil_matrix\n",
    "training_fname = 'data/PrediqtTrainData.Sample.5000000.csv'\n",
    "airports_fname = 'data/PrediqtAirports.csv'\n",
    "testing_fname = 'data/PrediqtTestDataSmall.csv'"
   ]
  },
  {
   "cell_type": "code",
   "execution_count": 2,
   "metadata": {
    "collapsed": false
   },
   "outputs": [],
   "source": [
    "training_data = pandas.read_csv(training_fname, dtype={\n",
    "    'PRICE': float, \n",
    "})"
   ]
  },
  {
   "cell_type": "code",
   "execution_count": 3,
   "metadata": {
    "collapsed": false
   },
   "outputs": [
    {
     "name": "stdout",
     "output_type": "stream",
     "text": [
      "OUTBOUND_DATE\n",
      "SEARCH_DATEHOUR\n",
      "INBOUND_DATE\n"
     ]
    },
    {
     "data": {
      "text/plain": [
       "0"
      ]
     },
     "execution_count": 3,
     "metadata": {},
     "output_type": "execute_result"
    }
   ],
   "source": [
    "for item, itemtype in {'OUTBOUND_DATE': 'datetime64',  # can't believe you can't do this when parsing\n",
    "    'INBOUND_DATE': 'datetime64',\n",
    "    'SEARCH_DATEHOUR': 'datetime64[ns]',}.iteritems():\n",
    "    print item\n",
    "    training_data[item] = training_data[item].astype(itemtype)\n",
    "gc.collect()"
   ]
  },
  {
   "cell_type": "markdown",
   "metadata": {},
   "source": [
    "#Prices"
   ]
  },
  {
   "cell_type": "code",
   "execution_count": 4,
   "metadata": {
    "collapsed": false,
    "scrolled": true
   },
   "outputs": [],
   "source": [
    "training_data = training_data.sort_index(by='PRICE')"
   ]
  },
  {
   "cell_type": "code",
   "execution_count": 5,
   "metadata": {
    "collapsed": false
   },
   "outputs": [],
   "source": [
    "price_counts = training_data.PRICE.value_counts(sort=False)"
   ]
  },
  {
   "cell_type": "code",
   "execution_count": 6,
   "metadata": {
    "collapsed": false
   },
   "outputs": [
    {
     "name": "stdout",
     "output_type": "stream",
     "text": [
      "[0.0, 42.090000000000003, 54.539999999999999, 65.200000000000003, 75.180000000000007, 84.540000000000006, 93.579999999999998, 101.37, 109.22, 117.23, 124.98, 132.09999999999999, 139.38999999999999, 145.88, 151.69999999999999, 157.97, 163.19999999999999, 169.18000000000001, 173.97999999999999, 179.97999999999999, 185.28, 190.13999999999999, 195.49000000000001, 199.97999999999999, 204.97999999999999, 209.97999999999999, 215.28999999999999, 219.97999999999999, 225.03999999999999, 229.97999999999999, 235.31, 239.97999999999999, 245.40000000000001, 250.03999999999999, 256.12, 260.98000000000002, 268.79000000000002, 273.80000000000001, 279.98000000000002, 287.73000000000002, 294.49000000000001, 300.98000000000002, 309.98000000000002, 319.22000000000003, 326.98000000000002, 335.56, 343.29000000000002, 353.22000000000003, 362.81, 373.98000000000002, 384.76999999999998, 396.98000000000002, 409.23000000000002, 421.81, 435.98000000000002, 449.98000000000002, 464.98000000000002, 479.98000000000002, 495.54000000000002, 509.98000000000002, 525.97000000000003, 539.98000000000002, 549.98000000000002, 568.52999999999997, 579.98000000000002, 599.54999999999995, 612.55999999999995, 629.98000000000002, 648.80999999999995, 663.78999999999996, 679.98000000000002, 698.98000000000002, 709.98000000000002, 727.04999999999995, 739.98000000000002, 756.75999999999999, 769.98000000000002, 786.98000000000002, 799.98000000000002, 811.04999999999995, 825.73000000000002, 834.08000000000004, 848.49000000000001, 856.40999999999997, 868.47000000000003, 874.98000000000002, 886.92999999999995, 896.66999999999996, 903.41999999999996, 909.98000000000002, 919.98000000000002, 929.98000000000002, 939.98000000000002, 949.98000000000002, 959.98000000000002, 969.98000000000002, 979.98000000000002, 989.98000000000002, 999.98000000000002, 1009.98, 1019.98, 1029.98, 1039.98, 1049.98, 1061.98, 1073.9200000000001, 1081.98, 1093.4200000000001, 1104.98, 1117.8, 1128.98, 1139.98, 1152.98, 1164.98, 1179.98, 1194.98, 1207.8499999999999, 1219.98, 1234.98, 1249.98, 1266.04, 1279.98, 1298.98, 1309.98, 1329.98, 1349.98, 1369.98, 1389.98, 1409.98, 1429.98, 1452.3599999999999, 1479.98, 1509.98, 1540.98, 1579.98, 1626.98, 1678.98, 1739.98, 1833.98, 1969.98, 2491.3699999999999, 10097.959800000001]\n"
     ]
    }
   ],
   "source": [
    "num_prices = len(training_data.PRICE)\n",
    "num_buckets = 150.\n",
    "buckets = [0.]\n",
    "running_total = 0\n",
    "for price, count in price_counts.sort_index().iteritems():\n",
    "    running_total += count\n",
    "    if running_total >= num_prices / num_buckets:\n",
    "        buckets.append(price)\n",
    "        running_total = 0\n",
    "buckets.append(price * 1.01)\n",
    "print buckets\n",
    "del price_counts"
   ]
  },
  {
   "cell_type": "code",
   "execution_count": 7,
   "metadata": {
    "collapsed": false,
    "scrolled": true
   },
   "outputs": [
    {
     "data": {
      "image/png": "[encoded data removed]",
      "text/plain": [
       "<matplotlib.figure.Figure at 0xbfa39e8>"
      ]
     },
     "metadata": {},
     "output_type": "display_data"
    }
   ],
   "source": [
    "%matplotlib inline\n",
    "from matplotlib import pyplot as pl\n",
    "pl.plot(buckets)\n",
    "pl.show()"
   ]
  },
  {
   "cell_type": "code",
   "execution_count": 8,
   "metadata": {
    "collapsed": false
   },
   "outputs": [
    {
     "data": {
      "image/png": "[encoded data removed]",
      "text/plain": [
       "<matplotlib.figure.Figure at 0xc210438>"
      ]
     },
     "metadata": {},
     "output_type": "display_data"
    }
   ],
   "source": [
    "pl.hist(training_data.PRICE, num_buckets, color='black')\n",
    "pl.xlim([0, 2500])\n",
    "pl.show()"
   ]
  },
  {
   "cell_type": "code",
   "execution_count": 9,
   "metadata": {
    "collapsed": false,
    "scrolled": true
   },
   "outputs": [
    {
     "name": "stdout",
     "output_type": "stream",
     "text": [
      "5000000\n",
      "adjusting range (1, 42.090000000000003, 54.539999999999999)\n",
      "adjusting range (2, 54.539999999999999, 65.200000000000003)\n",
      "adjusting range (3, 65.200000000000003, 75.180000000000007)\n",
      "adjusting range (4, 75.180000000000007, 84.540000000000006)\n",
      "adjusting range (5, 84.540000000000006, 93.579999999999998)\n",
      "adjusting range (6, 93.579999999999998, 101.37)\n",
      "adjusting range (7, 101.37, 109.22)\n",
      "adjusting range (8, 109.22, 117.23)\n",
      "adjusting range (9, 117.23, 124.98)\n",
      "adjusting range (10, 124.98, 132.09999999999999)\n",
      "adjusting range (11, 132.09999999999999, 139.38999999999999)\n",
      "adjusting range (12, 139.38999999999999, 145.88)\n",
      "adjusting range (13, 145.88, 151.69999999999999)\n",
      "adjusting range (14, 151.69999999999999, 157.97)\n",
      "adjusting range (15, 157.97, 163.19999999999999)\n",
      "adjusting range (16, 163.19999999999999, 169.18000000000001)\n",
      "adjusting range (17, 169.18000000000001, 173.97999999999999)\n",
      "adjusting range (18, 173.97999999999999, 179.97999999999999)\n",
      "adjusting range (19, 179.97999999999999, 185.28)\n",
      "adjusting range (20, 185.28, 190.13999999999999)\n",
      "adjusting range (21, 190.13999999999999, 195.49000000000001)\n",
      "adjusting range (22, 195.49000000000001, 199.97999999999999)\n",
      "adjusting range (23, 199.97999999999999, 204.97999999999999)\n",
      "adjusting range (24, 204.97999999999999, 209.97999999999999)\n",
      "adjusting range (25, 209.97999999999999, 215.28999999999999)\n",
      "adjusting range (26, 215.28999999999999, 219.97999999999999)\n",
      "adjusting range (27, 219.97999999999999, 225.03999999999999)\n",
      "adjusting range (28, 225.03999999999999, 229.97999999999999)\n",
      "adjusting range (29, 229.97999999999999, 235.31)\n",
      "adjusting range (30, 235.31, 239.97999999999999)\n",
      "adjusting range (31, 239.97999999999999, 245.40000000000001)\n",
      "adjusting range (32, 245.40000000000001, 250.03999999999999)\n",
      "adjusting range (33, 250.03999999999999, 256.12)\n",
      "adjusting range (34, 256.12, 260.98000000000002)\n",
      "adjusting range (35, 260.98000000000002, 268.79000000000002)\n",
      "adjusting range (36, 268.79000000000002, 273.80000000000001)\n",
      "adjusting range (37, 273.80000000000001, 279.98000000000002)\n",
      "adjusting range (38, 279.98000000000002, 287.73000000000002)\n",
      "adjusting range (39, 287.73000000000002, 294.49000000000001)\n",
      "adjusting range (40, 294.49000000000001, 300.98000000000002)\n",
      "adjusting range (41, 300.98000000000002, 309.98000000000002)\n",
      "adjusting range (42, 309.98000000000002, 319.22000000000003)\n",
      "adjusting range (43, 319.22000000000003, 326.98000000000002)\n",
      "adjusting range (44, 326.98000000000002, 335.56)\n",
      "adjusting range (45, 335.56, 343.29000000000002)\n",
      "adjusting range (46, 343.29000000000002, 353.22000000000003)\n",
      "adjusting range (47, 353.22000000000003, 362.81)\n",
      "adjusting range (48, 362.81, 373.98000000000002)\n",
      "adjusting range (49, 373.98000000000002, 384.76999999999998)\n",
      "adjusting range (50, 384.76999999999998, 396.98000000000002)\n",
      "adjusting range (51, 396.98000000000002, 409.23000000000002)\n",
      "adjusting range (52, 409.23000000000002, 421.81)\n",
      "adjusting range (53, 421.81, 435.98000000000002)\n",
      "adjusting range (54, 435.98000000000002, 449.98000000000002)\n",
      "adjusting range (55, 449.98000000000002, 464.98000000000002)\n",
      "adjusting range (56, 464.98000000000002, 479.98000000000002)\n",
      "adjusting range (57, 479.98000000000002, 495.54000000000002)\n",
      "adjusting range (58, 495.54000000000002, 509.98000000000002)\n",
      "adjusting range (59, 509.98000000000002, 525.97000000000003)\n",
      "adjusting range (60, 525.97000000000003, 539.98000000000002)\n",
      "adjusting range (61, 539.98000000000002, 549.98000000000002)\n",
      "adjusting range (62, 549.98000000000002, 568.52999999999997)\n",
      "adjusting range (63, 568.52999999999997, 579.98000000000002)\n",
      "adjusting range (64, 579.98000000000002, 599.54999999999995)\n",
      "adjusting range (65, 599.54999999999995, 612.55999999999995)\n",
      "adjusting range (66, 612.55999999999995, 629.98000000000002)\n",
      "adjusting range (67, 629.98000000000002, 648.80999999999995)\n",
      "adjusting range (68, 648.80999999999995, 663.78999999999996)\n",
      "adjusting range (69, 663.78999999999996, 679.98000000000002)\n",
      "adjusting range (70, 679.98000000000002, 698.98000000000002)\n",
      "adjusting range (71, 698.98000000000002, 709.98000000000002)\n",
      "adjusting range (72, 709.98000000000002, 727.04999999999995)\n",
      "adjusting range (73, 727.04999999999995, 739.98000000000002)\n",
      "adjusting range (74, 739.98000000000002, 756.75999999999999)\n",
      "adjusting range (75, 756.75999999999999, 769.98000000000002)\n",
      "adjusting range (76, 769.98000000000002, 786.98000000000002)\n",
      "adjusting range (77, 786.98000000000002, 799.98000000000002)\n",
      "adjusting range (78, 799.98000000000002, 811.04999999999995)\n",
      "adjusting range (79, 811.04999999999995, 825.73000000000002)\n",
      "adjusting range (80, 825.73000000000002, 834.08000000000004)\n",
      "adjusting range (81, 834.08000000000004, 848.49000000000001)\n",
      "adjusting range (82, 848.49000000000001, 856.40999999999997)\n",
      "adjusting range (83, 856.40999999999997, 868.47000000000003)\n",
      "adjusting range (84, 868.47000000000003, 874.98000000000002)\n",
      "adjusting range (85, 874.98000000000002, 886.92999999999995)\n",
      "adjusting range (86, 886.92999999999995, 896.66999999999996)\n",
      "adjusting range (87, 896.66999999999996, 903.41999999999996)\n",
      "adjusting range (88, 903.41999999999996, 909.98000000000002)\n",
      "adjusting range (89, 909.98000000000002, 919.98000000000002)\n",
      "adjusting range (90, 919.98000000000002, 929.98000000000002)\n",
      "adjusting range (91, 929.98000000000002, 939.98000000000002)\n",
      "adjusting range (92, 939.98000000000002, 949.98000000000002)\n",
      "adjusting range (93, 949.98000000000002, 959.98000000000002)\n",
      "adjusting range (94, 959.98000000000002, 969.98000000000002)\n",
      "adjusting range (95, 969.98000000000002, 979.98000000000002)\n",
      "adjusting range (96, 979.98000000000002, 989.98000000000002)\n",
      "adjusting range (97, 989.98000000000002, 999.98000000000002)\n",
      "adjusting range (98, 999.98000000000002, 1009.98)\n",
      "adjusting range (99, 1009.98, 1019.98)\n",
      "adjusting range (100, 1019.98, 1029.98)\n",
      "adjusting range (101, 1029.98, 1039.98)\n",
      "adjusting range (102, 1039.98, 1049.98)\n",
      "adjusting range (103, 1049.98, 1061.98)\n",
      "adjusting range (104, 1061.98, 1073.9200000000001)\n",
      "adjusting range (105, 1073.9200000000001, 1081.98)\n",
      "adjusting range (106, 1081.98, 1093.4200000000001)\n",
      "adjusting range (107, 1093.4200000000001, 1104.98)\n",
      "adjusting range (108, 1104.98, 1117.8)\n",
      "adjusting range (109, 1117.8, 1128.98)\n",
      "adjusting range (110, 1128.98, 1139.98)\n",
      "adjusting range (111, 1139.98, 1152.98)\n",
      "adjusting range (112, 1152.98, 1164.98)\n",
      "adjusting range (113, 1164.98, 1179.98)\n",
      "adjusting range (114, 1179.98, 1194.98)\n",
      "adjusting range (115, 1194.98, 1207.8499999999999)\n",
      "adjusting range (116, 1207.8499999999999, 1219.98)\n",
      "adjusting range (117, 1219.98, 1234.98)\n",
      "adjusting range (118, 1234.98, 1249.98)\n",
      "adjusting range (119, 1249.98, 1266.04)\n",
      "adjusting range (120, 1266.04, 1279.98)\n",
      "adjusting range (121, 1279.98, 1298.98)\n",
      "adjusting range (122, 1298.98, 1309.98)\n",
      "adjusting range (123, 1309.98, 1329.98)\n",
      "adjusting range (124, 1329.98, 1349.98)\n",
      "adjusting range (125, 1349.98, 1369.98)\n",
      "adjusting range (126, 1369.98, 1389.98)\n",
      "adjusting range (127, 1389.98, 1409.98)\n",
      "adjusting range (128, 1409.98, 1429.98)\n",
      "adjusting range (129, 1429.98, 1452.3599999999999)\n",
      "adjusting range (130, 1452.3599999999999, 1479.98)\n",
      "adjusting range (131, 1479.98, 1509.98)\n",
      "adjusting range (132, 1509.98, 1540.98)\n",
      "adjusting range (133, 1540.98, 1579.98)\n",
      "adjusting range (134, 1579.98, 1626.98)\n",
      "adjusting range (135, 1626.98, 1678.98)\n",
      "adjusting range (136, 1678.98, 1739.98)\n",
      "adjusting range (137, 1739.98, 1833.98)\n",
      "adjusting range (138, 1833.98, 1969.98)\n",
      "adjusting range (139, 1969.98, 2491.3699999999999)\n",
      "adjusting range (140, 2491.3699999999999, 10097.959800000001)\n"
     ]
    }
   ],
   "source": [
    "bucket_counts = [0 for __ in xrange(int(num_buckets) + 1)]\n",
    "bucket_ranges = zip(xrange(int(num_buckets) + 1), buckets, buckets[1:])\n",
    "print len(training_data.PRICE)\n",
    "for i_, price in enumerate(training_data.PRICE):\n",
    "    for i, low, high in bucket_ranges:\n",
    "        if low <= price <= high:\n",
    "            bucket_counts[i] += 1\n",
    "            break\n",
    "    if bucket_ranges[0][-1] < price:\n",
    "        bucket_ranges = bucket_ranges[1:]\n",
    "        print 'adjusting range', bucket_ranges[0]"
   ]
  },
  {
   "cell_type": "code",
   "execution_count": 10,
   "metadata": {
    "collapsed": false
   },
   "outputs": [
    {
     "data": {
      "image/png": "[encoded data removed]",
      "text/plain": [
       "<matplotlib.figure.Figure at 0x105c7c88>"
      ]
     },
     "metadata": {},
     "output_type": "display_data"
    }
   ],
   "source": [
    "%matplotlib inline\n",
    "pl.plot(bucket_counts)\n",
    "pl.show()"
   ]
  },
  {
   "cell_type": "markdown",
   "metadata": {},
   "source": [
    "I think bucket_counts looks better than bin_counts."
   ]
  },
  {
   "cell_type": "code",
   "execution_count": 11,
   "metadata": {
    "collapsed": false,
    "scrolled": true
   },
   "outputs": [
    {
     "name": "stdout",
     "output_type": "stream",
     "text": [
      "[0.0, 42.090000000000003, 54.539999999999999, 65.200000000000003, 75.180000000000007, 84.540000000000006, 93.579999999999998, 101.37, 109.22, 117.23, 124.98, 132.09999999999999, 139.38999999999999, 145.88, 151.69999999999999, 157.97, 163.19999999999999, 169.18000000000001, 173.97999999999999, 179.97999999999999, 185.28, 190.13999999999999, 195.49000000000001, 199.97999999999999, 204.97999999999999, 209.97999999999999, 215.28999999999999, 219.97999999999999, 225.03999999999999, 229.97999999999999, 235.31, 239.97999999999999, 245.40000000000001, 250.03999999999999, 256.12, 260.98000000000002, 268.79000000000002, 273.80000000000001, 279.98000000000002, 287.73000000000002, 294.49000000000001, 300.98000000000002, 309.98000000000002, 319.22000000000003, 326.98000000000002, 335.56, 343.29000000000002, 353.22000000000003, 362.81, 373.98000000000002, 384.76999999999998, 396.98000000000002, 409.23000000000002, 421.81, 435.98000000000002, 449.98000000000002, 464.98000000000002, 479.98000000000002, 495.54000000000002, 509.98000000000002, 525.97000000000003, 539.98000000000002, 549.98000000000002, 568.52999999999997, 579.98000000000002, 599.54999999999995, 612.55999999999995, 629.98000000000002, 648.80999999999995, 663.78999999999996, 679.98000000000002, 698.98000000000002, 709.98000000000002, 727.04999999999995, 739.98000000000002, 756.75999999999999, 769.98000000000002, 786.98000000000002, 799.98000000000002, 811.04999999999995, 825.73000000000002, 834.08000000000004, 848.49000000000001, 856.40999999999997, 868.47000000000003, 874.98000000000002, 886.92999999999995, 896.66999999999996, 903.41999999999996, 909.98000000000002, 919.98000000000002, 929.98000000000002, 939.98000000000002, 949.98000000000002, 959.98000000000002, 969.98000000000002, 979.98000000000002, 989.98000000000002, 999.98000000000002, 1009.98, 1019.98, 1029.98, 1039.98, 1049.98, 1061.98, 1073.9200000000001, 1081.98, 1093.4200000000001, 1104.98, 1117.8, 1128.98, 1139.98, 1152.98, 1164.98, 1179.98, 1194.98, 1207.8499999999999, 1219.98, 1234.98, 1249.98, 1266.04, 1279.98, 1298.98, 1309.98, 1329.98, 1349.98, 1369.98, 1389.98, 1409.98, 1429.98, 1452.3599999999999, 1479.98, 1509.98, 1540.98, 1579.98, 1626.98, 1678.98, 1739.98, 1833.98, 1969.98, 2491.3699999999999, 10097.959800000001]\n"
     ]
    }
   ],
   "source": [
    "print buckets"
   ]
  },
  {
   "cell_type": "code",
   "execution_count": 12,
   "metadata": {
    "collapsed": false
   },
   "outputs": [
    {
     "data": {
      "text/plain": [
       "142"
      ]
     },
     "execution_count": 12,
     "metadata": {},
     "output_type": "execute_result"
    }
   ],
   "source": [
    "len(buckets)"
   ]
  },
  {
   "cell_type": "code",
   "execution_count": 147,
   "metadata": {
    "collapsed": false
   },
   "outputs": [],
   "source": [
    "def convert(num, buckets=buckets, bucket_ranges=None):\n",
    "    \"\"\"go from 0..1 to larger\"\"\"\n",
    "    buckets = list(buckets)\n",
    "    if bucket_ranges is None:\n",
    "        bucket_ranges = itertools.izip(buckets, buckets[1:])\n",
    "    step = 1 / float(len(buckets))\n",
    "    cumsum = 0\n",
    "    for low, high in bucket_ranges:\n",
    "        if cumsum <= num < cumsum + step:\n",
    "            t = (num - cumsum) / step\n",
    "            return (1 - t) * low + t * high\n",
    "        cumsum += step\n",
    "    t = (num - (cumsum - step)) / step\n",
    "    return (1 - t) * low + t * high\n",
    "\n",
    "def reverse_convert(num, buckets, _range=range(12)):\n",
    "    \"\"\"go from larger to 0..1\"\"\"\n",
    "    # Binary search, because I couldn't spend time to figure it out properly... oh well\n",
    "    buckets = list(buckets)\n",
    "    bucket_ranges = zip(buckets, buckets[1:])\n",
    "    high, low = 0., 1.\n",
    "    for __ in _range:\n",
    "        mid = (high + low) / 2.\n",
    "        result = convert(mid, buckets=buckets, bucket_ranges=bucket_ranges)\n",
    "        if abs(result - num) < 0.001:\n",
    "            break\n",
    "        if result > num:\n",
    "            low = mid\n",
    "        else:\n",
    "            high = mid\n",
    "    return mid"
   ]
  },
  {
   "cell_type": "code",
   "execution_count": 14,
   "metadata": {
    "collapsed": false
   },
   "outputs": [
    {
     "name": "stdout",
     "output_type": "stream",
     "text": [
      "9063.4635872\n",
      "9603.531463\n",
      "10143.5993388\n",
      "10683.6672146\n"
     ]
    }
   ],
   "source": [
    "print convert(.992)\n",
    "print convert(.9925)\n",
    "print convert(.993)\n",
    "print convert(.9935)"
   ]
  },
  {
   "cell_type": "code",
   "execution_count": 15,
   "metadata": {
    "collapsed": false
   },
   "outputs": [
    {
     "data": {
      "image/png": "[encoded data removed]",
      "text/plain": [
       "<matplotlib.figure.Figure at 0x10762208>"
      ]
     },
     "metadata": {},
     "output_type": "display_data"
    }
   ],
   "source": [
    "%matplotlib inline\n",
    "pl.plot([convert(i / 250.) for i in xrange(250)])\n",
    "pl.xlim([0, 200])\n",
    "pl.ylim([0, 1800])\n",
    "pl.show()"
   ]
  },
  {
   "cell_type": "markdown",
   "metadata": {},
   "source": [
    "#Datetimes"
   ]
  },
  {
   "cell_type": "code",
   "execution_count": 16,
   "metadata": {
    "collapsed": true
   },
   "outputs": [],
   "source": [
    "training_data['SEARCH_TO_OUTBOUND'] = training_data.OUTBOUND_DATE - training_data.SEARCH_DATEHOUR"
   ]
  },
  {
   "cell_type": "code",
   "execution_count": 17,
   "metadata": {
    "collapsed": true
   },
   "outputs": [],
   "source": [
    "training_data['SEARCH_TO_INBOUND'] = training_data.INBOUND_DATE - training_data.SEARCH_DATEHOUR"
   ]
  },
  {
   "cell_type": "code",
   "execution_count": null,
   "metadata": {
    "collapsed": true
   },
   "outputs": [],
   "source": [
    "del training_data['SEARCH_DATEHOUR']"
   ]
  },
  {
   "cell_type": "code",
   "execution_count": 18,
   "metadata": {
    "collapsed": true
   },
   "outputs": [],
   "source": [
    "training_data['OUTBOUND_TO_INBOUND'] = training_data.INBOUND_DATE - training_data.OUTBOUND_DATE"
   ]
  },
  {
   "cell_type": "code",
   "execution_count": 42,
   "metadata": {
    "collapsed": false
   },
   "outputs": [],
   "source": [
    "one_day = 1000000000 * 60 * 60 * 24\n",
    "oti_days = training_data.OUTBOUND_TO_INBOUND.map(lambda x: x.item() / one_day)"
   ]
  },
  {
   "cell_type": "code",
   "execution_count": 43,
   "metadata": {
    "collapsed": false
   },
   "outputs": [
    {
     "data": {
      "text/plain": [
       "<matplotlib.axes._subplots.AxesSubplot at 0xc0b9550>"
      ]
     },
     "execution_count": 43,
     "metadata": {},
     "output_type": "execute_result"
    },
    {
     "data": {
      "image/png": "[encoded data removed]",
      "text/plain": [
       "<matplotlib.figure.Figure at 0xc0b9b00>"
      ]
     },
     "metadata": {},
     "output_type": "display_data"
    }
   ],
   "source": [
    "oti_days.hist()"
   ]
  },
  {
   "cell_type": "code",
   "execution_count": 44,
   "metadata": {
    "collapsed": false,
    "scrolled": true
   },
   "outputs": [
    {
     "data": {
      "text/plain": [
       "<matplotlib.axes._subplots.AxesSubplot at 0x240c1fc88>"
      ]
     },
     "execution_count": 44,
     "metadata": {},
     "output_type": "execute_result"
    },
    {
     "data": {
      "image/png": "[encoded data removed]",
      "text/plain": [
       "<matplotlib.figure.Figure at 0x10853588>"
      ]
     },
     "metadata": {},
     "output_type": "display_data"
    }
   ],
   "source": [
    "oti_days.sample(1000).hist()"
   ]
  },
  {
   "cell_type": "code",
   "execution_count": 102,
   "metadata": {
    "collapsed": false
   },
   "outputs": [],
   "source": [
    "oti_out, oti_bins = pandas.qcut(oti_days, 10, retbins=True)\n",
    "oti_bins[-1] = int(oti_bins[-1] * 1.01)"
   ]
  },
  {
   "cell_type": "code",
   "execution_count": 103,
   "metadata": {
    "collapsed": false
   },
   "outputs": [
    {
     "data": {
      "text/plain": [
       "array([   0.,    3.,    4.,    7.,    9.,   12.,   15.,   19.,   24.,\n",
       "         33.,  371.])"
      ]
     },
     "execution_count": 103,
     "metadata": {},
     "output_type": "execute_result"
    }
   ],
   "source": [
    "oti_bins"
   ]
  },
  {
   "cell_type": "code",
   "execution_count": 104,
   "metadata": {
    "collapsed": false
   },
   "outputs": [
    {
     "data": {
      "text/plain": [
       "[0, 3]       65\n",
       "(3, 4]       24\n",
       "(4, 7]       74\n",
       "(7, 9]       48\n",
       "(9, 12]      48\n",
       "(12, 15]     55\n",
       "(15, 19]     40\n",
       "(19, 24]     55\n",
       "(24, 33]     51\n",
       "(33, 368]    40\n",
       "dtype: int64"
      ]
     },
     "execution_count": 104,
     "metadata": {},
     "output_type": "execute_result"
    }
   ],
   "source": [
    "oti_out.sample(500).value_counts(sort=False)"
   ]
  },
  {
   "cell_type": "code",
   "execution_count": 105,
   "metadata": {
    "collapsed": false
   },
   "outputs": [
    {
     "data": {
      "text/plain": [
       "13.499999999999998"
      ]
     },
     "execution_count": 105,
     "metadata": {},
     "output_type": "execute_result"
    }
   ],
   "source": [
    "convert(0.5, oti_bins)"
   ]
  },
  {
   "cell_type": "code",
   "execution_count": 148,
   "metadata": {
    "collapsed": false
   },
   "outputs": [],
   "source": [
    "import functools\n",
    "reverse_convert_oti = functools.partial(reverse_convert, buckets=oti_bins)\n",
    "scaled_oti_days = oti_days.apply(reverse_convert_oti)"
   ]
  },
  {
   "cell_type": "code",
   "execution_count": 149,
   "metadata": {
    "collapsed": false
   },
   "outputs": [
    {
     "data": {
      "text/plain": [
       "<matplotlib.axes._subplots.AxesSubplot at 0x2597b3ba8>"
      ]
     },
     "execution_count": 149,
     "metadata": {},
     "output_type": "execute_result"
    },
    {
     "data": {
      "image/png": "[encoded data removed]",
      "text/plain": [
       "<matplotlib.figure.Figure at 0x2597b36a0>"
      ]
     },
     "metadata": {},
     "output_type": "display_data"
    }
   ],
   "source": [
    "scaled_oti_days.hist()"
   ]
  },
  {
   "cell_type": "code",
   "execution_count": 150,
   "metadata": {
    "collapsed": false
   },
   "outputs": [
    {
     "data": {
      "text/plain": [
       "count    5000000.000000\n",
       "mean           0.445235\n",
       "std            0.256802\n",
       "min            0.000244\n",
       "25%            0.242432\n",
       "50%            0.454346\n",
       "75%            0.672607\n",
       "max            0.908447\n",
       "Name: OUTBOUND_TO_INBOUND, dtype: float64"
      ]
     },
     "execution_count": 150,
     "metadata": {},
     "output_type": "execute_result"
    }
   ],
   "source": [
    "scaled_oti_days.describe()"
   ]
  },
  {
   "cell_type": "code",
   "execution_count": null,
   "metadata": {
    "collapsed": true
   },
   "outputs": [],
   "source": [
    "training_data['OUTBOUND_TO_INBOUND'] = scaled_oti_days\n",
    "gc.collect()"
   ]
  },
  {
   "cell_type": "code",
   "execution_count": 49,
   "metadata": {
    "collapsed": false
   },
   "outputs": [
    {
     "data": {
      "text/plain": [
       "<matplotlib.axes._subplots.AxesSubplot at 0x16cf24e80>"
      ]
     },
     "execution_count": 49,
     "metadata": {},
     "output_type": "execute_result"
    },
    {
     "data": {
      "image/png": "[encoded data removed]",
      "text/plain": [
       "<matplotlib.figure.Figure at 0xc113b00>"
      ]
     },
     "metadata": {},
     "output_type": "display_data"
    }
   ],
   "source": [
    "one_day = 1000000000 * 60 * 60 * 24\n",
    "sto_days = training_data.SEARCH_TO_OUTBOUND.map(lambda x: x.item() / one_day)\n",
    "sto_days.hist()"
   ]
  },
  {
   "cell_type": "code",
   "execution_count": 152,
   "metadata": {
    "collapsed": false
   },
   "outputs": [
    {
     "data": {
      "text/plain": [
       "array([ -25.,   15.,   29.,   43.,   61.,   81.,  112.,  146.,  180.,\n",
       "        215.,  400.])"
      ]
     },
     "execution_count": 152,
     "metadata": {},
     "output_type": "execute_result"
    }
   ],
   "source": [
    "sto_out, sto_bins = pandas.qcut(sto_days, 10, retbins=True)\n",
    "sto_bins[-1] = int(sto_bins[-1] * 1.01)\n",
    "sto_bins"
   ]
  },
  {
   "cell_type": "code",
   "execution_count": 51,
   "metadata": {
    "collapsed": false
   },
   "outputs": [
    {
     "data": {
      "text/plain": [
       "[-25, 15]     56\n",
       "(15, 29]      61\n",
       "(29, 43]      46\n",
       "(43, 61]      40\n",
       "(61, 81]      47\n",
       "(81, 112]     59\n",
       "(112, 146]    54\n",
       "(146, 180]    50\n",
       "(180, 215]    51\n",
       "(215, 397]    36\n",
       "dtype: int64"
      ]
     },
     "execution_count": 51,
     "metadata": {},
     "output_type": "execute_result"
    }
   ],
   "source": [
    "sto_out.sample(500).value_counts(sort=False)"
   ]
  },
  {
   "cell_type": "code",
   "execution_count": null,
   "metadata": {
    "collapsed": false
   },
   "outputs": [],
   "source": [
    "reverse_convert_sto = functools.partial(reverse_convert, buckets=sto_bins)\n",
    "training_data['SEARCH_TO_OUTBOUND'] = sto_days.apply(reverse_convert_sto)\n",
    "gc.collect()"
   ]
  },
  {
   "cell_type": "code",
   "execution_count": null,
   "metadata": {
    "collapsed": true
   },
   "outputs": [],
   "source": [
    "sti_days = training_data.SEARCH_TO_INBOUND.map(lambda x: x.item() / one_day)\n",
    "sti_out, sti_bins = pandas.qcut(sti_days, 10, retbins=True)\n",
    "sti_bins[-1] = int(sti_bins[-1] * 1.01)\n",
    "reverse_convert_sti = functools.partial(reverse_convert, buckets=sti_bins)\n",
    "training_data['SEARCH_TO_INBOUND'] = sti_days.apply(reverse_convert_sti)\n",
    "gc.collect()"
   ]
  },
  {
   "cell_type": "markdown",
   "metadata": {},
   "source": [
    "#Airports data"
   ]
  },
  {
   "cell_type": "code",
   "execution_count": 19,
   "metadata": {
    "collapsed": true
   },
   "outputs": [],
   "source": [
    "airports_data = pandas.read_csv(airports_fname)"
   ]
  },
  {
   "cell_type": "code",
   "execution_count": 20,
   "metadata": {
    "collapsed": true
   },
   "outputs": [],
   "source": [
    "training_merged = pandas.merge(training_data, airports_data, left_on='ORIGIN', right_on='AIRPORT')\n",
    "del training_data"
   ]
  },
  {
   "cell_type": "code",
   "execution_count": 21,
   "metadata": {
    "collapsed": false
   },
   "outputs": [
    {
     "data": {
      "text/html": [
       "<div>\n",
       "<table border=\"1\" class=\"dataframe\">\n",
       "  <thead>\n",
       "    <tr style=\"text-align: right;\">\n",
       "      <th></th>\n",
       "      <th>SEARCH_DATEHOUR</th>\n",
       "      <th>ORIGIN</th>\n",
       "      <th>DESTINATION</th>\n",
       "      <th>OUTBOUND_DATE</th>\n",
       "      <th>INBOUND_DATE</th>\n",
       "      <th>PRICE</th>\n",
       "      <th>MARKETS</th>\n",
       "      <th>SEARCH_TO_OUTBOUND</th>\n",
       "      <th>SEARCH_TO_INBOUND</th>\n",
       "      <th>OUTBOUND_TO_INBOUND</th>\n",
       "      <th>COUNTRY</th>\n",
       "      <th>LATITUDE</th>\n",
       "      <th>LONGITUDE</th>\n",
       "      <th>TRAFFIC</th>\n",
       "    </tr>\n",
       "  </thead>\n",
       "  <tbody>\n",
       "    <tr>\n",
       "      <th>0</th>\n",
       "      <td>2016-01-04 09:00:00</td>\n",
       "      <td>SZZ</td>\n",
       "      <td>RYG</td>\n",
       "      <td>2016-01-15</td>\n",
       "      <td>2016-01-25</td>\n",
       "      <td>8.84</td>\n",
       "      <td>ES</td>\n",
       "      <td>10 days 15:00:00</td>\n",
       "      <td>20 days 15:00:00</td>\n",
       "      <td>10 days</td>\n",
       "      <td>PL</td>\n",
       "      <td>53.583333</td>\n",
       "      <td>14.9</td>\n",
       "      <td>76133</td>\n",
       "    </tr>\n",
       "    <tr>\n",
       "      <th>1</th>\n",
       "      <td>2016-01-03 09:00:00</td>\n",
       "      <td>SZZ</td>\n",
       "      <td>STN</td>\n",
       "      <td>2016-01-20</td>\n",
       "      <td>2016-01-27</td>\n",
       "      <td>16.34</td>\n",
       "      <td>PL</td>\n",
       "      <td>16 days 15:00:00</td>\n",
       "      <td>23 days 15:00:00</td>\n",
       "      <td>7 days</td>\n",
       "      <td>PL</td>\n",
       "      <td>53.583333</td>\n",
       "      <td>14.9</td>\n",
       "      <td>76133</td>\n",
       "    </tr>\n",
       "    <tr>\n",
       "      <th>2</th>\n",
       "      <td>2016-01-07 21:00:00</td>\n",
       "      <td>SZZ</td>\n",
       "      <td>RYG</td>\n",
       "      <td>2016-01-29</td>\n",
       "      <td>2016-02-01</td>\n",
       "      <td>17.33</td>\n",
       "      <td>PL</td>\n",
       "      <td>21 days 03:00:00</td>\n",
       "      <td>24 days 03:00:00</td>\n",
       "      <td>3 days</td>\n",
       "      <td>PL</td>\n",
       "      <td>53.583333</td>\n",
       "      <td>14.9</td>\n",
       "      <td>76133</td>\n",
       "    </tr>\n",
       "    <tr>\n",
       "      <th>3</th>\n",
       "      <td>2016-01-07 11:00:00</td>\n",
       "      <td>SZZ</td>\n",
       "      <td>STN</td>\n",
       "      <td>2016-03-05</td>\n",
       "      <td>2016-03-06</td>\n",
       "      <td>20.92</td>\n",
       "      <td>PL</td>\n",
       "      <td>57 days 13:00:00</td>\n",
       "      <td>58 days 13:00:00</td>\n",
       "      <td>1 days</td>\n",
       "      <td>PL</td>\n",
       "      <td>53.583333</td>\n",
       "      <td>14.9</td>\n",
       "      <td>76133</td>\n",
       "    </tr>\n",
       "    <tr>\n",
       "      <th>4</th>\n",
       "      <td>2016-01-07 13:00:00</td>\n",
       "      <td>SZZ</td>\n",
       "      <td>SVG</td>\n",
       "      <td>2016-01-16</td>\n",
       "      <td>2016-01-19</td>\n",
       "      <td>24.82</td>\n",
       "      <td>PL</td>\n",
       "      <td>8 days 11:00:00</td>\n",
       "      <td>11 days 11:00:00</td>\n",
       "      <td>3 days</td>\n",
       "      <td>PL</td>\n",
       "      <td>53.583333</td>\n",
       "      <td>14.9</td>\n",
       "      <td>76133</td>\n",
       "    </tr>\n",
       "  </tbody>\n",
       "</table>\n",
       "</div>"
      ],
      "text/plain": [
       "      SEARCH_DATEHOUR ORIGIN DESTINATION OUTBOUND_DATE INBOUND_DATE  PRICE  \\\n",
       "0 2016-01-04 09:00:00    SZZ         RYG    2016-01-15   2016-01-25   8.84   \n",
       "1 2016-01-03 09:00:00    SZZ         STN    2016-01-20   2016-01-27  16.34   \n",
       "2 2016-01-07 21:00:00    SZZ         RYG    2016-01-29   2016-02-01  17.33   \n",
       "3 2016-01-07 11:00:00    SZZ         STN    2016-03-05   2016-03-06  20.92   \n",
       "4 2016-01-07 13:00:00    SZZ         SVG    2016-01-16   2016-01-19  24.82   \n",
       "\n",
       "  MARKETS  SEARCH_TO_OUTBOUND  SEARCH_TO_INBOUND  OUTBOUND_TO_INBOUND COUNTRY  \\\n",
       "0      ES    10 days 15:00:00   20 days 15:00:00              10 days      PL   \n",
       "1      PL    16 days 15:00:00   23 days 15:00:00               7 days      PL   \n",
       "2      PL    21 days 03:00:00   24 days 03:00:00               3 days      PL   \n",
       "3      PL    57 days 13:00:00   58 days 13:00:00               1 days      PL   \n",
       "4      PL     8 days 11:00:00   11 days 11:00:00               3 days      PL   \n",
       "\n",
       "    LATITUDE  LONGITUDE  TRAFFIC  \n",
       "0  53.583333       14.9    76133  \n",
       "1  53.583333       14.9    76133  \n",
       "2  53.583333       14.9    76133  \n",
       "3  53.583333       14.9    76133  \n",
       "4  53.583333       14.9    76133  "
      ]
     },
     "execution_count": 21,
     "metadata": {},
     "output_type": "execute_result"
    }
   ],
   "source": [
    "for key in ('AIRPORT', 'CITY', 'CONTINENT'):\n",
    "    del training_merged[key]\n",
    "training_merged.head()"
   ]
  },
  {
   "cell_type": "code",
   "execution_count": 22,
   "metadata": {
    "collapsed": true
   },
   "outputs": [],
   "source": [
    "for key in ('COUNTRY', 'LATITUDE', 'LONGITUDE', 'TRAFFIC'):\n",
    "    training_merged['ORIGIN_' + key] = training_merged[key]\n",
    "    del training_merged[key]"
   ]
  },
  {
   "cell_type": "code",
   "execution_count": 23,
   "metadata": {
    "collapsed": false,
    "scrolled": true
   },
   "outputs": [
    {
     "data": {
      "text/html": [
       "<div>\n",
       "<table border=\"1\" class=\"dataframe\">\n",
       "  <thead>\n",
       "    <tr style=\"text-align: right;\">\n",
       "      <th></th>\n",
       "      <th>SEARCH_DATEHOUR</th>\n",
       "      <th>ORIGIN</th>\n",
       "      <th>DESTINATION</th>\n",
       "      <th>OUTBOUND_DATE</th>\n",
       "      <th>INBOUND_DATE</th>\n",
       "      <th>PRICE</th>\n",
       "      <th>MARKETS</th>\n",
       "      <th>SEARCH_TO_OUTBOUND</th>\n",
       "      <th>SEARCH_TO_INBOUND</th>\n",
       "      <th>OUTBOUND_TO_INBOUND</th>\n",
       "      <th>ORIGIN_COUNTRY</th>\n",
       "      <th>ORIGIN_LATITUDE</th>\n",
       "      <th>ORIGIN_LONGITUDE</th>\n",
       "      <th>ORIGIN_TRAFFIC</th>\n",
       "      <th>DESTINATION_COUNTRY</th>\n",
       "      <th>DESTINATION_LATITUDE</th>\n",
       "      <th>DESTINATION_LONGITUDE</th>\n",
       "      <th>DESTINATION_TRAFFIC</th>\n",
       "    </tr>\n",
       "  </thead>\n",
       "  <tbody>\n",
       "    <tr>\n",
       "      <th>0</th>\n",
       "      <td>2016-01-04 09:00:00</td>\n",
       "      <td>SZZ</td>\n",
       "      <td>RYG</td>\n",
       "      <td>2016-01-15</td>\n",
       "      <td>2016-01-25</td>\n",
       "      <td>8.84</td>\n",
       "      <td>ES</td>\n",
       "      <td>10 days 15:00:00</td>\n",
       "      <td>20 days 15:00:00</td>\n",
       "      <td>10 days</td>\n",
       "      <td>PL</td>\n",
       "      <td>53.583333</td>\n",
       "      <td>14.900000</td>\n",
       "      <td>76133</td>\n",
       "      <td>NO</td>\n",
       "      <td>59.3789</td>\n",
       "      <td>10.7856</td>\n",
       "      <td>278640</td>\n",
       "    </tr>\n",
       "    <tr>\n",
       "      <th>1</th>\n",
       "      <td>2016-01-07 21:00:00</td>\n",
       "      <td>SZZ</td>\n",
       "      <td>RYG</td>\n",
       "      <td>2016-01-29</td>\n",
       "      <td>2016-02-01</td>\n",
       "      <td>17.33</td>\n",
       "      <td>PL</td>\n",
       "      <td>21 days 03:00:00</td>\n",
       "      <td>24 days 03:00:00</td>\n",
       "      <td>3 days</td>\n",
       "      <td>PL</td>\n",
       "      <td>53.583333</td>\n",
       "      <td>14.900000</td>\n",
       "      <td>76133</td>\n",
       "      <td>NO</td>\n",
       "      <td>59.3789</td>\n",
       "      <td>10.7856</td>\n",
       "      <td>278640</td>\n",
       "    </tr>\n",
       "    <tr>\n",
       "      <th>2</th>\n",
       "      <td>2016-01-04 11:00:00</td>\n",
       "      <td>SZZ</td>\n",
       "      <td>RYG</td>\n",
       "      <td>2016-01-08</td>\n",
       "      <td>2016-01-11</td>\n",
       "      <td>47.02</td>\n",
       "      <td>PL</td>\n",
       "      <td>3 days 13:00:00</td>\n",
       "      <td>6 days 13:00:00</td>\n",
       "      <td>3 days</td>\n",
       "      <td>PL</td>\n",
       "      <td>53.583333</td>\n",
       "      <td>14.900000</td>\n",
       "      <td>76133</td>\n",
       "      <td>NO</td>\n",
       "      <td>59.3789</td>\n",
       "      <td>10.7856</td>\n",
       "      <td>278640</td>\n",
       "    </tr>\n",
       "    <tr>\n",
       "      <th>3</th>\n",
       "      <td>2016-01-09 12:00:00</td>\n",
       "      <td>WMI</td>\n",
       "      <td>RYG</td>\n",
       "      <td>2016-02-04</td>\n",
       "      <td>2016-02-16</td>\n",
       "      <td>16.06</td>\n",
       "      <td>PL</td>\n",
       "      <td>25 days 12:00:00</td>\n",
       "      <td>37 days 12:00:00</td>\n",
       "      <td>12 days</td>\n",
       "      <td>PL</td>\n",
       "      <td>52.460298</td>\n",
       "      <td>20.657294</td>\n",
       "      <td>932470</td>\n",
       "      <td>NO</td>\n",
       "      <td>59.3789</td>\n",
       "      <td>10.7856</td>\n",
       "      <td>278640</td>\n",
       "    </tr>\n",
       "    <tr>\n",
       "      <th>4</th>\n",
       "      <td>2016-01-08 21:00:00</td>\n",
       "      <td>WMI</td>\n",
       "      <td>RYG</td>\n",
       "      <td>2016-02-26</td>\n",
       "      <td>2016-02-28</td>\n",
       "      <td>16.06</td>\n",
       "      <td>PL</td>\n",
       "      <td>48 days 03:00:00</td>\n",
       "      <td>50 days 03:00:00</td>\n",
       "      <td>2 days</td>\n",
       "      <td>PL</td>\n",
       "      <td>52.460298</td>\n",
       "      <td>20.657294</td>\n",
       "      <td>932470</td>\n",
       "      <td>NO</td>\n",
       "      <td>59.3789</td>\n",
       "      <td>10.7856</td>\n",
       "      <td>278640</td>\n",
       "    </tr>\n",
       "  </tbody>\n",
       "</table>\n",
       "</div>"
      ],
      "text/plain": [
       "      SEARCH_DATEHOUR ORIGIN DESTINATION OUTBOUND_DATE INBOUND_DATE  PRICE  \\\n",
       "0 2016-01-04 09:00:00    SZZ         RYG    2016-01-15   2016-01-25   8.84   \n",
       "1 2016-01-07 21:00:00    SZZ         RYG    2016-01-29   2016-02-01  17.33   \n",
       "2 2016-01-04 11:00:00    SZZ         RYG    2016-01-08   2016-01-11  47.02   \n",
       "3 2016-01-09 12:00:00    WMI         RYG    2016-02-04   2016-02-16  16.06   \n",
       "4 2016-01-08 21:00:00    WMI         RYG    2016-02-26   2016-02-28  16.06   \n",
       "\n",
       "  MARKETS  SEARCH_TO_OUTBOUND  SEARCH_TO_INBOUND  OUTBOUND_TO_INBOUND  \\\n",
       "0      ES    10 days 15:00:00   20 days 15:00:00              10 days   \n",
       "1      PL    21 days 03:00:00   24 days 03:00:00               3 days   \n",
       "2      PL     3 days 13:00:00    6 days 13:00:00               3 days   \n",
       "3      PL    25 days 12:00:00   37 days 12:00:00              12 days   \n",
       "4      PL    48 days 03:00:00   50 days 03:00:00               2 days   \n",
       "\n",
       "  ORIGIN_COUNTRY  ORIGIN_LATITUDE  ORIGIN_LONGITUDE  ORIGIN_TRAFFIC  \\\n",
       "0             PL        53.583333         14.900000           76133   \n",
       "1             PL        53.583333         14.900000           76133   \n",
       "2             PL        53.583333         14.900000           76133   \n",
       "3             PL        52.460298         20.657294          932470   \n",
       "4             PL        52.460298         20.657294          932470   \n",
       "\n",
       "  DESTINATION_COUNTRY  DESTINATION_LATITUDE  DESTINATION_LONGITUDE  \\\n",
       "0                  NO               59.3789                10.7856   \n",
       "1                  NO               59.3789                10.7856   \n",
       "2                  NO               59.3789                10.7856   \n",
       "3                  NO               59.3789                10.7856   \n",
       "4                  NO               59.3789                10.7856   \n",
       "\n",
       "   DESTINATION_TRAFFIC  \n",
       "0               278640  \n",
       "1               278640  \n",
       "2               278640  \n",
       "3               278640  \n",
       "4               278640  "
      ]
     },
     "execution_count": 23,
     "metadata": {},
     "output_type": "execute_result"
    }
   ],
   "source": [
    "training_merged = pandas.merge(training_merged, airports_data, left_on='DESTINATION', right_on='AIRPORT')\n",
    "for key in ('AIRPORT', 'CITY', 'CONTINENT'):\n",
    "    del training_merged[key]\n",
    "for key in ('COUNTRY', 'LATITUDE', 'LONGITUDE', 'TRAFFIC'):\n",
    "    training_merged['DESTINATION_' + key] = training_merged[key]\n",
    "    del training_merged[key]\n",
    "training_merged.head()"
   ]
  },
  {
   "cell_type": "code",
   "execution_count": 24,
   "metadata": {
    "collapsed": false,
    "scrolled": true
   },
   "outputs": [
    {
     "data": {
      "text/plain": [
       "36630"
      ]
     },
     "execution_count": 24,
     "metadata": {},
     "output_type": "execute_result"
    }
   ],
   "source": [
    "#training_merged = training_merged.sort('PRICE')\n",
    "del airports_data\n",
    "gc.collect()"
   ]
  },
  {
   "cell_type": "code",
   "execution_count": 25,
   "metadata": {
    "collapsed": false
   },
   "outputs": [],
   "source": [
    "#for key in (\n",
    "#    'ORIGIN', 'DESTINATION', 'ORIGIN_CITY', 'ORIGIN_COUNTRY', \n",
    "#    'ORIGIN_CONTINENT', 'DESTINATION_CITY', 'DESTINATION_COUNTRY', \n",
    "#    'DESTINATION_CONTINENT',\n",
    "#):\n",
    "#    training_merged[key] = training_merged[key].astype('category')\n",
    "#training_merged.head()"
   ]
  },
  {
   "cell_type": "markdown",
   "metadata": {},
   "source": [
    "#Categorical data (one-hot encodings)"
   ]
  },
  {
   "cell_type": "markdown",
   "metadata": {},
   "source": [
    "##Markets"
   ]
  },
  {
   "cell_type": "code",
   "execution_count": 26,
   "metadata": {
    "collapsed": false
   },
   "outputs": [
    {
     "name": "stdout",
     "output_type": "stream",
     "text": [
      "[('**', 3442333), ('UK', 487969), ('US', 213188), ('IT', 152141), ('FR', 150781), ('DE', 146748), ('ES', 142819), ('SK', 105670), ('TR', 101978), ('AT', 99244)]\n"
     ]
    }
   ],
   "source": [
    "market_counts = Counter(\n",
    "    market\n",
    "    for __, marketlist in \n",
    "    training_merged.MARKETS.iteritems()\n",
    "    for market in\n",
    "    marketlist.split(';')\n",
    ")\n",
    "print market_counts.most_common(10)"
   ]
  },
  {
   "cell_type": "code",
   "execution_count": 27,
   "metadata": {
    "collapsed": false
   },
   "outputs": [
    {
     "data": {
      "text/plain": [
       "248"
      ]
     },
     "execution_count": 27,
     "metadata": {},
     "output_type": "execute_result"
    }
   ],
   "source": [
    "len(market_counts)"
   ]
  },
  {
   "cell_type": "code",
   "execution_count": 28,
   "metadata": {
    "collapsed": false
   },
   "outputs": [
    {
     "name": "stdout",
     "output_type": "stream",
     "text": [
      "['**', 'UK', 'US', 'IT', 'FR', 'DE', 'ES', 'SK', 'TR', 'AT', 'PL', 'PT', 'RU', 'IE', 'HU', 'CZ', 'GR', 'BR', 'BG', 'RO', 'NL', 'CH', 'TW', 'HK', 'MT', 'IL', 'BE', 'SA', 'CA', 'KW', 'MO', 'SI', 'QA', 'KZ', 'BH', 'IS', 'OM', 'BY', 'GE', 'ME', 'MD', 'LB', 'AZ', 'AD', 'SM', 'VA', 'HR', 'LI', 'BA', 'GL', 'FO', 'MK', 'KO', 'BV', 'MN', 'LU', 'WF', 'TF', 'BN', 'WS', 'TL', 'GU', 'PW', 'PG', 'PN', 'MP', 'FJ', 'FM', 'VU', 'NU', 'CK', 'CC', 'CX', 'KH', 'SB', 'TV', 'TO', 'TK', 'AS', 'LK', 'MV', 'BT', 'BQ', 'GS', 'HM', 'MH', 'UM', 'MS', 'NF', 'CW', 'SX', 'KI', 'SJ', 'LA', 'AN', 'AQ', 'IO', 'MC', 'RS']\n"
     ]
    }
   ],
   "source": [
    "most_common_markets = [market for market, __ in market_counts.most_common(99)]\n",
    "print most_common_markets"
   ]
  },
  {
   "cell_type": "code",
   "execution_count": 29,
   "metadata": {
    "collapsed": false
   },
   "outputs": [
    {
     "name": "stdout",
     "output_type": "stream",
     "text": [
      "0\n",
      "1000000\n",
      "2000000\n",
      "3000000\n",
      "4000000\n"
     ]
    }
   ],
   "source": [
    "market_onehots = np.zeros((len(training_merged.MARKETS), 100), dtype='bool')\n",
    "for i, (marketlist, onehot) in enumerate(itertools.izip(training_merged.MARKETS, market_onehots)):\n",
    "    ms = marketlist.split(';')\n",
    "    for m in ms:\n",
    "        try:\n",
    "            onehot[most_common_markets.index(m)] = True\n",
    "        except ValueError:\n",
    "            onehot[-1] = True\n",
    "    if not i % 1000000:\n",
    "        print i"
   ]
  },
  {
   "cell_type": "code",
   "execution_count": 30,
   "metadata": {
    "collapsed": false,
    "scrolled": false
   },
   "outputs": [
    {
     "data": {
      "text/plain": [
       "4999998                                                   **\n",
       "4999999    VN;IN;KW;ID;HM;TH;TR;UM;MY;MH;IL;GI;NF;MO;TW;W...\n",
       "Name: MARKETS, dtype: object"
      ]
     },
     "execution_count": 30,
     "metadata": {},
     "output_type": "execute_result"
    }
   ],
   "source": [
    "training_merged.MARKETS.tail(2)"
   ]
  },
  {
   "cell_type": "code",
   "execution_count": 31,
   "metadata": {
    "collapsed": false
   },
   "outputs": [
    {
     "data": {
      "text/plain": [
       "83"
      ]
     },
     "execution_count": 31,
     "metadata": {},
     "output_type": "execute_result"
    }
   ],
   "source": [
    "sum(market_onehots[-1])"
   ]
  },
  {
   "cell_type": "code",
   "execution_count": 32,
   "metadata": {
    "collapsed": false
   },
   "outputs": [
    {
     "data": {
      "text/plain": [
       "1"
      ]
     },
     "execution_count": 32,
     "metadata": {},
     "output_type": "execute_result"
    }
   ],
   "source": [
    "sum(market_onehots[-2])"
   ]
  },
  {
   "cell_type": "code",
   "execution_count": 33,
   "metadata": {
    "collapsed": false
   },
   "outputs": [
    {
     "data": {
      "text/plain": [
       "9"
      ]
     },
     "execution_count": 33,
     "metadata": {},
     "output_type": "execute_result"
    }
   ],
   "source": [
    "import gc\n",
    "gc.collect()"
   ]
  },
  {
   "cell_type": "code",
   "execution_count": 34,
   "metadata": {
    "collapsed": false
   },
   "outputs": [
    {
     "data": {
      "text/plain": [
       "array([False, False, False, False, False, False,  True, False, False,\n",
       "       False, False, False, False, False, False, False, False, False,\n",
       "       False, False, False, False, False, False, False, False, False,\n",
       "       False, False, False, False, False, False, False, False, False,\n",
       "       False, False, False, False, False, False, False, False, False,\n",
       "       False, False, False, False, False, False, False, False, False,\n",
       "       False, False, False, False, False, False, False, False, False,\n",
       "       False, False, False, False, False, False, False, False, False,\n",
       "       False, False, False, False, False, False, False, False, False,\n",
       "       False, False, False, False, False, False, False, False, False,\n",
       "       False, False, False, False, False, False, False, False, False, False], dtype=bool)"
      ]
     },
     "execution_count": 34,
     "metadata": {},
     "output_type": "execute_result"
    }
   ],
   "source": [
    "training_merged['MARKETS'] = list(market_onehots)\n",
    "training_merged.MARKETS.loc[0]"
   ]
  },
  {
   "cell_type": "code",
   "execution_count": 35,
   "metadata": {
    "collapsed": false
   },
   "outputs": [
    {
     "data": {
      "text/plain": [
       "10"
      ]
     },
     "execution_count": 35,
     "metadata": {},
     "output_type": "execute_result"
    }
   ],
   "source": [
    "del market_onehots\n",
    "gc.collect()"
   ]
  },
  {
   "cell_type": "code",
   "execution_count": 36,
   "metadata": {
    "collapsed": false
   },
   "outputs": [
    {
     "data": {
      "text/plain": [
       "0    [False, False, False, False, False, False, Tru...\n",
       "1    [False, False, False, False, False, False, Fal...\n",
       "2    [False, False, False, False, False, False, Fal...\n",
       "3    [False, False, False, False, False, False, Fal...\n",
       "4    [False, False, False, False, False, False, Fal...\n",
       "Name: MARKETS, dtype: object"
      ]
     },
     "execution_count": 36,
     "metadata": {},
     "output_type": "execute_result"
    }
   ],
   "source": [
    "training_merged.MARKETS.head()"
   ]
  },
  {
   "cell_type": "code",
   "execution_count": 37,
   "metadata": {
    "collapsed": false
   },
   "outputs": [
    {
     "data": {
      "text/plain": [
       "SEARCH_DATEHOUR           datetime64[ns]\n",
       "ORIGIN                            object\n",
       "DESTINATION                       object\n",
       "OUTBOUND_DATE             datetime64[ns]\n",
       "INBOUND_DATE              datetime64[ns]\n",
       "PRICE                            float64\n",
       "MARKETS                           object\n",
       "SEARCH_TO_OUTBOUND       timedelta64[ns]\n",
       "SEARCH_TO_INBOUND        timedelta64[ns]\n",
       "OUTBOUND_TO_INBOUND      timedelta64[ns]\n",
       "ORIGIN_COUNTRY                    object\n",
       "ORIGIN_LATITUDE                  float64\n",
       "ORIGIN_LONGITUDE                 float64\n",
       "ORIGIN_TRAFFIC                     int64\n",
       "DESTINATION_COUNTRY               object\n",
       "DESTINATION_LATITUDE             float64\n",
       "DESTINATION_LONGITUDE            float64\n",
       "DESTINATION_TRAFFIC                int64\n",
       "dtype: object"
      ]
     },
     "execution_count": 37,
     "metadata": {},
     "output_type": "execute_result"
    }
   ],
   "source": [
    "training_merged.dtypes"
   ]
  },
  {
   "cell_type": "markdown",
   "metadata": {},
   "source": [
    "##Other"
   ]
  },
  {
   "cell_type": "code",
   "execution_count": 38,
   "metadata": {
    "collapsed": true
   },
   "outputs": [],
   "source": [
    "def make_onehot(df, field, size):\n",
    "    series = df[field]\n",
    "    counts = Counter(series)\n",
    "    print len(counts)\n",
    "    most_common = [item for item, __ in counts.most_common(size)]\n",
    "    print most_common\n",
    "    most_common_set = frozenset(most_common)\n",
    "    excluded = sum(place not in most_common_set for place in series) / float(len(series))\n",
    "    print excluded\n",
    "    zeros_size = len(most_common) + (1 if excluded > 0 else 0)\n",
    "    onehots = np.zeros((len(series), zeros_size), dtype='bool')\n",
    "    most_common_index = most_common.index\n",
    "    for i, (item, onehot) in enumerate(itertools.izip(series, onehots)):\n",
    "        try:\n",
    "            onehot[most_common_index(item)] = True\n",
    "        except ValueError:\n",
    "            onehot[zeros_size - 1] = True\n",
    "        if not i % 1000000:\n",
    "            print i\n",
    "    df[field] = list(onehots)\n",
    "    return df"
   ]
  },
  {
   "cell_type": "code",
   "execution_count": 39,
   "metadata": {
    "collapsed": false
   },
   "outputs": [
    {
     "name": "stdout",
     "output_type": "stream",
     "text": [
      "ORIGIN\n",
      "2150\n",
      "['MAN', 'LHR', 'FRA', 'LGW', 'CDG', 'AMS', 'MAD', 'BHX', 'DUS', 'MUC', 'STN', 'MXP', 'BRU', 'GLA', 'SVO', 'FCO', 'HAM', 'BCN', 'GRU', 'IST', 'GIG', 'ZRH', 'MEX', 'STR', 'CGN', 'EMA', 'YYZ', 'DUB', 'CUN', 'TXL', 'DME', 'CPH', 'NCL', 'ATH', 'VCE', 'VIE', 'LIS', 'LAX', 'WAW', 'BUD', 'GVA', 'BLQ', 'LED', 'HAJ', 'LIN', 'BRS', 'EDI', 'JFK', 'HEL', 'PRG', 'ORY', 'ARN', 'LBA', 'SFO', 'EZE', 'LPL', 'OSL', 'SXF', 'BIO', 'MSP', 'OPO', 'LYS', 'TFS', 'IAH', 'DFW', 'BOG', 'BWI', 'BLL', 'MRS', 'RIX', 'BSL', 'PDX', 'TLL', 'BSB', 'LTN', 'SJO', 'SEA', 'BKK', 'TLV', 'VCP', 'OAK', 'POA', 'PMI', 'VNO', 'SOF', 'SIN', 'SCL', 'BGY', 'AYT', 'LEJ', 'REC', 'AAL', 'TLS', 'YUL', 'NCE', 'LJU', 'CNF', 'MCO', 'FOR', 'YVR', 'LAS', 'KBP', 'FLR', 'BEG', 'LCA', 'BRE', 'OTP', 'ZAG', 'BFS', 'CWL', 'CPT', 'SJC', 'KRK', 'DEN', 'BUR', 'TRN', 'BOS', 'JED', 'ORD', 'VRN', 'JNB', 'SKG', 'AGP', 'GOT', 'SSA', 'LIM', 'GDL', 'CCS', 'HAV', 'NAP', 'ONT', 'CAI', 'SYD', 'PHX', 'LCY', 'NUE', 'AUS', 'CWB', 'ISP', 'FLL', 'MEL', 'EIN', 'EWR', 'SNA', 'HER', 'ALC', 'DLM', 'SAN', 'SDQ']\n",
      "0.1080272\n",
      "0\n",
      "1000000\n",
      "2000000\n",
      "3000000\n",
      "4000000\n",
      "21\n",
      "DESTINATION_COUNTRY\n",
      "220\n",
      "['ES', 'US', 'CU', 'TH', 'UK', 'BR', 'TR', 'DE', 'MX', 'IT', 'GR', 'CA', 'DO', 'ZA', 'FR', 'PT', 'CR', 'NL', 'MU', 'MV', 'AR', 'RU', 'CY', 'IN', 'KE', 'PE', 'CH', 'CO', 'AU', 'EG', 'IE', 'SG', 'PL', nan, 'AE', 'TZ', 'JP', 'AT', 'CL', 'JM', 'EC', 'BE', 'BB', 'CZ', 'PA', 'PH', 'ID', 'HU', 'CN']\n",
      "0.080737\n",
      "0\n",
      "1000000\n",
      "2000000\n",
      "3000000\n",
      "4000000\n",
      "0\n",
      "ORIGIN_COUNTRY\n",
      "209\n",
      "['UK', 'DE', 'US', 'IT', 'ES', 'FR', 'BR', 'RU', 'NL', 'MX', 'BE', 'CH', 'CA', 'TR', 'DK', 'PL', 'GR', 'PT', 'IE', 'AT', 'SE', 'HU', 'FI', 'AR', 'NO', 'CZ', 'AU', 'SA', 'TH', 'CO', 'ZA', 'LV', 'EE', 'CR', 'CY', 'IL', 'LT', 'BG', 'UA', 'CL', 'SG', 'IN', 'AE', 'SI', 'HR', 'RO', 'RS', 'EG', 'DO']\n",
      "0.0281888\n",
      "0\n",
      "1000000\n",
      "2000000\n",
      "3000000\n",
      "4000000\n",
      "0\n",
      "DESTINATION\n",
      "2493\n",
      "['HAV', 'PMI', 'TFS', 'BKK', 'CUN', 'GIG', 'MCO', 'LAS', 'JFK', 'MAD', 'HKT', 'DLM', 'FRA', 'LHR', 'CPT', 'SJO', 'PUJ', 'MRU', 'LAX', 'BCN', 'YYZ', 'ACE', 'MLE', 'AYT', 'CDG', 'LPA', 'AMS', 'VRA', 'EZE', 'FUE', 'LIS', 'SFO', 'FCO', 'MAN', 'LGW', 'IBZ', 'LIM', 'HER', 'MEX', 'GRU', 'SDQ', 'LCA', 'SIN', 'IST', 'JNB', 'STN', 'WDH', 'DUB', 'ATH', 'ALC', 'MUC', 'MXP', 'BOG', 'AGP', 'NBO', 'SCL', 'MBJ', 'BGI', 'HNL', 'ZNZ', 'YUL', 'FAO', 'PTY', 'YVR', 'PRG', 'MAH', 'SEA', 'BUD', 'CFU', 'DXB', 'MBA', 'TXL', 'BRU', 'MIA', 'OPO', 'GVA', 'PFO', 'HRG', 'ZRH', 'ZTH', 'UIO', 'VIE', 'CPH', 'MNL', 'POP', 'BWI', 'MSP', 'HOG', 'FOR', 'DUS', 'DPS', 'DFW', 'GUA', 'IAH', 'MGA', 'EDI', 'SXF', 'NRT', 'SEZ', 'TLV', 'DEN', 'SYD', 'RHO', 'SVO', 'MEL', 'HKG', 'VCE', 'CAI', 'SAN', 'GLA', 'PNH', 'ARN', 'CGN', 'PDX', 'FLL', 'DEL', 'DME', 'BHX', 'PRN', 'FLR', 'EWR', 'KRK', 'SSA', 'GOI', 'BUR', 'OSL', 'SJU', 'BJL', 'PBI', 'SKG', 'LED', 'HAM', 'OAK', 'KUL', 'SOF', 'LIN', 'RTM', 'CMB', 'PHX', 'RAK', 'REC', 'BLQ', 'ICN', 'NCE', 'EIN', 'BOS', 'BGY', 'SJC', 'SNA', 'MJV', 'MLA', 'XRY', 'ORY', 'HEL', 'TFN', 'CTG', 'KEF', 'GYE', 'SGN', 'ORD', 'NAP', 'CCS', 'ONT', 'WAW', 'YYC', 'BSL', 'VCP', 'LYS', 'SLC', 'CIA', 'OTP', 'AKL', 'STR', 'BEG', 'SAL', 'BOM', 'BSB', 'BIO', 'RGN', 'SAW', 'MVD', 'KBP', 'VLC', 'DBV', 'SVQ', 'NAT', 'GRX', 'DUR', 'RUN', 'TRN', 'MRS', 'AUS', 'SSH', 'PSA', 'CNF', 'JTR', 'YQB', 'ZAG', 'KBV', 'PEK', 'RIX', 'JED', 'FNC', 'PVG', 'POA', 'TPE', 'KGS', 'LGA', 'ADB', 'BVA', 'REU', 'TLS', 'AER', 'ISB', 'GDL', 'ATL', 'AGA', 'CTA', 'CNX', 'BJV', 'LTN', 'BOJ', 'PER', 'VNO']\n",
      "0.1035418\n",
      "0\n",
      "1000000\n",
      "2000000\n",
      "3000000\n",
      "4000000\n",
      "0\n"
     ]
    }
   ],
   "source": [
    "pairs = {\n",
    "    'ORIGIN': 149,\n",
    "    'ORIGIN_COUNTRY': 49,\n",
    "    'DESTINATION': 224,\n",
    "    'DESTINATION_COUNTRY': 49,\n",
    "}\n",
    "for field, size in pairs.iteritems():\n",
    "    print field\n",
    "    gc_collect_1 = gc.collect()\n",
    "    training_merged = make_onehot(training_merged, field, size)\n",
    "    print gc.collect() + gc_collect_1"
   ]
  },
  {
   "cell_type": "code",
   "execution_count": 41,
   "metadata": {
    "collapsed": true
   },
   "outputs": [],
   "source": [
    "training_merged.to_pickle('my_data/TrainingMerged.pickle')"
   ]
  },
  {
   "cell_type": "code",
   "execution_count": 52,
   "metadata": {
    "collapsed": false
   },
   "outputs": [
    {
     "data": {
      "text/plain": [
       "83"
      ]
     },
     "execution_count": 52,
     "metadata": {},
     "output_type": "execute_result"
    }
   ],
   "source": [
    "gc.collect()"
   ]
  },
  {
   "cell_type": "markdown",
   "metadata": {},
   "source": [
    "Doesn't seem like we need to rescale traffics based on distributions"
   ]
  },
  {
   "cell_type": "code",
   "execution_count": 86,
   "metadata": {
    "collapsed": false
   },
   "outputs": [
    {
     "name": "stdout",
     "output_type": "stream",
     "text": [
      "0.00704225352113\n"
     ]
    },
    {
     "data": {
      "text/plain": [
       "0.7500000000000009"
      ]
     },
     "execution_count": 86,
     "metadata": {},
     "output_type": "execute_result"
    }
   ],
   "source": [
    "price_step = 1 / 142.\n",
    "print price_step\n",
    "price_bucket_ranges = zip(buckets, buckets[1:])\n",
    "def convert(num, bucket_ranges=price_bucket_ranges, step=price_step):\n",
    "    \"\"\"go from 0..1 to larger\"\"\"\n",
    "    cumsum = 0\n",
    "    for low, high in bucket_ranges:\n",
    "        if cumsum <= num < cumsum + step:\n",
    "            t = (num - cumsum) / step\n",
    "            return (1 - t) * low + t * high\n",
    "        cumsum += step\n",
    "    t = (num - (cumsum - step)) / step\n",
    "    return (1 - t) * low + t * high\n",
    "\n",
    "def reverse_convert(num, bucket_ranges=price_bucket_ranges, step=price_step):\n",
    "    \"\"\"go from larger to 0..1\"\"\"\n",
    "    # Binary search, because I couldn't spend time to figure it out properly... oh well\n",
    "    fn = lambda x: convert(x, bucket_ranges=bucket_ranges, step=step)\n",
    "    high, low = 0., 1.\n",
    "    for __ in xrange(50):\n",
    "        mid = (high + low) / 2.\n",
    "        result = fn(mid)\n",
    "        if fn(mid) > num:\n",
    "            low = mid\n",
    "        else:\n",
    "            high = mid\n",
    "    return mid\n",
    "reverse_convert(1087.7000000000012)"
   ]
  },
  {
   "cell_type": "code",
   "execution_count": 85,
   "metadata": {
    "collapsed": false
   },
   "outputs": [
    {
     "data": {
      "text/plain": [
       "1087.7000000000012"
      ]
     },
     "execution_count": 85,
     "metadata": {},
     "output_type": "execute_result"
    }
   ],
   "source": [
    "convert(0.75)"
   ]
  }
 ],
 "metadata": {
  "kernelspec": {
   "display_name": "Python 2",
   "language": "python",
   "name": "python2"
  },
  "language_info": {
   "codemirror_mode": {
    "name": "ipython",
    "version": 2
   },
   "file_extension": ".py",
   "mimetype": "text/x-python",
   "name": "python",
   "nbconvert_exporter": "python",
   "pygments_lexer": "ipython2",
   "version": "2.7.11"
  }
 },
 "nbformat": 4,
 "nbformat_minor": 0
}
