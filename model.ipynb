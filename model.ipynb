{
 "cells": [
  {
   "cell_type": "code",
   "execution_count": 31,
   "metadata": {
    "collapsed": false,
    "scrolled": false
   },
   "outputs": [],
   "source": [
    "from keras.models import Sequential\n",
    "from keras.layers.core import Dense, Activation\n",
    "from keras.regularizers import l2, activity_l2\n",
    "import numpy as np"
   ]
  },
  {
   "cell_type": "code",
   "execution_count": 2,
   "metadata": {
    "collapsed": false
   },
   "outputs": [],
   "source": [
    "#data, prices = [], []\n",
    "#with open('my_data/validation2.csv', 'r') as f:\n",
    "    #for split_line in (map(float, line.strip().split(',')) for line in f):\n",
    "    #    data.append(np.array(split_line[:-1]))\n",
    "    #    prices.append(split_line[-1])\n",
    "validation = np.loadtxt('my_data/validation2.csv', delimiter=',')   "
   ]
  },
  {
   "cell_type": "code",
   "execution_count": 3,
   "metadata": {
    "collapsed": false
   },
   "outputs": [],
   "source": [
    "np_prices = validation[:,-1]\n",
    "np_data = validation[:,:-1]\n",
    "del validation"
   ]
  },
  {
   "cell_type": "code",
   "execution_count": 4,
   "metadata": {
    "collapsed": false
   },
   "outputs": [],
   "source": [
    "np_prices = np_prices.reshape((len(np_prices), 1))"
   ]
  },
  {
   "cell_type": "code",
   "execution_count": 32,
   "metadata": {
    "collapsed": false
   },
   "outputs": [],
   "source": [
    "model = Sequential()\n",
    "model.add(Dense(output_dim=1000, input_dim=660, W_regularizer=l2(0.01), activity_regularizer=activity_l2(0.01)))\n",
    "model.add(Activation('sigmoid'))\n",
    "model.add(Dense(output_dim=100, W_regularizer=l2(0.01), activity_regularizer=activity_l2(0.01)))\n",
    "model.add(Activation('sigmoid'))\n",
    "model.add(Dense(output_dim=1))\n",
    "model.add(Activation('linear'))\n",
    "model.compile(loss='mae', optimizer='adagrad')"
   ]
  },
  {
   "cell_type": "code",
   "execution_count": 34,
   "metadata": {
    "collapsed": false
   },
   "outputs": [
    {
     "name": "stdout",
     "output_type": "stream",
     "text": [
      "Train on 488896 samples, validate on 54322 samples\n",
      "Epoch 1/5\n",
      "488896/488896 [==============================] - 153s - loss: 0.2927 - val_loss: 0.2377\n",
      "Epoch 2/5\n",
      "488896/488896 [==============================] - 151s - loss: 0.2469 - val_loss: 0.2584\n",
      "Epoch 3/5\n",
      "488896/488896 [==============================] - 155s - loss: 0.2453 - val_loss: 0.2407\n",
      "Epoch 4/5\n",
      "488896/488896 [==============================] - 159s - loss: 0.2447 - val_loss: 0.2391\n",
      "Epoch 5/5\n",
      "488896/488896 [==============================] - 156s - loss: 0.2445 - val_loss: 0.2396\n"
     ]
    }
   ],
   "source": [
    "hist = model.fit(np_data, np_prices, nb_epoch=5, batch_size=128, validation_split=0.1, verbose=1,)"
   ]
  },
  {
   "cell_type": "code",
   "execution_count": 35,
   "metadata": {
    "collapsed": false
   },
   "outputs": [
    {
     "name": "stdout",
     "output_type": "stream",
     "text": [
      "Train on 488896 samples, validate on 54322 samples\n",
      "Epoch 1/5\n",
      " 95072/488896 [====>.........................] - ETA: 1275s - loss: 0.2555"
     ]
    },
    {
     "ename": "KeyboardInterrupt",
     "evalue": "",
     "output_type": "error",
     "traceback": [
      "\u001b[1;31m---------------------------------------------------------------------------\u001b[0m",
      "\u001b[1;31mKeyboardInterrupt\u001b[0m                         Traceback (most recent call last)",
      "\u001b[1;32m<ipython-input-35-a51a68ecb0fc>\u001b[0m in \u001b[0;36m<module>\u001b[1;34m()\u001b[0m\n\u001b[1;32m----> 1\u001b[1;33m \u001b[0mhist\u001b[0m \u001b[1;33m=\u001b[0m \u001b[0mmodel\u001b[0m\u001b[1;33m.\u001b[0m\u001b[0mfit\u001b[0m\u001b[1;33m(\u001b[0m\u001b[0mnp_data\u001b[0m\u001b[1;33m,\u001b[0m \u001b[0mnp_prices\u001b[0m\u001b[1;33m,\u001b[0m \u001b[0mnb_epoch\u001b[0m\u001b[1;33m=\u001b[0m\u001b[1;36m5\u001b[0m\u001b[1;33m,\u001b[0m \u001b[0mbatch_size\u001b[0m\u001b[1;33m=\u001b[0m\u001b[1;36m8\u001b[0m\u001b[1;33m,\u001b[0m \u001b[0mvalidation_split\u001b[0m\u001b[1;33m=\u001b[0m\u001b[1;36m0.1\u001b[0m\u001b[1;33m,\u001b[0m \u001b[0mverbose\u001b[0m\u001b[1;33m=\u001b[0m\u001b[1;36m1\u001b[0m\u001b[1;33m,\u001b[0m\u001b[1;33m)\u001b[0m\u001b[1;33m\u001b[0m\u001b[0m\n\u001b[0m",
      "\u001b[1;32mI:\\Users\\Chase Stevens\\Anaconda\\lib\\site-packages\\keras\\models.pyc\u001b[0m in \u001b[0;36mfit\u001b[1;34m(self, X, y, batch_size, nb_epoch, verbose, callbacks, validation_split, validation_data, shuffle, show_accuracy, class_weight, sample_weight)\u001b[0m\n\u001b[0;32m    644\u001b[0m                          \u001b[0mverbose\u001b[0m\u001b[1;33m=\u001b[0m\u001b[0mverbose\u001b[0m\u001b[1;33m,\u001b[0m \u001b[0mcallbacks\u001b[0m\u001b[1;33m=\u001b[0m\u001b[0mcallbacks\u001b[0m\u001b[1;33m,\u001b[0m\u001b[1;33m\u001b[0m\u001b[0m\n\u001b[0;32m    645\u001b[0m                          \u001b[0mval_f\u001b[0m\u001b[1;33m=\u001b[0m\u001b[0mval_f\u001b[0m\u001b[1;33m,\u001b[0m \u001b[0mval_ins\u001b[0m\u001b[1;33m=\u001b[0m\u001b[0mval_ins\u001b[0m\u001b[1;33m,\u001b[0m\u001b[1;33m\u001b[0m\u001b[0m\n\u001b[1;32m--> 646\u001b[1;33m                          shuffle=shuffle, metrics=metrics)\n\u001b[0m\u001b[0;32m    647\u001b[0m \u001b[1;33m\u001b[0m\u001b[0m\n\u001b[0;32m    648\u001b[0m     \u001b[1;32mdef\u001b[0m \u001b[0mpredict\u001b[0m\u001b[1;33m(\u001b[0m\u001b[0mself\u001b[0m\u001b[1;33m,\u001b[0m \u001b[0mX\u001b[0m\u001b[1;33m,\u001b[0m \u001b[0mbatch_size\u001b[0m\u001b[1;33m=\u001b[0m\u001b[1;36m128\u001b[0m\u001b[1;33m,\u001b[0m \u001b[0mverbose\u001b[0m\u001b[1;33m=\u001b[0m\u001b[1;36m0\u001b[0m\u001b[1;33m)\u001b[0m\u001b[1;33m:\u001b[0m\u001b[1;33m\u001b[0m\u001b[0m\n",
      "\u001b[1;32mI:\\Users\\Chase Stevens\\Anaconda\\lib\\site-packages\\keras\\models.pyc\u001b[0m in \u001b[0;36m_fit\u001b[1;34m(self, f, ins, out_labels, batch_size, nb_epoch, verbose, callbacks, val_f, val_ins, shuffle, metrics)\u001b[0m\n\u001b[0;32m    278\u001b[0m                 \u001b[0mbatch_logs\u001b[0m\u001b[1;33m[\u001b[0m\u001b[1;34m'size'\u001b[0m\u001b[1;33m]\u001b[0m \u001b[1;33m=\u001b[0m \u001b[0mlen\u001b[0m\u001b[1;33m(\u001b[0m\u001b[0mbatch_ids\u001b[0m\u001b[1;33m)\u001b[0m\u001b[1;33m\u001b[0m\u001b[0m\n\u001b[0;32m    279\u001b[0m                 \u001b[0mcallbacks\u001b[0m\u001b[1;33m.\u001b[0m\u001b[0mon_batch_begin\u001b[0m\u001b[1;33m(\u001b[0m\u001b[0mbatch_index\u001b[0m\u001b[1;33m,\u001b[0m \u001b[0mbatch_logs\u001b[0m\u001b[1;33m)\u001b[0m\u001b[1;33m\u001b[0m\u001b[0m\n\u001b[1;32m--> 280\u001b[1;33m                 \u001b[0mouts\u001b[0m \u001b[1;33m=\u001b[0m \u001b[0mf\u001b[0m\u001b[1;33m(\u001b[0m\u001b[0mins_batch\u001b[0m\u001b[1;33m)\u001b[0m\u001b[1;33m\u001b[0m\u001b[0m\n\u001b[0m\u001b[0;32m    281\u001b[0m                 \u001b[1;32mif\u001b[0m \u001b[0mtype\u001b[0m\u001b[1;33m(\u001b[0m\u001b[0mouts\u001b[0m\u001b[1;33m)\u001b[0m \u001b[1;33m!=\u001b[0m \u001b[0mlist\u001b[0m\u001b[1;33m:\u001b[0m\u001b[1;33m\u001b[0m\u001b[0m\n\u001b[0;32m    282\u001b[0m                     \u001b[0mouts\u001b[0m \u001b[1;33m=\u001b[0m \u001b[1;33m[\u001b[0m\u001b[0mouts\u001b[0m\u001b[1;33m]\u001b[0m\u001b[1;33m\u001b[0m\u001b[0m\n",
      "\u001b[1;32mI:\\Users\\Chase Stevens\\Anaconda\\lib\\site-packages\\keras\\backend\\theano_backend.pyc\u001b[0m in \u001b[0;36m__call__\u001b[1;34m(self, inputs)\u001b[0m\n\u001b[0;32m    382\u001b[0m     \u001b[1;32mdef\u001b[0m \u001b[0m__call__\u001b[0m\u001b[1;33m(\u001b[0m\u001b[0mself\u001b[0m\u001b[1;33m,\u001b[0m \u001b[0minputs\u001b[0m\u001b[1;33m)\u001b[0m\u001b[1;33m:\u001b[0m\u001b[1;33m\u001b[0m\u001b[0m\n\u001b[0;32m    383\u001b[0m         \u001b[1;32massert\u001b[0m \u001b[0mtype\u001b[0m\u001b[1;33m(\u001b[0m\u001b[0minputs\u001b[0m\u001b[1;33m)\u001b[0m \u001b[1;32min\u001b[0m \u001b[1;33m{\u001b[0m\u001b[0mlist\u001b[0m\u001b[1;33m,\u001b[0m \u001b[0mtuple\u001b[0m\u001b[1;33m}\u001b[0m\u001b[1;33m\u001b[0m\u001b[0m\n\u001b[1;32m--> 384\u001b[1;33m         \u001b[1;32mreturn\u001b[0m \u001b[0mself\u001b[0m\u001b[1;33m.\u001b[0m\u001b[0mfunction\u001b[0m\u001b[1;33m(\u001b[0m\u001b[1;33m*\u001b[0m\u001b[0minputs\u001b[0m\u001b[1;33m)\u001b[0m\u001b[1;33m\u001b[0m\u001b[0m\n\u001b[0m\u001b[0;32m    385\u001b[0m \u001b[1;33m\u001b[0m\u001b[0m\n\u001b[0;32m    386\u001b[0m \u001b[1;33m\u001b[0m\u001b[0m\n",
      "\u001b[1;32mI:\\Users\\Chase Stevens\\Anaconda\\lib\\site-packages\\theano\\compile\\function_module.pyc\u001b[0m in \u001b[0;36m__call__\u001b[1;34m(self, *args, **kwargs)\u001b[0m\n\u001b[0;32m    857\u001b[0m         \u001b[0mt0_fn\u001b[0m \u001b[1;33m=\u001b[0m \u001b[0mtime\u001b[0m\u001b[1;33m.\u001b[0m\u001b[0mtime\u001b[0m\u001b[1;33m(\u001b[0m\u001b[1;33m)\u001b[0m\u001b[1;33m\u001b[0m\u001b[0m\n\u001b[0;32m    858\u001b[0m         \u001b[1;32mtry\u001b[0m\u001b[1;33m:\u001b[0m\u001b[1;33m\u001b[0m\u001b[0m\n\u001b[1;32m--> 859\u001b[1;33m             \u001b[0moutputs\u001b[0m \u001b[1;33m=\u001b[0m \u001b[0mself\u001b[0m\u001b[1;33m.\u001b[0m\u001b[0mfn\u001b[0m\u001b[1;33m(\u001b[0m\u001b[1;33m)\u001b[0m\u001b[1;33m\u001b[0m\u001b[0m\n\u001b[0m\u001b[0;32m    860\u001b[0m         \u001b[1;32mexcept\u001b[0m \u001b[0mException\u001b[0m\u001b[1;33m:\u001b[0m\u001b[1;33m\u001b[0m\u001b[0m\n\u001b[0;32m    861\u001b[0m             \u001b[1;32mif\u001b[0m \u001b[0mhasattr\u001b[0m\u001b[1;33m(\u001b[0m\u001b[0mself\u001b[0m\u001b[1;33m.\u001b[0m\u001b[0mfn\u001b[0m\u001b[1;33m,\u001b[0m \u001b[1;34m'position_of_error'\u001b[0m\u001b[1;33m)\u001b[0m\u001b[1;33m:\u001b[0m\u001b[1;33m\u001b[0m\u001b[0m\n",
      "\u001b[1;31mKeyboardInterrupt\u001b[0m: "
     ]
    }
   ],
   "source": [
    "hist = model.fit(np_data, np_prices, nb_epoch=5, batch_size=8, validation_split=0.1, verbose=1,)"
   ]
  },
  {
   "cell_type": "code",
   "execution_count": 36,
   "metadata": {
    "collapsed": false
   },
   "outputs": [],
   "source": [
    "with open('model.json', 'w') as f:\n",
    "    f.write(model.to_json())"
   ]
  },
  {
   "cell_type": "code",
   "execution_count": 37,
   "metadata": {
    "collapsed": true
   },
   "outputs": [],
   "source": [
    "model.save_weights('model.weights', overwrite=True)"
   ]
  },
  {
   "cell_type": "code",
   "execution_count": 38,
   "metadata": {
    "collapsed": false
   },
   "outputs": [],
   "source": [
    "try:\n",
    "    test\n",
    "except NameError:\n",
    "    test = np.loadtxt('my_data/test_small.csv', delimiter=',')\n",
    "    test_prices = test[:,-1]\n",
    "    test_data = test[:,:-1]\n",
    "    del test\n",
    "    test_prices = test_prices.reshape((10000, 1))"
   ]
  },
  {
   "cell_type": "code",
   "execution_count": 39,
   "metadata": {
    "collapsed": false
   },
   "outputs": [],
   "source": [
    "predictions, = model.predict_on_batch(test_data)"
   ]
  },
  {
   "cell_type": "code",
   "execution_count": 40,
   "metadata": {
    "collapsed": false
   },
   "outputs": [
    {
     "data": {
      "text/plain": [
       "array([[ 0.41426024],\n",
       "       [ 0.41540918],\n",
       "       [ 0.41463795],\n",
       "       ..., \n",
       "       [ 0.41419145],\n",
       "       [ 0.41542551],\n",
       "       [ 0.41139224]], dtype=float32)"
      ]
     },
     "execution_count": 40,
     "metadata": {},
     "output_type": "execute_result"
    }
   ],
   "source": [
    "predictions"
   ]
  },
  {
   "cell_type": "code",
   "execution_count": 41,
   "metadata": {
    "collapsed": false
   },
   "outputs": [
    {
     "data": {
      "text/plain": [
       "array([[ 0.47729492],\n",
       "       [ 0.11938477],\n",
       "       [ 0.5793457 ],\n",
       "       ..., \n",
       "       [ 0.89135742],\n",
       "       [ 0.85375977],\n",
       "       [ 0.17797852]])"
      ]
     },
     "execution_count": 41,
     "metadata": {},
     "output_type": "execute_result"
    }
   ],
   "source": [
    "test_prices"
   ]
  },
  {
   "cell_type": "code",
   "execution_count": 42,
   "metadata": {
    "collapsed": true
   },
   "outputs": [],
   "source": [
    "import itertools\n",
    "BINS = {}\n",
    "BINS['PRICE'] = (\n",
    "    0.0, 42.18, 54.600000000000001, 65.359999999999999, \n",
    "    75.280000000000001, 84.540000000000006, 93.620000000000005, \n",
    "    101.38, 109.23, 117.3, 124.98, 132.22, 139.58000000000001, \n",
    "    145.97999999999999, 151.97999999999999, 158.28999999999999, \n",
    "    163.84999999999999, 169.80000000000001, 174.24000000000001, \n",
    "    179.97999999999999, 185.36000000000001, 190.19, 195.62, \n",
    "    199.97999999999999, 204.97999999999999, 209.97999999999999, \n",
    "    215.34, 219.97999999999999, 225.08000000000001, 229.97999999999999, \n",
    "    235.36000000000001, 239.97999999999999, 245.40000000000001, 250.0, \n",
    "    256.05000000000001, 260.98000000000002, 268.86000000000001, 273.87, \n",
    "    279.98000000000002, 287.75999999999999, 294.49000000000001, \n",
    "    300.98000000000002, 309.98000000000002, 319.26999999999998, \n",
    "    326.98000000000002, 335.69, 343.48000000000002, 353.5, \n",
    "    362.98000000000002, 374.48000000000002, 385.13999999999999, \n",
    "    397.82999999999998, 409.98000000000002, 423.30000000000001, \n",
    "    437.98000000000002, 451.60000000000002, 466.51999999999998, 480.87, \n",
    "    496.33999999999997, 510.24000000000001, 526.02999999999997, \n",
    "    539.98000000000002, 550.28999999999996, 568.98000000000002, \n",
    "    579.98000000000002, 599.46000000000004, 612.47000000000003, \n",
    "    629.98000000000002, 648.98000000000002, 664.0, 679.98000000000002, \n",
    "    699.09000000000003, 709.98000000000002, 727.07000000000005, \n",
    "    739.98000000000002, 756.72000000000003, 769.98000000000002, \n",
    "    786.98000000000002, 799.98000000000002, 810.92999999999995, \n",
    "    825.08000000000004, 833.80999999999995, 848.0, 856.07000000000005, \n",
    "    867.98000000000002, 874.73000000000002, 886.16999999999996, \n",
    "    896.10000000000002, 902.10000000000002, 909.98000000000002, \n",
    "    919.98000000000002, 929.98000000000002, 939.98000000000002, \n",
    "    949.98000000000002, 959.98000000000002, 969.98000000000002, \n",
    "    979.98000000000002, 989.98000000000002, 999.98000000000002, 1009.98, \n",
    "    1019.98, 1029.98, 1039.98, 1049.98, 1061.98, 1073.29, 1081.23, \n",
    "    1091.98, 1103.5, 1115.98, 1127.98, 1138.49, 1149.98, 1161.98, \n",
    "    1175.98, 1188.98, 1199.98, 1216.4300000000001, 1229.98, 1245.98, \n",
    "    1259.98, 1277.0899999999999, 1289.98, 1307.98, 1319.98, 1339.98, \n",
    "    1359.98, 1379.98, 1399.98, 1419.98, 1440.98, 1462.98, 1489.98, \n",
    "    1519.98, 1554.98, 1589.98, 1639.98, 1699.98, 1778.98, 1886.98, \n",
    "    2052.98, 10099.838400000001)\n",
    "def convert(num, buckets, bucket_ranges=None,):\n",
    "    \"\"\"go from 0..1 to larger\"\"\"\n",
    "    buckets = tuple(buckets)\n",
    "    if bucket_ranges is None:\n",
    "        bucket_ranges = itertools.izip(buckets, buckets[1:])\n",
    "    step = 1 / float(len(buckets))\n",
    "    cumsum = 0\n",
    "    for low, high in bucket_ranges:\n",
    "        if cumsum <= num < cumsum + step:\n",
    "            t = (num - cumsum) / step\n",
    "            return (1 - t) * low + t * high\n",
    "        cumsum += step\n",
    "    t = (num - (cumsum - step)) / step\n",
    "    return (1 - t) * low + t * high"
   ]
  },
  {
   "cell_type": "code",
   "execution_count": 43,
   "metadata": {
    "collapsed": false
   },
   "outputs": [
    {
     "name": "stdout",
     "output_type": "stream",
     "text": [
      "0.0261\n"
     ]
    }
   ],
   "source": [
    "good_count = 0\n",
    "total = 0\n",
    "price_bins = BINS['PRICE']\n",
    "bucket_ranges = zip(price_bins, price_bins[1:])\n",
    "for (predicted,), (actual,) in itertools.izip(predictions, test_prices):\n",
    "    p = convert(predicted, price_bins, bucket_ranges)\n",
    "    a = convert(actual, price_bins, bucket_ranges)\n",
    "    if abs(p - a) <= (0.05 * a):\n",
    "        good_count += 1\n",
    "    total += 1\n",
    "print float(good_count) / total"
   ]
  },
  {
   "cell_type": "code",
   "execution_count": null,
   "metadata": {
    "collapsed": false
   },
   "outputs": [],
   "source": []
  }
 ],
 "metadata": {
  "kernelspec": {
   "display_name": "Python 2",
   "language": "python",
   "name": "python2"
  },
  "language_info": {
   "codemirror_mode": {
    "name": "ipython",
    "version": 2
   },
   "file_extension": ".py",
   "mimetype": "text/x-python",
   "name": "python",
   "nbconvert_exporter": "python",
   "pygments_lexer": "ipython2",
   "version": "2.7.11"
  }
 },
 "nbformat": 4,
 "nbformat_minor": 0
}
