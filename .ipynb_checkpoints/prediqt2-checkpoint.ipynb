{
 "cells": [
  {
   "cell_type": "code",
   "execution_count": 1,
   "metadata": {
    "collapsed": true
   },
   "outputs": [],
   "source": [
    "import itertools\n",
    "from collections import Counter\n",
    "import pandas\n",
    "from matplotlib import pyplot as pl\n",
    "import numpy as np\n",
    "training_fname = 'data/PrediqtTrainData.csv'\n",
    "airports_fname = 'data/PrediqtAirports.csv'\n",
    "testing_fname = 'data/PrediqtTestDataSmall.csv'"
   ]
  },
  {
   "cell_type": "code",
   "execution_count": 2,
   "metadata": {
    "collapsed": false
   },
   "outputs": [],
   "source": [
    "training_data = pandas.read_csv(training_fname)"
   ]
  },
  {
   "cell_type": "code",
   "execution_count": 3,
   "metadata": {
    "collapsed": false,
    "scrolled": true
   },
   "outputs": [],
   "source": [
    "training_data = training_data.sort_index(by='PRICE')"
   ]
  },
  {
   "cell_type": "code",
   "execution_count": 4,
   "metadata": {
    "collapsed": false
   },
   "outputs": [],
   "source": [
    "price_counts = training_data.PRICE.value_counts(sort=False)"
   ]
  },
  {
   "cell_type": "code",
   "execution_count": 5,
   "metadata": {
    "collapsed": false
   },
   "outputs": [
    {
     "name": "stdout",
     "output_type": "stream",
     "text": [
      "[0.0, 42.18, 54.600000000000001, 65.359999999999999, 75.280000000000001, 84.540000000000006, 93.620000000000005, 101.38, 109.23, 117.3, 124.98, 132.22, 139.58000000000001, 145.97999999999999, 151.97999999999999, 158.28999999999999, 163.84999999999999, 169.80000000000001, 174.24000000000001, 179.97999999999999, 185.36000000000001, 190.19, 195.62, 199.97999999999999, 204.97999999999999, 209.97999999999999, 215.34, 219.97999999999999, 225.08000000000001, 229.97999999999999, 235.36000000000001, 239.97999999999999, 245.40000000000001, 250.0, 256.05000000000001, 260.98000000000002, 268.86000000000001, 273.87, 279.98000000000002, 287.75999999999999, 294.49000000000001, 300.98000000000002, 309.98000000000002, 319.26999999999998, 326.98000000000002, 335.69, 343.48000000000002, 353.5, 362.98000000000002, 374.48000000000002, 385.13999999999999, 397.82999999999998, 409.98000000000002, 423.30000000000001, 437.98000000000002, 451.60000000000002, 466.51999999999998, 480.87, 496.33999999999997, 510.24000000000001, 526.02999999999997, 539.98000000000002, 550.28999999999996, 568.98000000000002, 579.98000000000002, 599.46000000000004, 612.47000000000003, 629.98000000000002, 648.98000000000002, 664.0, 679.98000000000002, 699.09000000000003, 709.98000000000002, 727.07000000000005, 739.98000000000002, 756.72000000000003, 769.98000000000002, 786.98000000000002, 799.98000000000002, 810.92999999999995, 825.08000000000004, 833.80999999999995, 848.0, 856.07000000000005, 867.98000000000002, 874.73000000000002, 886.16999999999996, 896.10000000000002, 902.10000000000002, 909.98000000000002, 919.98000000000002, 929.98000000000002, 939.98000000000002, 949.98000000000002, 959.98000000000002, 969.98000000000002, 979.98000000000002, 989.98000000000002, 999.98000000000002, 1009.98, 1019.98, 1029.98, 1039.98, 1049.98, 1061.98, 1073.29, 1081.23, 1091.98, 1103.5, 1115.98, 1127.98, 1138.49, 1149.98, 1161.98, 1175.98, 1188.98, 1199.98, 1216.4300000000001, 1229.98, 1245.98, 1259.98, 1277.0899999999999, 1289.98, 1307.98, 1319.98, 1339.98, 1359.98, 1379.98, 1399.98, 1419.98, 1440.98, 1462.98, 1489.98, 1519.98, 1554.98, 1589.98, 1639.98, 1699.98, 1778.98, 1886.98, 2052.98, 10099.838400000001]\n"
     ]
    }
   ],
   "source": [
    "num_prices = len(training_data.PRICE)\n",
    "num_buckets = 150.\n",
    "buckets = [0.]\n",
    "running_total = 0\n",
    "for price, count in price_counts.sort_index().iteritems():\n",
    "    running_total += count\n",
    "    if running_total >= num_prices / num_buckets:\n",
    "        buckets.append(price)\n",
    "        running_total = 0\n",
    "buckets.append(price * 1.01)\n",
    "print buckets\n",
    "del price_counts"
   ]
  },
  {
   "cell_type": "code",
   "execution_count": 6,
   "metadata": {
    "collapsed": false,
    "scrolled": true
   },
   "outputs": [
    {
     "data": {
      "image/png": "[encoded data removed]",
      "text/plain": [
       "<matplotlib.figure.Figure at 0x5de5c390>"
      ]
     },
     "metadata": {},
     "output_type": "display_data"
    }
   ],
   "source": [
    "%matplotlib inline\n",
    "from matplotlib import pyplot as pl\n",
    "pl.plot(buckets)\n",
    "pl.show()"
   ]
  },
  {
   "cell_type": "code",
   "execution_count": 7,
   "metadata": {
    "collapsed": false
   },
   "outputs": [
    {
     "data": {
      "image/png": "[encoded data removed]",
      "text/plain": [
       "<matplotlib.figure.Figure at 0x5e26d080>"
      ]
     },
     "metadata": {},
     "output_type": "display_data"
    }
   ],
   "source": [
    "pl.hist(training_data.PRICE, num_buckets, color='black')\n",
    "pl.xlim([0, 2500])\n",
    "pl.show()"
   ]
  },
  {
   "cell_type": "code",
   "execution_count": 8,
   "metadata": {
    "collapsed": false,
    "scrolled": true
   },
   "outputs": [
    {
     "name": "stdout",
     "output_type": "stream",
     "text": [
      "26454134\n",
      "adjusting range (1, 42.18, 54.600000000000001)\n",
      "adjusting range (2, 54.600000000000001, 65.359999999999999)\n",
      "adjusting range (3, 65.359999999999999, 75.280000000000001)\n",
      "adjusting range (4, 75.280000000000001, 84.540000000000006)\n",
      "adjusting range (5, 84.540000000000006, 93.620000000000005)\n",
      "adjusting range (6, 93.620000000000005, 101.38)\n",
      "adjusting range (7, 101.38, 109.23)\n",
      "adjusting range (8, 109.23, 117.3)\n",
      "adjusting range (9, 117.3, 124.98)\n",
      "adjusting range (10, 124.98, 132.22)\n",
      "adjusting range (11, 132.22, 139.58000000000001)\n",
      "adjusting range (12, 139.58000000000001, 145.97999999999999)\n",
      "adjusting range (13, 145.97999999999999, 151.97999999999999)\n",
      "adjusting range (14, 151.97999999999999, 158.28999999999999)\n",
      "adjusting range (15, 158.28999999999999, 163.84999999999999)\n",
      "adjusting range (16, 163.84999999999999, 169.80000000000001)\n",
      "adjusting range (17, 169.80000000000001, 174.24000000000001)\n",
      "adjusting range (18, 174.24000000000001, 179.97999999999999)\n",
      "adjusting range (19, 179.97999999999999, 185.36000000000001)\n",
      "adjusting range (20, 185.36000000000001, 190.19)\n",
      "adjusting range (21, 190.19, 195.62)\n",
      "adjusting range (22, 195.62, 199.97999999999999)\n",
      "adjusting range (23, 199.97999999999999, 204.97999999999999)\n",
      "adjusting range (24, 204.97999999999999, 209.97999999999999)\n",
      "adjusting range (25, 209.97999999999999, 215.34)\n",
      "adjusting range (26, 215.34, 219.97999999999999)\n",
      "adjusting range (27, 219.97999999999999, 225.08000000000001)\n",
      "adjusting range (28, 225.08000000000001, 229.97999999999999)\n",
      "adjusting range (29, 229.97999999999999, 235.36000000000001)\n",
      "adjusting range (30, 235.36000000000001, 239.97999999999999)\n",
      "adjusting range (31, 239.97999999999999, 245.40000000000001)\n",
      "adjusting range (32, 245.40000000000001, 250.0)\n",
      "adjusting range (33, 250.0, 256.05000000000001)\n",
      "adjusting range (34, 256.05000000000001, 260.98000000000002)\n",
      "adjusting range (35, 260.98000000000002, 268.86000000000001)\n",
      "adjusting range (36, 268.86000000000001, 273.87)\n",
      "adjusting range (37, 273.87, 279.98000000000002)\n",
      "adjusting range (38, 279.98000000000002, 287.75999999999999)\n",
      "adjusting range (39, 287.75999999999999, 294.49000000000001)\n",
      "adjusting range (40, 294.49000000000001, 300.98000000000002)\n",
      "adjusting range (41, 300.98000000000002, 309.98000000000002)\n",
      "adjusting range (42, 309.98000000000002, 319.26999999999998)\n",
      "adjusting range (43, 319.26999999999998, 326.98000000000002)\n",
      "adjusting range (44, 326.98000000000002, 335.69)\n",
      "adjusting range (45, 335.69, 343.48000000000002)\n",
      "adjusting range (46, 343.48000000000002, 353.5)\n",
      "adjusting range (47, 353.5, 362.98000000000002)\n",
      "adjusting range (48, 362.98000000000002, 374.48000000000002)\n",
      "adjusting range (49, 374.48000000000002, 385.13999999999999)\n",
      "adjusting range (50, 385.13999999999999, 397.82999999999998)\n",
      "adjusting range (51, 397.82999999999998, 409.98000000000002)\n",
      "adjusting range (52, 409.98000000000002, 423.30000000000001)\n",
      "adjusting range (53, 423.30000000000001, 437.98000000000002)\n",
      "adjusting range (54, 437.98000000000002, 451.60000000000002)\n",
      "adjusting range (55, 451.60000000000002, 466.51999999999998)\n",
      "adjusting range (56, 466.51999999999998, 480.87)\n",
      "adjusting range (57, 480.87, 496.33999999999997)\n",
      "adjusting range (58, 496.33999999999997, 510.24000000000001)\n",
      "adjusting range (59, 510.24000000000001, 526.02999999999997)\n",
      "adjusting range (60, 526.02999999999997, 539.98000000000002)\n",
      "adjusting range (61, 539.98000000000002, 550.28999999999996)\n",
      "adjusting range (62, 550.28999999999996, 568.98000000000002)\n",
      "adjusting range (63, 568.98000000000002, 579.98000000000002)\n",
      "adjusting range (64, 579.98000000000002, 599.46000000000004)\n",
      "adjusting range (65, 599.46000000000004, 612.47000000000003)\n",
      "adjusting range (66, 612.47000000000003, 629.98000000000002)\n",
      "adjusting range (67, 629.98000000000002, 648.98000000000002)\n",
      "adjusting range (68, 648.98000000000002, 664.0)\n",
      "adjusting range (69, 664.0, 679.98000000000002)\n",
      "adjusting range (70, 679.98000000000002, 699.09000000000003)\n",
      "adjusting range (71, 699.09000000000003, 709.98000000000002)\n",
      "adjusting range (72, 709.98000000000002, 727.07000000000005)\n",
      "adjusting range (73, 727.07000000000005, 739.98000000000002)\n",
      "adjusting range (74, 739.98000000000002, 756.72000000000003)\n",
      "adjusting range (75, 756.72000000000003, 769.98000000000002)\n",
      "adjusting range (76, 769.98000000000002, 786.98000000000002)\n",
      "adjusting range (77, 786.98000000000002, 799.98000000000002)\n",
      "adjusting range (78, 799.98000000000002, 810.92999999999995)\n",
      "adjusting range (79, 810.92999999999995, 825.08000000000004)\n",
      "adjusting range (80, 825.08000000000004, 833.80999999999995)\n",
      "adjusting range (81, 833.80999999999995, 848.0)\n",
      "adjusting range (82, 848.0, 856.07000000000005)\n",
      "adjusting range (83, 856.07000000000005, 867.98000000000002)\n",
      "adjusting range (84, 867.98000000000002, 874.73000000000002)\n",
      "adjusting range (85, 874.73000000000002, 886.16999999999996)\n",
      "adjusting range (86, 886.16999999999996, 896.10000000000002)\n",
      "adjusting range (87, 896.10000000000002, 902.10000000000002)\n",
      "adjusting range (88, 902.10000000000002, 909.98000000000002)\n",
      "adjusting range (89, 909.98000000000002, 919.98000000000002)\n",
      "adjusting range (90, 919.98000000000002, 929.98000000000002)\n",
      "adjusting range (91, 929.98000000000002, 939.98000000000002)\n",
      "adjusting range (92, 939.98000000000002, 949.98000000000002)\n",
      "adjusting range (93, 949.98000000000002, 959.98000000000002)\n",
      "adjusting range (94, 959.98000000000002, 969.98000000000002)\n",
      "adjusting range (95, 969.98000000000002, 979.98000000000002)\n",
      "adjusting range (96, 979.98000000000002, 989.98000000000002)\n",
      "adjusting range (97, 989.98000000000002, 999.98000000000002)\n",
      "adjusting range (98, 999.98000000000002, 1009.98)\n",
      "adjusting range (99, 1009.98, 1019.98)\n",
      "adjusting range (100, 1019.98, 1029.98)\n",
      "adjusting range (101, 1029.98, 1039.98)\n",
      "adjusting range (102, 1039.98, 1049.98)\n",
      "adjusting range (103, 1049.98, 1061.98)\n",
      "adjusting range (104, 1061.98, 1073.29)\n",
      "adjusting range (105, 1073.29, 1081.23)\n",
      "adjusting range (106, 1081.23, 1091.98)\n",
      "adjusting range (107, 1091.98, 1103.5)\n",
      "adjusting range (108, 1103.5, 1115.98)\n",
      "adjusting range (109, 1115.98, 1127.98)\n",
      "adjusting range (110, 1127.98, 1138.49)\n",
      "adjusting range (111, 1138.49, 1149.98)\n",
      "adjusting range (112, 1149.98, 1161.98)\n",
      "adjusting range (113, 1161.98, 1175.98)\n",
      "adjusting range (114, 1175.98, 1188.98)\n",
      "adjusting range (115, 1188.98, 1199.98)\n",
      "adjusting range (116, 1199.98, 1216.4300000000001)\n",
      "adjusting range (117, 1216.4300000000001, 1229.98)\n",
      "adjusting range (118, 1229.98, 1245.98)\n",
      "adjusting range (119, 1245.98, 1259.98)\n",
      "adjusting range (120, 1259.98, 1277.0899999999999)\n",
      "adjusting range (121, 1277.0899999999999, 1289.98)\n",
      "adjusting range (122, 1289.98, 1307.98)\n",
      "adjusting range (123, 1307.98, 1319.98)\n",
      "adjusting range (124, 1319.98, 1339.98)\n",
      "adjusting range (125, 1339.98, 1359.98)\n",
      "adjusting range (126, 1359.98, 1379.98)\n",
      "adjusting range (127, 1379.98, 1399.98)\n",
      "adjusting range (128, 1399.98, 1419.98)\n",
      "adjusting range (129, 1419.98, 1440.98)\n",
      "adjusting range (130, 1440.98, 1462.98)\n",
      "adjusting range (131, 1462.98, 1489.98)\n",
      "adjusting range (132, 1489.98, 1519.98)\n",
      "adjusting range (133, 1519.98, 1554.98)\n",
      "adjusting range (134, 1554.98, 1589.98)\n",
      "adjusting range (135, 1589.98, 1639.98)\n",
      "adjusting range (136, 1639.98, 1699.98)\n",
      "adjusting range (137, 1699.98, 1778.98)\n",
      "adjusting range (138, 1778.98, 1886.98)\n",
      "adjusting range (139, 1886.98, 2052.98)\n",
      "adjusting range (140, 2052.98, 10099.838400000001)\n"
     ]
    }
   ],
   "source": [
    "bucket_counts = [0 for __ in xrange(int(num_buckets) + 1)]\n",
    "bucket_ranges = zip(xrange(int(num_buckets) + 1), buckets, buckets[1:])\n",
    "print len(training_data.PRICE)\n",
    "for i_, price in enumerate(training_data.PRICE):\n",
    "    for i, low, high in bucket_ranges:\n",
    "        if low <= price <= high:\n",
    "            bucket_counts[i] += 1\n",
    "            break\n",
    "    if bucket_ranges[0][-1] < price:\n",
    "        bucket_ranges = bucket_ranges[1:]\n",
    "        print 'adjusting range', bucket_ranges[0]"
   ]
  },
  {
   "cell_type": "code",
   "execution_count": 9,
   "metadata": {
    "collapsed": false
   },
   "outputs": [
    {
     "data": {
      "image/png": "[encoded data removed]",
      "text/plain": [
       "<matplotlib.figure.Figure at 0x3df83f28>"
      ]
     },
     "metadata": {},
     "output_type": "display_data"
    }
   ],
   "source": [
    "%matplotlib inline\n",
    "pl.plot(bucket_counts)\n",
    "pl.show()"
   ]
  },
  {
   "cell_type": "markdown",
   "metadata": {},
   "source": [
    "I think bucket_counts looks better than bin_counts."
   ]
  },
  {
   "cell_type": "code",
   "execution_count": 10,
   "metadata": {
    "collapsed": false,
    "scrolled": true
   },
   "outputs": [
    {
     "name": "stdout",
     "output_type": "stream",
     "text": [
      "[0.0, 42.18, 54.600000000000001, 65.359999999999999, 75.280000000000001, 84.540000000000006, 93.620000000000005, 101.38, 109.23, 117.3, 124.98, 132.22, 139.58000000000001, 145.97999999999999, 151.97999999999999, 158.28999999999999, 163.84999999999999, 169.80000000000001, 174.24000000000001, 179.97999999999999, 185.36000000000001, 190.19, 195.62, 199.97999999999999, 204.97999999999999, 209.97999999999999, 215.34, 219.97999999999999, 225.08000000000001, 229.97999999999999, 235.36000000000001, 239.97999999999999, 245.40000000000001, 250.0, 256.05000000000001, 260.98000000000002, 268.86000000000001, 273.87, 279.98000000000002, 287.75999999999999, 294.49000000000001, 300.98000000000002, 309.98000000000002, 319.26999999999998, 326.98000000000002, 335.69, 343.48000000000002, 353.5, 362.98000000000002, 374.48000000000002, 385.13999999999999, 397.82999999999998, 409.98000000000002, 423.30000000000001, 437.98000000000002, 451.60000000000002, 466.51999999999998, 480.87, 496.33999999999997, 510.24000000000001, 526.02999999999997, 539.98000000000002, 550.28999999999996, 568.98000000000002, 579.98000000000002, 599.46000000000004, 612.47000000000003, 629.98000000000002, 648.98000000000002, 664.0, 679.98000000000002, 699.09000000000003, 709.98000000000002, 727.07000000000005, 739.98000000000002, 756.72000000000003, 769.98000000000002, 786.98000000000002, 799.98000000000002, 810.92999999999995, 825.08000000000004, 833.80999999999995, 848.0, 856.07000000000005, 867.98000000000002, 874.73000000000002, 886.16999999999996, 896.10000000000002, 902.10000000000002, 909.98000000000002, 919.98000000000002, 929.98000000000002, 939.98000000000002, 949.98000000000002, 959.98000000000002, 969.98000000000002, 979.98000000000002, 989.98000000000002, 999.98000000000002, 1009.98, 1019.98, 1029.98, 1039.98, 1049.98, 1061.98, 1073.29, 1081.23, 1091.98, 1103.5, 1115.98, 1127.98, 1138.49, 1149.98, 1161.98, 1175.98, 1188.98, 1199.98, 1216.4300000000001, 1229.98, 1245.98, 1259.98, 1277.0899999999999, 1289.98, 1307.98, 1319.98, 1339.98, 1359.98, 1379.98, 1399.98, 1419.98, 1440.98, 1462.98, 1489.98, 1519.98, 1554.98, 1589.98, 1639.98, 1699.98, 1778.98, 1886.98, 2052.98, 10099.838400000001]\n"
     ]
    }
   ],
   "source": [
    "print buckets"
   ]
  },
  {
   "cell_type": "code",
   "execution_count": 11,
   "metadata": {
    "collapsed": false
   },
   "outputs": [
    {
     "data": {
      "text/plain": [
       "142"
      ]
     },
     "execution_count": 11,
     "metadata": {},
     "output_type": "execute_result"
    }
   ],
   "source": [
    "len(buckets)"
   ]
  },
  {
   "cell_type": "code",
   "execution_count": 12,
   "metadata": {
    "collapsed": false
   },
   "outputs": [
    {
     "name": "stdout",
     "output_type": "stream",
     "text": [
      "0.00704225352113\n"
     ]
    }
   ],
   "source": [
    "step = 1 / 142.\n",
    "print step\n",
    "bucket_ranges = zip(buckets, buckets[1:])\n",
    "def convert(num):\n",
    "    cumsum = 0\n",
    "    for low, high in bucket_ranges:\n",
    "        if cumsum <= num < cumsum + step:\n",
    "            t = (num - cumsum) / step\n",
    "            return (1 - t) * low + t * high\n",
    "        cumsum += step\n",
    "    t = (num - (cumsum - step)) / step\n",
    "    return (1 - t) * low + t * high"
   ]
  },
  {
   "cell_type": "code",
   "execution_count": 13,
   "metadata": {
    "collapsed": false
   },
   "outputs": [
    {
     "name": "stdout",
     "output_type": "stream",
     "text": [
      "9005.4656576\n",
      "9576.792604\n",
      "10148.1195504\n",
      "10719.4464968\n"
     ]
    }
   ],
   "source": [
    "print convert(.992)\n",
    "print convert(.9925)\n",
    "print convert(.993)\n",
    "print convert(.9935)"
   ]
  },
  {
   "cell_type": "code",
   "execution_count": 14,
   "metadata": {
    "collapsed": false
   },
   "outputs": [
    {
     "data": {
      "image/png": "[encoded data removed]",
      "text/plain": [
       "<matplotlib.figure.Figure at 0x5e278e10>"
      ]
     },
     "metadata": {},
     "output_type": "display_data"
    }
   ],
   "source": [
    "%matplotlib inline\n",
    "pl.plot([convert(i / 250.) for i in xrange(250)])\n",
    "pl.xlim([0, 200])\n",
    "pl.ylim([0, 1800])\n",
    "pl.show()"
   ]
  },
  {
   "cell_type": "code",
   "execution_count": 15,
   "metadata": {
    "collapsed": false
   },
   "outputs": [],
   "source": [
    "training_data['OUTBOUND_DATE'] = training_data['OUTBOUND_DATE'].astype('datetime64')"
   ]
  },
  {
   "cell_type": "code",
   "execution_count": 16,
   "metadata": {
    "collapsed": true
   },
   "outputs": [],
   "source": [
    "training_data['INBOUND_DATE'] = training_data['INBOUND_DATE'].astype('datetime64')"
   ]
  },
  {
   "cell_type": "code",
   "execution_count": 17,
   "metadata": {
    "collapsed": true
   },
   "outputs": [],
   "source": [
    "training_data['SEARCH_DATEHOUR'] = training_data['SEARCH_DATEHOUR'].astype('datetime64[ns]')"
   ]
  },
  {
   "cell_type": "code",
   "execution_count": 18,
   "metadata": {
    "collapsed": true
   },
   "outputs": [],
   "source": [
    "training_data['SEARCH_TO_OUTBOUND'] = training_data.OUTBOUND_DATE - training_data.SEARCH_DATEHOUR"
   ]
  },
  {
   "cell_type": "code",
   "execution_count": 19,
   "metadata": {
    "collapsed": true
   },
   "outputs": [],
   "source": [
    "training_data['SEARCH_TO_INBOUND'] = training_data.INBOUND_DATE - training_data.SEARCH_DATEHOUR"
   ]
  },
  {
   "cell_type": "code",
   "execution_count": 20,
   "metadata": {
    "collapsed": true
   },
   "outputs": [],
   "source": [
    "training_data['OUTBOUND_TO_INBOUND'] = training_data.INBOUND_DATE - training_data.OUTBOUND_DATE"
   ]
  },
  {
   "cell_type": "code",
   "execution_count": 21,
   "metadata": {
    "collapsed": true
   },
   "outputs": [],
   "source": [
    "airports_data = pandas.read_csv(airports_fname)"
   ]
  },
  {
   "cell_type": "code",
   "execution_count": 22,
   "metadata": {
    "collapsed": true
   },
   "outputs": [],
   "source": [
    "training_merged = pandas.merge(training_data, airports_data, left_on='ORIGIN', right_on='AIRPORT')\n",
    "del training_data"
   ]
  },
  {
   "cell_type": "code",
   "execution_count": 23,
   "metadata": {
    "collapsed": false
   },
   "outputs": [
    {
     "data": {
      "text/html": [
       "<div>\n",
       "<table border=\"1\" class=\"dataframe\">\n",
       "  <thead>\n",
       "    <tr style=\"text-align: right;\">\n",
       "      <th></th>\n",
       "      <th>SEARCH_DATEHOUR</th>\n",
       "      <th>ORIGIN</th>\n",
       "      <th>DESTINATION</th>\n",
       "      <th>OUTBOUND_DATE</th>\n",
       "      <th>INBOUND_DATE</th>\n",
       "      <th>PRICE</th>\n",
       "      <th>MARKETS</th>\n",
       "      <th>SEARCH_TO_OUTBOUND</th>\n",
       "      <th>SEARCH_TO_INBOUND</th>\n",
       "      <th>OUTBOUND_TO_INBOUND</th>\n",
       "      <th>CITY</th>\n",
       "      <th>COUNTRY</th>\n",
       "      <th>CONTINENT</th>\n",
       "      <th>LATITUDE</th>\n",
       "      <th>LONGITUDE</th>\n",
       "      <th>TRAFFIC</th>\n",
       "    </tr>\n",
       "  </thead>\n",
       "  <tbody>\n",
       "    <tr>\n",
       "      <th>0</th>\n",
       "      <td>2016-01-04 23:00:00</td>\n",
       "      <td>CGN</td>\n",
       "      <td>BGY</td>\n",
       "      <td>2016-03-25</td>\n",
       "      <td>2016-03-27</td>\n",
       "      <td>0.01</td>\n",
       "      <td>DE</td>\n",
       "      <td>80 days 01:00:00</td>\n",
       "      <td>82 days 01:00:00</td>\n",
       "      <td>2 days</td>\n",
       "      <td>CGN</td>\n",
       "      <td>DE</td>\n",
       "      <td>EU</td>\n",
       "      <td>50.865833</td>\n",
       "      <td>7.141944</td>\n",
       "      <td>1457815</td>\n",
       "    </tr>\n",
       "    <tr>\n",
       "      <th>1</th>\n",
       "      <td>2016-01-05 17:00:00</td>\n",
       "      <td>CGN</td>\n",
       "      <td>BGY</td>\n",
       "      <td>2016-01-12</td>\n",
       "      <td>2016-01-13</td>\n",
       "      <td>15.82</td>\n",
       "      <td>IT</td>\n",
       "      <td>6 days 07:00:00</td>\n",
       "      <td>7 days 07:00:00</td>\n",
       "      <td>1 days</td>\n",
       "      <td>CGN</td>\n",
       "      <td>DE</td>\n",
       "      <td>EU</td>\n",
       "      <td>50.865833</td>\n",
       "      <td>7.141944</td>\n",
       "      <td>1457815</td>\n",
       "    </tr>\n",
       "    <tr>\n",
       "      <th>2</th>\n",
       "      <td>2016-01-05 11:00:00</td>\n",
       "      <td>CGN</td>\n",
       "      <td>BGY</td>\n",
       "      <td>2016-01-22</td>\n",
       "      <td>2016-01-25</td>\n",
       "      <td>15.82</td>\n",
       "      <td>IT</td>\n",
       "      <td>16 days 13:00:00</td>\n",
       "      <td>19 days 13:00:00</td>\n",
       "      <td>3 days</td>\n",
       "      <td>CGN</td>\n",
       "      <td>DE</td>\n",
       "      <td>EU</td>\n",
       "      <td>50.865833</td>\n",
       "      <td>7.141944</td>\n",
       "      <td>1457815</td>\n",
       "    </tr>\n",
       "    <tr>\n",
       "      <th>3</th>\n",
       "      <td>2016-01-08 08:00:00</td>\n",
       "      <td>CGN</td>\n",
       "      <td>BGY</td>\n",
       "      <td>2016-01-28</td>\n",
       "      <td>2016-02-01</td>\n",
       "      <td>15.82</td>\n",
       "      <td>IT</td>\n",
       "      <td>19 days 16:00:00</td>\n",
       "      <td>23 days 16:00:00</td>\n",
       "      <td>4 days</td>\n",
       "      <td>CGN</td>\n",
       "      <td>DE</td>\n",
       "      <td>EU</td>\n",
       "      <td>50.865833</td>\n",
       "      <td>7.141944</td>\n",
       "      <td>1457815</td>\n",
       "    </tr>\n",
       "    <tr>\n",
       "      <th>4</th>\n",
       "      <td>2016-01-05 17:00:00</td>\n",
       "      <td>CGN</td>\n",
       "      <td>SXF</td>\n",
       "      <td>2016-01-19</td>\n",
       "      <td>2016-01-22</td>\n",
       "      <td>15.96</td>\n",
       "      <td>ES</td>\n",
       "      <td>13 days 07:00:00</td>\n",
       "      <td>16 days 07:00:00</td>\n",
       "      <td>3 days</td>\n",
       "      <td>CGN</td>\n",
       "      <td>DE</td>\n",
       "      <td>EU</td>\n",
       "      <td>50.865833</td>\n",
       "      <td>7.141944</td>\n",
       "      <td>1457815</td>\n",
       "    </tr>\n",
       "  </tbody>\n",
       "</table>\n",
       "</div>"
      ],
      "text/plain": [
       "      SEARCH_DATEHOUR ORIGIN DESTINATION OUTBOUND_DATE INBOUND_DATE  PRICE  \\\n",
       "0 2016-01-04 23:00:00    CGN         BGY    2016-03-25   2016-03-27   0.01   \n",
       "1 2016-01-05 17:00:00    CGN         BGY    2016-01-12   2016-01-13  15.82   \n",
       "2 2016-01-05 11:00:00    CGN         BGY    2016-01-22   2016-01-25  15.82   \n",
       "3 2016-01-08 08:00:00    CGN         BGY    2016-01-28   2016-02-01  15.82   \n",
       "4 2016-01-05 17:00:00    CGN         SXF    2016-01-19   2016-01-22  15.96   \n",
       "\n",
       "  MARKETS  SEARCH_TO_OUTBOUND  SEARCH_TO_INBOUND  OUTBOUND_TO_INBOUND CITY  \\\n",
       "0      DE    80 days 01:00:00   82 days 01:00:00               2 days  CGN   \n",
       "1      IT     6 days 07:00:00    7 days 07:00:00               1 days  CGN   \n",
       "2      IT    16 days 13:00:00   19 days 13:00:00               3 days  CGN   \n",
       "3      IT    19 days 16:00:00   23 days 16:00:00               4 days  CGN   \n",
       "4      ES    13 days 07:00:00   16 days 07:00:00               3 days  CGN   \n",
       "\n",
       "  COUNTRY CONTINENT   LATITUDE  LONGITUDE  TRAFFIC  \n",
       "0      DE        EU  50.865833   7.141944  1457815  \n",
       "1      DE        EU  50.865833   7.141944  1457815  \n",
       "2      DE        EU  50.865833   7.141944  1457815  \n",
       "3      DE        EU  50.865833   7.141944  1457815  \n",
       "4      DE        EU  50.865833   7.141944  1457815  "
      ]
     },
     "execution_count": 23,
     "metadata": {},
     "output_type": "execute_result"
    }
   ],
   "source": [
    "del training_merged['AIRPORT']\n",
    "training_merged.head()"
   ]
  },
  {
   "cell_type": "code",
   "execution_count": 24,
   "metadata": {
    "collapsed": true
   },
   "outputs": [],
   "source": [
    "for key in ('CITY', 'COUNTRY', 'CONTINENT', 'LATITUDE', 'LONGITUDE', 'TRAFFIC'):\n",
    "    training_merged['ORIGIN_' + key] = training_merged[key]\n",
    "    del training_merged[key]"
   ]
  },
  {
   "cell_type": "code",
   "execution_count": 25,
   "metadata": {
    "collapsed": false,
    "scrolled": true
   },
   "outputs": [
    {
     "data": {
      "text/html": [
       "<div>\n",
       "<table border=\"1\" class=\"dataframe\">\n",
       "  <thead>\n",
       "    <tr style=\"text-align: right;\">\n",
       "      <th></th>\n",
       "      <th>SEARCH_DATEHOUR</th>\n",
       "      <th>ORIGIN</th>\n",
       "      <th>DESTINATION</th>\n",
       "      <th>OUTBOUND_DATE</th>\n",
       "      <th>INBOUND_DATE</th>\n",
       "      <th>PRICE</th>\n",
       "      <th>MARKETS</th>\n",
       "      <th>SEARCH_TO_OUTBOUND</th>\n",
       "      <th>SEARCH_TO_INBOUND</th>\n",
       "      <th>OUTBOUND_TO_INBOUND</th>\n",
       "      <th>...</th>\n",
       "      <th>ORIGIN_CONTINENT</th>\n",
       "      <th>ORIGIN_LATITUDE</th>\n",
       "      <th>ORIGIN_LONGITUDE</th>\n",
       "      <th>ORIGIN_TRAFFIC</th>\n",
       "      <th>DESTINATION_CITY</th>\n",
       "      <th>DESTINATION_COUNTRY</th>\n",
       "      <th>DESTINATION_CONTINENT</th>\n",
       "      <th>DESTINATION_LATITUDE</th>\n",
       "      <th>DESTINATION_LONGITUDE</th>\n",
       "      <th>DESTINATION_TRAFFIC</th>\n",
       "    </tr>\n",
       "  </thead>\n",
       "  <tbody>\n",
       "    <tr>\n",
       "      <th>0</th>\n",
       "      <td>2016-01-04 23:00:00</td>\n",
       "      <td>CGN</td>\n",
       "      <td>BGY</td>\n",
       "      <td>2016-03-25</td>\n",
       "      <td>2016-03-27</td>\n",
       "      <td>0.01</td>\n",
       "      <td>DE</td>\n",
       "      <td>80 days 01:00:00</td>\n",
       "      <td>82 days 01:00:00</td>\n",
       "      <td>2 days</td>\n",
       "      <td>...</td>\n",
       "      <td>EU</td>\n",
       "      <td>50.865833</td>\n",
       "      <td>7.141944</td>\n",
       "      <td>1457815</td>\n",
       "      <td>MIL</td>\n",
       "      <td>IT</td>\n",
       "      <td>EU</td>\n",
       "      <td>45.668333</td>\n",
       "      <td>9.700278</td>\n",
       "      <td>2175706</td>\n",
       "    </tr>\n",
       "    <tr>\n",
       "      <th>1</th>\n",
       "      <td>2016-01-05 17:00:00</td>\n",
       "      <td>CGN</td>\n",
       "      <td>BGY</td>\n",
       "      <td>2016-01-12</td>\n",
       "      <td>2016-01-13</td>\n",
       "      <td>15.82</td>\n",
       "      <td>IT</td>\n",
       "      <td>6 days 07:00:00</td>\n",
       "      <td>7 days 07:00:00</td>\n",
       "      <td>1 days</td>\n",
       "      <td>...</td>\n",
       "      <td>EU</td>\n",
       "      <td>50.865833</td>\n",
       "      <td>7.141944</td>\n",
       "      <td>1457815</td>\n",
       "      <td>MIL</td>\n",
       "      <td>IT</td>\n",
       "      <td>EU</td>\n",
       "      <td>45.668333</td>\n",
       "      <td>9.700278</td>\n",
       "      <td>2175706</td>\n",
       "    </tr>\n",
       "    <tr>\n",
       "      <th>2</th>\n",
       "      <td>2016-01-05 11:00:00</td>\n",
       "      <td>CGN</td>\n",
       "      <td>BGY</td>\n",
       "      <td>2016-01-22</td>\n",
       "      <td>2016-01-25</td>\n",
       "      <td>15.82</td>\n",
       "      <td>IT</td>\n",
       "      <td>16 days 13:00:00</td>\n",
       "      <td>19 days 13:00:00</td>\n",
       "      <td>3 days</td>\n",
       "      <td>...</td>\n",
       "      <td>EU</td>\n",
       "      <td>50.865833</td>\n",
       "      <td>7.141944</td>\n",
       "      <td>1457815</td>\n",
       "      <td>MIL</td>\n",
       "      <td>IT</td>\n",
       "      <td>EU</td>\n",
       "      <td>45.668333</td>\n",
       "      <td>9.700278</td>\n",
       "      <td>2175706</td>\n",
       "    </tr>\n",
       "    <tr>\n",
       "      <th>3</th>\n",
       "      <td>2016-01-08 08:00:00</td>\n",
       "      <td>CGN</td>\n",
       "      <td>BGY</td>\n",
       "      <td>2016-01-28</td>\n",
       "      <td>2016-02-01</td>\n",
       "      <td>15.82</td>\n",
       "      <td>IT</td>\n",
       "      <td>19 days 16:00:00</td>\n",
       "      <td>23 days 16:00:00</td>\n",
       "      <td>4 days</td>\n",
       "      <td>...</td>\n",
       "      <td>EU</td>\n",
       "      <td>50.865833</td>\n",
       "      <td>7.141944</td>\n",
       "      <td>1457815</td>\n",
       "      <td>MIL</td>\n",
       "      <td>IT</td>\n",
       "      <td>EU</td>\n",
       "      <td>45.668333</td>\n",
       "      <td>9.700278</td>\n",
       "      <td>2175706</td>\n",
       "    </tr>\n",
       "    <tr>\n",
       "      <th>4</th>\n",
       "      <td>2016-01-08 15:00:00</td>\n",
       "      <td>CGN</td>\n",
       "      <td>BGY</td>\n",
       "      <td>2016-01-24</td>\n",
       "      <td>2016-01-25</td>\n",
       "      <td>15.98</td>\n",
       "      <td>IT</td>\n",
       "      <td>15 days 09:00:00</td>\n",
       "      <td>16 days 09:00:00</td>\n",
       "      <td>1 days</td>\n",
       "      <td>...</td>\n",
       "      <td>EU</td>\n",
       "      <td>50.865833</td>\n",
       "      <td>7.141944</td>\n",
       "      <td>1457815</td>\n",
       "      <td>MIL</td>\n",
       "      <td>IT</td>\n",
       "      <td>EU</td>\n",
       "      <td>45.668333</td>\n",
       "      <td>9.700278</td>\n",
       "      <td>2175706</td>\n",
       "    </tr>\n",
       "  </tbody>\n",
       "</table>\n",
       "<p>5 rows × 22 columns</p>\n",
       "</div>"
      ],
      "text/plain": [
       "      SEARCH_DATEHOUR ORIGIN DESTINATION OUTBOUND_DATE INBOUND_DATE  PRICE  \\\n",
       "0 2016-01-04 23:00:00    CGN         BGY    2016-03-25   2016-03-27   0.01   \n",
       "1 2016-01-05 17:00:00    CGN         BGY    2016-01-12   2016-01-13  15.82   \n",
       "2 2016-01-05 11:00:00    CGN         BGY    2016-01-22   2016-01-25  15.82   \n",
       "3 2016-01-08 08:00:00    CGN         BGY    2016-01-28   2016-02-01  15.82   \n",
       "4 2016-01-08 15:00:00    CGN         BGY    2016-01-24   2016-01-25  15.98   \n",
       "\n",
       "  MARKETS  SEARCH_TO_OUTBOUND  SEARCH_TO_INBOUND  OUTBOUND_TO_INBOUND  \\\n",
       "0      DE    80 days 01:00:00   82 days 01:00:00               2 days   \n",
       "1      IT     6 days 07:00:00    7 days 07:00:00               1 days   \n",
       "2      IT    16 days 13:00:00   19 days 13:00:00               3 days   \n",
       "3      IT    19 days 16:00:00   23 days 16:00:00               4 days   \n",
       "4      IT    15 days 09:00:00   16 days 09:00:00               1 days   \n",
       "\n",
       "          ...          ORIGIN_CONTINENT ORIGIN_LATITUDE ORIGIN_LONGITUDE  \\\n",
       "0         ...                        EU       50.865833         7.141944   \n",
       "1         ...                        EU       50.865833         7.141944   \n",
       "2         ...                        EU       50.865833         7.141944   \n",
       "3         ...                        EU       50.865833         7.141944   \n",
       "4         ...                        EU       50.865833         7.141944   \n",
       "\n",
       "   ORIGIN_TRAFFIC  DESTINATION_CITY  DESTINATION_COUNTRY  \\\n",
       "0         1457815               MIL                   IT   \n",
       "1         1457815               MIL                   IT   \n",
       "2         1457815               MIL                   IT   \n",
       "3         1457815               MIL                   IT   \n",
       "4         1457815               MIL                   IT   \n",
       "\n",
       "  DESTINATION_CONTINENT DESTINATION_LATITUDE DESTINATION_LONGITUDE  \\\n",
       "0                    EU            45.668333              9.700278   \n",
       "1                    EU            45.668333              9.700278   \n",
       "2                    EU            45.668333              9.700278   \n",
       "3                    EU            45.668333              9.700278   \n",
       "4                    EU            45.668333              9.700278   \n",
       "\n",
       "   DESTINATION_TRAFFIC  \n",
       "0              2175706  \n",
       "1              2175706  \n",
       "2              2175706  \n",
       "3              2175706  \n",
       "4              2175706  \n",
       "\n",
       "[5 rows x 22 columns]"
      ]
     },
     "execution_count": 25,
     "metadata": {},
     "output_type": "execute_result"
    }
   ],
   "source": [
    "training_merged = pandas.merge(training_merged, airports_data, left_on='DESTINATION', right_on='AIRPORT')\n",
    "del training_merged['AIRPORT']\n",
    "for key in ('CITY', 'COUNTRY', 'CONTINENT', 'LATITUDE', 'LONGITUDE', 'TRAFFIC'):\n",
    "    training_merged['DESTINATION_' + key] = training_merged[key]\n",
    "    del training_merged[key]\n",
    "training_merged.head()"
   ]
  },
  {
   "cell_type": "code",
   "execution_count": 29,
   "metadata": {
    "collapsed": false,
    "scrolled": true
   },
   "outputs": [],
   "source": [
    "#training_merged = training_merged.sort('PRICE')\n",
    "del airports_data"
   ]
  },
  {
   "cell_type": "code",
   "execution_count": null,
   "metadata": {
    "collapsed": false
   },
   "outputs": [],
   "source": [
    "#for key in (\n",
    "#    'ORIGIN', 'DESTINATION', 'ORIGIN_CITY', 'ORIGIN_COUNTRY', \n",
    "#    'ORIGIN_CONTINENT', 'DESTINATION_CITY', 'DESTINATION_COUNTRY', \n",
    "#    'DESTINATION_CONTINENT',\n",
    "#):\n",
    "#    training_merged[key] = training_merged[key].astype('category')\n",
    "#training_merged.head()"
   ]
  },
  {
   "cell_type": "code",
   "execution_count": null,
   "metadata": {
    "collapsed": false
   },
   "outputs": [],
   "source": [
    "market_counts = Counter(\n",
    "    market\n",
    "    for __, marketlist in \n",
    "    training_merged.MARKETS.iteritems()\n",
    "    for market in\n",
    "    marketlist.split(';')\n",
    ")\n",
    "print market_counts.most_common(10)"
   ]
  },
  {
   "cell_type": "code",
   "execution_count": null,
   "metadata": {
    "collapsed": false
   },
   "outputs": [],
   "source": [
    "len(market_counts)"
   ]
  },
  {
   "cell_type": "code",
   "execution_count": null,
   "metadata": {
    "collapsed": false
   },
   "outputs": [],
   "source": [
    "most_common_markets = [market for market, __ in market_counts.most_common(199)]\n",
    "print most_common_markets"
   ]
  },
  {
   "cell_type": "code",
   "execution_count": null,
   "metadata": {
    "collapsed": false
   },
   "outputs": [],
   "source": [
    "market_onehots = np.zeros((len(training_merged.MARKETS), 200), dtype='bool')\n",
    "for i, (marketlist, onehot) in enumerate(itertools.izip(training_merged.MARKETS, market_onehots)):\n",
    "    ms = marketlist.split(';')\n",
    "    for m in ms:\n",
    "        try:\n",
    "            onehot[most_common_markets.index(m)] = True\n",
    "        except ValueError:\n",
    "            onehot[-1] = True\n",
    "    if not i % 1000000:\n",
    "        print i"
   ]
  },
  {
   "cell_type": "code",
   "execution_count": null,
   "metadata": {
    "collapsed": false,
    "scrolled": false
   },
   "outputs": [],
   "source": [
    "training_merged.MARKETS.tail(2)"
   ]
  },
  {
   "cell_type": "code",
   "execution_count": null,
   "metadata": {
    "collapsed": false
   },
   "outputs": [],
   "source": [
    "sum(market_onehots[-1])"
   ]
  },
  {
   "cell_type": "code",
   "execution_count": null,
   "metadata": {
    "collapsed": false
   },
   "outputs": [],
   "source": [
    "sum(market_onehots[-2])"
   ]
  },
  {
   "cell_type": "code",
   "execution_count": null,
   "metadata": {
    "collapsed": false
   },
   "outputs": [],
   "source": [
    "training_merged['MARKETS'] = market_onehots\n",
    "training_merged.MARKETS.loc[0]"
   ]
  },
  {
   "cell_type": "code",
   "execution_count": null,
   "metadata": {
    "collapsed": false
   },
   "outputs": [],
   "source": [
    "training_merged.MARKETS.head()"
   ]
  },
  {
   "cell_type": "code",
   "execution_count": null,
   "metadata": {
    "collapsed": false
   },
   "outputs": [],
   "source": [
    "training_merged.dtypes"
   ]
  },
  {
   "cell_type": "code",
   "execution_count": null,
   "metadata": {
    "collapsed": true
   },
   "outputs": [],
   "source": [
    "def make_onehot(df, field, size):\n",
    "    series = df[field]\n",
    "    counts = Counter(series)\n",
    "    print len(counts)\n",
    "    most_common = [item for item, __ in counts.most_common(size)]\n",
    "    print most_common\n",
    "    most_common_set = frozenset(most_common)\n",
    "    excluded = sum(place not in most_common_set for place in series) / float(len(series))\n",
    "    print excluded\n",
    "    onehots = np.zeros((len(series), size), dtype='bool')\n",
    "    most_common_index = most_common.index\n",
    "    onehots_append = onehots.append\n",
    "    zeros_size = len(most_common) + (1 if excluded > 0 else 0)\n",
    "    for i, (item, onehot) in enumerate(itertools.izip(series, onehots)):\n",
    "        try:\n",
    "            onehot[most_common_index(item)] = True\n",
    "        except ValueError:\n",
    "            onehot[-1] = True\n",
    "        if not i % 1000000:\n",
    "            print i\n",
    "    df[field] = onehots\n",
    "    return df"
   ]
  },
  {
   "cell_type": "code",
   "execution_count": null,
   "metadata": {
    "collapsed": false
   },
   "outputs": [],
   "source": [
    "pairs = {\n",
    "    'ORIGIN': 499,\n",
    "    'ORIGIN_CITY': 499,\n",
    "    'ORIGIN_COUNTRY': 49,\n",
    "    'ORIGIN_CONTINENT': 6,\n",
    "    'DESTINATION': 499,\n",
    "    'DESTINATION_CITY': 499,\n",
    "    'DESTINATION_COUNTRY': 99,\n",
    "    'DESTINATION_CONTINENT': 6,\n",
    "}\n",
    "for field, size in pairs.iteritems():\n",
    "    print field\n",
    "    training_merged = make_onehot(training_merged, field, size)"
   ]
  },
  {
   "cell_type": "code",
   "execution_count": null,
   "metadata": {
    "collapsed": false
   },
   "outputs": [],
   "source": [
    "training_merged.to_hdf('my_data/TrainingMerged.h5', 'fixed')\n",
    "print 'done hdf'"
   ]
  },
  {
   "cell_type": "code",
   "execution_count": null,
   "metadata": {
    "collapsed": true
   },
   "outputs": [],
   "source": [
    "training_merged.to_pickle('my_data/TrainingMerged.pickle')"
   ]
  },
  {
   "cell_type": "markdown",
   "metadata": {},
   "source": [
    "Doesn't seem like we need to rescale traffics based on distributions"
   ]
  },
  {
   "cell_type": "code",
   "execution_count": null,
   "metadata": {
    "collapsed": false
   },
   "outputs": [],
   "source": [
    "one_day = 1000000000 * 60 * 60 * 24\n",
    "oti_days = training_merged.OUTBOUND_TO_INBOUND.map(lambda x: x.item() / one_day)"
   ]
  },
  {
   "cell_type": "code",
   "execution_count": null,
   "metadata": {
    "collapsed": false
   },
   "outputs": [],
   "source": [
    "oti_days.hist()"
   ]
  },
  {
   "cell_type": "code",
   "execution_count": null,
   "metadata": {
    "collapsed": false
   },
   "outputs": [],
   "source": [
    "oti_days.sample(1000).hist()"
   ]
  },
  {
   "cell_type": "code",
   "execution_count": null,
   "metadata": {
    "collapsed": false
   },
   "outputs": [],
   "source": [
    "oti_out, oti_bins = pandas.qcut(oti_days, 10, retbins=True)"
   ]
  },
  {
   "cell_type": "code",
   "execution_count": null,
   "metadata": {
    "collapsed": false
   },
   "outputs": [],
   "source": [
    "oti_bins"
   ]
  },
  {
   "cell_type": "code",
   "execution_count": null,
   "metadata": {
    "collapsed": false
   },
   "outputs": [],
   "source": [
    "oti_out"
   ]
  },
  {
   "cell_type": "code",
   "execution_count": null,
   "metadata": {
    "collapsed": false
   },
   "outputs": [],
   "source": [
    "oti_out.sample(500).value_counts(sort=False)"
   ]
  },
  {
   "cell_type": "code",
   "execution_count": null,
   "metadata": {
    "collapsed": false
   },
   "outputs": [],
   "source": [
    "one_day = 1000000000 * 60 * 60 * 24\n",
    "sto_days = training_merged.SEARCH_TO_OUTBOUND.map(lambda x: x.item() / one_day)\n",
    "sto_days.hist()"
   ]
  },
  {
   "cell_type": "code",
   "execution_count": null,
   "metadata": {
    "collapsed": false
   },
   "outputs": [],
   "source": [
    "sto_out, sto_bins = pandas.qcut(sto_days, 10, retbins=True)\n",
    "sto_bins"
   ]
  },
  {
   "cell_type": "code",
   "execution_count": null,
   "metadata": {
    "collapsed": false
   },
   "outputs": [],
   "source": [
    "sto_out.sample(500).value_counts(sort=False)"
   ]
  },
  {
   "cell_type": "code",
   "execution_count": null,
   "metadata": {
    "collapsed": true
   },
   "outputs": [],
   "source": []
  }
 ],
 "metadata": {
  "kernelspec": {
   "display_name": "Python 2",
   "language": "python",
   "name": "python2"
  },
  "language_info": {
   "codemirror_mode": {
    "name": "ipython",
    "version": 2
   },
   "file_extension": ".py",
   "mimetype": "text/x-python",
   "name": "python",
   "nbconvert_exporter": "python",
   "pygments_lexer": "ipython2",
   "version": "2.7.11"
  }
 },
 "nbformat": 4,
 "nbformat_minor": 0
}
